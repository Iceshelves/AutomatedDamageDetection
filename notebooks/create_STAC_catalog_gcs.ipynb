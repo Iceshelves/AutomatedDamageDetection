{
 "cells": [
  {
   "cell_type": "code",
   "execution_count": 7,
   "metadata": {},
   "outputs": [],
   "source": [
    "import datetime\n",
    "import pystac\n",
    "import rioxarray\n",
    "import gcsfs\n",
    "import rasterio \n",
    "import pyproj\n",
    "import tqdm\n",
    "\n",
    "import os\n",
    "\n",
    "# from shapely.geometry import Polygon\n",
    "# import geopandas as gpd\n",
    "\n",
    "from geopandas import GeoSeries\n",
    "from rasterio.features import shapes\n",
    "from shapely.geometry import shape, mapping, Polygon, MultiPolygon\n",
    "from pystac import Catalog, Collection, Item, Asset"
   ]
  },
  {
   "cell_type": "markdown",
   "metadata": {},
   "source": [
    "# Create STAC catalog from retiled images"
   ]
  },
  {
   "cell_type": "markdown",
   "metadata": {},
   "source": [
    "In this notebook we illustrate how to create a STAC catalog for organizing the GeoTIFFs that will be produced during the retiling of the satellite imagery (either original images or mosaics). STAC catalogs entail the following elements: Catalog > Collection > Item (definitions given [here](https://stacspec.org/core.html)). In order to construct the catalog we use [PySTAC](https://pystac.readthedocs.io), which provides a representation of these elements as Python objects. For a PySTAC tutorial on how to construct a general-purpose catalog, have a look at this [tutorial](https://pystac.readthedocs.io/en/latest/tutorials/how-to-create-stac-catalogs.html)."
   ]
  },
  {
   "cell_type": "code",
   "execution_count": 165,
   "metadata": {},
   "outputs": [
    {
     "data": {
      "text/html": [
       "<p>To authorize access needed by Earth Engine, open the following\n",
       "        URL in a web browser and follow the instructions:</p>\n",
       "        <p><a href=https://code.earthengine.google.com/client-auth?scopes=https%3A//www.googleapis.com/auth/earthengine%20https%3A//www.googleapis.com/auth/devstorage.full_control&request_id=_nkH6XhmpBXaKz5S7Z0_NQ97KT-41RYIWpAPQl-rPls&tc=CEgd6OeHitrwF3415PhjXTzx6xOlhbrgaeOsTUwnAww&cc=MYP0Bq1RsGR8VydHn6C53TfmOBhs9tkzXjBJNAHDykM>https://code.earthengine.google.com/client-auth?scopes=https%3A//www.googleapis.com/auth/earthengine%20https%3A//www.googleapis.com/auth/devstorage.full_control&request_id=_nkH6XhmpBXaKz5S7Z0_NQ97KT-41RYIWpAPQl-rPls&tc=CEgd6OeHitrwF3415PhjXTzx6xOlhbrgaeOsTUwnAww&cc=MYP0Bq1RsGR8VydHn6C53TfmOBhs9tkzXjBJNAHDykM</a></p>\n",
       "        <p>The authorization workflow will generate a code, which you should paste in the box below.</p>\n",
       "        "
      ],
      "text/plain": [
       "<IPython.core.display.HTML object>"
      ]
     },
     "metadata": {},
     "output_type": "display_data"
    },
    {
     "name": "stdin",
     "output_type": "stream",
     "text": [
      "Enter verification code:  4/1AdQt8qggfdyUJhVAZyQ6Zi2PT_e5Crhb_f1BRd8iM0obAahviS7kcJoH2BY\n"
     ]
    },
    {
     "name": "stdout",
     "output_type": "stream",
     "text": [
      "\n",
      "Successfully saved authorization token.\n"
     ]
    }
   ],
   "source": [
    "# access to GCS\n",
    "import ee\n",
    "ee.Initialize()\n",
    "ee.Authenticate()"
   ]
  },
  {
   "cell_type": "code",
   "execution_count": 174,
   "metadata": {},
   "outputs": [],
   "source": [
    "# read authentication credentials created by `gcloud`\n",
    "google_account = 'izeboud.maaike'\n",
    "gcs_token=f\"/Users/tud500158/.config/gcloud/legacy_credentials/{google_account}@gmail.com/adc.json\"\n",
    "gcs_fs = gcsfs.GCSFileSystem(\n",
    "    # token=f\"/Users/fnattino/.config/gcloud/legacy_credentials/{google_account}@gmail.com/adc.json\"\n",
    "    token=gcs_token\n",
    ")\n"
   ]
  },
  {
   "cell_type": "code",
   "execution_count": 181,
   "metadata": {},
   "outputs": [
    {
     "name": "stdout",
     "output_type": "stream",
     "text": [
      "313\n"
     ]
    },
    {
     "data": {
      "text/plain": [
       "['ee-data_export/S1_mosaic_2020-01-01_2020-02-02/S1_EW_mosaic_2020-01-01_2020-02-01_tile_0.tif',\n",
       " 'ee-data_export/S1_mosaic_2020-01-01_2020-02-02/S1_EW_mosaic_2020-01-01_2020-02-01_tile_1.tif',\n",
       " 'ee-data_export/S1_mosaic_2020-01-01_2020-02-02/S1_EW_mosaic_2020-01-01_2020-02-01_tile_10.tif',\n",
       " 'ee-data_export/S1_mosaic_2020-01-01_2020-02-02/S1_EW_mosaic_2020-01-01_2020-02-01_tile_100.tif',\n",
       " 'ee-data_export/S1_mosaic_2020-01-01_2020-02-02/S1_EW_mosaic_2020-01-01_2020-02-01_tile_101.tif',\n",
       " 'ee-data_export/S1_mosaic_2020-01-01_2020-02-02/S1_EW_mosaic_2020-01-01_2020-02-01_tile_102.tif',\n",
       " 'ee-data_export/S1_mosaic_2020-01-01_2020-02-02/S1_EW_mosaic_2020-01-01_2020-02-01_tile_103.tif',\n",
       " 'ee-data_export/S1_mosaic_2020-01-01_2020-02-02/S1_EW_mosaic_2020-01-01_2020-02-01_tile_104.tif',\n",
       " 'ee-data_export/S1_mosaic_2020-01-01_2020-02-02/S1_EW_mosaic_2020-01-01_2020-02-01_tile_105.tif',\n",
       " 'ee-data_export/S1_mosaic_2020-01-01_2020-02-02/S1_EW_mosaic_2020-01-01_2020-02-01_tile_106.tif']"
      ]
     },
     "execution_count": 181,
     "metadata": {},
     "output_type": "execute_result"
    }
   ],
   "source": [
    "# get bucket tile list\n",
    "\n",
    "gcloud_dir = \"gs://ee-data_export/S1_mosaic_2020-01-01_2020-02-02/S1_*.tif\"\n",
    "\n",
    "tiles = gcs_fs.glob(\n",
    "    gcloud_dir\n",
    ")\n",
    "print(len(tiles))\n",
    "tiles[:10]"
   ]
  },
  {
   "cell_type": "markdown",
   "metadata": {},
   "source": [
    "# Create catalog"
   ]
  },
  {
   "cell_type": "code",
   "execution_count": 182,
   "metadata": {},
   "outputs": [
    {
     "data": {
      "text/plain": [
       "'/projects/0/einf512/S1_mosaic_2020-01-01_2020-02-01/S1_EW_mosaic_2020-01-01_2020-02-01_tile_99.tif'"
      ]
     },
     "execution_count": 182,
     "metadata": {},
     "output_type": "execute_result"
    }
   ],
   "source": [
    "\n",
    "\n",
    "# define id's for the STAC objects\n",
    "# catalog_id = \"ice-shelfs-antartica_retiled_S1\"\n",
    "catalog_id = \"S1_mosaic\"\n",
    "collection_id = \"2020-01-01_2020-02-01\"\n",
    "collection_descript = \"Mosaic Sentinel-1 images for time span 2020-01-01/2020-02-01\"\n",
    "\n",
    "# catalog_id = \"S1_mosaic\"\n",
    "catalog_descript = \"Mosaic Sentinel-1 images generated using GEE\"\n",
    "\n",
    "asset_id = \"HH\"\n",
    "\n",
    "# for a mosaic, use earliest/latest datetimes of original images\n",
    "start_datetime = datetime.datetime.fromisoformat(\"2020-01-01\")\n",
    "end_datetime = datetime.datetime.fromisoformat(\"2020-02-01\") \n",
    "\n",
    "webdav_url=\"https://webdav.grid.surfsara.nl:2880\"\n",
    "tile_url = \"/pnfs/grid.sara.nl/data/iceshelf/disk/S1_mosaic_2020-01-01_2020-02-01/\"\n",
    "\n",
    "# tile = tiles[0]\n",
    "# print(tile)\n",
    "# _, filename = os.path.split(tile)\n",
    "    \n",
    "# source_uri = f\"gs://{tile}\"\n",
    "# asset_uri= f\"{webdav_url}{tile_url}{filename}\"\n",
    "# asset_uri\n",
    "snellius_path = \"/projects/0/einf512/S1_mosaic_2020-01-01_2020-02-01/\"\n",
    "asset_uri = f\"{snellius_path}{filename}\"\n",
    "asset_uri"
   ]
  },
  {
   "cell_type": "code",
   "execution_count": 183,
   "metadata": {},
   "outputs": [
    {
     "name": "stderr",
     "output_type": "stream",
     "text": [
      "100%|███████████████████████████████████████████| 313/313 [00:22<00:00, 13.66it/s]\n"
     ]
    }
   ],
   "source": [
    "items = {}\n",
    "\n",
    "for tile in tqdm.tqdm(tiles):\n",
    "    \n",
    "    _, filename = os.path.split(tile)\n",
    "    item_id, _ = os.path.splitext(filename)\n",
    "    \n",
    "    source_uri = f\"gs://{tile}\"\n",
    "    # asset_uri= f\"{webdav_url}{tile_url}{filename}\" # dcache path\n",
    "    asset_uri= f\"{snellius_path}{filename}\" # snellius path\n",
    "\n",
    "    # read info from file in gcs\n",
    "    with gcs_fs.open(source_uri) as f_read:\n",
    "        # print('opened ', source_uri)\n",
    "\n",
    "        \n",
    "        with rasterio.Env(GOOGLE_APPLICATION_CREDENTIALS=f\"{gcs_token}\"):\n",
    "            with rasterio.open('{}'.format(source_uri)) as src:\n",
    "                # print(src.profile, src.crs, src.transform)\n",
    "\n",
    "                # transfrom boundingbox\n",
    "                left,bottom,right,top=src.bounds\n",
    "                bbox = rasterio.warp.transform_bounds(src.crs, \"WGS84\", left, bottom, right, top )\n",
    "\n",
    "                # create geometries\n",
    "                poly_geom = Polygon.from_bounds(*src.bounds)\n",
    "                polygons = GeoSeries(poly_geom, crs=src.crs ).to_crs(\"WGS84\") \n",
    "                geometry = mapping(polygons) if len(polygons)>1 else mapping(polygons[0])\n",
    "                # print(polygons.bounds)\n",
    "\n",
    "                # Create Asset\n",
    "                asset = Asset(\n",
    "                    # href=source_uri,  # link to asset GCS\n",
    "                    href=asset_uri,  # link to asset dCache\n",
    "                    title=\", \".join(\"HH\"),\n",
    "                    media_type=pystac.MediaType.GEOTIFF # or COG - verify e.g. with with https://github.com/rouault/cog_validator \n",
    "                )\n",
    "                # asset\n",
    "\n",
    "                # create Item object\n",
    "                item = Item(\n",
    "                    id=item_id,\n",
    "                    geometry=geometry,\n",
    "                    bbox=bbox,\n",
    "                    datetime=None,  \n",
    "                    properties=dict(\n",
    "                        start_datetime=start_datetime.isoformat(),\n",
    "                        end_datetime=end_datetime.isoformat()   \n",
    "                    )\n",
    "                )\n",
    "\n",
    "                item.add_asset(asset_id, asset)\n",
    "\n",
    "                items[item_id] = item        \n",
    "                # print(item)\n",
    "# items                "
   ]
  },
  {
   "cell_type": "code",
   "execution_count": 184,
   "metadata": {},
   "outputs": [],
   "source": [
    "# spatial extent\n",
    "footprints = (shape(i.geometry).envelope for i in items.values())\n",
    "collection_bbox = MultiPolygon(footprints).bounds\n",
    "spatial_extent = pystac.SpatialExtent(bboxes=[collection_bbox])\n",
    "\n",
    "# temporal extent\n",
    "start = (i.properties.get('start_datetime', item.datetime) for i in items.values())\n",
    "start = sorted(start)[0]\n",
    "end = (i.properties.get('end_datetime', item.datetime) for i in items.values())\n",
    "end = sorted(end)[-1]\n",
    "temporal_extent = pystac.TemporalExtent(\n",
    "    intervals=[[datetime.datetime.fromisoformat(start), \n",
    "                datetime.datetime.fromisoformat(end)]]\n",
    ")\n",
    "\n",
    "extent = pystac.Extent(spatial=spatial_extent, temporal=temporal_extent)\n",
    "\n",
    "\n",
    "# create Collection object\n",
    "\n",
    "collection = Collection(\n",
    "    id=collection_id,\n",
    "    description=collection_descript,\n",
    "    extent=extent,\n",
    ")\n",
    "\n",
    "collection.add_items(items.values())\n",
    "collection\n",
    "\n",
    "\n",
    "# create STAC catalog\n",
    "\n",
    "catalog = Catalog(\n",
    "    id=catalog_id,\n",
    "    description=catalog_descript\n",
    ")\n",
    "\n",
    "catalog.add_child(collection)\n",
    "\n",
    "\n",
    "# local save\n",
    "catalog.normalize_and_save(f'./{catalog_id}', 'SELF_CONTAINED')\n",
    "\n",
    "# catalog.describe()\n"
   ]
  },
  {
   "cell_type": "markdown",
   "metadata": {},
   "source": [
    "# read tilepaths from catalog"
   ]
  },
  {
   "cell_type": "code",
   "execution_count": 171,
   "metadata": {},
   "outputs": [
    {
     "data": {
      "text/plain": [
       "['https://webdav.grid.surfsara.nl:2880/pnfs/grid.sara.nl/data/iceshelf/disk/S1_mosaic_2020-01-01_2020-02-01/S1_EW_mosaic_2020-01-01_2020-02-01_tile_0.tif',\n",
       " 'https://webdav.grid.surfsara.nl:2880/pnfs/grid.sara.nl/data/iceshelf/disk/S1_mosaic_2020-01-01_2020-02-01/S1_EW_mosaic_2020-01-01_2020-02-01_tile_1.tif',\n",
       " 'https://webdav.grid.surfsara.nl:2880/pnfs/grid.sara.nl/data/iceshelf/disk/S1_mosaic_2020-01-01_2020-02-01/S1_EW_mosaic_2020-01-01_2020-02-01_tile_10.tif',\n",
       " 'https://webdav.grid.surfsara.nl:2880/pnfs/grid.sara.nl/data/iceshelf/disk/S1_mosaic_2020-01-01_2020-02-01/S1_EW_mosaic_2020-01-01_2020-02-01_tile_100.tif',\n",
       " 'https://webdav.grid.surfsara.nl:2880/pnfs/grid.sara.nl/data/iceshelf/disk/S1_mosaic_2020-01-01_2020-02-01/S1_EW_mosaic_2020-01-01_2020-02-01_tile_101.tif',\n",
       " 'https://webdav.grid.surfsara.nl:2880/pnfs/grid.sara.nl/data/iceshelf/disk/S1_mosaic_2020-01-01_2020-02-01/S1_EW_mosaic_2020-01-01_2020-02-01_tile_102.tif',\n",
       " 'https://webdav.grid.surfsara.nl:2880/pnfs/grid.sara.nl/data/iceshelf/disk/S1_mosaic_2020-01-01_2020-02-01/S1_EW_mosaic_2020-01-01_2020-02-01_tile_103.tif',\n",
       " 'https://webdav.grid.surfsara.nl:2880/pnfs/grid.sara.nl/data/iceshelf/disk/S1_mosaic_2020-01-01_2020-02-01/S1_EW_mosaic_2020-01-01_2020-02-01_tile_104.tif',\n",
       " 'https://webdav.grid.surfsara.nl:2880/pnfs/grid.sara.nl/data/iceshelf/disk/S1_mosaic_2020-01-01_2020-02-01/S1_EW_mosaic_2020-01-01_2020-02-01_tile_105.tif',\n",
       " 'https://webdav.grid.surfsara.nl:2880/pnfs/grid.sara.nl/data/iceshelf/disk/S1_mosaic_2020-01-01_2020-02-01/S1_EW_mosaic_2020-01-01_2020-02-01_tile_106.tif',\n",
       " 'https://webdav.grid.surfsara.nl:2880/pnfs/grid.sara.nl/data/iceshelf/disk/S1_mosaic_2020-01-01_2020-02-01/S1_EW_mosaic_2020-01-01_2020-02-01_tile_107.tif',\n",
       " 'https://webdav.grid.surfsara.nl:2880/pnfs/grid.sara.nl/data/iceshelf/disk/S1_mosaic_2020-01-01_2020-02-01/S1_EW_mosaic_2020-01-01_2020-02-01_tile_108.tif',\n",
       " 'https://webdav.grid.surfsara.nl:2880/pnfs/grid.sara.nl/data/iceshelf/disk/S1_mosaic_2020-01-01_2020-02-01/S1_EW_mosaic_2020-01-01_2020-02-01_tile_109.tif',\n",
       " 'https://webdav.grid.surfsara.nl:2880/pnfs/grid.sara.nl/data/iceshelf/disk/S1_mosaic_2020-01-01_2020-02-01/S1_EW_mosaic_2020-01-01_2020-02-01_tile_11.tif',\n",
       " 'https://webdav.grid.surfsara.nl:2880/pnfs/grid.sara.nl/data/iceshelf/disk/S1_mosaic_2020-01-01_2020-02-01/S1_EW_mosaic_2020-01-01_2020-02-01_tile_110.tif',\n",
       " 'https://webdav.grid.surfsara.nl:2880/pnfs/grid.sara.nl/data/iceshelf/disk/S1_mosaic_2020-01-01_2020-02-01/S1_EW_mosaic_2020-01-01_2020-02-01_tile_111.tif',\n",
       " 'https://webdav.grid.surfsara.nl:2880/pnfs/grid.sara.nl/data/iceshelf/disk/S1_mosaic_2020-01-01_2020-02-01/S1_EW_mosaic_2020-01-01_2020-02-01_tile_113.tif',\n",
       " 'https://webdav.grid.surfsara.nl:2880/pnfs/grid.sara.nl/data/iceshelf/disk/S1_mosaic_2020-01-01_2020-02-01/S1_EW_mosaic_2020-01-01_2020-02-01_tile_114.tif',\n",
       " 'https://webdav.grid.surfsara.nl:2880/pnfs/grid.sara.nl/data/iceshelf/disk/S1_mosaic_2020-01-01_2020-02-01/S1_EW_mosaic_2020-01-01_2020-02-01_tile_115.tif',\n",
       " 'https://webdav.grid.surfsara.nl:2880/pnfs/grid.sara.nl/data/iceshelf/disk/S1_mosaic_2020-01-01_2020-02-01/S1_EW_mosaic_2020-01-01_2020-02-01_tile_116.tif',\n",
       " 'https://webdav.grid.surfsara.nl:2880/pnfs/grid.sara.nl/data/iceshelf/disk/S1_mosaic_2020-01-01_2020-02-01/S1_EW_mosaic_2020-01-01_2020-02-01_tile_117.tif',\n",
       " 'https://webdav.grid.surfsara.nl:2880/pnfs/grid.sara.nl/data/iceshelf/disk/S1_mosaic_2020-01-01_2020-02-01/S1_EW_mosaic_2020-01-01_2020-02-01_tile_118.tif',\n",
       " 'https://webdav.grid.surfsara.nl:2880/pnfs/grid.sara.nl/data/iceshelf/disk/S1_mosaic_2020-01-01_2020-02-01/S1_EW_mosaic_2020-01-01_2020-02-01_tile_119.tif',\n",
       " 'https://webdav.grid.surfsara.nl:2880/pnfs/grid.sara.nl/data/iceshelf/disk/S1_mosaic_2020-01-01_2020-02-01/S1_EW_mosaic_2020-01-01_2020-02-01_tile_12.tif',\n",
       " 'https://webdav.grid.surfsara.nl:2880/pnfs/grid.sara.nl/data/iceshelf/disk/S1_mosaic_2020-01-01_2020-02-01/S1_EW_mosaic_2020-01-01_2020-02-01_tile_120.tif',\n",
       " 'https://webdav.grid.surfsara.nl:2880/pnfs/grid.sara.nl/data/iceshelf/disk/S1_mosaic_2020-01-01_2020-02-01/S1_EW_mosaic_2020-01-01_2020-02-01_tile_121.tif',\n",
       " 'https://webdav.grid.surfsara.nl:2880/pnfs/grid.sara.nl/data/iceshelf/disk/S1_mosaic_2020-01-01_2020-02-01/S1_EW_mosaic_2020-01-01_2020-02-01_tile_123.tif',\n",
       " 'https://webdav.grid.surfsara.nl:2880/pnfs/grid.sara.nl/data/iceshelf/disk/S1_mosaic_2020-01-01_2020-02-01/S1_EW_mosaic_2020-01-01_2020-02-01_tile_124.tif',\n",
       " 'https://webdav.grid.surfsara.nl:2880/pnfs/grid.sara.nl/data/iceshelf/disk/S1_mosaic_2020-01-01_2020-02-01/S1_EW_mosaic_2020-01-01_2020-02-01_tile_125.tif',\n",
       " 'https://webdav.grid.surfsara.nl:2880/pnfs/grid.sara.nl/data/iceshelf/disk/S1_mosaic_2020-01-01_2020-02-01/S1_EW_mosaic_2020-01-01_2020-02-01_tile_127.tif',\n",
       " 'https://webdav.grid.surfsara.nl:2880/pnfs/grid.sara.nl/data/iceshelf/disk/S1_mosaic_2020-01-01_2020-02-01/S1_EW_mosaic_2020-01-01_2020-02-01_tile_128.tif',\n",
       " 'https://webdav.grid.surfsara.nl:2880/pnfs/grid.sara.nl/data/iceshelf/disk/S1_mosaic_2020-01-01_2020-02-01/S1_EW_mosaic_2020-01-01_2020-02-01_tile_129.tif',\n",
       " 'https://webdav.grid.surfsara.nl:2880/pnfs/grid.sara.nl/data/iceshelf/disk/S1_mosaic_2020-01-01_2020-02-01/S1_EW_mosaic_2020-01-01_2020-02-01_tile_13.tif',\n",
       " 'https://webdav.grid.surfsara.nl:2880/pnfs/grid.sara.nl/data/iceshelf/disk/S1_mosaic_2020-01-01_2020-02-01/S1_EW_mosaic_2020-01-01_2020-02-01_tile_130.tif',\n",
       " 'https://webdav.grid.surfsara.nl:2880/pnfs/grid.sara.nl/data/iceshelf/disk/S1_mosaic_2020-01-01_2020-02-01/S1_EW_mosaic_2020-01-01_2020-02-01_tile_131.tif',\n",
       " 'https://webdav.grid.surfsara.nl:2880/pnfs/grid.sara.nl/data/iceshelf/disk/S1_mosaic_2020-01-01_2020-02-01/S1_EW_mosaic_2020-01-01_2020-02-01_tile_132.tif',\n",
       " 'https://webdav.grid.surfsara.nl:2880/pnfs/grid.sara.nl/data/iceshelf/disk/S1_mosaic_2020-01-01_2020-02-01/S1_EW_mosaic_2020-01-01_2020-02-01_tile_133.tif',\n",
       " 'https://webdav.grid.surfsara.nl:2880/pnfs/grid.sara.nl/data/iceshelf/disk/S1_mosaic_2020-01-01_2020-02-01/S1_EW_mosaic_2020-01-01_2020-02-01_tile_134.tif',\n",
       " 'https://webdav.grid.surfsara.nl:2880/pnfs/grid.sara.nl/data/iceshelf/disk/S1_mosaic_2020-01-01_2020-02-01/S1_EW_mosaic_2020-01-01_2020-02-01_tile_135.tif',\n",
       " 'https://webdav.grid.surfsara.nl:2880/pnfs/grid.sara.nl/data/iceshelf/disk/S1_mosaic_2020-01-01_2020-02-01/S1_EW_mosaic_2020-01-01_2020-02-01_tile_136.tif',\n",
       " 'https://webdav.grid.surfsara.nl:2880/pnfs/grid.sara.nl/data/iceshelf/disk/S1_mosaic_2020-01-01_2020-02-01/S1_EW_mosaic_2020-01-01_2020-02-01_tile_137.tif',\n",
       " 'https://webdav.grid.surfsara.nl:2880/pnfs/grid.sara.nl/data/iceshelf/disk/S1_mosaic_2020-01-01_2020-02-01/S1_EW_mosaic_2020-01-01_2020-02-01_tile_138.tif',\n",
       " 'https://webdav.grid.surfsara.nl:2880/pnfs/grid.sara.nl/data/iceshelf/disk/S1_mosaic_2020-01-01_2020-02-01/S1_EW_mosaic_2020-01-01_2020-02-01_tile_14.tif',\n",
       " 'https://webdav.grid.surfsara.nl:2880/pnfs/grid.sara.nl/data/iceshelf/disk/S1_mosaic_2020-01-01_2020-02-01/S1_EW_mosaic_2020-01-01_2020-02-01_tile_144.tif',\n",
       " 'https://webdav.grid.surfsara.nl:2880/pnfs/grid.sara.nl/data/iceshelf/disk/S1_mosaic_2020-01-01_2020-02-01/S1_EW_mosaic_2020-01-01_2020-02-01_tile_145.tif',\n",
       " 'https://webdav.grid.surfsara.nl:2880/pnfs/grid.sara.nl/data/iceshelf/disk/S1_mosaic_2020-01-01_2020-02-01/S1_EW_mosaic_2020-01-01_2020-02-01_tile_146.tif',\n",
       " 'https://webdav.grid.surfsara.nl:2880/pnfs/grid.sara.nl/data/iceshelf/disk/S1_mosaic_2020-01-01_2020-02-01/S1_EW_mosaic_2020-01-01_2020-02-01_tile_147.tif',\n",
       " 'https://webdav.grid.surfsara.nl:2880/pnfs/grid.sara.nl/data/iceshelf/disk/S1_mosaic_2020-01-01_2020-02-01/S1_EW_mosaic_2020-01-01_2020-02-01_tile_148.tif',\n",
       " 'https://webdav.grid.surfsara.nl:2880/pnfs/grid.sara.nl/data/iceshelf/disk/S1_mosaic_2020-01-01_2020-02-01/S1_EW_mosaic_2020-01-01_2020-02-01_tile_149.tif',\n",
       " 'https://webdav.grid.surfsara.nl:2880/pnfs/grid.sara.nl/data/iceshelf/disk/S1_mosaic_2020-01-01_2020-02-01/S1_EW_mosaic_2020-01-01_2020-02-01_tile_15.tif',\n",
       " 'https://webdav.grid.surfsara.nl:2880/pnfs/grid.sara.nl/data/iceshelf/disk/S1_mosaic_2020-01-01_2020-02-01/S1_EW_mosaic_2020-01-01_2020-02-01_tile_150.tif',\n",
       " 'https://webdav.grid.surfsara.nl:2880/pnfs/grid.sara.nl/data/iceshelf/disk/S1_mosaic_2020-01-01_2020-02-01/S1_EW_mosaic_2020-01-01_2020-02-01_tile_155.tif',\n",
       " 'https://webdav.grid.surfsara.nl:2880/pnfs/grid.sara.nl/data/iceshelf/disk/S1_mosaic_2020-01-01_2020-02-01/S1_EW_mosaic_2020-01-01_2020-02-01_tile_156.tif',\n",
       " 'https://webdav.grid.surfsara.nl:2880/pnfs/grid.sara.nl/data/iceshelf/disk/S1_mosaic_2020-01-01_2020-02-01/S1_EW_mosaic_2020-01-01_2020-02-01_tile_157.tif',\n",
       " 'https://webdav.grid.surfsara.nl:2880/pnfs/grid.sara.nl/data/iceshelf/disk/S1_mosaic_2020-01-01_2020-02-01/S1_EW_mosaic_2020-01-01_2020-02-01_tile_158.tif',\n",
       " 'https://webdav.grid.surfsara.nl:2880/pnfs/grid.sara.nl/data/iceshelf/disk/S1_mosaic_2020-01-01_2020-02-01/S1_EW_mosaic_2020-01-01_2020-02-01_tile_159.tif',\n",
       " 'https://webdav.grid.surfsara.nl:2880/pnfs/grid.sara.nl/data/iceshelf/disk/S1_mosaic_2020-01-01_2020-02-01/S1_EW_mosaic_2020-01-01_2020-02-01_tile_16.tif',\n",
       " 'https://webdav.grid.surfsara.nl:2880/pnfs/grid.sara.nl/data/iceshelf/disk/S1_mosaic_2020-01-01_2020-02-01/S1_EW_mosaic_2020-01-01_2020-02-01_tile_160.tif',\n",
       " 'https://webdav.grid.surfsara.nl:2880/pnfs/grid.sara.nl/data/iceshelf/disk/S1_mosaic_2020-01-01_2020-02-01/S1_EW_mosaic_2020-01-01_2020-02-01_tile_161.tif',\n",
       " 'https://webdav.grid.surfsara.nl:2880/pnfs/grid.sara.nl/data/iceshelf/disk/S1_mosaic_2020-01-01_2020-02-01/S1_EW_mosaic_2020-01-01_2020-02-01_tile_162.tif',\n",
       " 'https://webdav.grid.surfsara.nl:2880/pnfs/grid.sara.nl/data/iceshelf/disk/S1_mosaic_2020-01-01_2020-02-01/S1_EW_mosaic_2020-01-01_2020-02-01_tile_163.tif',\n",
       " 'https://webdav.grid.surfsara.nl:2880/pnfs/grid.sara.nl/data/iceshelf/disk/S1_mosaic_2020-01-01_2020-02-01/S1_EW_mosaic_2020-01-01_2020-02-01_tile_164.tif',\n",
       " 'https://webdav.grid.surfsara.nl:2880/pnfs/grid.sara.nl/data/iceshelf/disk/S1_mosaic_2020-01-01_2020-02-01/S1_EW_mosaic_2020-01-01_2020-02-01_tile_165.tif',\n",
       " 'https://webdav.grid.surfsara.nl:2880/pnfs/grid.sara.nl/data/iceshelf/disk/S1_mosaic_2020-01-01_2020-02-01/S1_EW_mosaic_2020-01-01_2020-02-01_tile_166.tif',\n",
       " 'https://webdav.grid.surfsara.nl:2880/pnfs/grid.sara.nl/data/iceshelf/disk/S1_mosaic_2020-01-01_2020-02-01/S1_EW_mosaic_2020-01-01_2020-02-01_tile_167.tif',\n",
       " 'https://webdav.grid.surfsara.nl:2880/pnfs/grid.sara.nl/data/iceshelf/disk/S1_mosaic_2020-01-01_2020-02-01/S1_EW_mosaic_2020-01-01_2020-02-01_tile_168.tif',\n",
       " 'https://webdav.grid.surfsara.nl:2880/pnfs/grid.sara.nl/data/iceshelf/disk/S1_mosaic_2020-01-01_2020-02-01/S1_EW_mosaic_2020-01-01_2020-02-01_tile_169.tif',\n",
       " 'https://webdav.grid.surfsara.nl:2880/pnfs/grid.sara.nl/data/iceshelf/disk/S1_mosaic_2020-01-01_2020-02-01/S1_EW_mosaic_2020-01-01_2020-02-01_tile_17.tif',\n",
       " 'https://webdav.grid.surfsara.nl:2880/pnfs/grid.sara.nl/data/iceshelf/disk/S1_mosaic_2020-01-01_2020-02-01/S1_EW_mosaic_2020-01-01_2020-02-01_tile_170.tif',\n",
       " 'https://webdav.grid.surfsara.nl:2880/pnfs/grid.sara.nl/data/iceshelf/disk/S1_mosaic_2020-01-01_2020-02-01/S1_EW_mosaic_2020-01-01_2020-02-01_tile_171.tif',\n",
       " 'https://webdav.grid.surfsara.nl:2880/pnfs/grid.sara.nl/data/iceshelf/disk/S1_mosaic_2020-01-01_2020-02-01/S1_EW_mosaic_2020-01-01_2020-02-01_tile_172.tif',\n",
       " 'https://webdav.grid.surfsara.nl:2880/pnfs/grid.sara.nl/data/iceshelf/disk/S1_mosaic_2020-01-01_2020-02-01/S1_EW_mosaic_2020-01-01_2020-02-01_tile_173.tif',\n",
       " 'https://webdav.grid.surfsara.nl:2880/pnfs/grid.sara.nl/data/iceshelf/disk/S1_mosaic_2020-01-01_2020-02-01/S1_EW_mosaic_2020-01-01_2020-02-01_tile_174.tif',\n",
       " 'https://webdav.grid.surfsara.nl:2880/pnfs/grid.sara.nl/data/iceshelf/disk/S1_mosaic_2020-01-01_2020-02-01/S1_EW_mosaic_2020-01-01_2020-02-01_tile_175.tif',\n",
       " 'https://webdav.grid.surfsara.nl:2880/pnfs/grid.sara.nl/data/iceshelf/disk/S1_mosaic_2020-01-01_2020-02-01/S1_EW_mosaic_2020-01-01_2020-02-01_tile_176.tif',\n",
       " 'https://webdav.grid.surfsara.nl:2880/pnfs/grid.sara.nl/data/iceshelf/disk/S1_mosaic_2020-01-01_2020-02-01/S1_EW_mosaic_2020-01-01_2020-02-01_tile_177.tif',\n",
       " 'https://webdav.grid.surfsara.nl:2880/pnfs/grid.sara.nl/data/iceshelf/disk/S1_mosaic_2020-01-01_2020-02-01/S1_EW_mosaic_2020-01-01_2020-02-01_tile_178.tif',\n",
       " 'https://webdav.grid.surfsara.nl:2880/pnfs/grid.sara.nl/data/iceshelf/disk/S1_mosaic_2020-01-01_2020-02-01/S1_EW_mosaic_2020-01-01_2020-02-01_tile_179.tif',\n",
       " 'https://webdav.grid.surfsara.nl:2880/pnfs/grid.sara.nl/data/iceshelf/disk/S1_mosaic_2020-01-01_2020-02-01/S1_EW_mosaic_2020-01-01_2020-02-01_tile_18.tif',\n",
       " 'https://webdav.grid.surfsara.nl:2880/pnfs/grid.sara.nl/data/iceshelf/disk/S1_mosaic_2020-01-01_2020-02-01/S1_EW_mosaic_2020-01-01_2020-02-01_tile_180.tif',\n",
       " 'https://webdav.grid.surfsara.nl:2880/pnfs/grid.sara.nl/data/iceshelf/disk/S1_mosaic_2020-01-01_2020-02-01/S1_EW_mosaic_2020-01-01_2020-02-01_tile_181.tif',\n",
       " 'https://webdav.grid.surfsara.nl:2880/pnfs/grid.sara.nl/data/iceshelf/disk/S1_mosaic_2020-01-01_2020-02-01/S1_EW_mosaic_2020-01-01_2020-02-01_tile_182.tif',\n",
       " 'https://webdav.grid.surfsara.nl:2880/pnfs/grid.sara.nl/data/iceshelf/disk/S1_mosaic_2020-01-01_2020-02-01/S1_EW_mosaic_2020-01-01_2020-02-01_tile_183.tif',\n",
       " 'https://webdav.grid.surfsara.nl:2880/pnfs/grid.sara.nl/data/iceshelf/disk/S1_mosaic_2020-01-01_2020-02-01/S1_EW_mosaic_2020-01-01_2020-02-01_tile_184.tif',\n",
       " 'https://webdav.grid.surfsara.nl:2880/pnfs/grid.sara.nl/data/iceshelf/disk/S1_mosaic_2020-01-01_2020-02-01/S1_EW_mosaic_2020-01-01_2020-02-01_tile_185.tif',\n",
       " 'https://webdav.grid.surfsara.nl:2880/pnfs/grid.sara.nl/data/iceshelf/disk/S1_mosaic_2020-01-01_2020-02-01/S1_EW_mosaic_2020-01-01_2020-02-01_tile_186.tif',\n",
       " 'https://webdav.grid.surfsara.nl:2880/pnfs/grid.sara.nl/data/iceshelf/disk/S1_mosaic_2020-01-01_2020-02-01/S1_EW_mosaic_2020-01-01_2020-02-01_tile_187.tif',\n",
       " 'https://webdav.grid.surfsara.nl:2880/pnfs/grid.sara.nl/data/iceshelf/disk/S1_mosaic_2020-01-01_2020-02-01/S1_EW_mosaic_2020-01-01_2020-02-01_tile_188.tif',\n",
       " 'https://webdav.grid.surfsara.nl:2880/pnfs/grid.sara.nl/data/iceshelf/disk/S1_mosaic_2020-01-01_2020-02-01/S1_EW_mosaic_2020-01-01_2020-02-01_tile_189.tif',\n",
       " 'https://webdav.grid.surfsara.nl:2880/pnfs/grid.sara.nl/data/iceshelf/disk/S1_mosaic_2020-01-01_2020-02-01/S1_EW_mosaic_2020-01-01_2020-02-01_tile_19.tif',\n",
       " 'https://webdav.grid.surfsara.nl:2880/pnfs/grid.sara.nl/data/iceshelf/disk/S1_mosaic_2020-01-01_2020-02-01/S1_EW_mosaic_2020-01-01_2020-02-01_tile_190.tif',\n",
       " 'https://webdav.grid.surfsara.nl:2880/pnfs/grid.sara.nl/data/iceshelf/disk/S1_mosaic_2020-01-01_2020-02-01/S1_EW_mosaic_2020-01-01_2020-02-01_tile_191.tif',\n",
       " 'https://webdav.grid.surfsara.nl:2880/pnfs/grid.sara.nl/data/iceshelf/disk/S1_mosaic_2020-01-01_2020-02-01/S1_EW_mosaic_2020-01-01_2020-02-01_tile_192.tif',\n",
       " 'https://webdav.grid.surfsara.nl:2880/pnfs/grid.sara.nl/data/iceshelf/disk/S1_mosaic_2020-01-01_2020-02-01/S1_EW_mosaic_2020-01-01_2020-02-01_tile_193.tif',\n",
       " 'https://webdav.grid.surfsara.nl:2880/pnfs/grid.sara.nl/data/iceshelf/disk/S1_mosaic_2020-01-01_2020-02-01/S1_EW_mosaic_2020-01-01_2020-02-01_tile_194.tif',\n",
       " 'https://webdav.grid.surfsara.nl:2880/pnfs/grid.sara.nl/data/iceshelf/disk/S1_mosaic_2020-01-01_2020-02-01/S1_EW_mosaic_2020-01-01_2020-02-01_tile_195.tif',\n",
       " 'https://webdav.grid.surfsara.nl:2880/pnfs/grid.sara.nl/data/iceshelf/disk/S1_mosaic_2020-01-01_2020-02-01/S1_EW_mosaic_2020-01-01_2020-02-01_tile_196.tif',\n",
       " 'https://webdav.grid.surfsara.nl:2880/pnfs/grid.sara.nl/data/iceshelf/disk/S1_mosaic_2020-01-01_2020-02-01/S1_EW_mosaic_2020-01-01_2020-02-01_tile_197.tif',\n",
       " 'https://webdav.grid.surfsara.nl:2880/pnfs/grid.sara.nl/data/iceshelf/disk/S1_mosaic_2020-01-01_2020-02-01/S1_EW_mosaic_2020-01-01_2020-02-01_tile_198.tif',\n",
       " 'https://webdav.grid.surfsara.nl:2880/pnfs/grid.sara.nl/data/iceshelf/disk/S1_mosaic_2020-01-01_2020-02-01/S1_EW_mosaic_2020-01-01_2020-02-01_tile_199.tif',\n",
       " 'https://webdav.grid.surfsara.nl:2880/pnfs/grid.sara.nl/data/iceshelf/disk/S1_mosaic_2020-01-01_2020-02-01/S1_EW_mosaic_2020-01-01_2020-02-01_tile_2.tif',\n",
       " 'https://webdav.grid.surfsara.nl:2880/pnfs/grid.sara.nl/data/iceshelf/disk/S1_mosaic_2020-01-01_2020-02-01/S1_EW_mosaic_2020-01-01_2020-02-01_tile_20.tif',\n",
       " 'https://webdav.grid.surfsara.nl:2880/pnfs/grid.sara.nl/data/iceshelf/disk/S1_mosaic_2020-01-01_2020-02-01/S1_EW_mosaic_2020-01-01_2020-02-01_tile_200.tif',\n",
       " 'https://webdav.grid.surfsara.nl:2880/pnfs/grid.sara.nl/data/iceshelf/disk/S1_mosaic_2020-01-01_2020-02-01/S1_EW_mosaic_2020-01-01_2020-02-01_tile_201.tif',\n",
       " 'https://webdav.grid.surfsara.nl:2880/pnfs/grid.sara.nl/data/iceshelf/disk/S1_mosaic_2020-01-01_2020-02-01/S1_EW_mosaic_2020-01-01_2020-02-01_tile_202.tif',\n",
       " 'https://webdav.grid.surfsara.nl:2880/pnfs/grid.sara.nl/data/iceshelf/disk/S1_mosaic_2020-01-01_2020-02-01/S1_EW_mosaic_2020-01-01_2020-02-01_tile_203.tif',\n",
       " 'https://webdav.grid.surfsara.nl:2880/pnfs/grid.sara.nl/data/iceshelf/disk/S1_mosaic_2020-01-01_2020-02-01/S1_EW_mosaic_2020-01-01_2020-02-01_tile_204.tif',\n",
       " 'https://webdav.grid.surfsara.nl:2880/pnfs/grid.sara.nl/data/iceshelf/disk/S1_mosaic_2020-01-01_2020-02-01/S1_EW_mosaic_2020-01-01_2020-02-01_tile_205.tif',\n",
       " 'https://webdav.grid.surfsara.nl:2880/pnfs/grid.sara.nl/data/iceshelf/disk/S1_mosaic_2020-01-01_2020-02-01/S1_EW_mosaic_2020-01-01_2020-02-01_tile_206.tif',\n",
       " 'https://webdav.grid.surfsara.nl:2880/pnfs/grid.sara.nl/data/iceshelf/disk/S1_mosaic_2020-01-01_2020-02-01/S1_EW_mosaic_2020-01-01_2020-02-01_tile_207.tif',\n",
       " 'https://webdav.grid.surfsara.nl:2880/pnfs/grid.sara.nl/data/iceshelf/disk/S1_mosaic_2020-01-01_2020-02-01/S1_EW_mosaic_2020-01-01_2020-02-01_tile_208.tif',\n",
       " 'https://webdav.grid.surfsara.nl:2880/pnfs/grid.sara.nl/data/iceshelf/disk/S1_mosaic_2020-01-01_2020-02-01/S1_EW_mosaic_2020-01-01_2020-02-01_tile_209.tif',\n",
       " 'https://webdav.grid.surfsara.nl:2880/pnfs/grid.sara.nl/data/iceshelf/disk/S1_mosaic_2020-01-01_2020-02-01/S1_EW_mosaic_2020-01-01_2020-02-01_tile_21.tif',\n",
       " 'https://webdav.grid.surfsara.nl:2880/pnfs/grid.sara.nl/data/iceshelf/disk/S1_mosaic_2020-01-01_2020-02-01/S1_EW_mosaic_2020-01-01_2020-02-01_tile_210.tif',\n",
       " 'https://webdav.grid.surfsara.nl:2880/pnfs/grid.sara.nl/data/iceshelf/disk/S1_mosaic_2020-01-01_2020-02-01/S1_EW_mosaic_2020-01-01_2020-02-01_tile_211.tif',\n",
       " 'https://webdav.grid.surfsara.nl:2880/pnfs/grid.sara.nl/data/iceshelf/disk/S1_mosaic_2020-01-01_2020-02-01/S1_EW_mosaic_2020-01-01_2020-02-01_tile_212.tif',\n",
       " 'https://webdav.grid.surfsara.nl:2880/pnfs/grid.sara.nl/data/iceshelf/disk/S1_mosaic_2020-01-01_2020-02-01/S1_EW_mosaic_2020-01-01_2020-02-01_tile_213.tif',\n",
       " 'https://webdav.grid.surfsara.nl:2880/pnfs/grid.sara.nl/data/iceshelf/disk/S1_mosaic_2020-01-01_2020-02-01/S1_EW_mosaic_2020-01-01_2020-02-01_tile_214.tif',\n",
       " 'https://webdav.grid.surfsara.nl:2880/pnfs/grid.sara.nl/data/iceshelf/disk/S1_mosaic_2020-01-01_2020-02-01/S1_EW_mosaic_2020-01-01_2020-02-01_tile_215.tif',\n",
       " 'https://webdav.grid.surfsara.nl:2880/pnfs/grid.sara.nl/data/iceshelf/disk/S1_mosaic_2020-01-01_2020-02-01/S1_EW_mosaic_2020-01-01_2020-02-01_tile_216.tif',\n",
       " 'https://webdav.grid.surfsara.nl:2880/pnfs/grid.sara.nl/data/iceshelf/disk/S1_mosaic_2020-01-01_2020-02-01/S1_EW_mosaic_2020-01-01_2020-02-01_tile_217.tif',\n",
       " 'https://webdav.grid.surfsara.nl:2880/pnfs/grid.sara.nl/data/iceshelf/disk/S1_mosaic_2020-01-01_2020-02-01/S1_EW_mosaic_2020-01-01_2020-02-01_tile_218.tif',\n",
       " 'https://webdav.grid.surfsara.nl:2880/pnfs/grid.sara.nl/data/iceshelf/disk/S1_mosaic_2020-01-01_2020-02-01/S1_EW_mosaic_2020-01-01_2020-02-01_tile_219.tif',\n",
       " 'https://webdav.grid.surfsara.nl:2880/pnfs/grid.sara.nl/data/iceshelf/disk/S1_mosaic_2020-01-01_2020-02-01/S1_EW_mosaic_2020-01-01_2020-02-01_tile_22.tif',\n",
       " 'https://webdav.grid.surfsara.nl:2880/pnfs/grid.sara.nl/data/iceshelf/disk/S1_mosaic_2020-01-01_2020-02-01/S1_EW_mosaic_2020-01-01_2020-02-01_tile_220.tif',\n",
       " 'https://webdav.grid.surfsara.nl:2880/pnfs/grid.sara.nl/data/iceshelf/disk/S1_mosaic_2020-01-01_2020-02-01/S1_EW_mosaic_2020-01-01_2020-02-01_tile_221.tif',\n",
       " 'https://webdav.grid.surfsara.nl:2880/pnfs/grid.sara.nl/data/iceshelf/disk/S1_mosaic_2020-01-01_2020-02-01/S1_EW_mosaic_2020-01-01_2020-02-01_tile_222.tif',\n",
       " 'https://webdav.grid.surfsara.nl:2880/pnfs/grid.sara.nl/data/iceshelf/disk/S1_mosaic_2020-01-01_2020-02-01/S1_EW_mosaic_2020-01-01_2020-02-01_tile_223.tif',\n",
       " 'https://webdav.grid.surfsara.nl:2880/pnfs/grid.sara.nl/data/iceshelf/disk/S1_mosaic_2020-01-01_2020-02-01/S1_EW_mosaic_2020-01-01_2020-02-01_tile_224.tif',\n",
       " 'https://webdav.grid.surfsara.nl:2880/pnfs/grid.sara.nl/data/iceshelf/disk/S1_mosaic_2020-01-01_2020-02-01/S1_EW_mosaic_2020-01-01_2020-02-01_tile_225.tif',\n",
       " 'https://webdav.grid.surfsara.nl:2880/pnfs/grid.sara.nl/data/iceshelf/disk/S1_mosaic_2020-01-01_2020-02-01/S1_EW_mosaic_2020-01-01_2020-02-01_tile_226.tif',\n",
       " 'https://webdav.grid.surfsara.nl:2880/pnfs/grid.sara.nl/data/iceshelf/disk/S1_mosaic_2020-01-01_2020-02-01/S1_EW_mosaic_2020-01-01_2020-02-01_tile_227.tif',\n",
       " 'https://webdav.grid.surfsara.nl:2880/pnfs/grid.sara.nl/data/iceshelf/disk/S1_mosaic_2020-01-01_2020-02-01/S1_EW_mosaic_2020-01-01_2020-02-01_tile_228.tif',\n",
       " 'https://webdav.grid.surfsara.nl:2880/pnfs/grid.sara.nl/data/iceshelf/disk/S1_mosaic_2020-01-01_2020-02-01/S1_EW_mosaic_2020-01-01_2020-02-01_tile_229.tif',\n",
       " 'https://webdav.grid.surfsara.nl:2880/pnfs/grid.sara.nl/data/iceshelf/disk/S1_mosaic_2020-01-01_2020-02-01/S1_EW_mosaic_2020-01-01_2020-02-01_tile_23.tif',\n",
       " 'https://webdav.grid.surfsara.nl:2880/pnfs/grid.sara.nl/data/iceshelf/disk/S1_mosaic_2020-01-01_2020-02-01/S1_EW_mosaic_2020-01-01_2020-02-01_tile_230.tif',\n",
       " 'https://webdav.grid.surfsara.nl:2880/pnfs/grid.sara.nl/data/iceshelf/disk/S1_mosaic_2020-01-01_2020-02-01/S1_EW_mosaic_2020-01-01_2020-02-01_tile_231.tif',\n",
       " 'https://webdav.grid.surfsara.nl:2880/pnfs/grid.sara.nl/data/iceshelf/disk/S1_mosaic_2020-01-01_2020-02-01/S1_EW_mosaic_2020-01-01_2020-02-01_tile_232.tif',\n",
       " 'https://webdav.grid.surfsara.nl:2880/pnfs/grid.sara.nl/data/iceshelf/disk/S1_mosaic_2020-01-01_2020-02-01/S1_EW_mosaic_2020-01-01_2020-02-01_tile_233.tif',\n",
       " 'https://webdav.grid.surfsara.nl:2880/pnfs/grid.sara.nl/data/iceshelf/disk/S1_mosaic_2020-01-01_2020-02-01/S1_EW_mosaic_2020-01-01_2020-02-01_tile_234.tif',\n",
       " 'https://webdav.grid.surfsara.nl:2880/pnfs/grid.sara.nl/data/iceshelf/disk/S1_mosaic_2020-01-01_2020-02-01/S1_EW_mosaic_2020-01-01_2020-02-01_tile_235.tif',\n",
       " 'https://webdav.grid.surfsara.nl:2880/pnfs/grid.sara.nl/data/iceshelf/disk/S1_mosaic_2020-01-01_2020-02-01/S1_EW_mosaic_2020-01-01_2020-02-01_tile_236.tif',\n",
       " 'https://webdav.grid.surfsara.nl:2880/pnfs/grid.sara.nl/data/iceshelf/disk/S1_mosaic_2020-01-01_2020-02-01/S1_EW_mosaic_2020-01-01_2020-02-01_tile_237.tif',\n",
       " 'https://webdav.grid.surfsara.nl:2880/pnfs/grid.sara.nl/data/iceshelf/disk/S1_mosaic_2020-01-01_2020-02-01/S1_EW_mosaic_2020-01-01_2020-02-01_tile_238.tif',\n",
       " 'https://webdav.grid.surfsara.nl:2880/pnfs/grid.sara.nl/data/iceshelf/disk/S1_mosaic_2020-01-01_2020-02-01/S1_EW_mosaic_2020-01-01_2020-02-01_tile_239.tif',\n",
       " 'https://webdav.grid.surfsara.nl:2880/pnfs/grid.sara.nl/data/iceshelf/disk/S1_mosaic_2020-01-01_2020-02-01/S1_EW_mosaic_2020-01-01_2020-02-01_tile_24.tif',\n",
       " 'https://webdav.grid.surfsara.nl:2880/pnfs/grid.sara.nl/data/iceshelf/disk/S1_mosaic_2020-01-01_2020-02-01/S1_EW_mosaic_2020-01-01_2020-02-01_tile_240.tif',\n",
       " 'https://webdav.grid.surfsara.nl:2880/pnfs/grid.sara.nl/data/iceshelf/disk/S1_mosaic_2020-01-01_2020-02-01/S1_EW_mosaic_2020-01-01_2020-02-01_tile_241.tif',\n",
       " 'https://webdav.grid.surfsara.nl:2880/pnfs/grid.sara.nl/data/iceshelf/disk/S1_mosaic_2020-01-01_2020-02-01/S1_EW_mosaic_2020-01-01_2020-02-01_tile_242.tif',\n",
       " 'https://webdav.grid.surfsara.nl:2880/pnfs/grid.sara.nl/data/iceshelf/disk/S1_mosaic_2020-01-01_2020-02-01/S1_EW_mosaic_2020-01-01_2020-02-01_tile_243.tif',\n",
       " 'https://webdav.grid.surfsara.nl:2880/pnfs/grid.sara.nl/data/iceshelf/disk/S1_mosaic_2020-01-01_2020-02-01/S1_EW_mosaic_2020-01-01_2020-02-01_tile_244.tif',\n",
       " 'https://webdav.grid.surfsara.nl:2880/pnfs/grid.sara.nl/data/iceshelf/disk/S1_mosaic_2020-01-01_2020-02-01/S1_EW_mosaic_2020-01-01_2020-02-01_tile_245.tif',\n",
       " 'https://webdav.grid.surfsara.nl:2880/pnfs/grid.sara.nl/data/iceshelf/disk/S1_mosaic_2020-01-01_2020-02-01/S1_EW_mosaic_2020-01-01_2020-02-01_tile_246.tif',\n",
       " 'https://webdav.grid.surfsara.nl:2880/pnfs/grid.sara.nl/data/iceshelf/disk/S1_mosaic_2020-01-01_2020-02-01/S1_EW_mosaic_2020-01-01_2020-02-01_tile_247.tif',\n",
       " 'https://webdav.grid.surfsara.nl:2880/pnfs/grid.sara.nl/data/iceshelf/disk/S1_mosaic_2020-01-01_2020-02-01/S1_EW_mosaic_2020-01-01_2020-02-01_tile_248.tif',\n",
       " 'https://webdav.grid.surfsara.nl:2880/pnfs/grid.sara.nl/data/iceshelf/disk/S1_mosaic_2020-01-01_2020-02-01/S1_EW_mosaic_2020-01-01_2020-02-01_tile_249.tif',\n",
       " 'https://webdav.grid.surfsara.nl:2880/pnfs/grid.sara.nl/data/iceshelf/disk/S1_mosaic_2020-01-01_2020-02-01/S1_EW_mosaic_2020-01-01_2020-02-01_tile_25.tif',\n",
       " 'https://webdav.grid.surfsara.nl:2880/pnfs/grid.sara.nl/data/iceshelf/disk/S1_mosaic_2020-01-01_2020-02-01/S1_EW_mosaic_2020-01-01_2020-02-01_tile_250.tif',\n",
       " 'https://webdav.grid.surfsara.nl:2880/pnfs/grid.sara.nl/data/iceshelf/disk/S1_mosaic_2020-01-01_2020-02-01/S1_EW_mosaic_2020-01-01_2020-02-01_tile_251.tif',\n",
       " 'https://webdav.grid.surfsara.nl:2880/pnfs/grid.sara.nl/data/iceshelf/disk/S1_mosaic_2020-01-01_2020-02-01/S1_EW_mosaic_2020-01-01_2020-02-01_tile_252.tif',\n",
       " 'https://webdav.grid.surfsara.nl:2880/pnfs/grid.sara.nl/data/iceshelf/disk/S1_mosaic_2020-01-01_2020-02-01/S1_EW_mosaic_2020-01-01_2020-02-01_tile_253.tif',\n",
       " 'https://webdav.grid.surfsara.nl:2880/pnfs/grid.sara.nl/data/iceshelf/disk/S1_mosaic_2020-01-01_2020-02-01/S1_EW_mosaic_2020-01-01_2020-02-01_tile_254.tif',\n",
       " 'https://webdav.grid.surfsara.nl:2880/pnfs/grid.sara.nl/data/iceshelf/disk/S1_mosaic_2020-01-01_2020-02-01/S1_EW_mosaic_2020-01-01_2020-02-01_tile_255.tif',\n",
       " 'https://webdav.grid.surfsara.nl:2880/pnfs/grid.sara.nl/data/iceshelf/disk/S1_mosaic_2020-01-01_2020-02-01/S1_EW_mosaic_2020-01-01_2020-02-01_tile_256.tif',\n",
       " 'https://webdav.grid.surfsara.nl:2880/pnfs/grid.sara.nl/data/iceshelf/disk/S1_mosaic_2020-01-01_2020-02-01/S1_EW_mosaic_2020-01-01_2020-02-01_tile_257.tif',\n",
       " 'https://webdav.grid.surfsara.nl:2880/pnfs/grid.sara.nl/data/iceshelf/disk/S1_mosaic_2020-01-01_2020-02-01/S1_EW_mosaic_2020-01-01_2020-02-01_tile_258.tif',\n",
       " 'https://webdav.grid.surfsara.nl:2880/pnfs/grid.sara.nl/data/iceshelf/disk/S1_mosaic_2020-01-01_2020-02-01/S1_EW_mosaic_2020-01-01_2020-02-01_tile_259.tif',\n",
       " 'https://webdav.grid.surfsara.nl:2880/pnfs/grid.sara.nl/data/iceshelf/disk/S1_mosaic_2020-01-01_2020-02-01/S1_EW_mosaic_2020-01-01_2020-02-01_tile_26.tif',\n",
       " 'https://webdav.grid.surfsara.nl:2880/pnfs/grid.sara.nl/data/iceshelf/disk/S1_mosaic_2020-01-01_2020-02-01/S1_EW_mosaic_2020-01-01_2020-02-01_tile_260.tif',\n",
       " 'https://webdav.grid.surfsara.nl:2880/pnfs/grid.sara.nl/data/iceshelf/disk/S1_mosaic_2020-01-01_2020-02-01/S1_EW_mosaic_2020-01-01_2020-02-01_tile_261.tif',\n",
       " 'https://webdav.grid.surfsara.nl:2880/pnfs/grid.sara.nl/data/iceshelf/disk/S1_mosaic_2020-01-01_2020-02-01/S1_EW_mosaic_2020-01-01_2020-02-01_tile_262.tif',\n",
       " 'https://webdav.grid.surfsara.nl:2880/pnfs/grid.sara.nl/data/iceshelf/disk/S1_mosaic_2020-01-01_2020-02-01/S1_EW_mosaic_2020-01-01_2020-02-01_tile_263.tif',\n",
       " 'https://webdav.grid.surfsara.nl:2880/pnfs/grid.sara.nl/data/iceshelf/disk/S1_mosaic_2020-01-01_2020-02-01/S1_EW_mosaic_2020-01-01_2020-02-01_tile_264.tif',\n",
       " 'https://webdav.grid.surfsara.nl:2880/pnfs/grid.sara.nl/data/iceshelf/disk/S1_mosaic_2020-01-01_2020-02-01/S1_EW_mosaic_2020-01-01_2020-02-01_tile_265.tif',\n",
       " 'https://webdav.grid.surfsara.nl:2880/pnfs/grid.sara.nl/data/iceshelf/disk/S1_mosaic_2020-01-01_2020-02-01/S1_EW_mosaic_2020-01-01_2020-02-01_tile_266.tif',\n",
       " 'https://webdav.grid.surfsara.nl:2880/pnfs/grid.sara.nl/data/iceshelf/disk/S1_mosaic_2020-01-01_2020-02-01/S1_EW_mosaic_2020-01-01_2020-02-01_tile_267.tif',\n",
       " 'https://webdav.grid.surfsara.nl:2880/pnfs/grid.sara.nl/data/iceshelf/disk/S1_mosaic_2020-01-01_2020-02-01/S1_EW_mosaic_2020-01-01_2020-02-01_tile_268.tif',\n",
       " 'https://webdav.grid.surfsara.nl:2880/pnfs/grid.sara.nl/data/iceshelf/disk/S1_mosaic_2020-01-01_2020-02-01/S1_EW_mosaic_2020-01-01_2020-02-01_tile_269.tif',\n",
       " 'https://webdav.grid.surfsara.nl:2880/pnfs/grid.sara.nl/data/iceshelf/disk/S1_mosaic_2020-01-01_2020-02-01/S1_EW_mosaic_2020-01-01_2020-02-01_tile_27.tif',\n",
       " 'https://webdav.grid.surfsara.nl:2880/pnfs/grid.sara.nl/data/iceshelf/disk/S1_mosaic_2020-01-01_2020-02-01/S1_EW_mosaic_2020-01-01_2020-02-01_tile_270.tif',\n",
       " 'https://webdav.grid.surfsara.nl:2880/pnfs/grid.sara.nl/data/iceshelf/disk/S1_mosaic_2020-01-01_2020-02-01/S1_EW_mosaic_2020-01-01_2020-02-01_tile_271.tif',\n",
       " 'https://webdav.grid.surfsara.nl:2880/pnfs/grid.sara.nl/data/iceshelf/disk/S1_mosaic_2020-01-01_2020-02-01/S1_EW_mosaic_2020-01-01_2020-02-01_tile_272.tif',\n",
       " 'https://webdav.grid.surfsara.nl:2880/pnfs/grid.sara.nl/data/iceshelf/disk/S1_mosaic_2020-01-01_2020-02-01/S1_EW_mosaic_2020-01-01_2020-02-01_tile_273.tif',\n",
       " 'https://webdav.grid.surfsara.nl:2880/pnfs/grid.sara.nl/data/iceshelf/disk/S1_mosaic_2020-01-01_2020-02-01/S1_EW_mosaic_2020-01-01_2020-02-01_tile_274.tif',\n",
       " 'https://webdav.grid.surfsara.nl:2880/pnfs/grid.sara.nl/data/iceshelf/disk/S1_mosaic_2020-01-01_2020-02-01/S1_EW_mosaic_2020-01-01_2020-02-01_tile_275.tif',\n",
       " 'https://webdav.grid.surfsara.nl:2880/pnfs/grid.sara.nl/data/iceshelf/disk/S1_mosaic_2020-01-01_2020-02-01/S1_EW_mosaic_2020-01-01_2020-02-01_tile_276.tif',\n",
       " 'https://webdav.grid.surfsara.nl:2880/pnfs/grid.sara.nl/data/iceshelf/disk/S1_mosaic_2020-01-01_2020-02-01/S1_EW_mosaic_2020-01-01_2020-02-01_tile_277.tif',\n",
       " 'https://webdav.grid.surfsara.nl:2880/pnfs/grid.sara.nl/data/iceshelf/disk/S1_mosaic_2020-01-01_2020-02-01/S1_EW_mosaic_2020-01-01_2020-02-01_tile_278.tif',\n",
       " 'https://webdav.grid.surfsara.nl:2880/pnfs/grid.sara.nl/data/iceshelf/disk/S1_mosaic_2020-01-01_2020-02-01/S1_EW_mosaic_2020-01-01_2020-02-01_tile_279.tif',\n",
       " 'https://webdav.grid.surfsara.nl:2880/pnfs/grid.sara.nl/data/iceshelf/disk/S1_mosaic_2020-01-01_2020-02-01/S1_EW_mosaic_2020-01-01_2020-02-01_tile_28.tif',\n",
       " 'https://webdav.grid.surfsara.nl:2880/pnfs/grid.sara.nl/data/iceshelf/disk/S1_mosaic_2020-01-01_2020-02-01/S1_EW_mosaic_2020-01-01_2020-02-01_tile_280.tif',\n",
       " 'https://webdav.grid.surfsara.nl:2880/pnfs/grid.sara.nl/data/iceshelf/disk/S1_mosaic_2020-01-01_2020-02-01/S1_EW_mosaic_2020-01-01_2020-02-01_tile_281.tif',\n",
       " 'https://webdav.grid.surfsara.nl:2880/pnfs/grid.sara.nl/data/iceshelf/disk/S1_mosaic_2020-01-01_2020-02-01/S1_EW_mosaic_2020-01-01_2020-02-01_tile_282.tif',\n",
       " 'https://webdav.grid.surfsara.nl:2880/pnfs/grid.sara.nl/data/iceshelf/disk/S1_mosaic_2020-01-01_2020-02-01/S1_EW_mosaic_2020-01-01_2020-02-01_tile_283.tif',\n",
       " 'https://webdav.grid.surfsara.nl:2880/pnfs/grid.sara.nl/data/iceshelf/disk/S1_mosaic_2020-01-01_2020-02-01/S1_EW_mosaic_2020-01-01_2020-02-01_tile_284.tif',\n",
       " 'https://webdav.grid.surfsara.nl:2880/pnfs/grid.sara.nl/data/iceshelf/disk/S1_mosaic_2020-01-01_2020-02-01/S1_EW_mosaic_2020-01-01_2020-02-01_tile_285.tif',\n",
       " 'https://webdav.grid.surfsara.nl:2880/pnfs/grid.sara.nl/data/iceshelf/disk/S1_mosaic_2020-01-01_2020-02-01/S1_EW_mosaic_2020-01-01_2020-02-01_tile_286.tif',\n",
       " 'https://webdav.grid.surfsara.nl:2880/pnfs/grid.sara.nl/data/iceshelf/disk/S1_mosaic_2020-01-01_2020-02-01/S1_EW_mosaic_2020-01-01_2020-02-01_tile_287.tif',\n",
       " 'https://webdav.grid.surfsara.nl:2880/pnfs/grid.sara.nl/data/iceshelf/disk/S1_mosaic_2020-01-01_2020-02-01/S1_EW_mosaic_2020-01-01_2020-02-01_tile_288.tif',\n",
       " 'https://webdav.grid.surfsara.nl:2880/pnfs/grid.sara.nl/data/iceshelf/disk/S1_mosaic_2020-01-01_2020-02-01/S1_EW_mosaic_2020-01-01_2020-02-01_tile_289.tif',\n",
       " 'https://webdav.grid.surfsara.nl:2880/pnfs/grid.sara.nl/data/iceshelf/disk/S1_mosaic_2020-01-01_2020-02-01/S1_EW_mosaic_2020-01-01_2020-02-01_tile_29.tif',\n",
       " 'https://webdav.grid.surfsara.nl:2880/pnfs/grid.sara.nl/data/iceshelf/disk/S1_mosaic_2020-01-01_2020-02-01/S1_EW_mosaic_2020-01-01_2020-02-01_tile_290.tif',\n",
       " 'https://webdav.grid.surfsara.nl:2880/pnfs/grid.sara.nl/data/iceshelf/disk/S1_mosaic_2020-01-01_2020-02-01/S1_EW_mosaic_2020-01-01_2020-02-01_tile_291.tif',\n",
       " 'https://webdav.grid.surfsara.nl:2880/pnfs/grid.sara.nl/data/iceshelf/disk/S1_mosaic_2020-01-01_2020-02-01/S1_EW_mosaic_2020-01-01_2020-02-01_tile_292.tif',\n",
       " 'https://webdav.grid.surfsara.nl:2880/pnfs/grid.sara.nl/data/iceshelf/disk/S1_mosaic_2020-01-01_2020-02-01/S1_EW_mosaic_2020-01-01_2020-02-01_tile_293.tif',\n",
       " 'https://webdav.grid.surfsara.nl:2880/pnfs/grid.sara.nl/data/iceshelf/disk/S1_mosaic_2020-01-01_2020-02-01/S1_EW_mosaic_2020-01-01_2020-02-01_tile_294.tif',\n",
       " 'https://webdav.grid.surfsara.nl:2880/pnfs/grid.sara.nl/data/iceshelf/disk/S1_mosaic_2020-01-01_2020-02-01/S1_EW_mosaic_2020-01-01_2020-02-01_tile_295.tif',\n",
       " 'https://webdav.grid.surfsara.nl:2880/pnfs/grid.sara.nl/data/iceshelf/disk/S1_mosaic_2020-01-01_2020-02-01/S1_EW_mosaic_2020-01-01_2020-02-01_tile_296.tif',\n",
       " 'https://webdav.grid.surfsara.nl:2880/pnfs/grid.sara.nl/data/iceshelf/disk/S1_mosaic_2020-01-01_2020-02-01/S1_EW_mosaic_2020-01-01_2020-02-01_tile_297.tif',\n",
       " 'https://webdav.grid.surfsara.nl:2880/pnfs/grid.sara.nl/data/iceshelf/disk/S1_mosaic_2020-01-01_2020-02-01/S1_EW_mosaic_2020-01-01_2020-02-01_tile_298.tif',\n",
       " 'https://webdav.grid.surfsara.nl:2880/pnfs/grid.sara.nl/data/iceshelf/disk/S1_mosaic_2020-01-01_2020-02-01/S1_EW_mosaic_2020-01-01_2020-02-01_tile_299.tif',\n",
       " 'https://webdav.grid.surfsara.nl:2880/pnfs/grid.sara.nl/data/iceshelf/disk/S1_mosaic_2020-01-01_2020-02-01/S1_EW_mosaic_2020-01-01_2020-02-01_tile_3.tif',\n",
       " 'https://webdav.grid.surfsara.nl:2880/pnfs/grid.sara.nl/data/iceshelf/disk/S1_mosaic_2020-01-01_2020-02-01/S1_EW_mosaic_2020-01-01_2020-02-01_tile_30.tif',\n",
       " 'https://webdav.grid.surfsara.nl:2880/pnfs/grid.sara.nl/data/iceshelf/disk/S1_mosaic_2020-01-01_2020-02-01/S1_EW_mosaic_2020-01-01_2020-02-01_tile_300.tif',\n",
       " 'https://webdav.grid.surfsara.nl:2880/pnfs/grid.sara.nl/data/iceshelf/disk/S1_mosaic_2020-01-01_2020-02-01/S1_EW_mosaic_2020-01-01_2020-02-01_tile_301.tif',\n",
       " 'https://webdav.grid.surfsara.nl:2880/pnfs/grid.sara.nl/data/iceshelf/disk/S1_mosaic_2020-01-01_2020-02-01/S1_EW_mosaic_2020-01-01_2020-02-01_tile_302.tif',\n",
       " 'https://webdav.grid.surfsara.nl:2880/pnfs/grid.sara.nl/data/iceshelf/disk/S1_mosaic_2020-01-01_2020-02-01/S1_EW_mosaic_2020-01-01_2020-02-01_tile_303.tif',\n",
       " 'https://webdav.grid.surfsara.nl:2880/pnfs/grid.sara.nl/data/iceshelf/disk/S1_mosaic_2020-01-01_2020-02-01/S1_EW_mosaic_2020-01-01_2020-02-01_tile_304.tif',\n",
       " 'https://webdav.grid.surfsara.nl:2880/pnfs/grid.sara.nl/data/iceshelf/disk/S1_mosaic_2020-01-01_2020-02-01/S1_EW_mosaic_2020-01-01_2020-02-01_tile_305.tif',\n",
       " 'https://webdav.grid.surfsara.nl:2880/pnfs/grid.sara.nl/data/iceshelf/disk/S1_mosaic_2020-01-01_2020-02-01/S1_EW_mosaic_2020-01-01_2020-02-01_tile_306.tif',\n",
       " 'https://webdav.grid.surfsara.nl:2880/pnfs/grid.sara.nl/data/iceshelf/disk/S1_mosaic_2020-01-01_2020-02-01/S1_EW_mosaic_2020-01-01_2020-02-01_tile_307.tif',\n",
       " 'https://webdav.grid.surfsara.nl:2880/pnfs/grid.sara.nl/data/iceshelf/disk/S1_mosaic_2020-01-01_2020-02-01/S1_EW_mosaic_2020-01-01_2020-02-01_tile_308.tif',\n",
       " 'https://webdav.grid.surfsara.nl:2880/pnfs/grid.sara.nl/data/iceshelf/disk/S1_mosaic_2020-01-01_2020-02-01/S1_EW_mosaic_2020-01-01_2020-02-01_tile_309.tif',\n",
       " 'https://webdav.grid.surfsara.nl:2880/pnfs/grid.sara.nl/data/iceshelf/disk/S1_mosaic_2020-01-01_2020-02-01/S1_EW_mosaic_2020-01-01_2020-02-01_tile_31.tif',\n",
       " 'https://webdav.grid.surfsara.nl:2880/pnfs/grid.sara.nl/data/iceshelf/disk/S1_mosaic_2020-01-01_2020-02-01/S1_EW_mosaic_2020-01-01_2020-02-01_tile_310.tif',\n",
       " 'https://webdav.grid.surfsara.nl:2880/pnfs/grid.sara.nl/data/iceshelf/disk/S1_mosaic_2020-01-01_2020-02-01/S1_EW_mosaic_2020-01-01_2020-02-01_tile_311.tif',\n",
       " 'https://webdav.grid.surfsara.nl:2880/pnfs/grid.sara.nl/data/iceshelf/disk/S1_mosaic_2020-01-01_2020-02-01/S1_EW_mosaic_2020-01-01_2020-02-01_tile_312.tif',\n",
       " 'https://webdav.grid.surfsara.nl:2880/pnfs/grid.sara.nl/data/iceshelf/disk/S1_mosaic_2020-01-01_2020-02-01/S1_EW_mosaic_2020-01-01_2020-02-01_tile_32.tif',\n",
       " 'https://webdav.grid.surfsara.nl:2880/pnfs/grid.sara.nl/data/iceshelf/disk/S1_mosaic_2020-01-01_2020-02-01/S1_EW_mosaic_2020-01-01_2020-02-01_tile_33.tif',\n",
       " 'https://webdav.grid.surfsara.nl:2880/pnfs/grid.sara.nl/data/iceshelf/disk/S1_mosaic_2020-01-01_2020-02-01/S1_EW_mosaic_2020-01-01_2020-02-01_tile_34.tif',\n",
       " 'https://webdav.grid.surfsara.nl:2880/pnfs/grid.sara.nl/data/iceshelf/disk/S1_mosaic_2020-01-01_2020-02-01/S1_EW_mosaic_2020-01-01_2020-02-01_tile_35.tif',\n",
       " 'https://webdav.grid.surfsara.nl:2880/pnfs/grid.sara.nl/data/iceshelf/disk/S1_mosaic_2020-01-01_2020-02-01/S1_EW_mosaic_2020-01-01_2020-02-01_tile_36.tif',\n",
       " 'https://webdav.grid.surfsara.nl:2880/pnfs/grid.sara.nl/data/iceshelf/disk/S1_mosaic_2020-01-01_2020-02-01/S1_EW_mosaic_2020-01-01_2020-02-01_tile_37.tif',\n",
       " 'https://webdav.grid.surfsara.nl:2880/pnfs/grid.sara.nl/data/iceshelf/disk/S1_mosaic_2020-01-01_2020-02-01/S1_EW_mosaic_2020-01-01_2020-02-01_tile_38.tif',\n",
       " 'https://webdav.grid.surfsara.nl:2880/pnfs/grid.sara.nl/data/iceshelf/disk/S1_mosaic_2020-01-01_2020-02-01/S1_EW_mosaic_2020-01-01_2020-02-01_tile_39.tif',\n",
       " 'https://webdav.grid.surfsara.nl:2880/pnfs/grid.sara.nl/data/iceshelf/disk/S1_mosaic_2020-01-01_2020-02-01/S1_EW_mosaic_2020-01-01_2020-02-01_tile_4.tif',\n",
       " 'https://webdav.grid.surfsara.nl:2880/pnfs/grid.sara.nl/data/iceshelf/disk/S1_mosaic_2020-01-01_2020-02-01/S1_EW_mosaic_2020-01-01_2020-02-01_tile_40.tif',\n",
       " 'https://webdav.grid.surfsara.nl:2880/pnfs/grid.sara.nl/data/iceshelf/disk/S1_mosaic_2020-01-01_2020-02-01/S1_EW_mosaic_2020-01-01_2020-02-01_tile_41.tif',\n",
       " 'https://webdav.grid.surfsara.nl:2880/pnfs/grid.sara.nl/data/iceshelf/disk/S1_mosaic_2020-01-01_2020-02-01/S1_EW_mosaic_2020-01-01_2020-02-01_tile_42.tif',\n",
       " 'https://webdav.grid.surfsara.nl:2880/pnfs/grid.sara.nl/data/iceshelf/disk/S1_mosaic_2020-01-01_2020-02-01/S1_EW_mosaic_2020-01-01_2020-02-01_tile_43.tif',\n",
       " 'https://webdav.grid.surfsara.nl:2880/pnfs/grid.sara.nl/data/iceshelf/disk/S1_mosaic_2020-01-01_2020-02-01/S1_EW_mosaic_2020-01-01_2020-02-01_tile_44.tif',\n",
       " 'https://webdav.grid.surfsara.nl:2880/pnfs/grid.sara.nl/data/iceshelf/disk/S1_mosaic_2020-01-01_2020-02-01/S1_EW_mosaic_2020-01-01_2020-02-01_tile_45.tif',\n",
       " 'https://webdav.grid.surfsara.nl:2880/pnfs/grid.sara.nl/data/iceshelf/disk/S1_mosaic_2020-01-01_2020-02-01/S1_EW_mosaic_2020-01-01_2020-02-01_tile_46.tif',\n",
       " 'https://webdav.grid.surfsara.nl:2880/pnfs/grid.sara.nl/data/iceshelf/disk/S1_mosaic_2020-01-01_2020-02-01/S1_EW_mosaic_2020-01-01_2020-02-01_tile_47.tif',\n",
       " 'https://webdav.grid.surfsara.nl:2880/pnfs/grid.sara.nl/data/iceshelf/disk/S1_mosaic_2020-01-01_2020-02-01/S1_EW_mosaic_2020-01-01_2020-02-01_tile_48.tif',\n",
       " 'https://webdav.grid.surfsara.nl:2880/pnfs/grid.sara.nl/data/iceshelf/disk/S1_mosaic_2020-01-01_2020-02-01/S1_EW_mosaic_2020-01-01_2020-02-01_tile_49.tif',\n",
       " 'https://webdav.grid.surfsara.nl:2880/pnfs/grid.sara.nl/data/iceshelf/disk/S1_mosaic_2020-01-01_2020-02-01/S1_EW_mosaic_2020-01-01_2020-02-01_tile_5.tif',\n",
       " 'https://webdav.grid.surfsara.nl:2880/pnfs/grid.sara.nl/data/iceshelf/disk/S1_mosaic_2020-01-01_2020-02-01/S1_EW_mosaic_2020-01-01_2020-02-01_tile_50.tif',\n",
       " 'https://webdav.grid.surfsara.nl:2880/pnfs/grid.sara.nl/data/iceshelf/disk/S1_mosaic_2020-01-01_2020-02-01/S1_EW_mosaic_2020-01-01_2020-02-01_tile_51.tif',\n",
       " 'https://webdav.grid.surfsara.nl:2880/pnfs/grid.sara.nl/data/iceshelf/disk/S1_mosaic_2020-01-01_2020-02-01/S1_EW_mosaic_2020-01-01_2020-02-01_tile_52.tif',\n",
       " 'https://webdav.grid.surfsara.nl:2880/pnfs/grid.sara.nl/data/iceshelf/disk/S1_mosaic_2020-01-01_2020-02-01/S1_EW_mosaic_2020-01-01_2020-02-01_tile_53.tif',\n",
       " 'https://webdav.grid.surfsara.nl:2880/pnfs/grid.sara.nl/data/iceshelf/disk/S1_mosaic_2020-01-01_2020-02-01/S1_EW_mosaic_2020-01-01_2020-02-01_tile_54.tif',\n",
       " 'https://webdav.grid.surfsara.nl:2880/pnfs/grid.sara.nl/data/iceshelf/disk/S1_mosaic_2020-01-01_2020-02-01/S1_EW_mosaic_2020-01-01_2020-02-01_tile_55.tif',\n",
       " 'https://webdav.grid.surfsara.nl:2880/pnfs/grid.sara.nl/data/iceshelf/disk/S1_mosaic_2020-01-01_2020-02-01/S1_EW_mosaic_2020-01-01_2020-02-01_tile_56.tif',\n",
       " 'https://webdav.grid.surfsara.nl:2880/pnfs/grid.sara.nl/data/iceshelf/disk/S1_mosaic_2020-01-01_2020-02-01/S1_EW_mosaic_2020-01-01_2020-02-01_tile_57.tif',\n",
       " 'https://webdav.grid.surfsara.nl:2880/pnfs/grid.sara.nl/data/iceshelf/disk/S1_mosaic_2020-01-01_2020-02-01/S1_EW_mosaic_2020-01-01_2020-02-01_tile_58.tif',\n",
       " 'https://webdav.grid.surfsara.nl:2880/pnfs/grid.sara.nl/data/iceshelf/disk/S1_mosaic_2020-01-01_2020-02-01/S1_EW_mosaic_2020-01-01_2020-02-01_tile_59.tif',\n",
       " 'https://webdav.grid.surfsara.nl:2880/pnfs/grid.sara.nl/data/iceshelf/disk/S1_mosaic_2020-01-01_2020-02-01/S1_EW_mosaic_2020-01-01_2020-02-01_tile_6.tif',\n",
       " 'https://webdav.grid.surfsara.nl:2880/pnfs/grid.sara.nl/data/iceshelf/disk/S1_mosaic_2020-01-01_2020-02-01/S1_EW_mosaic_2020-01-01_2020-02-01_tile_60.tif',\n",
       " 'https://webdav.grid.surfsara.nl:2880/pnfs/grid.sara.nl/data/iceshelf/disk/S1_mosaic_2020-01-01_2020-02-01/S1_EW_mosaic_2020-01-01_2020-02-01_tile_61.tif',\n",
       " 'https://webdav.grid.surfsara.nl:2880/pnfs/grid.sara.nl/data/iceshelf/disk/S1_mosaic_2020-01-01_2020-02-01/S1_EW_mosaic_2020-01-01_2020-02-01_tile_62.tif',\n",
       " 'https://webdav.grid.surfsara.nl:2880/pnfs/grid.sara.nl/data/iceshelf/disk/S1_mosaic_2020-01-01_2020-02-01/S1_EW_mosaic_2020-01-01_2020-02-01_tile_63.tif',\n",
       " 'https://webdav.grid.surfsara.nl:2880/pnfs/grid.sara.nl/data/iceshelf/disk/S1_mosaic_2020-01-01_2020-02-01/S1_EW_mosaic_2020-01-01_2020-02-01_tile_64.tif',\n",
       " 'https://webdav.grid.surfsara.nl:2880/pnfs/grid.sara.nl/data/iceshelf/disk/S1_mosaic_2020-01-01_2020-02-01/S1_EW_mosaic_2020-01-01_2020-02-01_tile_65.tif',\n",
       " 'https://webdav.grid.surfsara.nl:2880/pnfs/grid.sara.nl/data/iceshelf/disk/S1_mosaic_2020-01-01_2020-02-01/S1_EW_mosaic_2020-01-01_2020-02-01_tile_66.tif',\n",
       " 'https://webdav.grid.surfsara.nl:2880/pnfs/grid.sara.nl/data/iceshelf/disk/S1_mosaic_2020-01-01_2020-02-01/S1_EW_mosaic_2020-01-01_2020-02-01_tile_67.tif',\n",
       " 'https://webdav.grid.surfsara.nl:2880/pnfs/grid.sara.nl/data/iceshelf/disk/S1_mosaic_2020-01-01_2020-02-01/S1_EW_mosaic_2020-01-01_2020-02-01_tile_68.tif',\n",
       " 'https://webdav.grid.surfsara.nl:2880/pnfs/grid.sara.nl/data/iceshelf/disk/S1_mosaic_2020-01-01_2020-02-01/S1_EW_mosaic_2020-01-01_2020-02-01_tile_69.tif',\n",
       " 'https://webdav.grid.surfsara.nl:2880/pnfs/grid.sara.nl/data/iceshelf/disk/S1_mosaic_2020-01-01_2020-02-01/S1_EW_mosaic_2020-01-01_2020-02-01_tile_7.tif',\n",
       " 'https://webdav.grid.surfsara.nl:2880/pnfs/grid.sara.nl/data/iceshelf/disk/S1_mosaic_2020-01-01_2020-02-01/S1_EW_mosaic_2020-01-01_2020-02-01_tile_70.tif',\n",
       " 'https://webdav.grid.surfsara.nl:2880/pnfs/grid.sara.nl/data/iceshelf/disk/S1_mosaic_2020-01-01_2020-02-01/S1_EW_mosaic_2020-01-01_2020-02-01_tile_71.tif',\n",
       " 'https://webdav.grid.surfsara.nl:2880/pnfs/grid.sara.nl/data/iceshelf/disk/S1_mosaic_2020-01-01_2020-02-01/S1_EW_mosaic_2020-01-01_2020-02-01_tile_72.tif',\n",
       " 'https://webdav.grid.surfsara.nl:2880/pnfs/grid.sara.nl/data/iceshelf/disk/S1_mosaic_2020-01-01_2020-02-01/S1_EW_mosaic_2020-01-01_2020-02-01_tile_73.tif',\n",
       " 'https://webdav.grid.surfsara.nl:2880/pnfs/grid.sara.nl/data/iceshelf/disk/S1_mosaic_2020-01-01_2020-02-01/S1_EW_mosaic_2020-01-01_2020-02-01_tile_74.tif',\n",
       " 'https://webdav.grid.surfsara.nl:2880/pnfs/grid.sara.nl/data/iceshelf/disk/S1_mosaic_2020-01-01_2020-02-01/S1_EW_mosaic_2020-01-01_2020-02-01_tile_75.tif',\n",
       " 'https://webdav.grid.surfsara.nl:2880/pnfs/grid.sara.nl/data/iceshelf/disk/S1_mosaic_2020-01-01_2020-02-01/S1_EW_mosaic_2020-01-01_2020-02-01_tile_76.tif',\n",
       " 'https://webdav.grid.surfsara.nl:2880/pnfs/grid.sara.nl/data/iceshelf/disk/S1_mosaic_2020-01-01_2020-02-01/S1_EW_mosaic_2020-01-01_2020-02-01_tile_77.tif',\n",
       " 'https://webdav.grid.surfsara.nl:2880/pnfs/grid.sara.nl/data/iceshelf/disk/S1_mosaic_2020-01-01_2020-02-01/S1_EW_mosaic_2020-01-01_2020-02-01_tile_78.tif',\n",
       " 'https://webdav.grid.surfsara.nl:2880/pnfs/grid.sara.nl/data/iceshelf/disk/S1_mosaic_2020-01-01_2020-02-01/S1_EW_mosaic_2020-01-01_2020-02-01_tile_79.tif',\n",
       " 'https://webdav.grid.surfsara.nl:2880/pnfs/grid.sara.nl/data/iceshelf/disk/S1_mosaic_2020-01-01_2020-02-01/S1_EW_mosaic_2020-01-01_2020-02-01_tile_8.tif',\n",
       " 'https://webdav.grid.surfsara.nl:2880/pnfs/grid.sara.nl/data/iceshelf/disk/S1_mosaic_2020-01-01_2020-02-01/S1_EW_mosaic_2020-01-01_2020-02-01_tile_80.tif',\n",
       " 'https://webdav.grid.surfsara.nl:2880/pnfs/grid.sara.nl/data/iceshelf/disk/S1_mosaic_2020-01-01_2020-02-01/S1_EW_mosaic_2020-01-01_2020-02-01_tile_81.tif',\n",
       " 'https://webdav.grid.surfsara.nl:2880/pnfs/grid.sara.nl/data/iceshelf/disk/S1_mosaic_2020-01-01_2020-02-01/S1_EW_mosaic_2020-01-01_2020-02-01_tile_82.tif',\n",
       " 'https://webdav.grid.surfsara.nl:2880/pnfs/grid.sara.nl/data/iceshelf/disk/S1_mosaic_2020-01-01_2020-02-01/S1_EW_mosaic_2020-01-01_2020-02-01_tile_83.tif',\n",
       " 'https://webdav.grid.surfsara.nl:2880/pnfs/grid.sara.nl/data/iceshelf/disk/S1_mosaic_2020-01-01_2020-02-01/S1_EW_mosaic_2020-01-01_2020-02-01_tile_84.tif',\n",
       " 'https://webdav.grid.surfsara.nl:2880/pnfs/grid.sara.nl/data/iceshelf/disk/S1_mosaic_2020-01-01_2020-02-01/S1_EW_mosaic_2020-01-01_2020-02-01_tile_85.tif',\n",
       " 'https://webdav.grid.surfsara.nl:2880/pnfs/grid.sara.nl/data/iceshelf/disk/S1_mosaic_2020-01-01_2020-02-01/S1_EW_mosaic_2020-01-01_2020-02-01_tile_86.tif',\n",
       " 'https://webdav.grid.surfsara.nl:2880/pnfs/grid.sara.nl/data/iceshelf/disk/S1_mosaic_2020-01-01_2020-02-01/S1_EW_mosaic_2020-01-01_2020-02-01_tile_87.tif',\n",
       " 'https://webdav.grid.surfsara.nl:2880/pnfs/grid.sara.nl/data/iceshelf/disk/S1_mosaic_2020-01-01_2020-02-01/S1_EW_mosaic_2020-01-01_2020-02-01_tile_88.tif',\n",
       " 'https://webdav.grid.surfsara.nl:2880/pnfs/grid.sara.nl/data/iceshelf/disk/S1_mosaic_2020-01-01_2020-02-01/S1_EW_mosaic_2020-01-01_2020-02-01_tile_89.tif',\n",
       " 'https://webdav.grid.surfsara.nl:2880/pnfs/grid.sara.nl/data/iceshelf/disk/S1_mosaic_2020-01-01_2020-02-01/S1_EW_mosaic_2020-01-01_2020-02-01_tile_9.tif',\n",
       " 'https://webdav.grid.surfsara.nl:2880/pnfs/grid.sara.nl/data/iceshelf/disk/S1_mosaic_2020-01-01_2020-02-01/S1_EW_mosaic_2020-01-01_2020-02-01_tile_90.tif',\n",
       " 'https://webdav.grid.surfsara.nl:2880/pnfs/grid.sara.nl/data/iceshelf/disk/S1_mosaic_2020-01-01_2020-02-01/S1_EW_mosaic_2020-01-01_2020-02-01_tile_91.tif',\n",
       " 'https://webdav.grid.surfsara.nl:2880/pnfs/grid.sara.nl/data/iceshelf/disk/S1_mosaic_2020-01-01_2020-02-01/S1_EW_mosaic_2020-01-01_2020-02-01_tile_92.tif',\n",
       " 'https://webdav.grid.surfsara.nl:2880/pnfs/grid.sara.nl/data/iceshelf/disk/S1_mosaic_2020-01-01_2020-02-01/S1_EW_mosaic_2020-01-01_2020-02-01_tile_93.tif',\n",
       " 'https://webdav.grid.surfsara.nl:2880/pnfs/grid.sara.nl/data/iceshelf/disk/S1_mosaic_2020-01-01_2020-02-01/S1_EW_mosaic_2020-01-01_2020-02-01_tile_94.tif',\n",
       " 'https://webdav.grid.surfsara.nl:2880/pnfs/grid.sara.nl/data/iceshelf/disk/S1_mosaic_2020-01-01_2020-02-01/S1_EW_mosaic_2020-01-01_2020-02-01_tile_95.tif',\n",
       " 'https://webdav.grid.surfsara.nl:2880/pnfs/grid.sara.nl/data/iceshelf/disk/S1_mosaic_2020-01-01_2020-02-01/S1_EW_mosaic_2020-01-01_2020-02-01_tile_96.tif',\n",
       " 'https://webdav.grid.surfsara.nl:2880/pnfs/grid.sara.nl/data/iceshelf/disk/S1_mosaic_2020-01-01_2020-02-01/S1_EW_mosaic_2020-01-01_2020-02-01_tile_97.tif',\n",
       " 'https://webdav.grid.surfsara.nl:2880/pnfs/grid.sara.nl/data/iceshelf/disk/S1_mosaic_2020-01-01_2020-02-01/S1_EW_mosaic_2020-01-01_2020-02-01_tile_98.tif',\n",
       " 'https://webdav.grid.surfsara.nl:2880/pnfs/grid.sara.nl/data/iceshelf/disk/S1_mosaic_2020-01-01_2020-02-01/S1_EW_mosaic_2020-01-01_2020-02-01_tile_99.tif']"
      ]
     },
     "execution_count": 171,
     "metadata": {},
     "output_type": "execute_result"
    }
   ],
   "source": [
    "import pathlib\n",
    "import geopandas as gpd\n",
    "import pandas as pd\n",
    "def _read_tile_catalog(catalog_path):\n",
    "    \"\"\" Read the tile catalog \"\"\"\n",
    "    catalog_path = pathlib.Path(catalog_path)\n",
    "    catalog_path = catalog_path / \"catalog.json\"\n",
    "    return pystac.Catalog.from_file(catalog_path.as_posix())\n",
    "\n",
    "def _get_tile_paths(catalog, item_ids, asset_key=None):\n",
    "    \"\"\" Extract the asset paths from the catalog \"\"\"\n",
    "    items = (catalog.get_item(item_id, recursive=True) for item_id in item_ids)\n",
    "    if asset_key is None:\n",
    "        item = list(catalog.get_all_items())[0]\n",
    "        asset_key = list(item.assets.keys())[0]\n",
    "    assets = (item.assets[asset_key] for item in items )       \n",
    "    return [asset.get_absolute_href() for asset in assets]\n",
    "\n",
    "def _catalog_to_geodataframe(catalog, crs=\"WGS84\"):\n",
    "    \"\"\" Convert STAC catalog to a GeoDataFrame object \"\"\"\n",
    "    features = {item.id: item.to_dict() for item in catalog.get_all_items()}\n",
    "    gdf = gpd.GeoDataFrame.from_features(features.values())\n",
    "    gdf.index = features.keys()\n",
    "    for column in gdf.columns:\n",
    "        if 'datetime' in column:\n",
    "            gdf[column] = pd.to_datetime(gdf[column])\n",
    "    gdf = gdf.set_crs(crs)\n",
    "    return gdf\n",
    "\n",
    "\n",
    "catalog = _read_tile_catalog('./S1_mosaic/')\n",
    "# catalog = pystac.Catalog.from_file(os.path.join(homedir, 'Data/tiles/catalog.json'))\n",
    "    \n",
    "\n",
    "tiles = _catalog_to_geodataframe(catalog) # gpd f\n",
    "tilelist = tiles.index.values.tolist()    # tilenames in list (excluding .tif)\n",
    "\n",
    "# remove ROI tiles from tilelist, before dividing training/test/val\n",
    "tileNums_test_ROI = [112,122,126,139,140,141,142,143,151,152,153,154] # to do: include in config file\n",
    "tilelist_ROI = [item for item in tilelist if int(item.split('_')[-1]) in tileNums_test_ROI] \n",
    "# make SET from ROI tiles\n",
    "ROI_set = tiles.loc[tilelist_ROI] # to do: include this in stored dataset.json \n",
    "# remove these from tilelist\n",
    "tiles_set = tiles.index.difference(tilelist_ROI) \n",
    "tiles_set = tiles.loc[tiles_set]\n",
    "tiles = tiles_set\n",
    "tiles\n",
    "\n",
    "\n",
    "# train_set_paths = _get_tile_paths(catalog, tiles.index, \"B2-B3-B4-B11\")\n",
    "\n",
    "\n",
    "\n",
    "# item = list(catalog.get_all_items())[0]\n",
    "# asset_id = list(item.assets.keys())[0]\n",
    "\n",
    "# train_set_paths = _get_tile_paths(catalog, tiles.index, \"HH\")\n",
    "train_set_paths = _get_tile_paths(catalog, tiles.index)#, asset_id)\n",
    "train_set_paths"
   ]
  },
  {
   "cell_type": "code",
   "execution_count": 128,
   "metadata": {},
   "outputs": [
    {
     "name": "stdout",
     "output_type": "stream",
     "text": [
      "['HH']\n"
     ]
    },
    {
     "data": {
      "text/plain": [
       "[]"
      ]
     },
     "execution_count": 128,
     "metadata": {},
     "output_type": "execute_result"
    }
   ],
   "source": [
    "tiles.index\n",
    "item_ids = tiles.index\n",
    "items = (catalog.get_item(item_id, recursive=True) for item_id in item_ids)\n",
    "# print(list(items))\n",
    "item = list(items)[0]\n",
    "asset_key = list(item.assets.keys())\n",
    "print(asset_key)\n",
    "bandname\n",
    "\n",
    "asset_key = 'HH' # \"B2-B3-B4-B11\" #\n",
    "assets = (item.assets[asset_key] for item in items)\n",
    "assets\n",
    "[asset.get_absolute_href() for asset in assets]\n",
    "\n",
    "# B = (item.assets[asset_key] for item in items)\n",
    "# B\n",
    "# [list(x) for x in B]"
   ]
  },
  {
   "cell_type": "code",
   "execution_count": 139,
   "metadata": {},
   "outputs": [
    {
     "name": "stdout",
     "output_type": "stream",
     "text": [
      "Hello\n",
      "Nothing went wrong\n"
     ]
    }
   ],
   "source": [
    "\n",
    "homedir = '/Users/tud500158/Library/Mobile Documents/com~apple~CloudDocs/Documents/Documents - TUD500158/'\n",
    "try:\n",
    "    print(\"Hello\")\n",
    "except:\n",
    "    print(\"Something went wrong\")\n",
    "else:\n",
    "    print(\"Nothing went wrong\")"
   ]
  },
  {
   "cell_type": "code",
   "execution_count": 137,
   "metadata": {},
   "outputs": [
    {
     "name": "stdout",
     "output_type": "stream",
     "text": [
      "<Item id=S1_EW_mosaic_2020-01-01_2020-02-01_tile_0>\n",
      "HH\n",
      "[]\n",
      "HH\n",
      "[]\n"
     ]
    }
   ],
   "source": [
    "cat = catalog\n",
    "\n",
    "# pystac.Catalog.from_file(catalog_path.as_posix())\n",
    "catalog = pystac.Catalog.from_file('./S1_mosaic/catalog.json')\n",
    "# catalog = pystac.Catalog.from_file(os.path.join(homedir, 'Data/tiles/catalog.json'))\n",
    "cat\n",
    "\n",
    "\n",
    "\n",
    "items = (catalog.get_item(item_id, recursive=True) for item_id in item_ids)\n",
    "# print(list(items))\n",
    "item = list(items)[0]\n",
    "print(item)\n",
    "list(item.assets.keys())\n",
    "\n",
    "asset_id = list(item.assets.keys())[0]\n",
    "print(asset_id)\n",
    "\n",
    "assets = (item.assets[asset_id] for item in items)\n",
    "print([asset.get_absolute_href() for asset in assets])\n",
    "\n",
    "# features = {item.id: item.to_dict() for item in catalog.get_all_items()}\n",
    "# features\n",
    "# features.keys()\n",
    "\n",
    "\n",
    "item = list(catalog.get_all_items())[0]\n",
    "asset_id = list(item.assets.keys())[0]\n",
    "print(asset_id)\n",
    "assets = (item.assets[\"HH\"] for item in items)\n",
    "print([asset.get_absolute_href() for asset in assets])\n"
   ]
  },
  {
   "cell_type": "code",
   "execution_count": 62,
   "metadata": {},
   "outputs": [],
   "source": [
    "\n",
    "# save it on dCache\n",
    "# webdav_url=\"https://webdav.grid.surfsara.nl:2880\"\n",
    "# catalog.normalize_and_save(\n",
    "#     f\"{webdav_url}/pnfs/grid.sara.nl/data/iceshelf/disk/S1_mosaic_catalog\", \n",
    "#     catalog_type=\"SELF_CONTAINED\"\n",
    "# )"
   ]
  },
  {
   "cell_type": "markdown",
   "metadata": {},
   "source": [
    "# Step by Step"
   ]
  },
  {
   "cell_type": "code",
   "execution_count": null,
   "metadata": {},
   "outputs": [],
   "source": [
    "\n",
    "# use composite image as test tile\n",
    "asset_path = gcloud_dir # \"TestDataSet/S2_comp_first.tif\"\n",
    "asset_path = \"gs://ee-data_export/S1_mosaic_2020-01-01_2020-02-02/S1_EW_mosaic_2020-01-01_2020-02-01_tile_0.tif\"\n",
    "test_tif = 'S1_EW_mosaic_2020-01-01_2020-02-01_tile_0.tif'\n",
    "\n",
    "# define id's for the STAC objects\n",
    "catalog_id = \"ice-shelfs-antartica_retiled\"\n",
    "collection_id = \"sentinel-1-GRD_retiled\"\n",
    "item_id = \"PIG\"\n",
    "asset_id = \"HH\""
   ]
  },
  {
   "cell_type": "markdown",
   "metadata": {},
   "source": [
    "We use [rioxarray](https://corteva.github.io/rioxarray) to open the GeoTIFF:"
   ]
  },
  {
   "cell_type": "code",
   "execution_count": null,
   "metadata": {},
   "outputs": [],
   "source": [
    "\n",
    "source_uri = f\"{asset_path}\"\n",
    "with rasterio.Env(GOOGLE_APPLICATION_CREDENTIALS=gcs_token):\n",
    "    with rasterio.open('{}'.format(source_uri)) as src:\n",
    "        print(src.profile, src.crs, src.transform)\n"
   ]
  },
  {
   "cell_type": "markdown",
   "metadata": {},
   "source": [
    "We start by creating an `Asset` object (see [docs](https://pystac.readthedocs.io/en/latest/api.html#asset)) associated with the tile (TBD: one can also add information about the bands included in the asset through the [EO extension](https://pystac.readthedocs.io/en/latest/api.html#eo-extension)):"
   ]
  },
  {
   "cell_type": "code",
   "execution_count": null,
   "metadata": {},
   "outputs": [],
   "source": [
    "\n",
    "asset_uri = source_uri\n",
    "\n",
    "# images contain four bands: visible (B2, B3, B4) and NIR (B11)  \n",
    "asset_id = \"HH\"# \"B2-B3-B4-B11\"\n",
    "\n",
    "# create Asset object\n",
    "asset = Asset(\n",
    "    href=source_uri,  # link to asset\n",
    "    # title=\", \".join(bands.attrs['long_name']),\n",
    "    title=\", \".join(\"HH\"),\n",
    "    media_type=pystac.MediaType.GEOTIFF # or COG - verify e.g. with with https://github.com/rouault/cog_validator \n",
    ")\n",
    "\n",
    "asset"
   ]
  },
  {
   "cell_type": "markdown",
   "metadata": {},
   "source": [
    "### create item"
   ]
  },
  {
   "cell_type": "markdown",
   "metadata": {},
   "source": [
    "We move on to create an `Item` object (see [docs](https://pystac.readthedocs.io/en/latest/api.html#item)), which will entail the asset we have previously defined (and potentially other assets). A STAC Items requires a bounding box and/or a geometry object, which we extract from the GeoTIFF. For the latter, we use `rasterio`'s `shapes` method to convert raster to vector information:  "
   ]
  },
  {
   "cell_type": "code",
   "execution_count": null,
   "metadata": {},
   "outputs": [],
   "source": [
    "\n",
    "\n",
    "\n",
    "\n",
    "with rasterio.Env(GOOGLE_APPLICATION_CREDENTIALS=f\"/Users/tud500158/.config/gcloud/legacy_credentials/{google_account}@gmail.com/adc.json\"):\n",
    "    with rasterio.open('{}'.format(source_uri)) as src:\n",
    "        # print(src.profile, src.crs, src.transform)\n",
    "        \n",
    "        # Get tile bounds in WGS84, which is the standard in the GeoJSON format\n",
    "        left,bottom,right,top=src.bounds         # boundingbox\n",
    "        bbox = rasterio.warp.transform_bounds(src.crs, \"WGS84\", left, bottom, right, top )\n",
    "        print(bbox)\n",
    "        \n",
    "        # determine footprint geometry\n",
    "        poly_geom = Polygon.from_bounds(*src.bounds)\n",
    "        polygons = GeoSeries(poly_geom, crs=src.crs ).to_crs(\"WGS84\") \n",
    "        geometry = mapping(polygons) if len(polygons)>1 else mapping(polygons[0])\n",
    "        print(polygons)\n",
    "\n",
    "   "
   ]
  },
  {
   "cell_type": "markdown",
   "metadata": {},
   "source": [
    "A datetime object (or a start/end datetime pair) is also required:"
   ]
  },
  {
   "cell_type": "code",
   "execution_count": null,
   "metadata": {},
   "outputs": [],
   "source": [
    "# for a mosaic, use earliest/latest datetimes of original images\n",
    "start_datetime = datetime.datetime.fromisoformat(\"2019-11-01\")\n",
    "end_datetime = datetime.datetime.fromisoformat(\"2020-03-01\") "
   ]
  },
  {
   "cell_type": "code",
   "execution_count": null,
   "metadata": {},
   "outputs": [],
   "source": [
    "# create Item object\n",
    "item = Item(\n",
    "    id=item_id,\n",
    "    geometry=geometry,\n",
    "    bbox=bbox,\n",
    "    datetime=None,  \n",
    "    properties=dict(\n",
    "        start_datetime=start_datetime.isoformat(),\n",
    "        end_datetime=end_datetime.isoformat()   \n",
    "    )\n",
    ")\n",
    "\n",
    "item.add_asset(asset_id, asset)\n",
    "item"
   ]
  },
  {
   "cell_type": "markdown",
   "metadata": {},
   "source": [
    "We then create a `Collection` object (docs [here](https://pystac.readthedocs.io/en/latest/api.html#collection)), which entails items that might be sharing some properties. Spatial and temporal extent of the collection need to be provided:  "
   ]
  },
  {
   "cell_type": "code",
   "execution_count": null,
   "metadata": {},
   "outputs": [],
   "source": [
    "# for multiple items, determine overall extents\n",
    "items = (item, )\n",
    "\n",
    "# spatial extent\n",
    "footprints = (shape(i.geometry).envelope for i in items)\n",
    "collection_bbox = MultiPolygon(footprints).bounds\n",
    "spatial_extent = pystac.SpatialExtent(bboxes=[collection_bbox])\n",
    "\n",
    "# temporal extent\n",
    "start = (i.properties.get('start_datetime', i.datetime) for i in items)\n",
    "start = sorted(start)[0]\n",
    "end = (i.properties.get('end_datetime', i.datetime) for i in items)\n",
    "end = sorted(end)[-1]\n",
    "temporal_extent = pystac.TemporalExtent(\n",
    "    intervals=[[datetime.datetime.fromisoformat(start), \n",
    "                datetime.datetime.fromisoformat(end)]]\n",
    ")\n",
    "\n",
    "extent = pystac.Extent(spatial=spatial_extent, temporal=temporal_extent)\n",
    "extent"
   ]
  },
  {
   "cell_type": "code",
   "execution_count": null,
   "metadata": {},
   "outputs": [],
   "source": [
    "# create Collection object\n",
    "collection = Collection(\n",
    "    id=collection_id,\n",
    "    description=\"Retiled Sentinel-1-GRD Images\",\n",
    "    extent=extent,\n",
    "    license=\"CC-BY-SA-4.0\"\n",
    ")\n",
    "\n",
    "collection.add_items(items)\n",
    "collection"
   ]
  },
  {
   "cell_type": "markdown",
   "metadata": {},
   "source": [
    "Finally, we add the collection to a `Catalog` object ([here](https://pystac.readthedocs.io/en/latest/api.html#catalog) are the docs), which represents the \"root\" of the structure:"
   ]
  },
  {
   "cell_type": "code",
   "execution_count": null,
   "metadata": {},
   "outputs": [],
   "source": [
    "# create Catalog object\n",
    "catalog = Catalog(\n",
    "    id=catalog_id,\n",
    "    description=\"Retiled Satellite Images for Antartica Ice Shelfs\"\n",
    ")\n",
    "\n",
    "catalog.add_child(collection)\n",
    "catalog"
   ]
  },
  {
   "cell_type": "code",
   "execution_count": 21,
   "metadata": {},
   "outputs": [
    {
     "name": "stdout",
     "output_type": "stream",
     "text": [
      "* <Catalog id=S1_mosaic>\n",
      "    * <Collection id=sentinel-1-GRD_retiled>\n",
      "      * <Item id=S1_EW_mosaic_2020-01-01_2020-02-01_tile_0>\n",
      "      * <Item id=S1_EW_mosaic_2020-01-01_2020-02-01_tile_1>\n",
      "      * <Item id=S1_EW_mosaic_2020-01-01_2020-02-01_tile_10>\n"
     ]
    }
   ],
   "source": [
    "catalog.describe()"
   ]
  },
  {
   "cell_type": "markdown",
   "metadata": {},
   "source": [
    "We save the catalog as a self-contained object, i.e. using relative links within its elements. In this way, one can move the catalog's path or share it with other users, it will always possible to read it:  "
   ]
  },
  {
   "cell_type": "code",
   "execution_count": null,
   "metadata": {},
   "outputs": [],
   "source": [
    "catalog_id"
   ]
  },
  {
   "cell_type": "code",
   "execution_count": null,
   "metadata": {},
   "outputs": [],
   "source": [
    "catalog.normalize_and_save(f'./{catalog_id}', 'SELF_CONTAINED')"
   ]
  },
  {
   "cell_type": "code",
   "execution_count": null,
   "metadata": {},
   "outputs": [],
   "source": []
  }
 ],
 "metadata": {
  "kernelspec": {
   "display_name": "Python 3 (ipykernel)",
   "language": "python",
   "name": "python3"
  },
  "language_info": {
   "codemirror_mode": {
    "name": "ipython",
    "version": 3
   },
   "file_extension": ".py",
   "mimetype": "text/x-python",
   "name": "python",
   "nbconvert_exporter": "python",
   "pygments_lexer": "ipython3",
   "version": "3.10.4"
  }
 },
 "nbformat": 4,
 "nbformat_minor": 4
}
