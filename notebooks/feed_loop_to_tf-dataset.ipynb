{
 "cells": [
  {
   "cell_type": "markdown",
   "id": "uniform-cartoon",
   "metadata": {},
   "source": [
    "# Datasets using `tf.data.Dataset`"
   ]
  },
  {
   "cell_type": "markdown",
   "id": "right-capital",
   "metadata": {},
   "source": [
    "## Test example"
   ]
  },
  {
   "cell_type": "markdown",
   "id": "assigned-netscape",
   "metadata": {},
   "source": [
    "Once the feedloop is setup as a python generator, it can be converted in to a tensorflow `Dataset` object for optimal ingestion into Keras. We exemplify this here, using a generator that reads tiles in TIFF format from disk:"
   ]
  },
  {
   "cell_type": "code",
   "execution_count": 1,
   "id": "surrounded-badge",
   "metadata": {},
   "outputs": [],
   "source": [
    "import pathlib\n",
    "import tensorflow as tf\n",
    "import xarray as xr"
   ]
  },
  {
   "cell_type": "code",
   "execution_count": 2,
   "id": "common-traffic",
   "metadata": {},
   "outputs": [],
   "source": [
    "# path with TIFF files\n",
    "tile_path = \"./retiled_test\""
   ]
  },
  {
   "cell_type": "code",
   "execution_count": 3,
   "id": "posted-treatment",
   "metadata": {},
   "outputs": [],
   "source": [
    "# generator - much simplified version of the feed loop, reading cutouts from disk\n",
    "def get_tile(tile_path):\n",
    "    # string input is passed by tf as byte object, need to decode\n",
    "    tile_path = tile_path.decode() if isinstance(tile_path, bytes) else tile_path\n",
    "    tile_path = pathlib.Path(tile_path)\n",
    "    for file in tile_path.glob(\"*.tif\"):\n",
    "        yield xr.open_rasterio(file).data"
   ]
  },
  {
   "cell_type": "code",
   "execution_count": 4,
   "id": "practical-valve",
   "metadata": {},
   "outputs": [
    {
     "name": "stdout",
     "output_type": "stream",
     "text": [
      "\n"
     ]
    },
    {
     "data": {
      "text/plain": [
       "(dtype('uint16'), (3, 20, 20))"
      ]
     },
     "execution_count": 4,
     "metadata": {},
     "output_type": "execute_result"
    }
   ],
   "source": [
    "# testing the iterator\n",
    "iterator = get_tile(tile_path)\n",
    "element = next(iterator)\n",
    "element.dtype, element.shape"
   ]
  },
  {
   "cell_type": "code",
   "execution_count": 5,
   "id": "funny-transcription",
   "metadata": {},
   "outputs": [
    {
     "data": {
      "text/plain": [
       "<FlatMapDataset shapes: (3, 20, 20), types: tf.int16>"
      ]
     },
     "execution_count": 5,
     "metadata": {},
     "output_type": "execute_result"
    }
   ],
   "source": [
    "# set up Dataset object\n",
    "ds = tf.data.Dataset.from_generator(\n",
    "    get_tile, \n",
    "    args=[tile_path], \n",
    "    output_types=tf.int16, \n",
    "    output_shapes=(3, 20, 20)\n",
    ")\n",
    "ds"
   ]
  },
  {
   "cell_type": "code",
   "execution_count": 6,
   "id": "multiple-christmas",
   "metadata": {},
   "outputs": [
    {
     "data": {
      "text/plain": [
       "<BatchDataset shapes: (20, 3, 20, 20), types: tf.int16>"
      ]
     },
     "execution_count": 6,
     "metadata": {},
     "output_type": "execute_result"
    }
   ],
   "source": [
    "# shuffle elements with a buffer of 100, making batches with 20 cutouts each\n",
    "# (in first batch we can have elements from the first 120 files)\n",
    "batches = ds.shuffle(buffer_size=100).batch(20, drop_remainder=True)\n",
    "batches"
   ]
  },
  {
   "cell_type": "markdown",
   "id": "organized-problem",
   "metadata": {},
   "source": [
    "## Feed loop for VAE network"
   ]
  },
  {
   "cell_type": "markdown",
   "id": "healthy-classics",
   "metadata": {},
   "source": [
    "We implement the real feedloop using `xarray`:"
   ]
  },
  {
   "cell_type": "code",
   "execution_count": 1,
   "id": "appreciated-inquiry",
   "metadata": {},
   "outputs": [],
   "source": [
    "import random\n",
    "import pathlib\n",
    "import tensorflow as tf\n",
    "import xarray as xr"
   ]
  },
  {
   "cell_type": "code",
   "execution_count": 2,
   "id": "nutritional-fantasy",
   "metadata": {},
   "outputs": [],
   "source": [
    "class Dataset:\n",
    "    \n",
    "    def __init__(self, tile_list, cutout_size, offset=0, stride=None, num_tiles=None, shuffle_tiles=False):\n",
    "        self.cutout_size = cutout_size\n",
    "        self.stride = stride if stride is not None else self.cutout_size\n",
    "        _num_tiles = num_tiles if num_tiles is not None else len(tile_list)\n",
    "        self.tiles = random.sample(tile_list, _num_tiles) if shuffle_tiles else tile_list[:_num_tiles]\n",
    "        if offset >= cutout_size:\n",
    "            raise ValueError(\n",
    "                \"offset larger than window size - set \"\n",
    "                \"offset to {}\".format(sizeCutOut%offset)\n",
    "            )\n",
    "        self.offset = offset\n",
    "    \n",
    "    def set_mask(self, shapefile, invert=False):\n",
    "        \"\"\" Mask a selection of the pixels using a shapefile. \"\"\"\n",
    "        raise NotImplementedError()\n",
    "    \n",
    "    def to_tf(self):\n",
    "        \"\"\" Obtain dataset as a tensorflow `Dataset` object. \"\"\"\n",
    "        ds = tf.data.Dataset.from_generator(\n",
    "            self._generate_cutouts,  \n",
    "            output_types=(tf.float64, tf.float64, tf.float32), \n",
    "            output_shapes=(\n",
    "                None,  # x\n",
    "                None,  # y\n",
    "                (None, None, self.cutout_size, self.cutout_size)  # samples, bands, x_win, y_win\n",
    "            )\n",
    "        )\n",
    "        return ds.flat_map(lambda x,y,z: tf.data.Dataset.from_tensor_slices((x,y,z)))\n",
    "\n",
    "    def _generate_cutouts(self):\n",
    "        \"\"\" \n",
    "        Iterate over (a selection of) the tiles yielding all \n",
    "        cutouts for each of them.\n",
    "        \"\"\"\n",
    "        for tile in self.tiles:\n",
    "            \n",
    "            print(f\"Reading tile {tile}!\")\n",
    "            \n",
    "            # read tile\n",
    "            da = xr.open_rasterio(tile)\n",
    "            \n",
    "            # TODO: apply mask here?\n",
    "            \n",
    "            # apply offset\n",
    "            da = da.shift(x=self.offset, y=self.offset)  # only shift data, not coords\n",
    "            da['x'] = da.x.shift(x=self.offset)\n",
    "            da['y'] = da.y.shift(y=self.offset)\n",
    "\n",
    "            # generate windows\n",
    "            da = da.rolling(x=self.cutout_size, y=self.cutout_size)\n",
    "            da = da.construct({'x': 'x_win', 'y': 'y_min'}, stride=self.stride)\n",
    "\n",
    "            # drop NaN-containing windows\n",
    "            da = da.stack(sample=('x', 'y'))\n",
    "            da = da.dropna(dim='sample', how='any')\n",
    "            yield (da.sample.coords['x'], \n",
    "                   da.sample.coords['y'], \n",
    "                   da.data.transpose(3, 0, 1, 2))  # samples, bands, x_win, y_win"
   ]
  },
  {
   "cell_type": "code",
   "execution_count": 3,
   "id": "hidden-printer",
   "metadata": {},
   "outputs": [
    {
     "data": {
      "text/plain": [
       "20"
      ]
     },
     "execution_count": 3,
     "metadata": {},
     "output_type": "execute_result"
    }
   ],
   "source": [
    "# list of all tiles available\n",
    "tile_list = [t for t in pathlib.Path('./test').glob('tile_*.tif')]\n",
    "len(tile_list)"
   ]
  },
  {
   "cell_type": "code",
   "execution_count": 4,
   "id": "quiet-finland",
   "metadata": {},
   "outputs": [
    {
     "data": {
      "text/plain": [
       "<FlatMapDataset shapes: (<unknown>, <unknown>, (None, 20, 20)), types: (tf.float64, tf.float64, tf.float32)>"
      ]
     },
     "execution_count": 4,
     "metadata": {},
     "output_type": "execute_result"
    }
   ],
   "source": [
    "ds = Dataset(\n",
    "    tile_list=tile_list,\n",
    "    cutout_size=20,\n",
    "    num_tiles=3  # number of tiles for first epoch\n",
    ")\n",
    "dataset = ds.to_tf()\n",
    "dataset"
   ]
  },
  {
   "cell_type": "code",
   "execution_count": 5,
   "id": "hairy-feeling",
   "metadata": {},
   "outputs": [
    {
     "data": {
      "text/plain": [
       "<BatchDataset shapes: (<unknown>, <unknown>, (250000, None, 20, 20)), types: (tf.float64, tf.float64, tf.float32)>"
      ]
     },
     "execution_count": 5,
     "metadata": {},
     "output_type": "execute_result"
    }
   ],
   "source": [
    "batch = dataset.shuffle(buffer_size=500000).batch(250000, drop_remainder=True)\n",
    "batch"
   ]
  },
  {
   "cell_type": "code",
   "execution_count": 6,
   "id": "peripheral-league",
   "metadata": {},
   "outputs": [
    {
     "data": {
      "text/plain": [
       "<tensorflow.python.data.ops.dataset_ops._NumpyIterator at 0x7ffce5fd60a0>"
      ]
     },
     "execution_count": 6,
     "metadata": {},
     "output_type": "execute_result"
    }
   ],
   "source": [
    "iterator = batch.as_numpy_iterator()\n",
    "iterator"
   ]
  },
  {
   "cell_type": "code",
   "execution_count": 10,
   "id": "detailed-helping",
   "metadata": {},
   "outputs": [
    {
     "name": "stdout",
     "output_type": "stream",
     "text": [
      "Reading tile test/tile_1.tif!\n",
      "Reading tile test/tile_3.tif!\n",
      "Reading tile test/tile_18.tif!\n",
      "(250000,) (250000,) (250000, 3, 20, 20)\n",
      "(250000,) (250000,) (250000, 3, 20, 20)\n",
      "(250000,) (250000,) (250000, 3, 20, 20)\n",
      "peak memory: 7233.22 MiB, increment: 6956.54 MiB\n"
     ]
    }
   ],
   "source": [
    "# each batch contains cutouts from the three tiles\n",
    "for x, y, data in iterator:\n",
    "    print(x.shape, y.shape, data.shape)"
   ]
  }
 ],
 "metadata": {
  "kernelspec": {
   "display_name": "Python 3",
   "language": "python",
   "name": "python3"
  },
  "language_info": {
   "codemirror_mode": {
    "name": "ipython",
    "version": 3
   },
   "file_extension": ".py",
   "mimetype": "text/x-python",
   "name": "python",
   "nbconvert_exporter": "python",
   "pygments_lexer": "ipython3",
   "version": "3.8.5"
  }
 },
 "nbformat": 4,
 "nbformat_minor": 5
}
