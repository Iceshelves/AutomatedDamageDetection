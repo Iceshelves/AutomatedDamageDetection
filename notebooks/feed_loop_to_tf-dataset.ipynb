{
 "cells": [
  {
   "cell_type": "code",
   "execution_count": 1,
   "id": "primary-neutral",
   "metadata": {},
   "outputs": [],
   "source": [
    "import pathlib\n",
    "import tensorflow as tf\n",
    "import xarray as xr"
   ]
  },
  {
   "cell_type": "markdown",
   "id": "significant-canada",
   "metadata": {},
   "source": [
    "# Python generator to `tf.data.Dataset`"
   ]
  },
  {
   "cell_type": "markdown",
   "id": "minor-george",
   "metadata": {},
   "source": [
    "Once the feedloop is setup as a python generator, it can be converted in to a tensorflow `Dataset` object for optimal ingestion into Keras. We exemplify this here, using a generator that reads tiles in TIFF format from disk:"
   ]
  },
  {
   "cell_type": "code",
   "execution_count": 2,
   "id": "reported-allen",
   "metadata": {},
   "outputs": [],
   "source": [
    "# path with TIFF files\n",
    "tile_path = \"./retiled_test\""
   ]
  },
  {
   "cell_type": "code",
   "execution_count": 3,
   "id": "dress-robinson",
   "metadata": {},
   "outputs": [],
   "source": [
    "# generator - much simplified version of the feed loop, reading cutouts from disk\n",
    "def get_tile(tile_path):\n",
    "    # string input is passed by tf as byte object, need to decode\n",
    "    tile_path = tile_path.decode() if isinstance(tile_path, bytes) else tile_path\n",
    "    tile_path = pathlib.Path(tile_path)\n",
    "    for file in tile_path.glob(\"*.tif\"):\n",
    "        yield xr.open_rasterio(file).data"
   ]
  },
  {
   "cell_type": "code",
   "execution_count": 4,
   "id": "trying-spencer",
   "metadata": {},
   "outputs": [
    {
     "name": "stdout",
     "output_type": "stream",
     "text": [
      "\n"
     ]
    },
    {
     "data": {
      "text/plain": [
       "(dtype('uint16'), (3, 20, 20))"
      ]
     },
     "execution_count": 4,
     "metadata": {},
     "output_type": "execute_result"
    }
   ],
   "source": [
    "# testing the iterator\n",
    "iterator = get_tile(tile_path)\n",
    "element = next(iterator)\n",
    "element.dtype, element.shape"
   ]
  },
  {
   "cell_type": "code",
   "execution_count": 5,
   "id": "innocent-friday",
   "metadata": {},
   "outputs": [
    {
     "data": {
      "text/plain": [
       "<FlatMapDataset shapes: (3, 20, 20), types: tf.int16>"
      ]
     },
     "execution_count": 5,
     "metadata": {},
     "output_type": "execute_result"
    }
   ],
   "source": [
    "# set up Dataset object\n",
    "ds = tf.data.Dataset.from_generator(\n",
    "    get_tile, \n",
    "    args=[tile_path], \n",
    "    output_types=tf.int16, \n",
    "    output_shapes=(3, 20, 20)\n",
    ")\n",
    "ds"
   ]
  },
  {
   "cell_type": "code",
   "execution_count": 6,
   "id": "funky-creek",
   "metadata": {},
   "outputs": [
    {
     "data": {
      "text/plain": [
       "<BatchDataset shapes: (20, 3, 20, 20), types: tf.int16>"
      ]
     },
     "execution_count": 6,
     "metadata": {},
     "output_type": "execute_result"
    }
   ],
   "source": [
    "# shuffle elements with a buffer of 100, making batches with 20 cutouts each\n",
    "# (in first batch we can have elements from the first 120 files)\n",
    "batches = ds.shuffle(buffer_size=100).batch(20, drop_remainder=True)\n",
    "batches"
   ]
  }
 ],
 "metadata": {
  "kernelspec": {
   "display_name": "Python 3",
   "language": "python",
   "name": "python3"
  },
  "language_info": {
   "codemirror_mode": {
    "name": "ipython",
    "version": 3
   },
   "file_extension": ".py",
   "mimetype": "text/x-python",
   "name": "python",
   "nbconvert_exporter": "python",
   "pygments_lexer": "ipython3",
   "version": "3.8.5"
  }
 },
 "nbformat": 4,
 "nbformat_minor": 5
}
