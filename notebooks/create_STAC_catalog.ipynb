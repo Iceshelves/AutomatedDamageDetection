{
 "cells": [
  {
   "cell_type": "code",
   "execution_count": 2,
   "id": "dried-chess",
   "metadata": {},
   "outputs": [
    {
     "ename": "ModuleNotFoundError",
     "evalue": "No module named 'stac2webdav'",
     "output_type": "error",
     "traceback": [
      "\u001b[0;31m---------------------------------------------------------------------------\u001b[0m",
      "\u001b[0;31mModuleNotFoundError\u001b[0m                       Traceback (most recent call last)",
      "Input \u001b[0;32mIn [2]\u001b[0m, in \u001b[0;36m<cell line: 13>\u001b[0;34m()\u001b[0m\n\u001b[1;32m     11\u001b[0m \u001b[38;5;28;01mfrom\u001b[39;00m \u001b[38;5;21;01mshapely\u001b[39;00m\u001b[38;5;21;01m.\u001b[39;00m\u001b[38;5;21;01mgeometry\u001b[39;00m \u001b[38;5;28;01mimport\u001b[39;00m Polygon, MultiPolygon, mapping, shape\n\u001b[1;32m     12\u001b[0m \u001b[38;5;28;01mfrom\u001b[39;00m \u001b[38;5;21;01mshapely\u001b[39;00m\u001b[38;5;21;01m.\u001b[39;00m\u001b[38;5;21;01mops\u001b[39;00m \u001b[38;5;28;01mimport\u001b[39;00m transform\n\u001b[0;32m---> 13\u001b[0m \u001b[38;5;28;01mfrom\u001b[39;00m \u001b[38;5;21;01mstac2webdav\u001b[39;00m\u001b[38;5;21;01m.\u001b[39;00m\u001b[38;5;21;01mdrivers\u001b[39;00m \u001b[38;5;28;01mimport\u001b[39;00m RasterioDriver\n\u001b[1;32m     14\u001b[0m \u001b[38;5;28;01mfrom\u001b[39;00m \u001b[38;5;21;01mstac2webdav\u001b[39;00m\u001b[38;5;21;01m.\u001b[39;00m\u001b[38;5;21;01mutils\u001b[39;00m \u001b[38;5;28;01mimport\u001b[39;00m catalog2geopandas\n",
      "\u001b[0;31mModuleNotFoundError\u001b[0m: No module named 'stac2webdav'"
     ]
    }
   ],
   "source": [
    "import datetime\n",
    "import dcachefs\n",
    "import getpass\n",
    "import os\n",
    "import pyproj\n",
    "import pystac\n",
    "import stac2webdav\n",
    "import tqdm\n",
    "\n",
    "from pystac import Catalog, Collection, Item, Asset\n",
    "from shapely.geometry import Polygon, MultiPolygon, mapping, shape\n",
    "from shapely.ops import transform\n",
    "from stac2webdav.drivers import RasterioDriver\n",
    "from stac2webdav.utils import catalog2geopandas"
   ]
  },
  {
   "cell_type": "code",
   "execution_count": 2,
   "id": "systematic-combination",
   "metadata": {},
   "outputs": [],
   "source": [
    "# configure pystac to write to dCache\n",
    "dcache_fs = stac2webdav.configure(\n",
    "    filesystem=\"dcache\",\n",
    "    token_filename=\"./iceshelf_2021-01-27_365D_francesco.conf\",\n",
    ")"
   ]
  },
  {
   "cell_type": "code",
   "execution_count": 3,
   "id": "cognitive-fossil",
   "metadata": {},
   "outputs": [
    {
     "ename": "NameError",
     "evalue": "name 'dcache_fs' is not defined",
     "output_type": "error",
     "traceback": [
      "\u001b[0;31m---------------------------------------------------------------------------\u001b[0m",
      "\u001b[0;31mNameError\u001b[0m                                 Traceback (most recent call last)",
      "Input \u001b[0;32mIn [3]\u001b[0m, in \u001b[0;36m<cell line: 6>\u001b[0;34m()\u001b[0m\n\u001b[1;32m      3\u001b[0m tiles_path \u001b[38;5;241m=\u001b[39m \u001b[38;5;124mf\u001b[39m\u001b[38;5;124m\"\u001b[39m\u001b[38;5;124m/pnfs/grid.sara.nl/data/iceshelf/disk/S1_mosaic_2020-01-01_2020-02-01/*.tif\u001b[39m\u001b[38;5;124m\"\u001b[39m\n\u001b[1;32m      5\u001b[0m \u001b[38;5;66;03m# set URL to be able to list via API\u001b[39;00m\n\u001b[0;32m----> 6\u001b[0m \u001b[43mdcache_fs\u001b[49m\u001b[38;5;241m.\u001b[39mapi_url \u001b[38;5;241m=\u001b[39m \u001b[38;5;124m\"\u001b[39m\u001b[38;5;124mhttps://dcacheview.grid.surfsara.nl:22880/api/v1/\u001b[39m\u001b[38;5;124m\"\u001b[39m\n\u001b[1;32m      7\u001b[0m tiles \u001b[38;5;241m=\u001b[39m dcache_fs\u001b[38;5;241m.\u001b[39mglob(tiles_path, detail\u001b[38;5;241m=\u001b[39m\u001b[38;5;28;01mFalse\u001b[39;00m)\n\u001b[1;32m      8\u001b[0m \u001b[38;5;28mlen\u001b[39m(tiles)\n",
      "\u001b[0;31mNameError\u001b[0m: name 'dcache_fs' is not defined"
     ]
    }
   ],
   "source": [
    "# path to the tiles\n",
    "tiles_path = f\"/pnfs/grid.sara.nl/data/iceshelf/disk/S2_composite_2019-11-1_2020-3-1/*.tif\"\n",
    "tiles_path = f\"/pnfs/grid.sara.nl/data/iceshelf/disk/S1_mosaic_2020-01-01_2020-02-01/*.tif\"\n",
    "\n",
    "# set URL to be able to list via API\n",
    "dcache_fs.api_url = \"https://dcacheview.grid.surfsara.nl:22880/api/v1/\"\n",
    "tiles = dcache_fs.glob(tiles_path, detail=False)\n",
    "len(tiles)\n",
    "tiles[0:10]"
   ]
  },
  {
   "cell_type": "code",
   "execution_count": 5,
   "id": "sustained-fancy",
   "metadata": {},
   "outputs": [],
   "source": [
    "# for mosaics, define earliest/latest datetimes of original images\n",
    "start_datetime = datetime.datetime.fromisoformat(\"2019-11-01\")\n",
    "end_datetime = datetime.datetime.fromisoformat(\"2020-03-01\") \n",
    "\n",
    "# need WebDAV door to set asset paths \n",
    "webdav_url=\"https://webdav.grid.surfsara.nl:2880\"\n",
    "\n",
    "# images contain four bands: visible (B2, B3, B4) and NIR (B11)  \n",
    "asset_id = \"B2-B3-B4-B11\"\n",
    "\n",
    "# we use WGS84 in the catalog, which is the standard for GeoJSON \n",
    "transformer = pyproj.Transformer.from_crs(\n",
    "    \"EPSG:3031\",\n",
    "    \"WGS84\",\n",
    "    always_xy=True\n",
    ")"
   ]
  },
  {
   "cell_type": "code",
   "execution_count": 6,
   "id": "advance-recall",
   "metadata": {},
   "outputs": [
    {
     "name": "stderr",
     "output_type": "stream",
     "text": [
      "100%|██████████| 312/312 [04:13<00:00,  1.23it/s]\n"
     ]
    }
   ],
   "source": [
    "items = {}\n",
    "\n",
    "for tile in tqdm.tqdm(tiles):\n",
    "    \n",
    "    _, filename = os.path.split(tile)\n",
    "    item_id, _ = os.path.splitext(filename)\n",
    "    \n",
    "    asset_uri = f\"{webdav_url}{tile}\"\n",
    "\n",
    "    # read raster data to extract geo-info\n",
    "    driver = RasterioDriver(uri=asset_uri)\n",
    "    driver.set_filesystem(dcache_fs)\n",
    "    bands = driver.get()\n",
    "\n",
    "    # create Asset object\n",
    "    asset = Asset(\n",
    "        href=asset_uri,  # link to asset\n",
    "        title=\", \".join(bands.attrs['long_name']),\n",
    "        media_type=pystac.MediaType.GEOTIFF # or COG - verify e.g. with with https://github.com/rouault/cog_validator \n",
    "    )\n",
    "\n",
    "    # use bbox as footprint geometry (composites should fill the tiles)\n",
    "    polygon = Polygon.from_bounds(*bands.rio.bounds())\n",
    "    polygon = transform(transformer.transform, polygon)\n",
    "    bbox = polygon.bounds\n",
    "    geometry = mapping(polygon)\n",
    "    \n",
    "    # create Item object\n",
    "    item = Item(\n",
    "        id=item_id,\n",
    "        geometry=geometry,\n",
    "        bbox=bbox,\n",
    "        datetime=None,  \n",
    "        properties=dict(\n",
    "            start_datetime=start_datetime.isoformat(),\n",
    "            end_datetime=end_datetime.isoformat()   \n",
    "        )\n",
    "    )\n",
    "    item.add_asset(asset_id, asset)\n",
    "\n",
    "    items[item_id] = item"
   ]
  },
  {
   "cell_type": "code",
   "execution_count": 7,
   "id": "early-password",
   "metadata": {},
   "outputs": [],
   "source": [
    "# spatial extent\n",
    "footprints = (shape(i.geometry).envelope for i in items.values())\n",
    "collection_bbox = MultiPolygon(footprints).bounds\n",
    "spatial_extent = pystac.SpatialExtent(bboxes=[collection_bbox])\n",
    "\n",
    "# temporal extent\n",
    "start = (i.properties.get('start_datetime', item.datetime) for i in items.values())\n",
    "start = sorted(start)[0]\n",
    "end = (i.properties.get('end_datetime', item.datetime) for i in items.values())\n",
    "end = sorted(end)[-1]\n",
    "temporal_extent = pystac.TemporalExtent(\n",
    "    intervals=[[datetime.datetime.fromisoformat(start), \n",
    "                datetime.datetime.fromisoformat(end)]]\n",
    ")\n",
    "\n",
    "extent = pystac.Extent(spatial=spatial_extent, temporal=temporal_extent)"
   ]
  },
  {
   "cell_type": "code",
   "execution_count": 8,
   "id": "technical-incidence",
   "metadata": {},
   "outputs": [
    {
     "data": {
      "text/plain": [
       "<Collection id=2019-11-1_2020-3-1>"
      ]
     },
     "execution_count": 8,
     "metadata": {},
     "output_type": "execute_result"
    }
   ],
   "source": [
    "# create Collection object\n",
    "collection_id=\"2019-11-1_2020-3-1\"\n",
    "\n",
    "collection = Collection(\n",
    "    id=collection_id,\n",
    "    description=\"Composite Sentinel-2 images for time span 2019-11-01/2020-03-01\",\n",
    "    extent=extent,\n",
    ")\n",
    "\n",
    "collection.add_items(items.values())\n",
    "collection"
   ]
  },
  {
   "cell_type": "code",
   "execution_count": 9,
   "id": "modern-wages",
   "metadata": {},
   "outputs": [],
   "source": [
    "# create STAC catalog\n",
    "catalog_id = \"S2_composite\"\n",
    "\n",
    "catalog = Catalog(\n",
    "    id=catalog_id,\n",
    "    description=\"Composite Sentinel-2 images generated using GEE\"\n",
    ")\n",
    "\n",
    "catalog.add_child(collection)"
   ]
  },
  {
   "cell_type": "code",
   "execution_count": 10,
   "id": "martial-kuwait",
   "metadata": {},
   "outputs": [],
   "source": [
    "# save it on dCache\n",
    "catalog.normalize_and_save(\n",
    "    f\"{webdav_url}/pnfs/grid.sara.nl/data/iceshelf/disk/S2_composite_catalog\", \n",
    "    catalog_type=\"SELF_CONTAINED\"\n",
    ")"
   ]
  },
  {
   "cell_type": "code",
   "execution_count": 11,
   "id": "norwegian-hospital",
   "metadata": {},
   "outputs": [
    {
     "data": {
      "text/html": [
       "<div>\n",
       "<style scoped>\n",
       "    .dataframe tbody tr th:only-of-type {\n",
       "        vertical-align: middle;\n",
       "    }\n",
       "\n",
       "    .dataframe tbody tr th {\n",
       "        vertical-align: top;\n",
       "    }\n",
       "\n",
       "    .dataframe thead th {\n",
       "        text-align: right;\n",
       "    }\n",
       "</style>\n",
       "<table border=\"1\" class=\"dataframe\">\n",
       "  <thead>\n",
       "    <tr style=\"text-align: right;\">\n",
       "      <th></th>\n",
       "      <th>geometry</th>\n",
       "      <th>start_datetime</th>\n",
       "      <th>end_datetime</th>\n",
       "      <th>datetime</th>\n",
       "    </tr>\n",
       "  </thead>\n",
       "  <tbody>\n",
       "    <tr>\n",
       "      <th>0</th>\n",
       "      <td>POLYGON ((-63.43559 -64.67813, -61.18918 -64.1...</td>\n",
       "      <td>2019-11-01T00:00:00</td>\n",
       "      <td>2020-03-01T00:00:00</td>\n",
       "      <td>None</td>\n",
       "    </tr>\n",
       "    <tr>\n",
       "      <th>1</th>\n",
       "      <td>POLYGON ((-61.18988 -64.16869, -59.03628 -63.6...</td>\n",
       "      <td>2019-11-01T00:00:00</td>\n",
       "      <td>2020-03-01T00:00:00</td>\n",
       "      <td>None</td>\n",
       "    </tr>\n",
       "    <tr>\n",
       "      <th>2</th>\n",
       "      <td>POLYGON ((-60.94604 -66.62668, -58.57037 -66.0...</td>\n",
       "      <td>2019-11-01T00:00:00</td>\n",
       "      <td>2020-03-01T00:00:00</td>\n",
       "      <td>None</td>\n",
       "    </tr>\n",
       "    <tr>\n",
       "      <th>3</th>\n",
       "      <td>POLYGON ((-53.13093 -78.53210, -48.81395 -77.8...</td>\n",
       "      <td>2019-11-01T00:00:00</td>\n",
       "      <td>2020-03-01T00:00:00</td>\n",
       "      <td>None</td>\n",
       "    </tr>\n",
       "    <tr>\n",
       "      <th>4</th>\n",
       "      <td>POLYGON ((-48.81493 -77.81454, -45.00000 -77.0...</td>\n",
       "      <td>2019-11-01T00:00:00</td>\n",
       "      <td>2020-03-01T00:00:00</td>\n",
       "      <td>None</td>\n",
       "    </tr>\n",
       "    <tr>\n",
       "      <th>...</th>\n",
       "      <td>...</td>\n",
       "      <td>...</td>\n",
       "      <td>...</td>\n",
       "      <td>...</td>\n",
       "    </tr>\n",
       "    <tr>\n",
       "      <th>307</th>\n",
       "      <td>POLYGON ((-82.87520 -80.74381, -75.96362 -80.5...</td>\n",
       "      <td>2019-11-01T00:00:00</td>\n",
       "      <td>2020-03-01T00:00:00</td>\n",
       "      <td>None</td>\n",
       "    </tr>\n",
       "    <tr>\n",
       "      <th>308</th>\n",
       "      <td>POLYGON ((-75.96416 -80.53354, -69.44402 -80.1...</td>\n",
       "      <td>2019-11-01T00:00:00</td>\n",
       "      <td>2020-03-01T00:00:00</td>\n",
       "      <td>None</td>\n",
       "    </tr>\n",
       "    <tr>\n",
       "      <th>309</th>\n",
       "      <td>POLYGON ((-69.44452 -80.19327, -63.43472 -79.7...</td>\n",
       "      <td>2019-11-01T00:00:00</td>\n",
       "      <td>2020-03-01T00:00:00</td>\n",
       "      <td>None</td>\n",
       "    </tr>\n",
       "    <tr>\n",
       "      <th>310</th>\n",
       "      <td>POLYGON ((-63.43564 -79.73618, -57.99457 -79.1...</td>\n",
       "      <td>2019-11-01T00:00:00</td>\n",
       "      <td>2020-03-01T00:00:00</td>\n",
       "      <td>None</td>\n",
       "    </tr>\n",
       "    <tr>\n",
       "      <th>311</th>\n",
       "      <td>POLYGON ((-57.99539 -79.17737, -53.13019 -78.5...</td>\n",
       "      <td>2019-11-01T00:00:00</td>\n",
       "      <td>2020-03-01T00:00:00</td>\n",
       "      <td>None</td>\n",
       "    </tr>\n",
       "  </tbody>\n",
       "</table>\n",
       "<p>312 rows × 4 columns</p>\n",
       "</div>"
      ],
      "text/plain": [
       "                                              geometry       start_datetime  \\\n",
       "0    POLYGON ((-63.43559 -64.67813, -61.18918 -64.1...  2019-11-01T00:00:00   \n",
       "1    POLYGON ((-61.18988 -64.16869, -59.03628 -63.6...  2019-11-01T00:00:00   \n",
       "2    POLYGON ((-60.94604 -66.62668, -58.57037 -66.0...  2019-11-01T00:00:00   \n",
       "3    POLYGON ((-53.13093 -78.53210, -48.81395 -77.8...  2019-11-01T00:00:00   \n",
       "4    POLYGON ((-48.81493 -77.81454, -45.00000 -77.0...  2019-11-01T00:00:00   \n",
       "..                                                 ...                  ...   \n",
       "307  POLYGON ((-82.87520 -80.74381, -75.96362 -80.5...  2019-11-01T00:00:00   \n",
       "308  POLYGON ((-75.96416 -80.53354, -69.44402 -80.1...  2019-11-01T00:00:00   \n",
       "309  POLYGON ((-69.44452 -80.19327, -63.43472 -79.7...  2019-11-01T00:00:00   \n",
       "310  POLYGON ((-63.43564 -79.73618, -57.99457 -79.1...  2019-11-01T00:00:00   \n",
       "311  POLYGON ((-57.99539 -79.17737, -53.13019 -78.5...  2019-11-01T00:00:00   \n",
       "\n",
       "            end_datetime datetime  \n",
       "0    2020-03-01T00:00:00     None  \n",
       "1    2020-03-01T00:00:00     None  \n",
       "2    2020-03-01T00:00:00     None  \n",
       "3    2020-03-01T00:00:00     None  \n",
       "4    2020-03-01T00:00:00     None  \n",
       "..                   ...      ...  \n",
       "307  2020-03-01T00:00:00     None  \n",
       "308  2020-03-01T00:00:00     None  \n",
       "309  2020-03-01T00:00:00     None  \n",
       "310  2020-03-01T00:00:00     None  \n",
       "311  2020-03-01T00:00:00     None  \n",
       "\n",
       "[312 rows x 4 columns]"
      ]
     },
     "execution_count": 11,
     "metadata": {},
     "output_type": "execute_result"
    }
   ],
   "source": [
    "# convert it to GeoDataFrame for inspection\n",
    "gdf = catalog2geopandas(catalog)\n",
    "gdf"
   ]
  },
  {
   "cell_type": "code",
   "execution_count": 12,
   "id": "expanded-seventh",
   "metadata": {},
   "outputs": [],
   "source": [
    "# save a local copy of the catalog as well\n",
    "catalog.normalize_and_save(\n",
    "    \"./S2_composite_catalog\",\n",
    "    catalog_type=\"SELF_CONTAINED\"\n",
    ")"
   ]
  }
 ],
 "metadata": {
  "kernelspec": {
   "display_name": "Python 3 (ipykernel)",
   "language": "python",
   "name": "python3"
  },
  "language_info": {
   "codemirror_mode": {
    "name": "ipython",
    "version": 3
   },
   "file_extension": ".py",
   "mimetype": "text/x-python",
   "name": "python",
   "nbconvert_exporter": "python",
   "pygments_lexer": "ipython3",
   "version": "3.10.4"
  }
 },
 "nbformat": 4,
 "nbformat_minor": 5
}
