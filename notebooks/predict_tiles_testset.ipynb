{
 "cells": [
  {
   "cell_type": "code",
   "execution_count": 1,
   "id": "de23e7aa-1ef9-4fc2-aa02-89813f7cc031",
   "metadata": {},
   "outputs": [],
   "source": [
    "# %pip install -U rioxarray"
   ]
  },
  {
   "cell_type": "code",
   "execution_count": 2,
   "id": "23b11881-cb28-41e3-92f0-9ba0d260cd5e",
   "metadata": {},
   "outputs": [
    {
     "name": "stdout",
     "output_type": "stream",
     "text": [
      "/gpfs/home3/mizeboud/notebooks\n"
     ]
    },
    {
     "name": "stderr",
     "output_type": "stream",
     "text": [
      "2022-12-01 14:17:45.732195: I tensorflow/core/platform/cpu_feature_guard.cc:193] This TensorFlow binary is optimized with oneAPI Deep Neural Network Library (oneDNN) to use the following CPU instructions in performance-critical operations:  AVX2 FMA\n",
      "To enable them in other operations, rebuild TensorFlow with the appropriate compiler flags.\n",
      "2022-12-01 14:17:46.286635: W tensorflow/stream_executor/platform/default/dso_loader.cc:64] Could not load dynamic library 'libcudart.so.11.0'; dlerror: libcudart.so.11.0: cannot open shared object file: No such file or directory\n",
      "2022-12-01 14:17:46.286674: I tensorflow/stream_executor/cuda/cudart_stub.cc:29] Ignore above cudart dlerror if you do not have a GPU set up on your machine.\n",
      "2022-12-01 14:17:46.351376: E tensorflow/stream_executor/cuda/cuda_blas.cc:2981] Unable to register cuBLAS factory: Attempting to register factory for plugin cuBLAS when one has already been registered\n",
      "2022-12-01 14:17:49.564331: W tensorflow/stream_executor/platform/default/dso_loader.cc:64] Could not load dynamic library 'libnvinfer.so.7'; dlerror: libnvinfer.so.7: cannot open shared object file: No such file or directory\n",
      "2022-12-01 14:17:49.564503: W tensorflow/stream_executor/platform/default/dso_loader.cc:64] Could not load dynamic library 'libnvinfer_plugin.so.7'; dlerror: libnvinfer_plugin.so.7: cannot open shared object file: No such file or directory\n",
      "2022-12-01 14:17:49.564510: W tensorflow/compiler/tf2tensorrt/utils/py_utils.cc:38] TF-TRT Warning: Cannot dlopen some TensorRT libraries. If you would like to use Nvidia GPU with TensorRT, please make sure the missing libraries mentioned above are installed properly.\n"
     ]
    },
    {
     "name": "stdout",
     "output_type": "stream",
     "text": [
      "---- modules imported\n"
     ]
    }
   ],
   "source": [
    "import os\n",
    "# os.chdir('/Users/tud500158/Documents/github/AutomatedDamageDetection/scripts/train-vae/')\n",
    "print(os.getcwd())\n",
    "# homedir = '/Users/tud500158/Library/Mobile Documents/com~apple~CloudDocs/Documents/Documents - TUD500158/'\n",
    "# workdir = os.path.join(homedir,'github/AutomatedDamageDetection/')\n",
    "workdir = '/gpfs/home3/mizeboud/'\n",
    "os.chdir(os.path.join(workdir,'preprocessing/scripts/train-vae/'))\n",
    "import numpy as np\n",
    "import tensorflow as tf\n",
    "import glob\n",
    "import geopandas as gpd\n",
    "import json\n",
    "import configparser \n",
    "from sklearn.manifold import TSNE\n",
    "from typing import Dict\n",
    "import rioxarray as rioxr\n",
    "import xarray as xr\n",
    "import os\n",
    "import matplotlib.pyplot as plt\n",
    "import dataset\n",
    "import tiles as ts\n",
    "\n",
    "# from shapely import geometry\n",
    "from rasterio.features import shapes, geometry_mask\n",
    "import pathlib\n",
    "import pandas as pd\n",
    "\n",
    "print('---- modules imported')\n",
    "os.chdir(workdir)\n"
   ]
  },
  {
   "cell_type": "code",
   "execution_count": 3,
   "id": "584524ab-9731-46a3-9046-3a3cf902ff23",
   "metadata": {},
   "outputs": [],
   "source": [
    "\n",
    "# def parse_config(config):\n",
    "#     \"\"\" Parse input arguments from dictionary or config file \"\"\"\n",
    "#     if not isinstance(config, dict):\n",
    "#         parser = configparser.ConfigParser()\n",
    "#         parser.read(config)\n",
    "#         config = parser[\"train-VAE\"]\n",
    "\n",
    "#     catPath = config['catalogPath']\n",
    "#     labPath = config['labelsPath']\n",
    "#     outputDir = config['outputDirectory']\n",
    "#     sizeTestSet = int(config['sizeTestSet'])\n",
    "#     sizeValSet = int(config['sizeValidationSet'])\n",
    "#     roiFile = config['ROIFile']\n",
    "#     bands = [int(i) for i in config['bands'].split(\" \")]\n",
    "#     sizeCutOut = int(config['sizeCutOut'])\n",
    "#     nEpochMax = int(config['nEpochMax'])\n",
    "#     sizeStep = int(config['sizeStep'])\n",
    "#     normThreshold = float(config['normalizationThreshold'])\n",
    "        \n",
    "#     return (catPath, labPath, outputDir, sizeTestSet, sizeValSet, roiFile,\n",
    "#             bands, sizeCutOut, nEpochMax, sizeStep, normThreshold)\n",
    "\n",
    "\n",
    "def parse_config(config):\n",
    "    \"\"\" Parse input arguments from dictionary or config file \"\"\"\n",
    "    if not isinstance(config, dict):\n",
    "        parser = configparser.ConfigParser(allow_no_value=True)\n",
    "        parser.read(config)\n",
    "        config = parser[\"train-VAE\"]\n",
    "\n",
    "    catPath = config['catalogPath']\n",
    "    labPath = config['labelsPath']\n",
    "    outputDir = config['outputDirectory']\n",
    "    sizeTestSet = int(config['sizeTestSet'])\n",
    "    sizeValSet = int(config['sizeValidationSet'])\n",
    "    roiFile = config['ROIFile']\n",
    "    #\n",
    "    bands = [int(i) for i in config['bands'].split(\" \")]\n",
    "    sizeCutOut = int(config['sizeCutOut'])\n",
    "    sizeStep = int(config['sizeStep'])\n",
    "    stride = int(config['stride'])\n",
    "    #DATA\n",
    "    # balanceRatio = float(config['balanceRatio'])\n",
    "    file_DMGinfo = config['tiledDamagePixelsCountFile']\n",
    "    # normThreshold = [float(i) for i in config['normalizationThreshold'].split(\" \")]\n",
    "    normThreshold = config['normalizationThreshold']\n",
    "    if normThreshold is not None:\n",
    "        normThreshold = [float(i) for i in normThreshold.split(\" \")]\n",
    "    # MODEL\n",
    "    filter1 = int(config['filter1'])\n",
    "    filter2 = int(config['filter2'])\n",
    "    kernelSize1 = int(config['kernelSize1'])\n",
    "    kernelSize2 = int(config['kernelSize2'])\n",
    "    denseSize = int(config['denseSize'])\n",
    "    latentDim = int(config['latentDim'])\n",
    "    #vae:\n",
    "    alpha = float(config['alpha'])\n",
    "    batchSize = int(config['batchSize'])\n",
    "    nEpochMax = int(config['nEpochData'])\n",
    "    nEpochTrain = int(config['nEpochTrain'])\n",
    "    learnRate = float(config['learningRate'])\n",
    "#     validationSplit = float(config['validationSplit'])\n",
    "\n",
    "    return (catPath, labPath, outputDir, sizeTestSet, sizeValSet, roiFile,\n",
    "            bands, sizeCutOut, nEpochMax, nEpochTrain, sizeStep, stride, file_DMGinfo, normThreshold,\n",
    "            filter1, filter2, kernelSize1,kernelSize2, denseSize, latentDim,\n",
    "            alpha, batchSize,learnRate)\n",
    "\n"
   ]
  },
  {
   "cell_type": "code",
   "execution_count": 4,
   "id": "3c043b43-cd7c-42b6-9393-04a66acb7a54",
   "metadata": {},
   "outputs": [],
   "source": [
    "# -- OLD \n",
    "# # path_to_traindir = './model_v0/train_epoch_2/' # path on local computer\n",
    "# path_to_traindir = os.path.join(os.getcwd(), 'training','2022-05-12') # path on local computer\n",
    "# # path_to_traindir = './train/model_v0/train_epoch_2/' # path on cartesius\n",
    "\n",
    "# path_to_traindir = os.path.join(os.getcwd(), 'training','2022-05-12') # path on local computer\n",
    "# model_dir = 'model_1652389459' # VAE-b-L2-n2\n",
    "# path_to_traindir = os.path.join(os.getcwd(), 'training','2022-05-19') # path on local computer\n",
    "# model_dir = 'model_1652994000' # VAE-b-L2-n20\n",
    "# path_to_traindir = os.path.join(os.getcwd(), 'training','2022-05-19') # path on local computer\n",
    "# model_dir = 'model_1652995389' # VAE-b-L4-n2"
   ]
  },
  {
   "cell_type": "code",
   "execution_count": 7,
   "id": "c33ee673-c7ab-4514-9164-a732ddb4d1aa",
   "metadata": {},
   "outputs": [
    {
     "name": "stdout",
     "output_type": "stream",
     "text": [
      "/gpfs/home3/mizeboud/train/2022-11/2022-11-17/model_1668760449\n"
     ]
    }
   ],
   "source": [
    "# -- OKTOBER\n",
    "# path_to_traindir = os.path.join(workdir, 'training','2022-10') # path on local computer\n",
    "# # model_dir = 'model_1664876184' # VVAE with hist-equal input; applied to windows\n",
    "# model_dir = 'model_1665487140' # VAE with hist-equal input; applied to img, alpha=2000\n",
    "\n",
    "# # path_to_traindir = os.path.join(workdir, 'training','2022-10/2022-10-04') # path on local computer\n",
    "# # model_dir = 'model_1664891181' # VAE with hist-equal input: applied to windows --> higher alpha\n",
    "\n",
    "path_to_traindir = os.path.join(workdir,'train','2022-11','2022-11-17')\n",
    "# model_dir = 'model_1667487343' # 3 nov\n",
    "# model_dir = 'model_1668077484' # 10 nov\n",
    "model_dir = 'model_1668760449'\n",
    "\n",
    "path_to_model = os.path.join(os.path.expanduser('~'), path_to_traindir , model_dir)\n",
    "print(path_to_model)"
   ]
  },
  {
   "cell_type": "code",
   "execution_count": 8,
   "id": "00e41689-e70e-4870-9264-ee0bda035c25",
   "metadata": {},
   "outputs": [
    {
     "name": "stdout",
     "output_type": "stream",
     "text": [
      "['/gpfs/home3/mizeboud/train/2022-11/2022-11-17/model_1668760449/train-vae-1845591.ini']\n"
     ]
    }
   ],
   "source": [
    "\n",
    "# config = os.path.join(path_to_traindir,model_dir,'train-vae.ini')\n",
    "config = glob.glob(os.path.join(path_to_model,'*.ini'))\n",
    "\n",
    "print(config)\n",
    "\n",
    "catPath, labPath, outputDir, sizeTestSet, sizeValSet, roiFile, \\\n",
    "        bands, cutout_size, nEpochmax, nEpochTrain, sizeStep, stride, file_DMGinfo, normThreshold, \\\n",
    "        filter1, filter2, kernelSize1, kernelSize2, denseSize, latentDim, \\\n",
    "        alpha, batchSize,learnRate = parse_config(config)\n",
    "            \n",
    "\n",
    "# local maachine: overwrite caatalogpath and labelspath\n",
    "# catalog_path = '/Users/tud500158/Documents/Data/tiles'\n",
    "# labels_path ='/Users/tud500158/Documents/PhD/crevasseDetection/GoogleEarth/labels/geojson/EPSG4326/'\n",
    "# catalog_path = os.path.join(homedir,'Data/tiles')\n",
    "# labels_path =os.path.join(homedir,'PhD/crevasseDetection/GoogleEarth/labels/geojson/EPSG4326/')\n",
    "\n",
    "\n",
    "\n",
    "# SNELLIUS;\n",
    "mask_file = roiFile\n",
    "catalog_path = catPath\n",
    "tileNums = [124]\n",
    "\n",
    "tile_file = '/projects/0/einf512/S2_composite_2019-11-1_2020-3-1/S2_composite_2019-11-1_2020-3-1_tile_124.tif'\n",
    "\n"
   ]
  },
  {
   "cell_type": "code",
   "execution_count": 9,
   "id": "7ae2f905-023b-414c-ac45-a3e0dfea6c3c",
   "metadata": {},
   "outputs": [
    {
     "data": {
      "text/plain": [
       "['/gpfs/home3/mizeboud/train/2022-11/2022-11-17/model_1668760449']"
      ]
     },
     "execution_count": 9,
     "metadata": {},
     "output_type": "execute_result"
    }
   ],
   "source": [
    "os.path.join(path_to_traindir , 'model*')\n",
    "glob.glob(os.path.join(path_to_traindir , model_dir))\n",
    "# path_to_traindir"
   ]
  },
  {
   "cell_type": "code",
   "execution_count": 10,
   "id": "d09fbaab-99cd-4e13-8713-0240e905a1b3",
   "metadata": {},
   "outputs": [
    {
     "name": "stdout",
     "output_type": "stream",
     "text": [
      "['/gpfs/home3/mizeboud/train/2022-11/2022-11-17/model_1668760449']\n"
     ]
    },
    {
     "name": "stderr",
     "output_type": "stream",
     "text": [
      "2022-12-01 14:19:57.207516: W tensorflow/stream_executor/platform/default/dso_loader.cc:64] Could not load dynamic library 'libcuda.so.1'; dlerror: libcuda.so.1: cannot open shared object file: No such file or directory\n",
      "2022-12-01 14:19:57.207569: W tensorflow/stream_executor/cuda/cuda_driver.cc:263] failed call to cuInit: UNKNOWN ERROR (303)\n",
      "2022-12-01 14:19:57.207602: I tensorflow/stream_executor/cuda/cuda_diagnostics.cc:156] kernel driver does not appear to be running on this host (tcn367.local.snellius.surf.nl): /proc/driver/nvidia/version does not exist\n",
      "2022-12-01 14:19:57.207957: I tensorflow/core/platform/cpu_feature_guard.cc:193] This TensorFlow binary is optimized with oneAPI Deep Neural Network Library (oneDNN) to use the following CPU instructions in performance-critical operations:  AVX2 FMA\n",
      "To enable them in other operations, rebuild TensorFlow with the appropriate compiler flags.\n"
     ]
    },
    {
     "name": "stdout",
     "output_type": "stream",
     "text": [
      "----\n",
      " loaded model model_epoch_2 and encoder encoder_epoch_0\n"
     ]
    }
   ],
   "source": [
    "\n",
    "''' ----------\n",
    "Load model\n",
    "------------'''\n",
    "\n",
    "\n",
    "path_to_model = glob.glob(os.path.join(path_to_traindir , model_dir))\n",
    "print(path_to_model)\n",
    "path_to_model = path_to_model[0]\n",
    "# epoch_dirs = glob.glob(path_to_model +'/epoch*' )\n",
    "epoch_dirs = glob.glob(path_to_model +'/model_epoch*' )\n",
    "encoder_dirs = glob.glob(path_to_model+'/encoder*')\n",
    "\n",
    "epoch_dirs.sort()\n",
    "encoder_dirs.sort()\n",
    "path_to_model_epoch = epoch_dirs[-1]\n",
    "path_to_encoder_epoch = encoder_dirs[-1]\n",
    "\n",
    "\n",
    "# model = tf.keras.models.load_model(path_to_model_epoch ,compile=False)\n",
    "encoder = tf.keras.models.load_model(path_to_encoder_epoch,compile=False)\n",
    "\n",
    "# Get latent_dim (of sampling layer)\n",
    "latent_dim = encoder.layers[-1].output_shape[-1] # is 4\n",
    "\n",
    "\n",
    "print('----\\n loaded model {} and encoder {}'.format(os.path.split(path_to_model_epoch)[-1] ,os.path.split(path_to_encoder_epoch)[-1] ) )\n",
    "\n"
   ]
  },
  {
   "cell_type": "code",
   "execution_count": 6,
   "id": "0350f4fd",
   "metadata": {},
   "outputs": [],
   "source": [
    "# encoder2 =tf.keras.models.load_model(path_to_encoder_epoch,compile=True)\n",
    "# encoder2.compile()\n",
    "# encoder"
   ]
  },
  {
   "cell_type": "code",
   "execution_count": 7,
   "id": "050ee1a8",
   "metadata": {},
   "outputs": [],
   "source": [
    "# help(tf.keras.models.load_model)\n",
    "# model2 = tf.keras.models.load_model(path_to_model_epoch ,compile=True)\n",
    "# # model2.summary()\n",
    "# model2.layers"
   ]
  },
  {
   "cell_type": "code",
   "execution_count": null,
   "id": "77c67729",
   "metadata": {},
   "outputs": [],
   "source": []
  },
  {
   "cell_type": "code",
   "execution_count": 8,
   "id": "4f0b9629",
   "metadata": {},
   "outputs": [],
   "source": [
    "# # Check encoder info\n",
    "# path_to_encoder_epoch\n",
    "# help(encoder.save)"
   ]
  },
  {
   "cell_type": "markdown",
   "id": "7b20216d",
   "metadata": {},
   "source": [
    "# Data"
   ]
  },
  {
   "cell_type": "code",
   "execution_count": 12,
   "id": "12609f27-af64-4087-84ea-f288045d2a3d",
   "metadata": {},
   "outputs": [
    {
     "data": {
      "text/plain": [
       "'\\nTMP: test with training tiles to see how well damage is represented in latent space\\n\\n'"
      ]
     },
     "execution_count": 12,
     "metadata": {},
     "output_type": "execute_result"
    }
   ],
   "source": [
    "\n",
    "\n",
    "''' ----------\n",
    "Get testdata: one tile\n",
    "\n",
    "Instead of loading tiles directly as tf Dataset with dataset.Dataset(), load the tile as xarray to be able to link it to labels\n",
    "------------'''\n",
    "\n",
    "# get info on which tiles are assigned as test tiles\n",
    "datasets_json = glob.glob(os.path.join(path_to_traindir, model_dir , 'datasets*.json'))\n",
    "\n",
    "with open(datasets_json[0]) as file:        # Opening JSON file\n",
    "    datasets_dict = json.loads(file.read()) # load data\n",
    "\n",
    "test_set_paths = datasets_dict['test']   \n",
    "# print(test_set_paths)\n",
    "\n",
    "'''\n",
    "TMP: test with training tiles to see how well damage is represented in latent space\n",
    "\n",
    "'''\n",
    "\n",
    "# train_set_paths = datasets_dict['training']   \n",
    "\n",
    "# # test: 1 tile\n",
    "# # num_tiles = 1 # number of tiles to load\n",
    "# # tile_list = test_set_paths[:num_tiles];\n",
    "# # print('tilelist: ' , tile_list)\n",
    "\n",
    "# tile_list = train_set_paths\n",
    "\n",
    "# # update tile_list to be for local machine\n",
    "# tile_names = [tile_n.split('/')[-1] for tile_n in tile_list]\n",
    "# # tile_path_local = pathlib.Path('/Users/tud500158/Documents/Data/tiles/')\n",
    "# tile_path_local = os.path.join(homedir,'Data/tiles/training_tiles/')\n",
    "\n",
    "# tile_list_local = [os.path.join(tile_path_local,tile_name) for tile_name in tile_names]\n",
    "\n",
    "# # tiles that are actually on my local machine\n",
    "# tiles_on_machine = glob.glob(os.path.join(tile_path_local , '*.tif'))\n",
    "\n",
    "# # remake tile_list \n",
    "# tile_list = []\n",
    "# for tile in tiles_on_machine:\n",
    "#     if tile in tile_list_local:\n",
    "#         tile_list.append(tile)\n",
    "# tile_list        "
   ]
  },
  {
   "cell_type": "code",
   "execution_count": 13,
   "id": "69189b30-2794-4818-8f68-10b8cda3aa48",
   "metadata": {},
   "outputs": [],
   "source": [
    "# os.listdir(tile_path_local)"
   ]
  },
  {
   "cell_type": "code",
   "execution_count": 11,
   "id": "c3aa7099-384d-420a-bbde-68f8860ed696",
   "metadata": {},
   "outputs": [
    {
     "data": {
      "text/plain": [
       "' ----------\\ntmp: select 1 tile as tilelist\\n------------'"
      ]
     },
     "execution_count": 11,
     "metadata": {},
     "output_type": "execute_result"
    }
   ],
   "source": [
    "\n",
    "''' ----------\n",
    "tmp: select 1 tile as tilelist\n",
    "------------'''\n",
    "# tile_list = [tile_list[1]]\n",
    "# tile_list = [tile_list[-1]]\n",
    "# tile_list\n",
    "\n"
   ]
  },
  {
   "cell_type": "code",
   "execution_count": 12,
   "id": "092acbb9-627a-49ea-b68e-bf4bd436ee5c",
   "metadata": {},
   "outputs": [
    {
     "name": "stdout",
     "output_type": "stream",
     "text": [
      "Labels successfully read from 16 files\n",
      "Selecting 627 out of 905 labels\n"
     ]
    }
   ],
   "source": [
    "\n",
    "\n",
    "''' ----------\n",
    "Get Labels\n",
    "------------'''\n",
    "\n",
    "\n",
    "# # read tile catalog to be able to get CRS and filter labels to same date\n",
    "catalog = ts._read_tile_catalog(catalog_path)\n",
    "tiles = ts._catalog_to_geodataframe(catalog)\n",
    "\n",
    "labels = ts._read_labels(labels_path, verbose=True)\n",
    "labels = labels.to_crs(tiles.crs)  # make sure same CRS is used\n",
    "# select the only labels matching the tiles timespan\n",
    "labels = ts._filter_labels(labels,\n",
    "                        tiles.start_datetime.min(),\n",
    "                        tiles.end_datetime.max())\n",
    "\n",
    "\n",
    "## Create GeoSeries from labels.geometry\n",
    "label_polys = gpd.GeoSeries(labels.geometry,crs=labels.crs) # Combine all geometries to one GeoSeries, with the \n"
   ]
  },
  {
   "cell_type": "code",
   "execution_count": 13,
   "id": "bc542fda-5bd2-479b-b316-afe72731007c",
   "metadata": {},
   "outputs": [],
   "source": [
    "# # path to files\n",
    "# data_dir = os.path.join(homedir, 'Data')\n",
    "# # path_to_dmg = os.path.join(data_dir, 'RAMP/RAMP_tiled/damage_detection/geotiffs')\n",
    "# path_to_dmg = os.path.join(data_dir, 'tiles/damage_detection/geotiffs')\n",
    "# dmg_files = glob.glob(path_to_dmg + '/*damage*.tif')\n",
    "# # dmg_files = [file.split('/')[-1] for file in dmg_files]\n",
    "# dmg_files\n",
    "# # path_to_dmg"
   ]
  },
  {
   "cell_type": "code",
   "execution_count": 14,
   "id": "8772c6d9-5dfc-4db2-90c6-6f19e715c837",
   "metadata": {},
   "outputs": [],
   "source": [
    "\n",
    "# # tile_list[0]\n",
    "# # print(tile_list[0])\n",
    "# # tileName = tile_list[0].split(\"/\")[-1][:-4] # vb: 'S2_composite_2019-11-1_2020-3-1_tile_124'\n",
    "# # tileNum = 'tile_' + tileName.split('_')[-1]\n",
    "# # print(tileNum)\n",
    "# # file_dmg = [fname for fname in dmg_files if tileNum in fname] # filenae of tile withuot path\n",
    "# # file_dmg\n",
    "\n",
    "# tileNum='tile_140'\n",
    "# file_dmg = glob.glob(path_to_dmg  + '/*'+ tileNum + '*damage*' )\n",
    "# file_dmg"
   ]
  },
  {
   "cell_type": "code",
   "execution_count": 14,
   "id": "45402fe4-77d5-432d-b9aa-80c5fd0367aa",
   "metadata": {},
   "outputs": [
    {
     "ename": "NameError",
     "evalue": "name 'homedir' is not defined",
     "output_type": "error",
     "traceback": [
      "\u001b[0;31m---------------------------------------------------------------------------\u001b[0m",
      "\u001b[0;31mNameError\u001b[0m                                 Traceback (most recent call last)",
      "Cell \u001b[0;32mIn [14], line 9\u001b[0m\n\u001b[1;32m      3\u001b[0m \u001b[38;5;124;03m'''  ----------------\u001b[39;00m\n\u001b[1;32m      4\u001b[0m \u001b[38;5;124;03mget tile nd corresponding NERD dmg (ipv labels)\u001b[39;00m\n\u001b[1;32m      5\u001b[0m \u001b[38;5;124;03m----------------- '''\u001b[39;00m\n\u001b[1;32m      7\u001b[0m \u001b[38;5;66;03m# path to files\u001b[39;00m\n\u001b[1;32m      8\u001b[0m \u001b[38;5;66;03m# data_dir = os.path.join(os.path.expanduser('~'), 'Documents/Data')\u001b[39;00m\n\u001b[0;32m----> 9\u001b[0m data_dir \u001b[38;5;241m=\u001b[39m os\u001b[38;5;241m.\u001b[39mpath\u001b[38;5;241m.\u001b[39mjoin(\u001b[43mhomedir\u001b[49m, \u001b[38;5;124m'\u001b[39m\u001b[38;5;124mData\u001b[39m\u001b[38;5;124m'\u001b[39m)\n\u001b[1;32m     10\u001b[0m \u001b[38;5;66;03m# path_to_dmg = os.path.join(data_dir, 'RAMP/RAMP_tiled/damage_detection/geotiffs')\u001b[39;00m\n\u001b[1;32m     11\u001b[0m path_to_dmg \u001b[38;5;241m=\u001b[39m os\u001b[38;5;241m.\u001b[39mpath\u001b[38;5;241m.\u001b[39mjoin(data_dir, \u001b[38;5;124m'\u001b[39m\u001b[38;5;124mtiles/damage_detection/geotiffs\u001b[39m\u001b[38;5;124m'\u001b[39m)\n",
      "\u001b[0;31mNameError\u001b[0m: name 'homedir' is not defined"
     ]
    }
   ],
   "source": [
    "\n",
    "from skimage import exposure as skimage_exposure\n",
    "\n",
    "'''  ----------------\n",
    "get tile nd corresponding NERD dmg (ipv labels)\n",
    "----------------- '''\n",
    "\n",
    "# path to files\n",
    "# data_dir = os.path.join(os.path.expanduser('~'), 'Documents/Data')\n",
    "data_dir = os.path.join(homedir, 'Data')\n",
    "# path_to_dmg = os.path.join(data_dir, 'RAMP/RAMP_tiled/damage_detection/geotiffs')\n",
    "path_to_dmg = os.path.join(data_dir, 'tiles/damage_detection/geotiffs')\n",
    "dmg_files = glob.glob(path_to_dmg + '/*damage*.tif')\n",
    "dmg_files = [file.split('/')[-1] for file in dmg_files]\n",
    "\n",
    "# print(dmg_files)\n",
    "\n",
    "def get_tile_with_dmg(tile):\n",
    "    tileName = tile.split(\"/\")[-1][:-4] # vb: 'S2_composite_2019-11-1_2020-3-1_tile_124'\n",
    "    tileNum = 'tile_' + tileName.split('_')[-1]\n",
    "    # print(tileNum)\n",
    "    \n",
    "    # read tile - floats are required to mask with NaN's\n",
    "    tile_da = rioxr.open_rasterio(tile).astype(\"float32\")\n",
    "\n",
    "    file_dmg = [fname for fname in dmg_files if tileNum in fname] # filenae of tile withuot path\n",
    "    # print(type(file_dmg))\n",
    "    \n",
    "    tile_dmg = rioxr.open_rasterio(os.path.join(path_to_dmg, file_dmg[0])).astype(\"float32\")\n",
    "  \n",
    "    # interpolate dmg to same resolution as tile (to link as labels)\n",
    "    tile_dmg_int = tile_dmg.isel(band=0).interp_like(tile_da.isel(band=0))\n",
    "    tile_dmg_int= tile_dmg_int.fillna(0).expand_dims(dim='band') # fill nan with zeros and add band-dim\n",
    "\n",
    "    return tileNum, tile_da, tile_dmg, tile_dmg_int\n",
    "\n",
    "\n",
    "def plot_tile_and_dmg(tile_da, tile_dmg):\n",
    "    tile_img = tile_da.transpose('x','y','band')\n",
    "    \n",
    "    fig, (ax1,ax2) = plt.subplots(1,2)\n",
    "    # plt.imshow(tile_img[:,:,0:3].astype('uint8'),vmin=1000,vmax=15000)\n",
    "    ax1.imshow(tile_img[:,:,2])\n",
    "    \n",
    "def create_cutouts(da,cutout_size, normThreshold=None, equalise=False):\n",
    "    # generate windows\n",
    "    da = da.rolling(x=cutout_size, y=cutout_size)\n",
    "    da = da.construct({'x': 'x_win', 'y': 'y_win'}, stride=cutout_size)\n",
    "\n",
    "    # drop NaN-containing windows\n",
    "    da = da.stack(sample=('x', 'y'))\n",
    "    da = da.dropna(dim='sample', how='any')\n",
    "\n",
    "    # normalize\n",
    "    if normThreshold is not None:\n",
    "        da = (da + 0.1) / (normThreshold + 1)\n",
    "        da = da.clip(max=1)\n",
    "    \n",
    "    if equalise:\n",
    "        # hist equalist\n",
    "        n_bands = da['band'].shape[0]\n",
    "        all_band_eq=np.empty(da.shape)\n",
    "\n",
    "        for band_i in range(n_bands): # perform adaptive normalisation per band\n",
    "            band_data = da.isel(band=band_i)\n",
    "            band_data_eq = skimage_exposure.equalize_adapthist(band_data, clip_limit=0.03)\n",
    "            all_band_eq[band_i] = np.expand_dims(band_data_eq,axis=0)\n",
    "\n",
    "        da = da.copy(data=all_band_eq) # overwrite data in dataArray\n",
    "\n",
    "    tile_cutouts = da.data.transpose(3, 1, 2, 0) # samples, x_win, y_win, bands: (250000, 20, 20, 3)\n",
    "    tile_cutouts_da = da.transpose('sample','x_win','y_win','band')\n",
    "\n",
    "    return tile_cutouts, tile_cutouts_da\n",
    "\n",
    "def normalise_and_equalise(da,normThreshold=None,equalise=False):\n",
    "    \n",
    "    # normalize\n",
    "    if normThreshold is not None:\n",
    "        da = (da + 0.1) / (normThreshold + 1)\n",
    "        da = da.clip(max=1)\n",
    "    \n",
    "    if equalise:\n",
    "        # hist equalist\n",
    "        n_bands = da['band'].shape[0]\n",
    "        all_band_eq=np.empty(da.shape)\n",
    "\n",
    "        for band_i in range(n_bands): # perform adaptive normalisation per band\n",
    "            band_data = da.isel(band=band_i)\n",
    "            band_data_eq = skimage_exposure.equalize_adapthist(band_data, clip_limit=0.03)\n",
    "            all_band_eq[band_i] = np.expand_dims(band_data_eq,axis=0)\n",
    "\n",
    "        da = da.copy(data=all_band_eq) # overwrite data in dataArray\n",
    "    \n",
    "    return da\n",
    "    \n",
    "def create_cutouts2(da,cutout_size):\n",
    "\n",
    "    # generate windows\n",
    "    da = da.rolling(x=cutout_size, y=cutout_size)\n",
    "    da = da.construct({'x': 'x_win', 'y': 'y_win'}, stride=cutout_size)\n",
    "\n",
    "    # drop NaN-containing windows\n",
    "    da = da.stack(sample=('x', 'y'))\n",
    "    da = da.dropna(dim='sample', how='any')\n",
    "\n",
    "    tile_cutouts = da.data.transpose(3, 1, 2, 0) # samples, x_win, y_win, bands: (250000, 20, 20, 3)\n",
    "    tile_cutouts_da = da.transpose('sample','x_win','y_win','band')\n",
    "\n",
    "    return tile_cutouts, tile_cutouts_da\n",
    "\n",
    "# # for tile in tile_list:    \n",
    "# # tile_file = tile_list[0]\n",
    "# tile_file = '/Users/tud500158/Library/Mobile Documents/com~apple~CloudDocs/Documents/Documents - TUD500158/Data/tiles/training_tiles/S2_composite_2019-11-1_2020-3-1_tile_124.tif'\n",
    "# # tile_file = '/Users/tud500158/Library/Mobile Documents/com~apple~CloudDocs/Documents/Documents - TUD500158/Data/tiles/training_tiles/S2_composite_2019-11-1_2020-3-1_tile_140.tif'\n",
    "# tileNum, tile_da, tile_dmg, tile_dmg_int = get_tile_with_dmg( tile_file )\n",
    "# # tileNum, tile_da, tile_dmg, tile_dmg_int = get_tile_with_dmg( tile_list )\n",
    "# # tile_img = tile_da.transpose('x','y','band')\n",
    "\n",
    "# print(tile_dmg.shape,\n",
    "#      tile_da.shape,\n",
    "#      tile_dmg_int.shape)"
   ]
  },
  {
   "cell_type": "markdown",
   "id": "0592e4bc-b50c-43aa-9e6a-bed317e74c56",
   "metadata": {},
   "source": [
    "# Read data, Create cutouts"
   ]
  },
  {
   "cell_type": "code",
   "execution_count": 16,
   "id": "297f4171-ef77-4aba-9e90-50147b081aae",
   "metadata": {},
   "outputs": [],
   "source": [
    "# mask ROI (ocean)\n",
    "import geopandas as gpd\n",
    "\n",
    "# if self.mask is not None:\n",
    "#     mask = self.mask.to_crs(da.spatial_ref.crs_wkt)\n",
    "#     geometry = mask.unary_union.buffer(self.buffer)\n",
    "#     # da = da.rio.clip([geometry], drop=True, invert=self.invert,\n",
    "#     #                  all_touched=self.all_touched)\n",
    "#     da = da.rio.clip([geometry], drop=False, invert=self.invert, # if mask defined, do not drop\n",
    "#                      all_touched=self.all_touched)\n",
    "def mask_data(data, mask_file):\n",
    "    mask_poly = gpd.read_file(mask_file).to_crs(epsg=3031)\n",
    "    # gdf = mask_poly.unary_union \n",
    "    # mask = data #.copy(data=np.ones_like(data.values)) # set up img with only 1 vluess\n",
    "    masked_data = data.rio.clip(mask_poly.unary_union, mask_poly.crs, drop=False, invert=False) # mask (raster)\n",
    "    return masked_data\n"
   ]
  },
  {
   "cell_type": "code",
   "execution_count": 17,
   "id": "7102ee81-5cb1-4189-9a45-c76c87a1af1a",
   "metadata": {},
   "outputs": [
    {
     "data": {
      "text/plain": [
       "['/Users/tud500158/Library/Mobile Documents/com~apple~CloudDocs/Documents/Documents - TUD500158/Data/tiles/training_tiles/S2_composite_2019-11-1_2020-3-1_tile_250.tif',\n",
       " '/Users/tud500158/Library/Mobile Documents/com~apple~CloudDocs/Documents/Documents - TUD500158/Data/tiles/training_tiles/S2_composite_2019-11-1_2020-3-1_tile_124.tif',\n",
       " '/Users/tud500158/Library/Mobile Documents/com~apple~CloudDocs/Documents/Documents - TUD500158/Data/tiles/training_tiles/S2_composite_2019-11-1_2020-3-1_tile_285.tif',\n",
       " '/Users/tud500158/Library/Mobile Documents/com~apple~CloudDocs/Documents/Documents - TUD500158/Data/tiles/training_tiles/S2_composite_2019-11-1_2020-3-1_tile_291.tif',\n",
       " '/Users/tud500158/Library/Mobile Documents/com~apple~CloudDocs/Documents/Documents - TUD500158/Data/tiles/training_tiles/S2_composite_2019-11-1_2020-3-1_tile_268.tif',\n",
       " '/Users/tud500158/Library/Mobile Documents/com~apple~CloudDocs/Documents/Documents - TUD500158/Data/tiles/training_tiles/S2_composite_2019-11-1_2020-3-1_tile_282.tif',\n",
       " '/Users/tud500158/Library/Mobile Documents/com~apple~CloudDocs/Documents/Documents - TUD500158/Data/tiles/training_tiles/S2_composite_2019-11-1_2020-3-1_tile_123.tif',\n",
       " '/Users/tud500158/Library/Mobile Documents/com~apple~CloudDocs/Documents/Documents - TUD500158/Data/tiles/training_tiles/S2_composite_2019-11-1_2020-3-1_tile_68.tif',\n",
       " '/Users/tud500158/Library/Mobile Documents/com~apple~CloudDocs/Documents/Documents - TUD500158/Data/tiles/training_tiles/S2_composite_2019-11-1_2020-3-1_tile_93.tif',\n",
       " '/Users/tud500158/Library/Mobile Documents/com~apple~CloudDocs/Documents/Documents - TUD500158/Data/tiles/training_tiles/S2_composite_2019-11-1_2020-3-1_tile_238.tif',\n",
       " '/Users/tud500158/Library/Mobile Documents/com~apple~CloudDocs/Documents/Documents - TUD500158/Data/tiles/training_tiles/S2_composite_2019-11-1_2020-3-1_tile_214.tif',\n",
       " '/Users/tud500158/Library/Mobile Documents/com~apple~CloudDocs/Documents/Documents - TUD500158/Data/tiles/training_tiles/S2_composite_2019-11-1_2020-3-1_tile_228.tif',\n",
       " '/Users/tud500158/Library/Mobile Documents/com~apple~CloudDocs/Documents/Documents - TUD500158/Data/tiles/training_tiles/S2_composite_2019-11-1_2020-3-1_tile_28.tif',\n",
       " '/Users/tud500158/Library/Mobile Documents/com~apple~CloudDocs/Documents/Documents - TUD500158/Data/tiles/training_tiles/S2_composite_2019-11-1_2020-3-1_tile_110.tif',\n",
       " '/Users/tud500158/Library/Mobile Documents/com~apple~CloudDocs/Documents/Documents - TUD500158/Data/tiles/training_tiles/S2_composite_2019-11-1_2020-3-1_tile_114.tif',\n",
       " '/Users/tud500158/Library/Mobile Documents/com~apple~CloudDocs/Documents/Documents - TUD500158/Data/tiles/training_tiles/S2_composite_2019-11-1_2020-3-1_tile_102.tif']"
      ]
     },
     "execution_count": 17,
     "metadata": {},
     "output_type": "execute_result"
    }
   ],
   "source": [
    "tile_list"
   ]
  },
  {
   "cell_type": "code",
   "execution_count": 18,
   "id": "ce69b13e-547d-4fc0-9046-45f1f9d4ba11",
   "metadata": {},
   "outputs": [
    {
     "name": "stdout",
     "output_type": "stream",
     "text": [
      "\n",
      "----\n",
      " Processing S2_composite_2019-11-1_2020-3-1_tile_50\n",
      "\n"
     ]
    },
    {
     "name": "stderr",
     "output_type": "stream",
     "text": [
      "/Users/tud500158/opt/anaconda3/envs/VAEenv/lib/python3.10/site-packages/rasterio/features.py:284: ShapelyDeprecationWarning: Iteration over multi-part geometries is deprecated and will be removed in Shapely 2.0. Use the `geoms` property to access the constituent parts of a multi-part geometry.\n",
      "  for index, item in enumerate(shapes):\n"
     ]
    },
    {
     "name": "stdout",
     "output_type": "stream",
     "text": [
      "(15625, 100, 100, 3)\n"
     ]
    }
   ],
   "source": [
    "\n",
    "''' ----------\n",
    "Create cut-outs\n",
    "    Actually read the tile, make cutouts, linked with labeldata\n",
    "    \n",
    "Update: do not link laabldata; now read same-tile NERD output\n",
    "------------'''\n",
    "\n",
    "\n",
    "''' ----------\n",
    "Get tile\n",
    "------------'''\n",
    "\n",
    "# tile 124 is a training tile\n",
    "tile_file = os.path.join(homedir,'Data/tiles/training_tiles/S2_composite_2019-11-1_2020-3-1_tile_124.tif')\n",
    "# tile 285 is also a training t ile\n",
    "# tile_file = os.path.join(homedir,'Data/tiles/training_tiles/S2_composite_2019-11-1_2020-3-1_tile_285.tif')\n",
    "# tile_file = os.path.join(homedir,'Data/tiles/training_tiles/S2_composite_2019-11-1_2020-3-1_tile_110.tif')\n",
    "tile_file = os.path.join(homedir,'Data/tiles/training_tiles/S2_composite_2019-11-1_2020-3-1_tile_50.tif')\n",
    "\n",
    "mask_file = os.path.join(homedir,'Data/ne_10m_antarctic_ice_shelves_polys/ne_10m_antarctic_ice_shelves_polys.shp')    \n",
    "\n",
    "\n",
    "tileName = tile_file.split(\"/\")[-1][:-4] # vb: 'S2_composite_2019-11-1_2020-3-1_tile_124'\n",
    "print('\\n----\\n Processing ' + tileName +'\\n')\n",
    "\n",
    "# read tile - floats are required to mask with NaN's\n",
    "da = rioxr.open_rasterio(tile_file).astype(\"float32\")\n",
    "\n",
    "# select bands\n",
    "if bands is not None:\n",
    "    if type(bands) is not list:\n",
    "        da = da.sel(band=[bands])\n",
    "    else:\n",
    "        da = da.sel(band=bands)\n",
    "\n",
    "''' ----------\n",
    "Mask ocean\n",
    "------------'''\n",
    "# mask/clip: if self.mask is not None: [removed; see _generate_cutouts]\n",
    "da_origin = da.copy()\n",
    "da = mask_data(da,mask_file)\n",
    "da_mask = da.copy()\n",
    "\n",
    "''' ----------\n",
    "Normalise and Equalise\n",
    "------------'''\n",
    "\n",
    "da = normalise_and_equalise(da,normThreshold=normThreshold[0],equalise=True)\n",
    "da_norm_equal = da.copy()\n",
    "\n",
    "''' ----------\n",
    "Create cut-outs\n",
    "------------'''\n",
    "\n",
    "# generate windows -- cut \n",
    "\n",
    "tile_cutouts, tile_cutouts_da = create_cutouts2(da,cutout_size) # samples, x_win, y_win, bands: (250000, 20, 20, 1)\n",
    "# label_cutouts, __ = create_cutouts(tile_dmg_int, cutout_size)\n",
    "\n",
    "print(tile_cutouts.shape)\n",
    "\n",
    "\n"
   ]
  },
  {
   "cell_type": "code",
   "execution_count": 19,
   "id": "c1085aef",
   "metadata": {},
   "outputs": [
    {
     "name": "stdout",
     "output_type": "stream",
     "text": [
      "nandata in:\n",
      "da original: False \n",
      " da masked: True \n",
      " da norm/equal: False \n"
     ]
    }
   ],
   "source": [
    "print('nandata in:')\n",
    "print('da original: {} \\n da masked: {} \\n da norm/equal: {} '.format(np.isnan(da_origin).any().values, np.isnan(da_mask).any().values, np.isnan(da_norm_equal).any().values ))"
   ]
  },
  {
   "cell_type": "code",
   "execution_count": 20,
   "id": "3d1e254f",
   "metadata": {},
   "outputs": [],
   "source": [
    "nanmask = np.isnan(da)"
   ]
  },
  {
   "cell_type": "code",
   "execution_count": 21,
   "id": "9d2a9c8b-4829-4eca-97d0-fd6517e517f9",
   "metadata": {},
   "outputs": [
    {
     "data": {
      "image/png": "[encoded data removed]",
      "text/plain": [
       "<Figure size 720x576 with 4 Axes>"
      ]
     },
     "metadata": {
      "needs_background": "light"
     },
     "output_type": "display_data"
    }
   ],
   "source": [
    "fig,ax= plt.subplots(1,2,figsize=(10,8))\n",
    "da_origin.attrs['long_name']='imgbands';\n",
    "da_origin.isel(band=0).plot.imshow(ax=ax[0])\n",
    "ax[0].set_title('img, not normalised')\n",
    "da_norm_equal.isel(band=0).plot.imshow(ax=ax[1],vmin=0,vmax=1,cbar_kwargs={\"fraction\": 0.046})\n",
    "ax[1].set_title('img, normalised and equalised')\n",
    "ax[0].set_aspect('equal')\n",
    "ax[1].set_aspect('equal')"
   ]
  },
  {
   "cell_type": "code",
   "execution_count": 22,
   "id": "6586f2cd-9268-47c0-ad37-789d0fe6859c",
   "metadata": {},
   "outputs": [
    {
     "name": "stdout",
     "output_type": "stream",
     "text": [
      "---- succesfully encoded data; size:  (15625, 4)\n"
     ]
    }
   ],
   "source": [
    "\n",
    "''' ----------\n",
    "Encode input \n",
    "------------'''\n",
    "encoded_data_file = os.path.join(path_to_model, tileName + \"_encoded.npy\")\n",
    "if os.path.exists(encoded_data_file):\n",
    "    # read file\n",
    "    encoded_data = np.load(encoded_data_file)\n",
    "    print('---- loaded encoded data; size: ', encoded_data.shape)\n",
    "else: \n",
    "    # encode data and save file\n",
    "    encoded_data,_,_ = encoder.predict(tile_cutouts);\n",
    "    np.save(encoded_data_file, encoded_data) # save encoded data for later use.\n",
    "    # np.save(tileName + \"_labels.npy\", label_cutouts) # save encoded data for later use.\n",
    "    print('---- succesfully encoded data; size: ', encoded_data.shape)\n",
    "\n"
   ]
  },
  {
   "cell_type": "code",
   "execution_count": 23,
   "id": "6810a5d0",
   "metadata": {},
   "outputs": [
    {
     "name": "stdout",
     "output_type": "stream",
     "text": [
      "min/max \n",
      " tile_cutouts: 0.0,1.0 \n",
      " encoded_data: -0.0,0.0\n"
     ]
    }
   ],
   "source": [
    "print(\"min/max \\n tile_cutouts: {:.1f},{:.1f} \\n encoded_data: {:.1f},{:.1f}\".format(tile_cutouts.min(), tile_cutouts.max(), encoded_data.min(), encoded_data.max()))"
   ]
  },
  {
   "cell_type": "code",
   "execution_count": 24,
   "id": "a68ba3e6-92a8-4284-915f-58ec57287ade",
   "metadata": {},
   "outputs": [
    {
     "data": {
      "text/plain": [
       "Text(0.5, 1.0, 'histogram of latent space parameters')"
      ]
     },
     "execution_count": 24,
     "metadata": {},
     "output_type": "execute_result"
    },
    {
     "data": {
      "image/png": "[encoded data removed]",
      "text/plain": [
       "<Figure size 432x288 with 1 Axes>"
      ]
     },
     "metadata": {
      "needs_background": "light"
     },
     "output_type": "display_data"
    }
   ],
   "source": [
    "# encoded_data.min()\n",
    "# encoded_data.max()\n",
    "plt.figure()\n",
    "for ldim in range(0, encoded_data.shape[1]):\n",
    "    plt.hist(encoded_data[:,ldim],label=ldim)\n",
    "plt.legend()    \n",
    "plt.title('histogram of latent space parameters')"
   ]
  },
  {
   "cell_type": "code",
   "execution_count": 25,
   "id": "4fe735f8-f3d8-4c86-a24b-5bb038b9f622",
   "metadata": {},
   "outputs": [
    {
     "data": {
      "text/plain": [
       "' ----------\\npredict output  \\n------------'"
      ]
     },
     "execution_count": 25,
     "metadata": {},
     "output_type": "execute_result"
    }
   ],
   "source": [
    "\n",
    "''' ----------\n",
    "predict output  \n",
    "------------'''\n",
    "\n",
    "# predicted_data = model.predict(tile_cutouts); # reconstruct images (windows):\n",
    "# np.save(os.path.join(path_to_model, tileName + \"_predicted.npy\"),predicted_data)\n",
    "# print('---- succesfully predicted data')\n"
   ]
  },
  {
   "cell_type": "code",
   "execution_count": 26,
   "id": "b9df2a81-d030-4920-8721-6d9b8d544e0a",
   "metadata": {},
   "outputs": [
    {
     "data": {
      "text/plain": [
       "'tile_50'"
      ]
     },
     "execution_count": 26,
     "metadata": {},
     "output_type": "execute_result"
    }
   ],
   "source": [
    "tileName\n",
    "\n",
    "tileNum='tile_'+tileName.split('tile_')[-1]\n",
    "tileNum"
   ]
  },
  {
   "cell_type": "code",
   "execution_count": 27,
   "id": "37fc0fa9-8e5f-45b0-98df-36f9fd74cc01",
   "metadata": {},
   "outputs": [
    {
     "data": {
      "image/png": "[encoded data removed]",
      "text/plain": [
       "<Figure size 1440x720 with 8 Axes>"
      ]
     },
     "metadata": {
      "needs_background": "light"
     },
     "output_type": "display_data"
    }
   ],
   "source": [
    "\n",
    "''' ----------\n",
    "Plot latent space spatially Ldim=4\n",
    "------------'''\n",
    "\n",
    "if latent_dim == 4:\n",
    "    z0 = encoded_data[:,0]\n",
    "    z1 = encoded_data[:,1]\n",
    "    z2 = encoded_data[:,2]\n",
    "    z3 = encoded_data[:,3]\n",
    "\n",
    "\n",
    "\n",
    "    # add z0 only to (sample,x,y. )\n",
    "    L_space_xy_z0 =  tile_cutouts_da.isel(band=[0],x_win=0,y_win=0).copy(deep=True, data=np.expand_dims(z0,axis=1) ) #.unstack()\n",
    "    L_space_xy_z1 =  tile_cutouts_da.isel(band=[0],x_win=0,y_win=0).copy(deep=True, data=np.expand_dims(z1,axis=1) ) #.unstack()\n",
    "    L_space_xy_z2 =  tile_cutouts_da.isel(band=[0],x_win=0,y_win=0).copy(deep=True, data=np.expand_dims(z2,axis=1) ) #.unstack()\n",
    "    L_space_xy_z3 =  tile_cutouts_da.isel(band=[0],x_win=0,y_win=0).copy(deep=True, data=np.expand_dims(z3,axis=1) ) #.unstack()\n",
    "\n",
    "\n",
    "    fig,axes = plt.subplots(2,2,figsize=(20,10))\n",
    "\n",
    "    # axes[0,0].imshow(tile_da[0])\n",
    "    # axes[0,0].set_aspect('equal')\n",
    "    # tile_data.isel(band=0).plot.imshow()#ax=axes[0],x='x',add_label=False)\n",
    "\n",
    "    L_space_xy_z0.unstack().isel(band=0).plot.imshow(ax=axes[0,0],x='x',cmap='RdBu') #,vmin=-0.1,vmax=0.1, # vmin=-2 vmax=2\n",
    "    axes[0,0].set_title('z0')\n",
    "    axes[0,0].set_aspect('equal')\n",
    "\n",
    "\n",
    "    L_space_xy_z1.unstack().isel(band=0).plot.imshow(ax=axes[0,1],x='x',cmap='RdBu') # vmin=-0.1,vmax=0.1,\n",
    "    axes[0,1].set_title('z1')\n",
    "    axes[0,1].set_aspect('equal')\n",
    "\n",
    "\n",
    "    L_space_xy_z2.unstack().isel(band=0).plot.imshow(ax=axes[1,0],x='x',cmap='RdBu') # vmin=-2 vmax=2\n",
    "    axes[1,0].set_title('z2')\n",
    "    axes[1,0].set_aspect('equal')\n",
    "\n",
    "\n",
    "    L_space_xy_z3.unstack().isel(band=0).plot.imshow(ax=axes[1,1],x='x',cmap='RdBu') # vmin=-2 vmax=2\n",
    "    axes[1,1].set_title('z3')\n",
    "    axes[1,1].set_aspect('equal')\n",
    "\n",
    "    fig.savefig(os.path.join(path_to_traindir , model_dir, 'spatial_lspace_' + tileNum))"
   ]
  },
  {
   "cell_type": "markdown",
   "id": "0a96b646",
   "metadata": {},
   "source": [
    "# Plot encoded representation\n",
    "\n",
    "We can also have a look at the 128-dimensional encoded representations. \n",
    "These representations are 8x4x4, so we reshape them to 4x32 in order to be able to display them as grayscale images."
   ]
  },
  {
   "cell_type": "code",
   "execution_count": 29,
   "id": "08d5edd9",
   "metadata": {},
   "outputs": [
    {
     "data": {
      "text/plain": [
       "(15625, 4)"
      ]
     },
     "execution_count": 29,
     "metadata": {},
     "output_type": "execute_result"
    }
   ],
   "source": [
    "encoded_data.shape\n"
   ]
  },
  {
   "cell_type": "code",
   "execution_count": 30,
   "id": "04b0e96e",
   "metadata": {},
   "outputs": [
    {
     "data": {
      "image/png": "[encoded data removed]",
      "text/plain": [
       "<Figure size 1440x576 with 20 Axes>"
      ]
     },
     "metadata": {
      "needs_background": "light"
     },
     "output_type": "display_data"
    }
   ],
   "source": [
    "# encoder = keras.Model(input_img, encoded)\n",
    "# encoded_imgs = encoder.predict(x_test)\n",
    "\n",
    "n = 20\n",
    "plt.figure(figsize=(20, 8))\n",
    "for i in range(1, n + 1):\n",
    "    ax = plt.subplot(1, n, i)\n",
    "    plt.imshow(encoded_data[i+1000].reshape((1, 4)).T)\n",
    "    plt.gray()\n",
    "    ax.get_xaxis().set_visible(False)\n",
    "    ax.get_yaxis().set_visible(False)\n",
    "plt.show()"
   ]
  },
  {
   "cell_type": "markdown",
   "id": "9b2d5af7",
   "metadata": {},
   "source": [
    "# Embed latent space"
   ]
  },
  {
   "cell_type": "code",
   "execution_count": 31,
   "id": "b7751758-3b76-408f-92a3-3b7782a40123",
   "metadata": {},
   "outputs": [
    {
     "name": "stderr",
     "output_type": "stream",
     "text": [
      "/Users/tud500158/opt/anaconda3/envs/VAEenv/lib/python3.10/site-packages/sklearn/manifold/_t_sne.py:982: FutureWarning: The PCA initialization in TSNE will change to have the standard deviation of PC1 equal to 1e-4 in 1.2. This will ensure better convergence.\n",
      "  warnings.warn(\n"
     ]
    },
    {
     "name": "stdout",
     "output_type": "stream",
     "text": [
      "---- succesfully embedded data of 4 dim to 2D\n",
      "\n",
      "\n"
     ]
    }
   ],
   "source": [
    "'''  ----------------\n",
    "embed latentspace to 2D for cluster plot \n",
    "----------------- '''\n",
    "\n",
    "def embed_latentspace_2D(encoded_data,\n",
    "                         latent_dim,perplexity=10, \n",
    "                         n_iter=1000,\n",
    "                         n_iter_without_progress=300):\n",
    "    ''' Consider using perplexity between 5 and 50 (default 30); larger datasets usually require a larger perplexity.\n",
    "        n_iter default 1000, should be at least 250\n",
    "        learning_rate: the learning rate for t-SNE is usually in the range [10.0, 1000.0], default=200; The ‘auto’ option sets the learning_rate to max(N / early_exaggeration / 4, 50)\n",
    "    '''\n",
    "    \n",
    "    if latent_dim > 2: # only embed if latent_dim is higher than 2D (otherwise plot 2D)\n",
    "        z_mean_2D = TSNE(n_components=2,\n",
    "                         perplexity=perplexity,\n",
    "                         n_iter=n_iter,\n",
    "                         learning_rate='auto',\n",
    "                         init='pca',\n",
    "                         n_iter_without_progress=n_iter_without_progress).fit_transform(encoded_data);\n",
    "    else: # no embedding needed\n",
    "        z_mean_2D = encoded_data  # TO DO: check if this outputs the same shape as the embedded z_mean_2D\n",
    "        \n",
    "    return z_mean_2D\n",
    "\n",
    "Nsamples = encoded_data.shape[0] #100000 \n",
    "\n",
    "\n",
    "# encoded_2D_testdata = embed_latentspace_2D(encoded_data, # sample selection\n",
    "#                                            latent_dim,perplexity=40,\n",
    "#                                            n_iter=250,\n",
    "#                                            n_iter_without_progress=100)\n",
    "if latent_dim <= 2:\n",
    "    encoded_2D_testdata = encoded_data\n",
    "else:\n",
    "    encoded_2D_testdata = embed_latentspace_2D(encoded_data, # sample selection\n",
    "                                           latent_dim,perplexity=40,\n",
    "                                           n_iter=250,\n",
    "                                           n_iter_without_progress=100)\n",
    "\n",
    "# np.save(\"embedded_data_N{:d}_tileX.npy\".format(Nsamples),reconstructed_window)\n",
    "# z_mean_2D = TSNE(n_components=2,\n",
    "#                  perplexity=30,\n",
    "#                  n_iter=250,\n",
    "#                  init='pca',\n",
    "#                  n_iter_without_progress=100,\n",
    "#                  n_jobs=4).fit_transform(encoded_data);\n",
    "# np.save(\"embedded_data_N_tileX.npy\",encoded_2D_testdata)\n",
    "print('---- succesfully embedded data of {} dim to 2D'.format(latent_dim))\n",
    " \n",
    "\n",
    "    \n",
    "print('\\n')"
   ]
  },
  {
   "cell_type": "code",
   "execution_count": 32,
   "id": "560ec3d2-e341-43dd-8771-70bdd741bbf2",
   "metadata": {},
   "outputs": [
    {
     "name": "stdout",
     "output_type": "stream",
     "text": [
      "---- succesfully embedded data of 4 dim to 2D\n"
     ]
    }
   ],
   "source": [
    "\n",
    "print('---- succesfully embedded data of {} dim to 2D'.format(latent_dim))"
   ]
  },
  {
   "cell_type": "code",
   "execution_count": 33,
   "id": "532db414-a205-4106-963d-bddb1b13f464",
   "metadata": {},
   "outputs": [
    {
     "data": {
      "image/png": "[encoded data removed]",
      "text/plain": [
       "<Figure size 576x432 with 2 Axes>"
      ]
     },
     "metadata": {
      "needs_background": "light"
     },
     "output_type": "display_data"
    }
   ],
   "source": [
    "\n",
    "import matplotlib.colors as colors\n",
    "\n",
    "''' ----------\n",
    "Plot clustering\n",
    "------------'''\n",
    "  \n",
    "    \n",
    "\n",
    "def plot_latentspace_clusters_no_labels( embedded_data ):#,labels):\n",
    "    ''' Embedded data should have (N,2)'''\n",
    "    fig = plt.figure(figsize=(8, 8))\n",
    "    plt.scatter(embedded_data[:, 0], embedded_data[:, 1])#, c=labels,s=2,cmap='winter') # also add size for scatter point\n",
    "    plt.colorbar()\n",
    "    plt.xlabel(\"z[0]\")\n",
    "    plt.ylabel(\"z[1]\")\n",
    "    plt.show()\n",
    "    return fig\n",
    "    \n",
    "\n",
    "\n",
    "# fig = plot_latentspace_clusters_no_labels( encoded_2D_testdata )\n",
    "# fig.savefig(os.path.join(path_to_traindir , model_dir, 'embedded_testdata_nolabels_' + tileNum))\n",
    "\n",
    "''' -- get latent spaace features  '''\n",
    "# tile_cutouts_balanced.shape # ('sample', 'x_win', 'y_win', 'band')\n",
    "# tile_cutout_da = tile_da.transpose('sample','x_win','y_win','band')\n",
    "train_samples_unstacked = tile_cutouts_da.unstack()\n",
    "\n",
    "# To interpret clusters: extract z0 and z1 values to plot spatially. \n",
    "embedded_data = encoded_data # 2D\n",
    "\n",
    "z0 = embedded_data[:,0]\n",
    "z1 = embedded_data[:,1]\n",
    " \n",
    "\n",
    "''' -- plot  '''\n",
    "heatmap, xedges, yedges = np.histogram2d(z0, z1, bins=50)\n",
    "extent = [xedges[0], xedges[-1], yedges[0], yedges[-1]]\n",
    "\n",
    "fig,ax=plt.subplots(1,figsize=(8,6))\n",
    "# ax = fig.add_subplot(132)\n",
    "hmap = ax.imshow(heatmap.T, extent=extent, origin='lower',norm=colors.LogNorm(vmin=1, vmax=heatmap.max()),cmap='viridis')\n",
    "ax.set_aspect('auto')\n",
    "ax.grid('on')\n",
    "fig.colorbar(hmap)\n",
    "ax.set_xlabel('z0')\n",
    "ax.set_ylabel('z1')\n",
    "\n",
    "\n",
    "fig.savefig(os.path.join(path_to_traindir , model_dir, 'embedded_testdata_heatmap_' + tileNum))\n"
   ]
  },
  {
   "cell_type": "code",
   "execution_count": null,
   "id": "fe0f022f-e94e-4e55-a385-91b37cb6c6fe",
   "metadata": {},
   "outputs": [],
   "source": []
  },
  {
   "cell_type": "code",
   "execution_count": null,
   "id": "368a888c-1ec5-4e43-bb1c-57256ee452c5",
   "metadata": {},
   "outputs": [],
   "source": []
  },
  {
   "cell_type": "code",
   "execution_count": 34,
   "id": "ed741361-3ec7-4562-ae71-0ac7decae780",
   "metadata": {},
   "outputs": [],
   "source": [
    "\n",
    "    \n",
    "def plot_latentspace_clusters( embedded_data,labels, clabel ):    \n",
    "    marksize = 2\n",
    "    # print(embedded_data.shape)\n",
    "    if len(labels.shape)>1:\n",
    "        labels = np.squeeze(labels)\n",
    "    embedded_data = embedded_data[ np.argsort(labels),:] #,np.argsort(labels)]\n",
    "    \n",
    "    fig, ax1 = plt.subplots(figsize=(8,8) )\n",
    "    s1 = ax1.scatter(embedded_data[:, 0], embedded_data[:, 1], c=labels, s=marksize, cmap='cividis_r',vmin=0, vmax=0.2) # also add size for scatter point\n",
    "    # s1 = ax1.scatter(embedded_data[:, 0], embedded_data[:, 1], c=labels, s=marksize, cmap='Set1',vmin=0, vmax=9) # also add size for scatter point\n",
    "    ax1.set_xlabel(\"z[0]\"); \n",
    "    ax1.set_ylabel(\"z[1]\");\n",
    "    fig.colorbar(s1,ax=ax1,label=clabel); \n",
    "    return fig\n",
    "\n",
    "# test_data_labels = label_cutouts.sum(axis=1).sum(axis=1) # (Nsamples, 20, 20, 1) to (Nsamples,1)\n",
    "# encoded_2D_testdata.shape\n",
    "# fig = plot_latentspace_clusters( encoded_2D_testdata , test_data_labels ,clabel='dmg indication')\n",
    "\n",
    "# fig.savefig(os.path.join(path_to_traindir , model_dir, 'embedded_testdata_label_' + tileNum))\n"
   ]
  },
  {
   "cell_type": "code",
   "execution_count": null,
   "id": "8f1fa580-2bb1-4e57-81f2-6f2c151d0080",
   "metadata": {},
   "outputs": [],
   "source": [
    "\n",
    "# ''' ----------\n",
    "# Plot latent space spatially\n",
    "# ------------'''\n",
    "\n",
    "# if latent_dim <=2:\n",
    "\n",
    "#     # must expand 1D array (Nsamples,) to (Nsamples,20,20) to spatially represent each window.\n",
    "#     # use np.repeaat or np.tile\n",
    "#     x = np.array([1,2,3,4]).T\n",
    "#     z0_win = np.expand_dims(z0,axis=1) \n",
    "#     z0_win = np.expand_dims(z0_win,axis=2) # (Nsamples,20,20) filled with the same sample-value on every pixel in the (20,20) window\n",
    "#     z0_win = np.repeat(z0_win, 20, axis=1)\n",
    "#     z0_win = np.repeat(z0_win ,20, axis=2) \n",
    "#     # z0_win\n",
    "\n",
    "\n",
    "\n",
    "#     # L_space_unstacked = tile_cutout_da.isel(band=[0]).copy(deep=True, data=np.expand_dims(z0_win,axis=3) ).unstack()\n",
    "#     # L_space_unstacked\n",
    "#     # fig = L_space_unstacked.isel(x=1,y=1,band=0).plot.imshow()\n",
    "\n",
    "\n",
    "#     # add z0 only to (sample,x,y. )\n",
    "#     L_space_xy_z0 =  tile_cutouts_da.isel(band=[0],x_win=0,y_win=0).copy(deep=True, data=np.expand_dims(z0,axis=1) ) #.unstack()\n",
    "#     L_space_xy_z0\n",
    "\n",
    "#     # add z1 only to (sample,x,y. )\n",
    "#     L_space_xy_z1 =  tile_cutouts_da.isel(band=[0],x_win=0,y_win=0).copy(deep=True, data=np.expand_dims(z1,axis=1) ) #.unstack()\n",
    "\n",
    "#     # L_space_xy_labels = tile_cutout_da.isel(band=[0],x_win=0,y_win=0).copy(deep=True, data=np.expand_dims(labels,axis=1) ) #.unstack()\n",
    "\n",
    "\n",
    "\n",
    "#     # plt.imshow(labels_raster[0])\n",
    "\n",
    "\n",
    "#     fig,axes = plt.subplots(1,3,figsize=(20,5))\n",
    "\n",
    "#     axes[0].imshow(tile_da[0])\n",
    "#     axes[0].set_aspect('equal')\n",
    "#     # tile_data.isel(band=0).plot.imshow()#ax=axes[0],x='x',add_label=False)\n",
    "\n",
    "#     L_space_xy_z0.unstack().isel(band=0).plot.imshow(ax=axes[1],x='x',vmin=-3,vmax=3,cmap='RdBu') # vmin=-2 vmax=2\n",
    "#     axes[1].set_title('z0')\n",
    "#     axes[1].set_aspect('equal')\n",
    "\n",
    "\n",
    "#     L_space_xy_z1.unstack().isel(band=0).plot.imshow(ax=axes[2],x='x',vmin=-0.01,vmax=0.01,cmap='RdBu')\n",
    "#     axes[2].set_title('z1')\n",
    "#     axes[2].set_aspect('equal')\n",
    "\n",
    "\n",
    "\n",
    "#     fig.savefig(os.path.join(path_to_traindir , model_dir, 'spatial_lspace_' + tileNum))"
   ]
  },
  {
   "cell_type": "code",
   "execution_count": null,
   "id": "40e293ff-8556-46eb-86ba-8b06a79b6797",
   "metadata": {},
   "outputs": [],
   "source": [
    "\n"
   ]
  },
  {
   "cell_type": "code",
   "execution_count": null,
   "id": "228f3f8a-49fe-4707-b758-7450f4483485",
   "metadata": {},
   "outputs": [],
   "source": [
    "\n"
   ]
  },
  {
   "cell_type": "code",
   "execution_count": null,
   "id": "74754e13-88a1-47c7-9ab8-73885359dad5",
   "metadata": {},
   "outputs": [],
   "source": []
  },
  {
   "cell_type": "code",
   "execution_count": null,
   "id": "9f303db2-acc8-4954-8b14-5f855c1d29f8",
   "metadata": {},
   "outputs": [],
   "source": []
  },
  {
   "cell_type": "code",
   "execution_count": null,
   "id": "c439ddb5-6868-4479-8c68-36d2d554ad3f",
   "metadata": {},
   "outputs": [],
   "source": []
  }
 ],
 "metadata": {
  "kernelspec": {
   "display_name": "Python 3 (ipykernel)",
   "language": "python",
   "name": "python3"
  },
  "language_info": {
   "codemirror_mode": {
    "name": "ipython",
    "version": 3
   },
   "file_extension": ".py",
   "mimetype": "text/x-python",
   "name": "python",
   "nbconvert_exporter": "python",
   "pygments_lexer": "ipython3",
   "version": "3.9.13"
  },
  "vscode": {
   "interpreter": {
    "hash": "49c09480b0a56e56eaa03a0fc423497b2e18d961896d9b2e8f1ce68153effb79"
   }
  }
 },
 "nbformat": 4,
 "nbformat_minor": 5
}
