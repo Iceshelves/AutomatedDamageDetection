{
 "cells": [
  {
   "cell_type": "code",
   "execution_count": 1,
   "id": "bridal-flush",
   "metadata": {},
   "outputs": [],
   "source": [
    "import dcachefs\n",
    "import gcsfs\n",
    "import getpass\n",
    "import os\n",
    "import tqdm"
   ]
  },
  {
   "cell_type": "markdown",
   "id": "sustainable-clearing",
   "metadata": {},
   "source": [
    "# Copying tiles from GCS to dCache storage"
   ]
  },
  {
   "cell_type": "markdown",
   "id": "mediterranean-evanescence",
   "metadata": {},
   "source": [
    "In order to access a Google Cloud Storage (GCS) bucket via [GCSFS](https://gcsfs.readthedocs.io) ([Filesystem Spec](https://filesystem-spec.readthedocs.io) compatible file system module for GCS), one needs to set up authentication credentials:\n",
    "* Make sure to have sufficient \"Bucket\" and \"Object\" permissions (being \"Bucket Owner\" is not sufficient to download the data); \n",
    "* Download and uncompress the [*Google Cloud SDK*](https://cloud.google.com/sdk/docs/quickstart) tarball;\n",
    "* Run `./google-cloud-sdk/bin/gcloud init --no-launch-browser` and provide authentication credentials and default project information (a new one can be created)\n",
    "* Install `gcsfs`  using `pip`: \n",
    "```shell\n",
    "pip install gcsfs\n",
    "```"
   ]
  },
  {
   "cell_type": "code",
   "execution_count": 2,
   "id": "theoretical-malaysia",
   "metadata": {},
   "outputs": [],
   "source": [
    "google_account = getpass.getpass()"
   ]
  },
  {
   "cell_type": "code",
   "execution_count": 3,
   "id": "9b424370-92a9-409a-a22d-345b98351c0e",
   "metadata": {},
   "outputs": [],
   "source": [
    "google_account = 'izeboud.maaike'"
   ]
  },
  {
   "cell_type": "code",
   "execution_count": 4,
   "id": "removed-difference",
   "metadata": {},
   "outputs": [],
   "source": [
    "# read authentication credentials created by `gcloud`\n",
    "gcs_fs = gcsfs.GCSFileSystem(\n",
    "    # token=f\"/Users/fnattino/.config/gcloud/legacy_credentials/{google_account}@gmail.com/adc.json\"\n",
    "    token=f\"/Users/tud500158/.config/gcloud/legacy_credentials/{google_account}@gmail.com/adc.json\"\n",
    ")"
   ]
  },
  {
   "cell_type": "code",
   "execution_count": null,
   "id": "775e7f5c-0924-4b0c-9055-d96052bb9785",
   "metadata": {},
   "outputs": [],
   "source": []
  },
  {
   "cell_type": "code",
   "execution_count": 5,
   "id": "wireless-cooking",
   "metadata": {},
   "outputs": [
    {
     "name": "stdout",
     "output_type": "stream",
     "text": [
      "273\n"
     ]
    },
    {
     "data": {
      "text/plain": [
       "['ee-data_export/data_S1_pineIsland/S1A_IW_GRDH_1SSH_20150526_orbit-65_sliceMosaic_10m.tif',\n",
       " 'ee-data_export/data_S1_pineIsland/S1A_IW_GRDH_1SSH_20150607_orbit-65_sliceMosaic_10m.tif',\n",
       " 'ee-data_export/data_S1_pineIsland/S1A_IW_GRDH_1SSH_20150619_orbit-65_sliceMosaic_10m.tif',\n",
       " 'ee-data_export/data_S1_pineIsland/S1A_IW_GRDH_1SSH_20150701_orbit-65_sliceMosaic_10m.tif',\n",
       " 'ee-data_export/data_S1_pineIsland/S1A_IW_GRDH_1SSH_20180110_orbit-65_sliceMosaic_10m.tif',\n",
       " 'ee-data_export/data_S1_pineIsland/S1A_IW_GRDH_1SSH_20180122_orbit-65_sliceMosaic_10m.tif',\n",
       " 'ee-data_export/data_S1_pineIsland/S1A_IW_GRDH_1SSH_20180203_orbit-65_sliceMosaic_10m.tif',\n",
       " 'ee-data_export/data_S1_pineIsland/S1A_IW_GRDH_1SSH_20180215_orbit-65_sliceMosaic_10m.tif',\n",
       " 'ee-data_export/data_S1_pineIsland/S1A_IW_GRDH_1SSH_20180227_orbit-65_sliceMosaic_10m.tif',\n",
       " 'ee-data_export/data_S1_pineIsland/S1A_IW_GRDH_1SSH_20180311_orbit-65_sliceMosaic_10m.tif']"
      ]
     },
     "execution_count": 5,
     "metadata": {},
     "output_type": "execute_result"
    }
   ],
   "source": [
    "# get bucket tile list\n",
    "tiles = gcs_fs.glob(\n",
    "    # \"gs://ee-data_export/S2_composite_2019-11-1_2020-3-1_tile_*.tif\"\n",
    "    # \"gs://ee-data_export/data_update/S2_composite_2019-11-1_2020-3-1_tile_*.tif\"\n",
    "    # \"gs://ee-data_export/S1_mosaic_2020-01-01_2020-02-02/S1_*.tif\"\n",
    "    \"gs://ee-data_export/data_S1_pineIsland/S1*.tif\"\n",
    ")\n",
    "print(len(tiles))\n",
    "tiles[:10]"
   ]
  },
  {
   "cell_type": "code",
   "execution_count": null,
   "id": "incomplete-indonesian",
   "metadata": {},
   "outputs": [],
   "source": []
  },
  {
   "cell_type": "code",
   "execution_count": 6,
   "id": "protecting-suggestion",
   "metadata": {},
   "outputs": [],
   "source": [
    "# configure access to dCache file system\n",
    "dcache_fs = dcachefs.dCacheFileSystem(\n",
    "    username=getpass.getpass(\"username\"),\n",
    "    password=getpass.getpass(\"password\"),\n",
    "    api_url=\"https://dcacheview.grid.surfsara.nl:22880/api/v1/\", \n",
    "    webdav_url=\"https://webdav.grid.surfsara.nl:2880\"\n",
    ")\n"
   ]
  },
  {
   "cell_type": "code",
   "execution_count": 7,
   "id": "ea68a7f8-bb6c-4772-8d91-47d8b8074de6",
   "metadata": {},
   "outputs": [
    {
     "data": {
      "text/plain": [
       "'/Users/tud500158/Library/Mobile Documents/com~apple~CloudDocs/Documents/Documents - TUD500158/github/AutomatedDamageDetection/notebooks'"
      ]
     },
     "execution_count": 7,
     "metadata": {},
     "output_type": "execute_result"
    }
   ],
   "source": [
    "os.getcwd()"
   ]
  },
  {
   "cell_type": "code",
   "execution_count": 8,
   "id": "c814ee7e-bd7a-485f-a277-098243f649d9",
   "metadata": {},
   "outputs": [],
   "source": [
    "def _get_token(rclone_config_file: str):\n",
    "    \"\"\" Extract token from file (rclone config or plain file) \"\"\"\n",
    "    with open(rclone_config_file) as f:\n",
    "        content = f.read()\n",
    "\n",
    "    token = None\n",
    "\n",
    "    for line in content.splitlines():\n",
    "        # try rclone config file\n",
    "        if line.startswith(\"bearer_token\"):\n",
    "            token = line.split()[-1]\n",
    "\n",
    "    if token is None:\n",
    "        # assume plain text file\n",
    "        token = content.strip()\n",
    "    return token\n",
    "\n",
    "# configure access to dCache file system\n",
    "homedir = '/Users/tud500158/Library/Mobile Documents/com~apple~CloudDocs/Documents/Documents - TUD500158/'\n",
    "dcache_token_file = os.path.join(homedir,'github/iceshelf_2022-08-04_365D_maaike.conf')\n",
    "dcache_api_url = \"https://dcacheview.grid.surfsara.nl:22880/api/v1/\"\n",
    "dcache_webdav_url = \"https://webdav.grid.surfsara.nl:2880\"\n",
    "                                 \n",
    "dcache_fs = dcachefs.dCacheFileSystem(\n",
    "    token=_get_token(dcache_token_file),\n",
    "    api_url=dcache_api_url,\n",
    "    webdav_url=dcache_webdav_url,\n",
    "    block_size=0  # will open file in stream mode\n",
    ")\n"
   ]
  },
  {
   "cell_type": "code",
   "execution_count": 9,
   "id": "standing-protection",
   "metadata": {},
   "outputs": [
    {
     "name": "stderr",
     "output_type": "stream",
     "text": [
      "100%|██████████| 273/273 [3:59:00<00:00, 52.53s/it]   \n"
     ]
    }
   ],
   "source": [
    "for tile in tqdm.tqdm(tiles):\n",
    "    \n",
    "    _, filename = os.path.split(tile)\n",
    "    \n",
    "    source_uri = f\"gs://{tile}\"\n",
    "    # destination_uri = f\"/pnfs/grid.sara.nl/data/iceshelf/disk/S2_composite_2019-11-1_2020-3-1/{filename}\"\n",
    "    # destination_uri = f\"/pnfs/grid.sara.nl/data/iceshelf/disk/S1_mosaic_2020-01-01_2020-02-01/{filename}\"\n",
    "    destination_uri = f\"/pnfs/grid.sara.nl/data/iceshelf/disk/S1_pineIsland_temporal/{filename}\"\n",
    "\n",
    "    already_exists = dcache_fs.exists(destination_uri)\n",
    "    same_size = False if not already_exists else gcs_fs.size(source_uri) == dcache_fs.size(destination_uri)\n",
    "\n",
    "    # download missing/incomplete tiles\n",
    "    if not already_exists or not same_size:\n",
    "        with gcs_fs.open(source_uri) as f_read:\n",
    "            with dcache_fs.open(destination_uri, \"wb\", block_size=0, timeout=900) as f:  # open file in stream mode\n",
    "                f.write(f_read)"
   ]
  },
  {
   "cell_type": "code",
   "execution_count": null,
   "id": "7e03039b-1fa9-4006-a553-84ff4e09bf8c",
   "metadata": {},
   "outputs": [],
   "source": []
  }
 ],
 "metadata": {
  "kernelspec": {
   "display_name": "Python 3.9.7 64-bit ('3.9.7')",
   "language": "python",
   "name": "python3"
  },
  "language_info": {
   "codemirror_mode": {
    "name": "ipython",
    "version": 3
   },
   "file_extension": ".py",
   "mimetype": "text/x-python",
   "name": "python",
   "nbconvert_exporter": "python",
   "pygments_lexer": "ipython3",
   "version": "3.9.7"
  },
  "vscode": {
   "interpreter": {
    "hash": "c93822a657f8d55ea425c6bca167ed9e437aa137382b33aa3585e58c575ca0da"
   }
  }
 },
 "nbformat": 4,
 "nbformat_minor": 5
}
