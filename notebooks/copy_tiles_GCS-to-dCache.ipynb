{
 "cells": [
  {
   "cell_type": "code",
   "execution_count": 1,
   "id": "bridal-flush",
   "metadata": {},
   "outputs": [],
   "source": [
    "import dcachefs\n",
    "import gcsfs\n",
    "import getpass\n",
    "import os\n",
    "import tqdm"
   ]
  },
  {
   "cell_type": "markdown",
   "id": "sustainable-clearing",
   "metadata": {},
   "source": [
    "# Copying tiles from GCS to dCache storage"
   ]
  },
  {
   "cell_type": "markdown",
   "id": "mediterranean-evanescence",
   "metadata": {},
   "source": [
    "In order to access a Google Cloud Storage (GCS) bucket via [GCSFS](https://gcsfs.readthedocs.io) ([Filesystem Spec](https://filesystem-spec.readthedocs.io) compatible file system module for GCS), one needs to set up authentication credentials:\n",
    "* Make sure to have sufficient \"Bucket\" and \"Object\" permissions (being \"Bucket Owner\" is not sufficient to download the data); \n",
    "* Download and uncompress the [*Google Cloud SDK*](https://cloud.google.com/sdk/docs/quickstart) tarball;\n",
    "* Run `./google-cloud-sdk/bin/gcloud init --no-launch-browser` and provide authentication credentials and default project information (a new one can be created)\n",
    "* Install `gcsfs`  using `pip`: \n",
    "```shell\n",
    "pip install gcsfs\n",
    "```"
   ]
  },
  {
   "cell_type": "code",
   "execution_count": 2,
   "id": "theoretical-malaysia",
   "metadata": {},
   "outputs": [
    {
     "name": "stdin",
     "output_type": "stream",
     "text": [
      " ·················\n"
     ]
    }
   ],
   "source": [
    "google_account = getpass.getpass()"
   ]
  },
  {
   "cell_type": "code",
   "execution_count": 46,
   "id": "removed-difference",
   "metadata": {},
   "outputs": [],
   "source": [
    "# read authentication credentials created by `gcloud`\n",
    "gcs_fs = gcsfs.GCSFileSystem(\n",
    "    token=f\"/Users/fnattino/.config/gcloud/legacy_credentials/{google_account}@gmail.com/adc.json\"\n",
    ")"
   ]
  },
  {
   "cell_type": "code",
   "execution_count": 4,
   "id": "wireless-cooking",
   "metadata": {},
   "outputs": [
    {
     "data": {
      "text/plain": [
       "['ee-data_export/S2_composite_2019-11-1_2020-3-1_tile_0.tif',\n",
       " 'ee-data_export/S2_composite_2019-11-1_2020-3-1_tile_1.tif',\n",
       " 'ee-data_export/S2_composite_2019-11-1_2020-3-1_tile_10.tif',\n",
       " 'ee-data_export/S2_composite_2019-11-1_2020-3-1_tile_100.tif',\n",
       " 'ee-data_export/S2_composite_2019-11-1_2020-3-1_tile_101.tif',\n",
       " 'ee-data_export/S2_composite_2019-11-1_2020-3-1_tile_102.tif',\n",
       " 'ee-data_export/S2_composite_2019-11-1_2020-3-1_tile_103.tif',\n",
       " 'ee-data_export/S2_composite_2019-11-1_2020-3-1_tile_104.tif',\n",
       " 'ee-data_export/S2_composite_2019-11-1_2020-3-1_tile_105.tif',\n",
       " 'ee-data_export/S2_composite_2019-11-1_2020-3-1_tile_106.tif']"
      ]
     },
     "execution_count": 4,
     "metadata": {},
     "output_type": "execute_result"
    }
   ],
   "source": [
    "# get bucket tile list\n",
    "tiles = gcs_fs.glob(\n",
    "    \"gs://ee-data_export/S2_composite_2019-11-1_2020-3-1_tile_*.tif\"\n",
    ")\n",
    "tiles[:10]"
   ]
  },
  {
   "cell_type": "code",
   "execution_count": 5,
   "id": "incomplete-indonesian",
   "metadata": {},
   "outputs": [
    {
     "data": {
      "text/plain": [
       "341"
      ]
     },
     "execution_count": 5,
     "metadata": {},
     "output_type": "execute_result"
    }
   ],
   "source": [
    "len(tiles)"
   ]
  },
  {
   "cell_type": "code",
   "execution_count": 6,
   "id": "protecting-suggestion",
   "metadata": {},
   "outputs": [
    {
     "name": "stdin",
     "output_type": "stream",
     "text": [
      "username ·················\n",
      "password ················\n"
     ]
    }
   ],
   "source": [
    "# configure access to dCache file system\n",
    "dcache_fs = dcachefs.dCacheFileSystem(\n",
    "    username=getpass.getpass(\"username\"),\n",
    "    password=getpass.getpass(\"password\"),\n",
    "    api_url=\"https://dcacheview.grid.surfsara.nl:22880/api/v1/\", \n",
    "    webdav_url=\"https://webdav.grid.surfsara.nl:2880\"\n",
    ")"
   ]
  },
  {
   "cell_type": "code",
   "execution_count": 45,
   "id": "standing-protection",
   "metadata": {},
   "outputs": [
    {
     "name": "stderr",
     "output_type": "stream",
     "text": [
      "100%|██████████| 341/341 [5:51:21<00:00, 61.82s/it]   \n"
     ]
    }
   ],
   "source": [
    "for tile in tqdm.tqdm(tiles):\n",
    "    \n",
    "    _, filename = os.path.split(tile)\n",
    "    \n",
    "    source_uri = f\"gs://{tile}\"\n",
    "    destination_uri = f\"/pnfs/grid.sara.nl/data/iceshelf/disk/S2_composite_2019-11-1_2020-3-1/{filename}\"\n",
    "\n",
    "    already_exists = dcache_fs.exists(destination_uri)\n",
    "    same_size = False if not already_exists else gcs_fs.size(source_uri) == dcache_fs.size(destination_uri)\n",
    "\n",
    "    # download missing/incomplete tiles\n",
    "    if not already_exists or not same_size:\n",
    "        with gcs_fs.open(source_uri) as f_read:\n",
    "            with dcache_fs.open(destination_uri, \"wb\", block_size=0, timeout=900) as f:  # open file in stream mode\n",
    "                f.write(f_read)"
   ]
  }
 ],
 "metadata": {
  "kernelspec": {
   "display_name": "Python 3 (ipykernel)",
   "language": "python",
   "name": "python3"
  },
  "language_info": {
   "codemirror_mode": {
    "name": "ipython",
    "version": 3
   },
   "file_extension": ".py",
   "mimetype": "text/x-python",
   "name": "python",
   "nbconvert_exporter": "python",
   "pygments_lexer": "ipython3",
   "version": "3.10.5"
  }
 },
 "nbformat": 4,
 "nbformat_minor": 5
}
