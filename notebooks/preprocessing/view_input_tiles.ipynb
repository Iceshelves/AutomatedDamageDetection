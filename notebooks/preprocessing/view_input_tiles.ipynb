{
 "cells": [
  {
   "cell_type": "markdown",
   "id": "d9fde816-99ff-444b-b0c2-d4bb2b0fa826",
   "metadata": {},
   "source": [
    "## Plot tiles to check data quality\n"
   ]
  },
  {
   "cell_type": "code",
   "execution_count": 13,
   "id": "bd2797ca-8634-4af4-a834-eab7b9ccec7c",
   "metadata": {},
   "outputs": [],
   "source": [
    "\n",
    "import xarray as xr\n",
    "import rioxarray as rioxr\n",
    "import os\n",
    "import matplotlib.pyplot as plt\n",
    "homedir = '/Users/tud500158/Library/Mobile Documents/com~apple~CloudDocs/Documents/Documents - TUD500158/'"
   ]
  },
  {
   "cell_type": "code",
   "execution_count": null,
   "id": "dacdcc95-e17e-4510-89d1-b2d66c6d5a2c",
   "metadata": {},
   "outputs": [
    {
     "name": "stdout",
     "output_type": "stream",
     "text": [
      "S2_composite_2019-11-1_2020-3-1_tile_250.tif\n"
     ]
    }
   ],
   "source": [
    "# use composite image as test tile\n",
    "path_s2 = os.path.join(homedir, 'Data/tiles/training_tiles/')\n",
    "# print(path_s2)\n",
    "imList = os.listdir(path_s2)\n",
    "\n",
    "imName = imList[0]\n",
    "dbmin = 4e3\n",
    "dbmax = 12e3\n",
    "for imName in imList[0:1]:\n",
    "    print(imName)\n",
    "\n",
    "    # # load image and plot\n",
    "    img = rioxr.open_rasterio(os.path.join(path_s2,imName))\n",
    "    img_rgb = img.isel(band=[0,1,2]).transpose(\"y\",\"x\",\"band\")\n",
    "    \n",
    "    img_clipped = img_rgb.isel(band=[0,1,2]).values\n",
    "    img_clipped[img_clipped < dbmin] = dbmin # first clip values larger than allowed min/max\n",
    "    img_clipped[img_clipped > dbmax] = dbmax\n",
    "\n",
    "    img_norm = (img_clipped - dbmin) / (dbmax - dbmin) # normalise\n",
    "\n",
    "    img_gray = xr.DataArray(data= img_norm, \n",
    "                    coords=(img_rgb[\"y\"], img_rgb[\"x\"],img_rgb[\"band\"] ), \n",
    "                    dims=(\"y\",\"x\",\"band\"), name=\"rgb\", \n",
    "                    attrs=img.attrs, indexes=img.indexes)#, fastpath=False)\n",
    "\n",
    "    # norm_threshold = 10000\n",
    "    # img_rgb = (img_rgb + 0.1) / (norm_threshold + 1)\n",
    "    # img_rgb = img_rgb.clip(max=1)\n",
    "\n",
    "    plt.figure()\n",
    "    img_rgb.plot.imshow()\n",
    "\n"
   ]
  },
  {
   "cell_type": "code",
   "execution_count": 12,
   "id": "4981f479-0e44-49a3-a766-b4c99dc7a668",
   "metadata": {},
   "outputs": [
    {
     "name": "stdout",
     "output_type": "stream",
     "text": [
      "<xarray.DataArray ()>\n",
      "array(0, dtype=uint16)\n",
      "Coordinates:\n",
      "    spatial_ref  int64 0 <xarray.DataArray ()>\n",
      "array(19392, dtype=uint16)\n",
      "Coordinates:\n",
      "    spatial_ref  int64 0\n"
     ]
    }
   ],
   "source": [
    "\n",
    "# print(img_rgb.min(),img_rgb.max())"
   ]
  },
  {
   "cell_type": "code",
   "execution_count": null,
   "id": "ed35da49-5fe5-48bb-bdb9-7472fd9bb8df",
   "metadata": {},
   "outputs": [],
   "source": [
    "# img_rgb.plot.imshow()"
   ]
  }
 ],
 "metadata": {
  "kernelspec": {
   "display_name": "Python 3 (ipykernel)",
   "language": "python",
   "name": "python3"
  },
  "language_info": {
   "codemirror_mode": {
    "name": "ipython",
    "version": 3
   },
   "file_extension": ".py",
   "mimetype": "text/x-python",
   "name": "python",
   "nbconvert_exporter": "python",
   "pygments_lexer": "ipython3",
   "version": "3.9.13"
  }
 },
 "nbformat": 4,
 "nbformat_minor": 5
}
