{
 "cells": [
  {
   "cell_type": "markdown",
   "id": "c18910d3-004a-4f76-a8ab-694c360abbc4",
   "metadata": {},
   "source": [
    "## Use RAMP detected damage to balance tiles"
   ]
  },
  {
   "cell_type": "code",
   "execution_count": 1,
   "id": "1c80e3fa-0ee7-487b-bf58-aee977ba098a",
   "metadata": {},
   "outputs": [],
   "source": [
    "import geopandas as gpd\n",
    "import pandas as pd\n",
    "import pathlib\n",
    "import pystac"
   ]
  },
  {
   "cell_type": "code",
   "execution_count": 2,
   "id": "bb24e96d-7250-4c81-b739-3fc0dd79e8f9",
   "metadata": {},
   "outputs": [
    {
     "data": {
      "text/plain": [
       "'/Users/tud500158/Library/Mobile Documents/com~apple~CloudDocs/Documents/Documents - TUD500158/github/AutomatedDamageDetection/notebooks/preprocessing'"
      ]
     },
     "execution_count": 2,
     "metadata": {},
     "output_type": "execute_result"
    }
   ],
   "source": [
    "import os\n",
    "os.getcwd()"
   ]
  },
  {
   "cell_type": "code",
   "execution_count": 3,
   "id": "64c18c50-661b-4025-8873-42ec264b738e",
   "metadata": {},
   "outputs": [],
   "source": [
    "homedir = '/Users/tud500158/Library/Mobile Documents/com~apple~CloudDocs/Documents/Documents - TUD500158/'\n",
    "catalog_path = os.path.join(homedir,'Data/tiles')"
   ]
  },
  {
   "cell_type": "code",
   "execution_count": 4,
   "id": "81329c72-45df-46da-bf23-fbfc6fb16306",
   "metadata": {},
   "outputs": [],
   "source": [
    "\n",
    "def _read_tile_catalog(catalog_path):\n",
    "    \"\"\" Read the tile catalog \"\"\"\n",
    "    catalog_path = pathlib.Path(catalog_path)\n",
    "    catalog_path = catalog_path / \"catalog.json\"\n",
    "    return pystac.Catalog.from_file(catalog_path.as_posix())\n",
    "\n",
    "\n",
    "def _catalog_to_geodataframe(catalog, crs=\"WGS84\"):\n",
    "    \"\"\" Convert STAC catalog to a GeoDataFrame object \"\"\"\n",
    "    features = {item.id: item.to_dict() for item in catalog.get_all_items()}\n",
    "    gdf = gpd.GeoDataFrame.from_features(features.values())\n",
    "    gdf.index = features.keys()\n",
    "    for column in gdf.columns:\n",
    "        if 'datetime' in column:\n",
    "            gdf[column] = pd.to_datetime(gdf[column])\n",
    "    gdf = gdf.set_crs(crs)\n",
    "    return gdf\n"
   ]
  },
  {
   "cell_type": "code",
   "execution_count": 5,
   "id": "08565245-b9a0-461b-9fc1-7ffb77d44cca",
   "metadata": {},
   "outputs": [
    {
     "name": "stdout",
     "output_type": "stream",
     "text": [
      "32\n"
     ]
    }
   ],
   "source": [
    "select_dmg_quantile = 0.9\n",
    "dmg_px_count_file = os.path.join(homedir,'Data/RAMP/RAMP_tiled/RAMP_tiled_dmg_px_count.csv')\n",
    "\n",
    "# read tile catalog\n",
    "catalog = _read_tile_catalog(catalog_path)\n",
    "tiles = _catalog_to_geodataframe(catalog) # gpd f\n",
    "tilelist = tiles.index.values.tolist()    # tilenames in list (excluding .tif)\n",
    "len(tilelist)\n",
    "\n",
    "# read the dmg-indicator file for all tiles\n",
    "train_set = gpd.GeoDataFrame()\n",
    "if dmg_px_count_file is not None: # dmg file: \"RAMP_tiled_dmg_px_count .pkl or .csv\"\n",
    "    # tiled_dmg_px_count = pd.read_pickle(dmg_px_count_file)\n",
    "    tiled_dmg_px_count = pd.read_csv(dmg_px_count_file, index_col=0) \n",
    "    # print(tiled_dmg_px_count)\n",
    "\n",
    "    # select tiles with most damage\n",
    "    df_mask= tiled_dmg_px_count['Dmg_px_count']>=tiled_dmg_px_count['Dmg_px_count'].quantile( select_dmg_quantile )\n",
    "    tiles_heavydmg = tiled_dmg_px_count[df_mask]\n",
    "    tile_nums_heavydmg = tiles_heavydmg['Tile_Num'].values # array with strings 'N'\n",
    "\n",
    "    for tile_N in tile_nums_heavydmg:\n",
    "        # tile_N = 'tile_' + tile_N   # add prefix to string to differentiate number '10' from '100' and '110' etc\n",
    "        tile_N = 'tile_' + str(tile_N)\n",
    "        corresponding_file = [file  for file in tilelist if file.endswith(tile_N) ]\n",
    "\n",
    "        # add to train_set\n",
    "        train_set = pd.concat([train_set, tiles.loc[corresponding_file]])\n",
    "print(len(train_set) )\n",
    "train_set_1 = train_set;\n",
    "dmg_tiles_1 = tile_nums_heavydmg"
   ]
  },
  {
   "cell_type": "markdown",
   "id": "dc25626b-9f64-4465-bd3d-2f5bfab08a8f",
   "metadata": {},
   "source": [
    "## Exclude Region from whole training workflow, set apart for testing at final stage"
   ]
  },
  {
   "cell_type": "code",
   "execution_count": 6,
   "id": "5966cfa7-f5f1-4fc2-b834-275ffa905d79",
   "metadata": {},
   "outputs": [],
   "source": [
    "# tileNums_test_ROI = [112,122,126,139,140,141,142,143,151,152,153,154]\n",
    "tileNums_test_ROI = [112,122,123,124,125,126,139,140,141,142,143,151,152,153,154]\n"
   ]
  },
  {
   "cell_type": "markdown",
   "id": "94b62ce2-9186-45d6-9cfc-69cd9bd8fdde",
   "metadata": {},
   "source": [
    "#### remove ROI from tilelist that is used to split training/val/test sets"
   ]
  },
  {
   "cell_type": "code",
   "execution_count": 7,
   "id": "56f12cc6-96c6-4721-bacc-95a78388ad99",
   "metadata": {},
   "outputs": [
    {
     "data": {
      "text/html": [
       "<div>\n",
       "<style scoped>\n",
       "    .dataframe tbody tr th:only-of-type {\n",
       "        vertical-align: middle;\n",
       "    }\n",
       "\n",
       "    .dataframe tbody tr th {\n",
       "        vertical-align: top;\n",
       "    }\n",
       "\n",
       "    .dataframe thead th {\n",
       "        text-align: right;\n",
       "    }\n",
       "</style>\n",
       "<table border=\"1\" class=\"dataframe\">\n",
       "  <thead>\n",
       "    <tr style=\"text-align: right;\">\n",
       "      <th></th>\n",
       "      <th>geometry</th>\n",
       "      <th>start_datetime</th>\n",
       "      <th>end_datetime</th>\n",
       "      <th>datetime</th>\n",
       "    </tr>\n",
       "  </thead>\n",
       "  <tbody>\n",
       "    <tr>\n",
       "      <th>S2_composite_2019-11-1_2020-3-1_tile_0</th>\n",
       "      <td>POLYGON ((-63.43559 -64.67813, -61.18918 -64.1...</td>\n",
       "      <td>2019-11-01</td>\n",
       "      <td>2020-03-01</td>\n",
       "      <td>NaT</td>\n",
       "    </tr>\n",
       "    <tr>\n",
       "      <th>S2_composite_2019-11-1_2020-3-1_tile_1</th>\n",
       "      <td>POLYGON ((-61.18988 -64.16869, -59.03628 -63.6...</td>\n",
       "      <td>2019-11-01</td>\n",
       "      <td>2020-03-01</td>\n",
       "      <td>NaT</td>\n",
       "    </tr>\n",
       "    <tr>\n",
       "      <th>S2_composite_2019-11-1_2020-3-1_tile_10</th>\n",
       "      <td>POLYGON ((-60.94604 -66.62668, -58.57037 -66.0...</td>\n",
       "      <td>2019-11-01</td>\n",
       "      <td>2020-03-01</td>\n",
       "      <td>NaT</td>\n",
       "    </tr>\n",
       "    <tr>\n",
       "      <th>S2_composite_2019-11-1_2020-3-1_tile_100</th>\n",
       "      <td>POLYGON ((-53.13093 -78.53210, -48.81395 -77.8...</td>\n",
       "      <td>2019-11-01</td>\n",
       "      <td>2020-03-01</td>\n",
       "      <td>NaT</td>\n",
       "    </tr>\n",
       "    <tr>\n",
       "      <th>S2_composite_2019-11-1_2020-3-1_tile_101</th>\n",
       "      <td>POLYGON ((-48.81493 -77.81454, -45.00000 -77.0...</td>\n",
       "      <td>2019-11-01</td>\n",
       "      <td>2020-03-01</td>\n",
       "      <td>NaT</td>\n",
       "    </tr>\n",
       "    <tr>\n",
       "      <th>...</th>\n",
       "      <td>...</td>\n",
       "      <td>...</td>\n",
       "      <td>...</td>\n",
       "      <td>...</td>\n",
       "    </tr>\n",
       "    <tr>\n",
       "      <th>S2_composite_2019-11-1_2020-3-1_tile_95</th>\n",
       "      <td>POLYGON ((-82.87520 -80.74381, -75.96362 -80.5...</td>\n",
       "      <td>2019-11-01</td>\n",
       "      <td>2020-03-01</td>\n",
       "      <td>NaT</td>\n",
       "    </tr>\n",
       "    <tr>\n",
       "      <th>S2_composite_2019-11-1_2020-3-1_tile_96</th>\n",
       "      <td>POLYGON ((-75.96416 -80.53354, -69.44402 -80.1...</td>\n",
       "      <td>2019-11-01</td>\n",
       "      <td>2020-03-01</td>\n",
       "      <td>NaT</td>\n",
       "    </tr>\n",
       "    <tr>\n",
       "      <th>S2_composite_2019-11-1_2020-3-1_tile_97</th>\n",
       "      <td>POLYGON ((-69.44452 -80.19327, -63.43472 -79.7...</td>\n",
       "      <td>2019-11-01</td>\n",
       "      <td>2020-03-01</td>\n",
       "      <td>NaT</td>\n",
       "    </tr>\n",
       "    <tr>\n",
       "      <th>S2_composite_2019-11-1_2020-3-1_tile_98</th>\n",
       "      <td>POLYGON ((-63.43564 -79.73618, -57.99457 -79.1...</td>\n",
       "      <td>2019-11-01</td>\n",
       "      <td>2020-03-01</td>\n",
       "      <td>NaT</td>\n",
       "    </tr>\n",
       "    <tr>\n",
       "      <th>S2_composite_2019-11-1_2020-3-1_tile_99</th>\n",
       "      <td>POLYGON ((-57.99539 -79.17737, -53.13019 -78.5...</td>\n",
       "      <td>2019-11-01</td>\n",
       "      <td>2020-03-01</td>\n",
       "      <td>NaT</td>\n",
       "    </tr>\n",
       "  </tbody>\n",
       "</table>\n",
       "<p>297 rows × 4 columns</p>\n",
       "</div>"
      ],
      "text/plain": [
       "                                                                                   geometry  \\\n",
       "S2_composite_2019-11-1_2020-3-1_tile_0    POLYGON ((-63.43559 -64.67813, -61.18918 -64.1...   \n",
       "S2_composite_2019-11-1_2020-3-1_tile_1    POLYGON ((-61.18988 -64.16869, -59.03628 -63.6...   \n",
       "S2_composite_2019-11-1_2020-3-1_tile_10   POLYGON ((-60.94604 -66.62668, -58.57037 -66.0...   \n",
       "S2_composite_2019-11-1_2020-3-1_tile_100  POLYGON ((-53.13093 -78.53210, -48.81395 -77.8...   \n",
       "S2_composite_2019-11-1_2020-3-1_tile_101  POLYGON ((-48.81493 -77.81454, -45.00000 -77.0...   \n",
       "...                                                                                     ...   \n",
       "S2_composite_2019-11-1_2020-3-1_tile_95   POLYGON ((-82.87520 -80.74381, -75.96362 -80.5...   \n",
       "S2_composite_2019-11-1_2020-3-1_tile_96   POLYGON ((-75.96416 -80.53354, -69.44402 -80.1...   \n",
       "S2_composite_2019-11-1_2020-3-1_tile_97   POLYGON ((-69.44452 -80.19327, -63.43472 -79.7...   \n",
       "S2_composite_2019-11-1_2020-3-1_tile_98   POLYGON ((-63.43564 -79.73618, -57.99457 -79.1...   \n",
       "S2_composite_2019-11-1_2020-3-1_tile_99   POLYGON ((-57.99539 -79.17737, -53.13019 -78.5...   \n",
       "\n",
       "                                         start_datetime end_datetime datetime  \n",
       "S2_composite_2019-11-1_2020-3-1_tile_0       2019-11-01   2020-03-01      NaT  \n",
       "S2_composite_2019-11-1_2020-3-1_tile_1       2019-11-01   2020-03-01      NaT  \n",
       "S2_composite_2019-11-1_2020-3-1_tile_10      2019-11-01   2020-03-01      NaT  \n",
       "S2_composite_2019-11-1_2020-3-1_tile_100     2019-11-01   2020-03-01      NaT  \n",
       "S2_composite_2019-11-1_2020-3-1_tile_101     2019-11-01   2020-03-01      NaT  \n",
       "...                                                 ...          ...      ...  \n",
       "S2_composite_2019-11-1_2020-3-1_tile_95      2019-11-01   2020-03-01      NaT  \n",
       "S2_composite_2019-11-1_2020-3-1_tile_96      2019-11-01   2020-03-01      NaT  \n",
       "S2_composite_2019-11-1_2020-3-1_tile_97      2019-11-01   2020-03-01      NaT  \n",
       "S2_composite_2019-11-1_2020-3-1_tile_98      2019-11-01   2020-03-01      NaT  \n",
       "S2_composite_2019-11-1_2020-3-1_tile_99      2019-11-01   2020-03-01      NaT  \n",
       "\n",
       "[297 rows x 4 columns]"
      ]
     },
     "execution_count": 7,
     "metadata": {},
     "output_type": "execute_result"
    }
   ],
   "source": [
    "tilelist\n",
    "\n",
    "# find ROI tiles in tilelist\n",
    "tilelist_ROI = [item for item in tilelist if int(item.split('_')[-1]) in tileNums_test_ROI]\n",
    "# make SET from ROI tiles\n",
    "ROI_set = tiles.loc[tilelist_ROI]\n",
    "# remove these from tilelist\n",
    "tiles_set = tiles.index.difference(tilelist_ROI) \n",
    "tiles_set = tiles.loc[tiles_set]\n",
    "tiles_set"
   ]
  },
  {
   "cell_type": "code",
   "execution_count": null,
   "id": "d1c84b5f-e908-4ab2-85fc-24a2324dac67",
   "metadata": {},
   "outputs": [],
   "source": [
    "\n"
   ]
  },
  {
   "cell_type": "markdown",
   "id": "600342d7-1484-4d51-bb32-ac6daf667c7e",
   "metadata": {},
   "source": [
    "#### remove ROI frm dmg file that is used for balancing"
   ]
  },
  {
   "cell_type": "code",
   "execution_count": 8,
   "id": "3664f1c5-867e-4e57-b380-090e71ab2da8",
   "metadata": {},
   "outputs": [
    {
     "data": {
      "text/html": [
       "<div>\n",
       "<style scoped>\n",
       "    .dataframe tbody tr th:only-of-type {\n",
       "        vertical-align: middle;\n",
       "    }\n",
       "\n",
       "    .dataframe tbody tr th {\n",
       "        vertical-align: top;\n",
       "    }\n",
       "\n",
       "    .dataframe thead th {\n",
       "        text-align: right;\n",
       "    }\n",
       "</style>\n",
       "<table border=\"1\" class=\"dataframe\">\n",
       "  <thead>\n",
       "    <tr style=\"text-align: right;\">\n",
       "      <th></th>\n",
       "      <th>Tile_Num</th>\n",
       "      <th>Dmg_px_count</th>\n",
       "    </tr>\n",
       "  </thead>\n",
       "  <tbody>\n",
       "    <tr>\n",
       "      <th>RAMP_mosaic_100m_tile_0.tif</th>\n",
       "      <td>0</td>\n",
       "      <td>390</td>\n",
       "    </tr>\n",
       "    <tr>\n",
       "      <th>RAMP_mosaic_100m_tile_100.tif</th>\n",
       "      <td>100</td>\n",
       "      <td>29</td>\n",
       "    </tr>\n",
       "    <tr>\n",
       "      <th>RAMP_mosaic_100m_tile_101.tif</th>\n",
       "      <td>101</td>\n",
       "      <td>182</td>\n",
       "    </tr>\n",
       "    <tr>\n",
       "      <th>RAMP_mosaic_100m_tile_102.tif</th>\n",
       "      <td>102</td>\n",
       "      <td>1532</td>\n",
       "    </tr>\n",
       "    <tr>\n",
       "      <th>RAMP_mosaic_100m_tile_103.tif</th>\n",
       "      <td>103</td>\n",
       "      <td>731</td>\n",
       "    </tr>\n",
       "    <tr>\n",
       "      <th>...</th>\n",
       "      <td>...</td>\n",
       "      <td>...</td>\n",
       "    </tr>\n",
       "    <tr>\n",
       "      <th>RAMP_mosaic_100m_tile_96.tif</th>\n",
       "      <td>96</td>\n",
       "      <td>100</td>\n",
       "    </tr>\n",
       "    <tr>\n",
       "      <th>RAMP_mosaic_100m_tile_97.tif</th>\n",
       "      <td>97</td>\n",
       "      <td>83</td>\n",
       "    </tr>\n",
       "    <tr>\n",
       "      <th>RAMP_mosaic_100m_tile_98.tif</th>\n",
       "      <td>98</td>\n",
       "      <td>104</td>\n",
       "    </tr>\n",
       "    <tr>\n",
       "      <th>RAMP_mosaic_100m_tile_99.tif</th>\n",
       "      <td>99</td>\n",
       "      <td>145</td>\n",
       "    </tr>\n",
       "    <tr>\n",
       "      <th>RAMP_mosaic_100m_tile_9.tif</th>\n",
       "      <td>9</td>\n",
       "      <td>339</td>\n",
       "    </tr>\n",
       "  </tbody>\n",
       "</table>\n",
       "<p>298 rows × 2 columns</p>\n",
       "</div>"
      ],
      "text/plain": [
       "                               Tile_Num  Dmg_px_count\n",
       "RAMP_mosaic_100m_tile_0.tif           0           390\n",
       "RAMP_mosaic_100m_tile_100.tif       100            29\n",
       "RAMP_mosaic_100m_tile_101.tif       101           182\n",
       "RAMP_mosaic_100m_tile_102.tif       102          1532\n",
       "RAMP_mosaic_100m_tile_103.tif       103           731\n",
       "...                                 ...           ...\n",
       "RAMP_mosaic_100m_tile_96.tif         96           100\n",
       "RAMP_mosaic_100m_tile_97.tif         97            83\n",
       "RAMP_mosaic_100m_tile_98.tif         98           104\n",
       "RAMP_mosaic_100m_tile_99.tif         99           145\n",
       "RAMP_mosaic_100m_tile_9.tif           9           339\n",
       "\n",
       "[298 rows x 2 columns]"
      ]
     },
     "execution_count": 8,
     "metadata": {},
     "output_type": "execute_result"
    }
   ],
   "source": [
    "\n",
    "tileNums_test_ROI = [112,122,123,124,125,126,139,140,141,142,143,151,152,153,154]\n",
    "\n",
    "# ROI_tiles = [item for item in  tiled_dmg_px_count['Tile_Num'].values if item in tileNums_test_ROI ]\n",
    "# avail_tiles = [item for item in  tiled_dmg_px_count['Tile_Num'].values if item not in tileNums_test_ROI ]\n",
    "\n",
    "\n",
    "# type(tiled_dmg_px_count)\n",
    "ROI_tiles = [True if item not in tileNums_test_ROI else False for item in tiled_dmg_px_count['Tile_Num'].values] # TRUE if tile can be kept, FALSE if\n",
    "new_df = tiled_dmg_px_count[ROI_tiles]\n",
    "\n",
    "# ROI_tiles = [True if item in tileNums_test_ROI else False for item in tiled_dmg_px_count['Tile_Num'].values] # TRUE of item in ROI (tile should be removed), else FALSE (then tile can be kept)\n",
    "# new_df = tiled_dmg_px_count[~ROI_tiles] # kanniet met list.\n",
    "new_df"
   ]
  },
  {
   "cell_type": "markdown",
   "id": "15899649-4412-45fd-9075-d751b3df4b44",
   "metadata": {},
   "source": [
    "### Apply in workflow for tiles.py"
   ]
  },
  {
   "cell_type": "code",
   "execution_count": 9,
   "id": "b6a91bce-998e-42b0-b232-06d39c8d778f",
   "metadata": {},
   "outputs": [
    {
     "name": "stdout",
     "output_type": "stream",
     "text": [
      "                               Tile_Num  Dmg_px_count\n",
      "RAMP_mosaic_100m_tile_0.tif           0           390\n",
      "RAMP_mosaic_100m_tile_100.tif       100            29\n",
      "RAMP_mosaic_100m_tile_101.tif       101           182\n",
      "RAMP_mosaic_100m_tile_102.tif       102          1532\n",
      "RAMP_mosaic_100m_tile_103.tif       103           731\n",
      "...                                 ...           ...\n",
      "RAMP_mosaic_100m_tile_96.tif         96           100\n",
      "RAMP_mosaic_100m_tile_97.tif         97            83\n",
      "RAMP_mosaic_100m_tile_98.tif         98           104\n",
      "RAMP_mosaic_100m_tile_99.tif         99           145\n",
      "RAMP_mosaic_100m_tile_9.tif           9           339\n",
      "\n",
      "[313 rows x 2 columns]\n",
      "30\n"
     ]
    }
   ],
   "source": [
    "\n",
    "\n",
    "select_dmg_quantile = 0.9\n",
    "dmg_px_count_file = os.path.join(homedir,'Data/RAMP/RAMP_tiled/RAMP_tiled_dmg_px_count.csv')\n",
    "\n",
    "# read tile catalog\n",
    "catalog = _read_tile_catalog(catalog_path)\n",
    "tiles = _catalog_to_geodataframe(catalog) # gpd f\n",
    "tilelist = tiles.index.values.tolist()    # tilenames in list (excluding .tif)\n",
    "\n",
    "# remove ROI tiles from tilelist, before dividing training/test/val\n",
    "tileNums_test_ROI = [112,122,123,124,125,126,139,140,141,142,143,151,152,153,154]\n",
    "tilelist_ROI = [item for item in tilelist if int(item.split('_')[-1]) in tileNums_test_ROI]\n",
    "# make SET from ROI tiles\n",
    "ROI_set = tiles.loc[tilelist_ROI]\n",
    "# remove these from tilelist\n",
    "tiles_set = tiles.index.difference(tilelist_ROI) \n",
    "tiles_set = tiles.loc[tiles_set]\n",
    "tiles = tiles_set\n",
    "\n",
    "# read the dmg-indicator file for all tiles\n",
    "train_set = gpd.GeoDataFrame()\n",
    "if dmg_px_count_file is not None: # dmg file: \"RAMP_tiled_dmg_px_count .pkl or .csv\"\n",
    "    # tiled_dmg_px_count = pd.read_pickle(dmg_px_count_file)\n",
    "    tiled_dmg_px_count = pd.read_csv(dmg_px_count_file, index_col=0) \n",
    "    print(tiled_dmg_px_count)\n",
    "\n",
    "    # remove tiles that are in test_ROI also from DMG count\n",
    "    ROI_tiles = [True if item not in tileNums_test_ROI else False for item in tiled_dmg_px_count['Tile_Num'].values] # TRUE if tile can be kept, FALSE if\n",
    "    tiled_dmg_px_count = tiled_dmg_px_count[ROI_tiles]\n",
    "    \n",
    "    # select tiles with most damage\n",
    "    df_mask= tiled_dmg_px_count['Dmg_px_count']>=tiled_dmg_px_count['Dmg_px_count'].quantile( select_dmg_quantile )\n",
    "    tiles_heavydmg = tiled_dmg_px_count[df_mask]\n",
    "    tile_nums_heavydmg = tiles_heavydmg['Tile_Num'].values # array with strings 'N'\n",
    "\n",
    "    for tile_N in tile_nums_heavydmg:\n",
    "        # tile_N = 'tile_' + tile_N   # add prefix to string to differentiate number '10' from '100' and '110' etc\n",
    "        tile_N = 'tile_' + str(tile_N)\n",
    "        corresponding_file = [file  for file in tilelist if file.endswith(tile_N) ]\n",
    "\n",
    "        # add to train_set\n",
    "        train_set = pd.concat([train_set, tiles.loc[corresponding_file]])\n",
    "        \n",
    "train_set_2=train_set\n",
    "dmg_tiles_2 = tile_nums_heavydmg\n",
    "print(len(train_set_2))"
   ]
  },
  {
   "cell_type": "code",
   "execution_count": 10,
   "id": "fb364601-8385-43e5-a64f-ac4a0f487491",
   "metadata": {},
   "outputs": [
    {
     "data": {
      "text/plain": [
       "array([102, 110, 114, 172, 182, 204, 205, 206, 209, 214, 228, 238, 247,\n",
       "       250, 261, 268, 273, 282, 285,  28, 291, 292, 299, 301, 302, 307,\n",
       "        50,  53,  68,  93])"
      ]
     },
     "execution_count": 10,
     "metadata": {},
     "output_type": "execute_result"
    }
   ],
   "source": [
    "dmg_tiles_2"
   ]
  },
  {
   "cell_type": "code",
   "execution_count": 11,
   "id": "38850517-4aba-4bf1-9ef9-10dbbcecc37e",
   "metadata": {},
   "outputs": [
    {
     "name": "stdout",
     "output_type": "stream",
     "text": [
      "Tiles removed from balanced training-set as they were in testROI: \n",
      "[139, 140, 142, 123, 124]\n",
      "Tiles removed from balanced training-set as they were in testROI: \n",
      "['S2_composite_2019-11-1_2020-3-1_tile_123', 'S2_composite_2019-11-1_2020-3-1_tile_142', 'S2_composite_2019-11-1_2020-3-1_tile_140', 'S2_composite_2019-11-1_2020-3-1_tile_139', 'S2_composite_2019-11-1_2020-3-1_tile_124']\n"
     ]
    }
   ],
   "source": [
    "## item in A but not in B:\n",
    "difference = list(set(dmg_tiles_1) - set(dmg_tiles_2)) \n",
    "print('Tiles removed from balanced training-set as they were in testROI: \\n{}'.format(difference))\n",
    "\n",
    "difference = list(set(train_set_1.index.values) - set(train_set_2.index.values)) \n",
    "print('Tiles removed from balanced training-set as they were in testROI: \\n{}'.format(difference))\n"
   ]
  },
  {
   "cell_type": "code",
   "execution_count": 12,
   "id": "d0f39742-c6f6-490c-8be0-5b86c26d75ff",
   "metadata": {},
   "outputs": [
    {
     "data": {
      "text/plain": [
       "[112, 122, 123, 124, 125, 126, 139, 140, 141, 142, 143, 151, 152, 153, 154]"
      ]
     },
     "execution_count": 12,
     "metadata": {},
     "output_type": "execute_result"
    }
   ],
   "source": [
    "tileNums_test_ROI"
   ]
  },
  {
   "cell_type": "code",
   "execution_count": null,
   "id": "8a44c8cf-c10a-40ce-974d-efca4e39547e",
   "metadata": {},
   "outputs": [],
   "source": []
  }
 ],
 "metadata": {
  "kernelspec": {
   "display_name": "Python 3 (ipykernel)",
   "language": "python",
   "name": "python3"
  },
  "language_info": {
   "codemirror_mode": {
    "name": "ipython",
    "version": 3
   },
   "file_extension": ".py",
   "mimetype": "text/x-python",
   "name": "python",
   "nbconvert_exporter": "python",
   "pygments_lexer": "ipython3",
   "version": "3.9.13"
  }
 },
 "nbformat": 4,
 "nbformat_minor": 5
}
