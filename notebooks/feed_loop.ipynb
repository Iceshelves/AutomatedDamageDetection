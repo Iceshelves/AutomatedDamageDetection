{
 "cells": [
  {
   "cell_type": "markdown",
   "metadata": {},
   "source": [
    "# Feed loop for VAE network"
   ]
  },
  {
   "cell_type": "markdown",
   "metadata": {},
   "source": [
    "This notebook represents a development prototype for the feedloop providing input data to the VAE.\n",
    "\n",
    "Given the data volume it is not possible to store the entire data set in memory. Instead the adopted approach splits the full data set (composed of tiles retrieved from Google Earth Engine at 100 km X 100 km) into subsets of size `sizeSubSet` (~30). Each subset tile is divided into cutouts of `sizeCutOut` X `sizeCutOut`. These are stacked and passed to the VAE as input.\n",
    "\n",
    "This process repeats until all tiles have been exhausted, thus constituting one epoch. The trained network is saved and early stopping criteria are evaluted after epoch. \n",
    "\n",
    "If further training is needed, the next epoch employes cut outs shifted by `nShift` for data augementation. "
   ]
  },
  {
   "cell_type": "code",
   "execution_count": 3,
   "metadata": {},
   "outputs": [],
   "source": [
    "import rasterio\n",
    "import numpy as np\n",
    "from rasterio import windows\n",
    "from itertools import product\n",
    "import os\n",
    "import yaml\n",
    "import random\n",
    "from pathlib import Path"
   ]
  },
  {
   "cell_type": "markdown",
   "metadata": {},
   "source": [
    "Input can/should be provided as a yaml file. This will map to a dictionary. Specify by hand here for demo purposes"
   ]
  },
  {
   "cell_type": "code",
   "execution_count": 1,
   "metadata": {},
   "outputs": [],
   "source": [
    "#TODO yaml input reader"
   ]
  },
  {
   "cell_type": "code",
   "execution_count": null,
   "metadata": {},
   "outputs": [],
   "source": [
    "configDict = {'inputDirectory':'', \n",
    " 'nBands':4,             \n",
    " 'sizeSubSet':2,\n",
    " 'sizeCutOut':20,\n",
    " 'nEpochMax':2,\n",
    " 'nShift':5}"
   ]
  },
  {
   "cell_type": "code",
   "execution_count": 43,
   "metadata": {},
   "outputs": [],
   "source": [
    "class subSet(object):\n",
    "    \"\"\" Create data subset for ingestion by VAE \"\"\"\n",
    "    \n",
    "    def __init__(self, config=None, offset=None):\n",
    "        self.nBands = config['nBands']\n",
    "        self.maxSize = config['sizeSubset']\n",
    "        self.sizeCutOut = config['sizeCutOut']\n",
    "        self.offset = offset\n",
    "        self.inputTiles = []\n",
    "        self.window_list = []\n",
    "        self.vaeInputArray = None\n",
    "        \n",
    "    def draw_input(self, inputTileList):\n",
    "        \"\"\" \n",
    "        draw a randdom selection of input tiles form the list\n",
    "        of all input tiles. Return input tile list with selected\n",
    "        tiles removed \n",
    "        \"\"\"\n",
    "        if self.maxSize >= len(inputTileList):\n",
    "            self.inputTiles = _draw(len(inputTileList), inputTileList)\n",
    "        else :\n",
    "            self.inputTiles = _draw(self.maxSize, inputTileList)\n",
    "                \n",
    "    def load_cutouts(self):\n",
    "        \"\"\"\n",
    "        loop over input tiles creating windows and associated cutouts, \n",
    "        and stack to VAE inout array\n",
    "        \"\"\"\n",
    "        window_list = []\n",
    "        arrays = []\n",
    "        for tile in self.inputTiles:\n",
    "            wl, al = _window_and_load(tile, self.offset, self.nBands, self.sizeCutOut, self.sizeCutOut)\n",
    "            window_list.append(wl)\n",
    "            arrays.append(al)\n",
    "            \n",
    "        self.vaeInputArray = _create_VAE_input(arrays)\n",
    "   \n",
    "##############\n",
    "    \n",
    "    def _create_VAE_input(arrays,axis=0):\n",
    "        stack = np.stack(arrays,axis=axis)\n",
    "        return stack\n",
    "    \n",
    "    \n",
    "    def _window_and_load(source, shift, nBands, width, height):\n",
    "        \n",
    "        with rasterio.open(source) as src:\n",
    "            windows = [w for w in _get_windows(src, shift, width, height)]\n",
    "            arrays = [src.read([range(nBands)+1],window = window) for window in windows]\n",
    "            \n",
    "        window_list = []\n",
    "        window_list.extend([(source, w)] for w in windows)\n",
    "        \n",
    "        return window_list, arrays\n",
    "        \n",
    "            \n",
    "    #adapted from Ou Ku's window_loading_list_shuffle.ipynb\n",
    "    def _get_windows(src, shift, width, height, boundless = True):\n",
    "        \"\"\"\n",
    "        windows should not extend beyond source image. Wrapping is sub-optimal as\n",
    "        boundaries are non-periodic in principle. Determine elligible window range for\n",
    "        given shift. BEWARE windows repeat for shift >= window size. This may form constraint\n",
    "        maximum number of epochs.\n",
    "    \n",
    "        eligible windows can be determind as:\n",
    "        \n",
    "        eWitdth = (tilewidth - mod((tilewidth - shift),windowwidth))\n",
    "        \n",
    "        offsets are then given by range(shift,e_width,windowwidth)\n",
    "    \n",
    "        \"\"\"\n",
    "        modShiftWidth = np.mod((src.meta['width'] - shift),width)\n",
    "        eWidth = src.meta['width'] - modShiftWidth\n",
    "        modShiftHeight = np.mod((src.meta['height'] - shift),height)\n",
    "        eHeight = src.meta['height'] - modShiftHeight\n",
    "        \n",
    "        offsets = product(range(shift, eWidth, width), range(shift, eHeight, height))\n",
    "        for col_off, row_off in offsets:\n",
    "            window = windows.Window(\n",
    "                col_off=col_off,\n",
    "                row_off=row_off,\n",
    "                width=width,\n",
    "                height=height)\n",
    "        \n",
    "            yield window\n",
    "            \n",
    "        \n",
    "    def _draw(n, input):\n",
    "        sample = [input.pop(random.randrange(len(input))) for _ in range(n)]\n",
    "        return sample"
   ]
  }
 ],
 "metadata": {
  "kernelspec": {
   "display_name": "Python [conda env:ice]",
   "language": "python",
   "name": "conda-env-ice-py"
  },
  "language_info": {
   "codemirror_mode": {
    "name": "ipython",
    "version": 3
   },
   "file_extension": ".py",
   "mimetype": "text/x-python",
   "name": "python",
   "nbconvert_exporter": "python",
   "pygments_lexer": "ipython3",
   "version": "3.7.7"
  }
 },
 "nbformat": 4,
 "nbformat_minor": 2
}
