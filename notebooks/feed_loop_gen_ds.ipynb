{
 "cells": [
  {
   "cell_type": "code",
   "execution_count": 1,
   "metadata": {},
   "outputs": [],
   "source": [
    "import numpy as np\n",
    "import tensorflow as tf\n",
    "import xarray as xr\n",
    "import rasterio\n",
    "from rasterio import windows\n",
    "from itertools import product"
   ]
  },
  {
   "cell_type": "markdown",
   "metadata": {},
   "source": [
    "Input can/should be provided as a yaml file. This will map to a dictionary. Specify by hand here for demo purposes"
   ]
  },
  {
   "cell_type": "code",
   "execution_count": null,
   "metadata": {},
   "outputs": [],
   "source": [
    "#TODO yaml input reader"
   ]
  },
  {
   "cell_type": "code",
   "execution_count": null,
   "metadata": {},
   "outputs": [],
   "source": [
    "config = {'inputDirectory':'', \n",
    " 'bands':[1,2,3],             \n",
    " 'sizeSubSet':2,\n",
    " 'sizeCutOut':20,\n",
    " 'nEpochMax':2,\n",
    " 'sizeStep':5}"
   ]
  },
  {
   "cell_type": "code",
   "execution_count": null,
   "metadata": {},
   "outputs": [],
   "source": [
    "def _create_input_list(inputDir):\n",
    "    #todo directory walk to create input tile list\n",
    "    return inputList"
   ]
  },
  {
   "cell_type": "code",
   "execution_count": null,
   "metadata": {},
   "outputs": [],
   "source": [
    "#adapted from Ou Ku's window_loading_list_shuffle.ipynb\n",
    "def _get_windows(src, shift, width, height, boundless = True):\n",
    "    \"\"\"\n",
    "    windows should not extend beyond source image. Wrapping is sub-optimal as        boundaries are non-periodic in principle. Determine elligible window range for\n",
    "    given shift. BEWARE windows repeat for shift >= window size. This may form constraint\n",
    "    maximum number of epochs.\n",
    "    \n",
    "    eligible windows can be determind as:\n",
    "        \n",
    "    eWitdth = (tilewidth - mod((tilewidth - shift),windowwidth))\n",
    "        \n",
    "    offsets are then given by range(shift,e_width,windowwidth)\n",
    "    \n",
    "    \"\"\"\n",
    "    modShiftWidth = np.mod((src.meta['width'] - shift),width)\n",
    "    eWidth = src.meta['width'] - modShiftWidth\n",
    "    modShiftHeight = np.mod((src.meta['height'] - shift),height)\n",
    "    eHeight = src.meta['height'] - modShiftHeight\n",
    "        \n",
    "    offsets = product(range(shift, eWidth, width), range(shift, eHeight, height))\n",
    "    for col_off, row_off in offsets:\n",
    "        window = windows.Window(\n",
    "                    col_off=col_off,\n",
    "                    row_off=row_off,\n",
    "                    width=width,\n",
    "                    height=height)\n",
    "        \n",
    "        yield window"
   ]
  },
  {
   "cell_type": "code",
   "execution_count": null,
   "metadata": {},
   "outputs": [],
   "source": [
    "#Generator; accepts full lsit of tiles and an epoch offset value, yields cutout\n",
    "def extract_windows(tileList,offset,sizeCutOut,bands):\n",
    "    #randomly permutate tileList\n",
    "    tileList = np.random.permutaton(tileList)\n",
    "    \n",
    "    for tile in tileList:\n",
    "        with rasterio.open(tile) as src:\n",
    "            windows = [w for w in _get_windows(src, offset, sizeCutOut, sizeCutOut)]\n",
    "            for window in windows:\n",
    "                yield (src.read(bands,window = window),(src,bands,window))"
   ]
  },
  {
   "cell_type": "code",
   "execution_count": null,
   "metadata": {},
   "outputs": [],
   "source": [
    "Start execution here"
   ]
  },
  {
   "cell_type": "code",
   "execution_count": null,
   "metadata": {},
   "outputs": [],
   "source": [
    "#config = read_config('/config/file/path')"
   ]
  },
  {
   "cell_type": "code",
   "execution_count": null,
   "metadata": {},
   "outputs": [],
   "source": [
    "inputList = _create_input_list(config['inputDirectory'])"
   ]
  },
  {
   "cell_type": "code",
   "execution_count": null,
   "metadata": {},
   "outputs": [],
   "source": [
    "bands=config['bands']\n",
    "sizeCutOut=config['sizeCutOut']\n",
    "nEpochsMax=config['nEpochMax']\n",
    "nStep=config['sizeStep']"
   ]
  },
  {
   "cell_type": "code",
   "execution_count": null,
   "metadata": {},
   "outputs": [],
   "source": [
    "epochcounter=0"
   ]
  },
  {
   "cell_type": "markdown",
   "metadata": {},
   "source": [
    "start loop here"
   ]
  },
  {
   "cell_type": "code",
   "execution_count": null,
   "metadata": {},
   "outputs": [],
   "source": [
    "while epochcounter < nEpochsMax"
   ]
  },
  {
   "cell_type": "code",
   "execution_count": null,
   "metadata": {},
   "outputs": [],
   "source": [
    "ds = tf.data.Dataset.from_generator(\n",
    "    extract_windows,\n",
    "    args=[inputTileList, offset, sizeCutOut, bands],\n",
    "    output_types=tf.int16,\n",
    "    output_shapes=(len(bands),sizeCutOut,sizeCutOut)    \n",
    ")"
   ]
  },
  {
   "cell_type": "code",
   "execution_count": null,
   "metadata": {},
   "outputs": [],
   "source": []
  },
  {
   "cell_type": "code",
   "execution_count": null,
   "metadata": {},
   "outputs": [],
   "source": []
  },
  {
   "cell_type": "code",
   "execution_count": null,
   "metadata": {},
   "outputs": [],
   "source": []
  },
  {
   "cell_type": "code",
   "execution_count": 2,
   "metadata": {},
   "outputs": [],
   "source": [
    "filepath = '/Users/eslt0101/Data/eScience/IceShelves/TestDataSet/S2_comp_first.tif'"
   ]
  },
  {
   "cell_type": "code",
   "execution_count": null,
   "metadata": {},
   "outputs": [],
   "source": []
  },
  {
   "cell_type": "code",
   "execution_count": null,
   "metadata": {},
   "outputs": [],
   "source": []
  },
  {
   "cell_type": "code",
   "execution_count": null,
   "metadata": {},
   "outputs": [],
   "source": []
  },
  {
   "cell_type": "code",
   "execution_count": null,
   "metadata": {},
   "outputs": [],
   "source": []
  },
  {
   "cell_type": "code",
   "execution_count": null,
   "metadata": {},
   "outputs": [],
   "source": []
  }
 ],
 "metadata": {
  "kernelspec": {
   "display_name": "Python [conda env:ice]",
   "language": "python",
   "name": "conda-env-ice-py"
  },
  "language_info": {
   "codemirror_mode": {
    "name": "ipython",
    "version": 3
   },
   "file_extension": ".py",
   "mimetype": "text/x-python",
   "name": "python",
   "nbconvert_exporter": "python",
   "pygments_lexer": "ipython3",
   "version": "3.7.7"
  }
 },
 "nbformat": 4,
 "nbformat_minor": 2
}
