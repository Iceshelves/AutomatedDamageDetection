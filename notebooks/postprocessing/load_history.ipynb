{
 "cells": [
  {
   "cell_type": "markdown",
   "id": "460ce0dc-b6ca-407f-afdf-a48400b770df",
   "metadata": {},
   "source": [
    "## plot loss function"
   ]
  },
  {
   "cell_type": "code",
   "execution_count": 2,
   "id": "32fd7e3b-b195-4c14-9987-fd79f46bba8b",
   "metadata": {},
   "outputs": [],
   "source": [
    "import os\n",
    "import json\n",
    "import numpy as np\n",
    "os.getcwd()\n",
    "homedir='/Users/tud500158/Library/Mobile Documents/com~apple~CloudDocs/Documents/Documents - TUD500158/'"
   ]
  },
  {
   "cell_type": "code",
   "execution_count": 3,
   "id": "df32f76c-8aa3-4e24-92c8-b669afb56a99",
   "metadata": {},
   "outputs": [
    {
     "name": "stdout",
     "output_type": "stream",
     "text": [
      "/Users/tud500158/Library/Mobile Documents/com~apple~CloudDocs/Documents/Documents - TUD500158/github/AutomatedDamageDetection/training/2022-10/model_1664883952\n"
     ]
    }
   ],
   "source": [
    "# cwd = os.getcwd();\n",
    "# path_to_vaes = '../../training/'\n",
    "# sub_dirs = [dirname for dirname in os.listdir(path_to_vaes) if not dirname.startswith('.') ] \n",
    "# print(sub_dirs)\n",
    "# last_dir = sub_dirs[-1]\n",
    "# model_dirs = [dirname for dirname in os.listdir(os.path.join(path_to_vaes,last_dir)) if not dirname.startswith('.')]\n",
    "# print(model_dirs)\n",
    "\n",
    "# path_to_model = os.path.join(path_to_vaes,last_dir,model_dirs[1])\n",
    "# path_to_model\n",
    "# print(os.path.join(path_to_vaes,last_dir,model_dirs[1]))\n",
    "\n",
    "# path2vaes = '/Users/tud500158/Library/Mobile Documents/com~apple~CloudDocs/Documents/Documents - TUD500158/github/AutomatedDamageDetection/training/'\n",
    "# modeldir = '2022-07/07-11/model_1657553278/'\n",
    "# modeldir = '2022-07/model_1658152885/'\n",
    "\n",
    "modeldir = '2022-10'\n",
    "modelnum = 'model_1664883952'\n",
    "path_to_model = os.path.join(homedir,'github/AutomatedDamageDetection/training/',modeldir,modelnum)\n",
    "print(path_to_model)"
   ]
  },
  {
   "cell_type": "markdown",
   "id": "c8dbf15d-21d3-49f0-aa84-ca3eac0e7cf3",
   "metadata": {},
   "source": [
    "#### loaad history"
   ]
  },
  {
   "cell_type": "code",
   "execution_count": 8,
   "id": "8935e22b-e03b-4f70-8731-6e55b9f3cc54",
   "metadata": {},
   "outputs": [
    {
     "name": "stdout",
     "output_type": "stream",
     "text": [
      "history_epoch_0\n",
      "{'loss': {'0': 5821.486328125, '1': 5858.4379882812, '2': 5866.1826171875}, 'val_loss': {'0': 6104.4145507812, '1': 5946.3505859375, '2': 5906.1196289062}}\n",
      "[5821.48632812 5858.43798828 5866.18261719]\n"
     ]
    }
   ],
   "source": [
    "history_files = [file for file in os.listdir(path_to_model) if 'history' in file]\n",
    "print(history_files[0])\n",
    "\n",
    "if len(history_files) > 1:\n",
    "    loss = []\n",
    "    val_loss = []\n",
    "    for hfile in history_files:\n",
    "        with open(os.path.join(path_to_model,hfile)) as hf:\n",
    "            data = hf.read()\n",
    "            data = json.loads(data)\n",
    "            loss.append(data['loss']['0'])\n",
    "            val_loss.append(data['val_loss']['0'])\n",
    "    print(loss)\n",
    "else:\n",
    "    hfile=history_files[0]\n",
    "    with open(os.path.join(path_to_model,hfile)) as hf:\n",
    "        data = hf.read()\n",
    "        data = json.loads(data)\n",
    "        loss = np.array(list(data['loss'].values()))\n",
    "        val_loss = np.array(list(data['val_loss'].values()))\n",
    "\n",
    "print(data)\n",
    "print(loss)\n"
   ]
  },
  {
   "cell_type": "code",
   "execution_count": 9,
   "id": "67efeebe-0161-4f12-8eea-6ef08ff57119",
   "metadata": {},
   "outputs": [
    {
     "name": "stdout",
     "output_type": "stream",
     "text": [
      "[5821.486328125, 5858.4379882812, 5866.1826171875]\n"
     ]
    },
    {
     "data": {
      "text/plain": [
       "array([5821.48632812, 5858.43798828, 5866.18261719])"
      ]
     },
     "execution_count": 9,
     "metadata": {},
     "output_type": "execute_result"
    }
   ],
   "source": [
    "print(list(data['loss'].values()))\n",
    "\n",
    "train_loss = np.array( list(data['loss'].values()) )\n",
    "train_loss.shape\n",
    "train_loss\n"
   ]
  },
  {
   "cell_type": "code",
   "execution_count": 10,
   "id": "1a81270d-783c-4db4-a142-55e0ca7f4da3",
   "metadata": {},
   "outputs": [
    {
     "data": {
      "text/plain": [
       "<matplotlib.legend.Legend at 0x11609d4b0>"
      ]
     },
     "execution_count": 10,
     "metadata": {},
     "output_type": "execute_result"
    },
    {
     "data": {
      "image/png": "[encoded data removed]",
      "text/plain": [
       "<Figure size 432x288 with 1 Axes>"
      ]
     },
     "metadata": {
      "needs_background": "light"
     },
     "output_type": "display_data"
    }
   ],
   "source": [
    "import matplotlib.pyplot as plt\n",
    "''' ----------\n",
    "Save model loss figure\n",
    "------------'''\n",
    "\n",
    "\n",
    "# summarize history for loss\n",
    "fig, ax = plt.subplots()\n",
    "ax.plot(loss)\n",
    "ax.plot(val_loss)\n",
    "ax.set_title('model loss')\n",
    "ax.set_ylabel('loss')\n",
    "ax.set_xlabel('epoch')\n",
    "ax.legend(['train', 'val'], loc='upper right')\n",
    "\n",
    "# fig.savefig(os.path.join(path_to_model  , 'model_loss' ) )"
   ]
  },
  {
   "cell_type": "code",
   "execution_count": 51,
   "id": "3f5a4eab-4b16-49e0-b11f-6c6c17548758",
   "metadata": {},
   "outputs": [],
   "source": [
    "# # get traininig tileNums\n",
    "# with open(os.path.join(path_to_model,'datasets_1657553278.json')) as hf:\n",
    "#     data = hf.read()\n",
    "#     data = json.loads(data)\n",
    "    \n",
    "# tile_nums = [int(file.split('/')[-1].split('.')[0].split('_')[-1]) for file in data['training']]\n",
    "# print(tile_nums)\n",
    "# int(data['training'][0].split('/')[-1].split('.')[0].split('_')[-1])\n"
   ]
  },
  {
   "cell_type": "markdown",
   "id": "a7dbb5b6-cff6-46b3-b8c8-b61523cbb33c",
   "metadata": {},
   "source": [
    "## load model and get loss components"
   ]
  },
  {
   "cell_type": "code",
   "execution_count": 54,
   "id": "48e290e7-6311-4832-b763-821480bf4f2f",
   "metadata": {},
   "outputs": [
    {
     "name": "stdout",
     "output_type": "stream",
     "text": [
      "WARNING:tensorflow:SavedModel saved prior to TF 2.5 detected when loading Keras model. Please ensure that you are saving the model with model.save() or tf.keras.models.save_model(), *NOT* tf.saved_model.save(). To confirm, there should be a file named \"keras_metadata.pb\" in the SavedModel directory.\n"
     ]
    },
    {
     "name": "stderr",
     "output_type": "stream",
     "text": [
      "2022-07-18 13:50:49.152322: I tensorflow/core/platform/cpu_feature_guard.cc:151] This TensorFlow binary is optimized with oneAPI Deep Neural Network Library (oneDNN) to use the following CPU instructions in performance-critical operations:  SSE4.1 SSE4.2 AVX AVX2 FMA\n",
      "To enable them in other operations, rebuild TensorFlow with the appropriate compiler flags.\n"
     ]
    }
   ],
   "source": [
    "\n",
    "import tensorflow as tf\n",
    "\n",
    "model = tf.keras.models.load_model(os.path.join(path_to_model, 'model_epoch_1') )"
   ]
  },
  {
   "cell_type": "code",
   "execution_count": 56,
   "id": "dd9a5cfe-0f50-4121-a4b6-9fe1ae3d6ddf",
   "metadata": {},
   "outputs": [
    {
     "name": "stdout",
     "output_type": "stream",
     "text": [
      "[<tf.Tensor 'Placeholder:0' shape=() dtype=float32>]\n"
     ]
    }
   ],
   "source": [
    "print(model.losses) "
   ]
  },
  {
   "cell_type": "code",
   "execution_count": null,
   "id": "99c7682d-b992-46e5-91ae-cb7170e268cc",
   "metadata": {},
   "outputs": [],
   "source": []
  }
 ],
 "metadata": {
  "kernelspec": {
   "display_name": "Python 3 (ipykernel)",
   "language": "python",
   "name": "python3"
  },
  "language_info": {
   "codemirror_mode": {
    "name": "ipython",
    "version": 3
   },
   "file_extension": ".py",
   "mimetype": "text/x-python",
   "name": "python",
   "nbconvert_exporter": "python",
   "pygments_lexer": "ipython3",
   "version": "3.9.13"
  }
 },
 "nbformat": 4,
 "nbformat_minor": 5
}
