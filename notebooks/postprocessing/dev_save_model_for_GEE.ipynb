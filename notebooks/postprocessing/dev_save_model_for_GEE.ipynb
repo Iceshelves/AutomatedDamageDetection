{
 "cells": [
  {
   "cell_type": "code",
   "execution_count": 1,
   "metadata": {},
   "outputs": [],
   "source": [
    "\n",
    "import os\n",
    "# import numpy as np\n",
    "import tensorflow as tf\n",
    "# import glob\n",
    "# import geopandas as gpd\n",
    "import json\n",
    "# import configparser \n",
    "# import rioxarray as rioxr\n",
    "# import xarray as xr\n",
    "# import pathlib\n",
    "# import pandas as pd\n",
    "# import xarray as xr\n",
    "import sys\n",
    "\n",
    "## EE-ify the model\n",
    "from tensorflow.python.tools import saved_model_utils\n"
   ]
  },
  {
   "cell_type": "code",
   "execution_count": 4,
   "metadata": {},
   "outputs": [],
   "source": [
    "homedir = '/Users/tud500158/Library/Mobile Documents/com~apple~CloudDocs/Documents/Documents - TUD500158/github/AutomatedDamageDetection/'\n",
    "encoder_dir = os.path.join(homedir,'training/2023-05/model_1684233861_L2_w20_k5_f16_a20/encoder_epoch_9')\n",
    "\n",
    "\n",
    "''' ----------\n",
    "Define model to load\n",
    "------------'''\n",
    "\n",
    "if encoder_dir is None:\n",
    "    raise NameError('No encoder specified. Run script as \"python this_script.py /path/to/model_dir/encoder_dir\"')\n",
    "\n",
    "if os.path.isdir(encoder_dir):\n",
    "    path_to_encoder_epoch = encoder_dir\n",
    "else:\n",
    "    path_to_encoder_epoch = os.path.join(os.path.expanduser('~'), encoder_dir)\n",
    "\n",
    "## Retrieve master directory and its name\n",
    "path_to_model = os.path.split(path_to_encoder_epoch)[0]\n",
    "model_dir = os.path.basename(path_to_model)\n"
   ]
  },
  {
   "cell_type": "code",
   "execution_count": 71,
   "metadata": {},
   "outputs": [
    {
     "name": "stdout",
     "output_type": "stream",
     "text": [
      "----\n",
      " loaded encoder /Users/tud500158/Library/Mobile Documents/com~apple~CloudDocs/Documents/Documents - TUD500158/github/AutomatedDamageDetection/training/2023-05/model_1684233861_L2_w20_k5_f16_a20/encoder_epoch_9\n",
      "LDIM: 2\n"
     ]
    }
   ],
   "source": [
    "\n",
    "\n",
    "''' ----------\n",
    "Load model/encoder\n",
    "------------'''\n",
    "\n",
    "epoch_num = path_to_encoder_epoch.split('_')[-1]\n",
    "encoder = tf.keras.models.load_model(path_to_encoder_epoch,compile=False) # compile=True does not work\n",
    "\n",
    "\n",
    "# Get latent_dim (of sampling layer)\n",
    "latent_dim = encoder.layers[-1].output_shape[-1] \n",
    "\n",
    "print('----\\n loaded encoder {}'.format(path_to_encoder_epoch) )\n",
    "print('LDIM:',latent_dim)"
   ]
  },
  {
   "cell_type": "markdown",
   "metadata": {},
   "source": [
    "# EEification\n",
    "\n",
    "EEIfication prepares the model for hosting on [Google AI Platform](https://cloud.google.com/ai-platform).  Learn more about EEification from [this doc](https://developers.google.com/earth-engine/tensorflow#interacting-with-models-hosted-on-ai-platform).  First, get (and SET) input and output names of the nodes.  **CHANGE THE OUTPUT NAME TO SOMETHING THAT MAKES SENSE FOR YOUR MODEL!**  Keep the input name of 'array', which is how you'll pass data into the model (as an array image)."
   ]
  },
  {
   "cell_type": "code",
   "execution_count": 22,
   "metadata": {},
   "outputs": [
    {
     "name": "stdout",
     "output_type": "stream",
     "text": [
      "'{\"serving_default_input_1:0\": \"array\"}'\n",
      "'{\"StatefulPartitionedCall:1\": \"damage\"}'\n"
     ]
    }
   ],
   "source": [
    "\n",
    "\n",
    "''' ----------\n",
    "EE-ify the model:\n",
    "Set input and output names so earth engine can read it\n",
    "from: https://mygeoblog.com/2020/09/22/rice-mapping-using-deep-neural-networks/\n",
    "and https://colab.research.google.com/github/google/earthengine-api/blob/master/python/examples/ipynb/Earth_Engine_TensorFlow_AI_Platform.ipynb#scrollTo=w49O7n5oTS4w\n",
    "------------'''\n",
    "\n",
    "MODEL_DIR = encoder_dir\n",
    "meta_graph_def = saved_model_utils.get_meta_graph_def(MODEL_DIR, 'serve')\n",
    "inputs = meta_graph_def.signature_def['serving_default'].inputs\n",
    "outputs = meta_graph_def.signature_def['serving_default'].outputs\n",
    "\n",
    "# Just get the first thing(s) from the serving signature def.  i.e. this\n",
    "# model only has a single input and a single output.\n",
    "input_name = None\n",
    "\n",
    "# print(inputs.items())\n",
    "for k,v in inputs.items():\n",
    "    # print(k,v)\n",
    "    input_name = v.name\n",
    "    break\n",
    "\n",
    "output_name = None\n",
    "for k,v in outputs.items():\n",
    "    output_name = v.name\n",
    "    break\n",
    "    \n",
    "# print(input_name)\n",
    "# print(output_name)\n",
    "\n",
    "# Make a dictionary that maps Earth Engine outputs and inputs to \n",
    "# AI Platform inputs and outputs, respectively.\n",
    "label='ldim'\n",
    "input_dict = \"'\" + json.dumps({input_name: \"array\"}) + \"'\" # keep \"array\" as input name\n",
    "output_dict = \"'\" + json.dumps({output_name: label}) + \"'\"\n",
    "\n",
    "print(input_dict)\n",
    "print(output_dict)\n",
    "\n"
   ]
  },
  {
   "cell_type": "markdown",
   "metadata": {},
   "source": [
    "## Run the EEifier\n",
    "\n",
    "The actual EEification is handled by the `earthengine model prepare` command.  Note that you will need to set your Cloud Project prior to running the command"
   ]
  },
  {
   "cell_type": "code",
   "execution_count": 35,
   "metadata": {},
   "outputs": [
    {
     "name": "stdout",
     "output_type": "stream",
     "text": [
      "Successfully saved project id\n",
      "Warning: TensorFlow Addons not found. Models that use non-standard ops may not work.\n",
      "Success: model at 'gs://ee-data_export/test/eeified_pixel_model' is ready to be hosted in AI Platform.\n"
     ]
    }
   ],
   "source": [
    "\n",
    "# name = \"mizeboud\"\n",
    "OUTPUT_BUCKET = 'ee-data_export/test'\n",
    "PROJECT = 'ee-iceshelf-gee4geo' # 'servirtensorflow'\n",
    "\n",
    "# Put the EEified model next to the trained model directory.\n",
    "EEIFIED_DIR = 'gs://' + OUTPUT_BUCKET + '/eeified_pixel_model'\n",
    "\n",
    "# # You need to set the project before using the model prepare command.\n",
    "# !earthengine set_project {PROJECT}\n",
    "# !earthengine model prepare --source_dir {MODEL_DIR} --dest_dir {EEIFIED_DIR} --input {input_dict} --output {output_dict}\n",
    "\n",
    "# You need to set the project before using the model prepare command.\n",
    "!earthengine set_project {PROJECT}\n",
    "!earthengine model prepare --source_dir \"{MODEL_DIR}\" --dest_dir {EEIFIED_DIR} --input {input_dict} --output {output_dict}"
   ]
  },
  {
   "cell_type": "markdown",
   "metadata": {},
   "source": [
    "# Deploy and host the EEified model on AI Platform\n",
    "\n",
    "Now there is another TensorFlow `SavedModel` stored in `EEIFIED_DIR` ready for hosting by AI Platform.  Do that from the `gcloud` command line tool, installed in the Colab runtime by default.  Be sure to specify a regional model with the `REGION` parameter.  Note that the `MODEL_NAME` must be unique.  If you already have a model by that name, either name a new model or a new version of the old model.  The [Cloud Console AI Platform models page](https://console.cloud.google.com/ai-platform/models) is useful for monitoring your models.\n",
    "\n",
    "**If you change anything about the trained model, you'll need to re-EEify it and create a new version!**"
   ]
  },
  {
   "cell_type": "code",
   "execution_count": 36,
   "metadata": {},
   "outputs": [
    {
     "data": {
      "text/plain": [
       "'gs://ee-data_export/test/eeified_pixel_model'"
      ]
     },
     "execution_count": 36,
     "metadata": {},
     "output_type": "execute_result"
    }
   ],
   "source": [
    "EEIFIED_DIR"
   ]
  },
  {
   "cell_type": "code",
   "execution_count": 44,
   "metadata": {},
   "outputs": [
    {
     "name": "stdout",
     "output_type": "stream",
     "text": [
      "Using endpoint [https://europe-west4-ml.googleapis.com/]\n",
      "Created ai platform model [projects/ee-iceshelf-gee4geo/models/pixel_demo_model_maaike].\n",
      "Using endpoint [https://europe-west4-ml.googleapis.com/]\n",
      "Creating version (this might take a few minutes)......done.                    \n"
     ]
    }
   ],
   "source": [
    "MODEL_NAME = 'VAE_model'\n",
    "VERSION_NAME = 'v0'\n",
    "REGION = 'europe-west4' # billing region\n",
    "\n",
    "!gcloud ai-platform models create {MODEL_NAME} \\\n",
    "  --project {PROJECT} \\\n",
    "  --region {REGION}\n",
    "\n",
    "!gcloud ai-platform versions create {VERSION_NAME} \\\n",
    "  --project {PROJECT} \\\n",
    "  --region {REGION} \\\n",
    "  --model {MODEL_NAME} \\\n",
    "  --origin {EEIFIED_DIR} \\\n",
    "  --framework \"TENSORFLOW\" \\\n",
    "  --runtime-version=2.3 \\\n",
    "  --python-version=3.10"
   ]
  },
  {
   "cell_type": "markdown",
   "metadata": {},
   "source": [
    "# Connect to the hosted model from Earth Engine\n",
    "\n",
    "1. Generate the input imagery.  This should be done in exactly the same way as the training data were generated.  See [this example notebook](http://colab.research.google.com/github/google/earthengine-api/blob/master/python/examples/ipynb/TF_demo1_keras.ipynb) for details.\n",
    "2. Connect to the hosted model.\n",
    "3. Use the model to make predictions.\n",
    "4. Display the results.\n",
    "\n",
    "Note that it takes the model a couple minutes to spin up and make predictions."
   ]
  },
  {
   "cell_type": "code",
   "execution_count": 40,
   "metadata": {},
   "outputs": [],
   "source": [
    "import ee\n",
    "# ee.Authenticate()\n",
    "ee.Initialize()"
   ]
  },
  {
   "cell_type": "code",
   "execution_count": 43,
   "metadata": {},
   "outputs": [],
   "source": [
    "import folium\n",
    "import tensorflow as tf"
   ]
  },
  {
   "cell_type": "code",
   "execution_count": null,
   "metadata": {},
   "outputs": [],
   "source": [
    "\n",
    "# Point to the model hosted on AI Platform.  If you specified a region other\n",
    "# than the default (us-central1) at model creation, specify it here.\n",
    "model = ee.Model.fromAiPlatformPredictor(\n",
    "    projectName=PROJECT,\n",
    "    modelName=MODEL_NAME,\n",
    "    version=VERSION_NAME,\n",
    "    region=REGION,\n",
    "    # Can be anything, but don't make it too big.\n",
    "    inputTileSize=[8, 8],\n",
    "    # Keep this the same as your training data.\n",
    "    proj=ee.Projection('EPSG:4326').atScale(30),\n",
    "    fixInputProj=True,\n",
    "    # Note the names here need to match what you specified in the\n",
    "    # output dictionary you passed to the EEifier.\n",
    "    outputBands={'output': {\n",
    "        'type': ee.PixelType.float(),\n",
    "        'dimensions': 1\n",
    "      }\n",
    "    },\n",
    ")\n",
    "\n"
   ]
  },
  {
   "cell_type": "code",
   "execution_count": 62,
   "metadata": {},
   "outputs": [],
   "source": [
    "\n",
    "# Cloud masking function.\n",
    "def maskL8sr(image):\n",
    "  cloudShadowBitMask = ee.Number(2).pow(3).int()\n",
    "  cloudsBitMask = ee.Number(2).pow(5).int()\n",
    "  qa = image.select('pixel_qa')\n",
    "  mask = qa.bitwiseAnd(cloudShadowBitMask).eq(0).And(\n",
    "    qa.bitwiseAnd(cloudsBitMask).eq(0))\n",
    "  return image.updateMask(mask).select(BANDS).divide(10000)\n",
    "\n",
    "def getQABits(image, start, end, newName):\n",
    "    # Compute the bits we need to extract.\n",
    "    pattern = 0;\n",
    "    for i in range(start,end+1):\n",
    "    # for (var i = start; i <= end; i++) {\n",
    "       pattern += i**2 # Math.pow(2, i);\n",
    "    # Return a single band image of the extracted QA bits, giving the band\n",
    "    # a new name.\n",
    "    return image.select([0], [newName]) .bitwiseAnd(pattern).rightShift(start);\n",
    "\n",
    "# Function to mask clouds in Sentinel2\n",
    "def S2maskClouds(dummy):\n",
    "  # S2  = require('users/earthmapps/public:methods/S2.js')\n",
    "  # Select the QA band containing the cloud mask values\n",
    "  QA = dummy.select('QA60');\n",
    "  # Get the internal_cloud_algorithm_flag bit.\n",
    "  internalCloud = getQABits(QA, 10, 11, 'CloudQA');\n",
    "  # Return an image masking out cloudy areas (internal cloud gt 0)\n",
    "  return dummy.updateMask(internalCloud.eq(0));\n",
    "\n",
    "\n",
    "# Use Landsat 8 surface reflectance data for predictors.\n",
    "L8SR = ee.ImageCollection('LANDSAT/LC08/C01/T1_SR')\n",
    "# Use these bands for prediction.\n",
    "BANDS = ['B2', 'B3', 'B4', 'B5', 'B6', 'B7']\n",
    "BANDS = ['B4','B3','B2']\n",
    "LABEL='damage' \n",
    "\n",
    "\n",
    "# // Define start & end dates\n",
    "start = '2019-11-1'\n",
    "end = '2020-3-1'\n",
    "\n",
    "# iceShelves = ee.FeatureCollection('users/izeboudmaaike/ne_10m_antarctic_ice_shelves_polys')\n",
    "gridTiles = ee.FeatureCollection('projects/ee-izeboudmaaike/assets/gridTiles_iceShelves')\n",
    "\n",
    "# // Load collection & apply standard metadata filtes\n",
    "S2col = (ee.ImageCollection(\"COPERNICUS/S2_SR\") \n",
    "            # // .filterBounds(gridTiles_iShlf.first().geometry()) // Filter by a single tile\n",
    "            .filterBounds(gridTiles)  # // filter by tile collection\n",
    "            .filterDate(start,end)  # // Filter by date\n",
    "            .filterMetadata('CLOUDY_PIXEL_PERCENTAGE','less_than',30)  # // Filter by metadata to get most cloudy scenes out\n",
    "            .sort('CLOUDY_PIXEL_PERCENTAGE',True)\n",
    " ) #// Sort by cloudy pixel percentage to get the least cloudy images first\n",
    "S2col = S2col.map(S2maskClouds)\n",
    "            \n",
    "\n",
    "# These names are used to specify properties in the export of \n",
    "# training/testing data and to define the mapping between names and data\n",
    "# when reading into TensorFlow datasets.\n",
    "FEATURE_NAMES = list(BANDS)\n",
    "FEATURE_NAMES.append(LABEL)\n",
    "\n",
    "# List of fixed-length features, all of which are float32.\n",
    "columns = [\n",
    "  tf.io.FixedLenFeature(shape=[1], dtype=tf.float32) for k in FEATURE_NAMES\n",
    "]\n",
    "\n",
    "# Dictionary with feature names as keys, fixed-length features as values.\n",
    "FEATURES_DICT = dict(zip(FEATURE_NAMES, columns))"
   ]
  },
  {
   "cell_type": "code",
   "execution_count": 84,
   "metadata": {},
   "outputs": [
    {
     "data": {
      "text/plain": [
       "<ee.image.Image at 0x13e8d5990>"
      ]
     },
     "execution_count": 84,
     "metadata": {},
     "output_type": "execute_result"
    }
   ],
   "source": [
    "# import ee \n",
    "\n",
    "\n",
    "\n",
    "# The image input data is a 2018 cloud-masked median composite.\n",
    "# image = L8SR.filterDate('2018-01-01', '2018-12-31').map(maskL8sr).median()\n",
    "image = S2col.reduce(ee.Reducer.firstNonNull())\n",
    "\n",
    "# Get a map ID for display in folium.\n",
    "rgb_vis = {'bands': ['B4', 'B3', 'B2'], 'min': 0, 'max': 0.3, 'format': 'png'}\n",
    "rgb_vis = {'bands': ['B4_first', 'B3_first', 'B2_first'], 'min': 4e3, 'max': 12e3, 'format': 'png'}\n",
    "mapid = image.getMapId(rgb_vis)\n",
    "\n",
    "# Turn into an array image for input to the model.\n",
    "array_image = image.float().toArray()\n",
    "\n",
    "array_image"
   ]
  },
  {
   "cell_type": "code",
   "execution_count": 69,
   "metadata": {},
   "outputs": [
    {
     "data": {
      "text/plain": [
       "'europe-west4'"
      ]
     },
     "execution_count": 69,
     "metadata": {},
     "output_type": "execute_result"
    }
   ],
   "source": [
    "REGION"
   ]
  },
  {
   "cell_type": "code",
   "execution_count": 53,
   "metadata": {},
   "outputs": [],
   "source": []
  },
  {
   "cell_type": "code",
   "execution_count": 64,
   "metadata": {},
   "outputs": [],
   "source": [
    "\n",
    "# model.predictImage outputs a one dimensional array image that\n",
    "# packs the output nodes of your model into an array.  These\n",
    "# are class probabilities that you need to unpack into a \n",
    "# multiband image with arrayFlatten().  If you want class\n",
    "# labels, use arrayArgmax() as follows.\n",
    "predictions = model.predictImage(array_image)\n",
    "probabilities = predictions.arrayFlatten([['bare', 'veg', 'water']]) # 3 classes\n",
    "label = predictions.arrayArgmax().arrayGet([0]).rename('label')\n",
    "\n",
    "# print(predictions)"
   ]
  },
  {
   "cell_type": "code",
   "execution_count": 80,
   "metadata": {},
   "outputs": [
    {
     "name": "stdout",
     "output_type": "stream",
     "text": [
      "{'type': 'Image', 'bands': [{'id': 'output', 'data_type': {'type': 'PixelType', 'precision': 'float', 'dimensions': 1}, 'crs': 'EPSG:4326', 'crs_transform': [0.00026949458523585647, 0, 0, 0, 0.00026949458523585647, 0]}]}\n"
     ]
    },
    {
     "data": {
      "text/plain": [
       "{'type': 'Image',\n",
       " 'bands': [{'id': 'output',\n",
       "   'data_type': {'type': 'PixelType', 'precision': 'float', 'dimensions': 1},\n",
       "   'crs': 'EPSG:4326',\n",
       "   'crs_transform': [0.00026949458523585647,\n",
       "    0,\n",
       "    0,\n",
       "    0,\n",
       "    0.00026949458523585647,\n",
       "    0]}]}"
      ]
     },
     "execution_count": 80,
     "metadata": {},
     "output_type": "execute_result"
    }
   ],
   "source": [
    "print(predictions.getInfo())\n",
    "predictions.select('output').getInfo()"
   ]
  },
  {
   "cell_type": "code",
   "execution_count": 85,
   "metadata": {},
   "outputs": [
    {
     "data": {
      "text/html": [
       "<div style=\"width:100%;\"><div style=\"position:relative;width:100%;height:0;padding-bottom:60%;\"><span style=\"color:#565656\">Make this Notebook Trusted to load map: File -> Trust Notebook</span><iframe srcdoc=\"&lt;!DOCTYPE html&gt;\n",
       "&lt;head&gt;    \n",
       "    &lt;meta http-equiv=&quot;content-type&quot; content=&quot;text/html; charset=UTF-8&quot; /&gt;\n",
       "    \n",
       "        &lt;script&gt;\n",
       "            L_NO_TOUCH = false;\n",
       "            L_DISABLE_3D = false;\n",
       "        &lt;/script&gt;\n",
       "    \n",
       "    &lt;style&gt;html, body {width: 100%;height: 100%;margin: 0;padding: 0;}&lt;/style&gt;\n",
       "    &lt;style&gt;#map {position:absolute;top:0;bottom:0;right:0;left:0;}&lt;/style&gt;\n",
       "    &lt;script src=&quot;https://cdn.jsdelivr.net/npm/leaflet@1.6.0/dist/leaflet.js&quot;&gt;&lt;/script&gt;\n",
       "    &lt;script src=&quot;https://code.jquery.com/jquery-1.12.4.min.js&quot;&gt;&lt;/script&gt;\n",
       "    &lt;script src=&quot;https://maxcdn.bootstrapcdn.com/bootstrap/3.2.0/js/bootstrap.min.js&quot;&gt;&lt;/script&gt;\n",
       "    &lt;script src=&quot;https://cdnjs.cloudflare.com/ajax/libs/Leaflet.awesome-markers/2.0.2/leaflet.awesome-markers.js&quot;&gt;&lt;/script&gt;\n",
       "    &lt;link rel=&quot;stylesheet&quot; href=&quot;https://cdn.jsdelivr.net/npm/leaflet@1.6.0/dist/leaflet.css&quot;/&gt;\n",
       "    &lt;link rel=&quot;stylesheet&quot; href=&quot;https://maxcdn.bootstrapcdn.com/bootstrap/3.2.0/css/bootstrap.min.css&quot;/&gt;\n",
       "    &lt;link rel=&quot;stylesheet&quot; href=&quot;https://maxcdn.bootstrapcdn.com/bootstrap/3.2.0/css/bootstrap-theme.min.css&quot;/&gt;\n",
       "    &lt;link rel=&quot;stylesheet&quot; href=&quot;https://maxcdn.bootstrapcdn.com/font-awesome/4.6.3/css/font-awesome.min.css&quot;/&gt;\n",
       "    &lt;link rel=&quot;stylesheet&quot; href=&quot;https://cdnjs.cloudflare.com/ajax/libs/Leaflet.awesome-markers/2.0.2/leaflet.awesome-markers.css&quot;/&gt;\n",
       "    &lt;link rel=&quot;stylesheet&quot; href=&quot;https://cdn.jsdelivr.net/gh/python-visualization/folium/folium/templates/leaflet.awesome.rotate.min.css&quot;/&gt;\n",
       "    \n",
       "            &lt;meta name=&quot;viewport&quot; content=&quot;width=device-width,\n",
       "                initial-scale=1.0, maximum-scale=1.0, user-scalable=no&quot; /&gt;\n",
       "            &lt;style&gt;\n",
       "                #map_6a1abc88a17145dfb0ececd6fde3e297 {\n",
       "                    position: relative;\n",
       "                    width: 100.0%;\n",
       "                    height: 100.0%;\n",
       "                    left: 0.0%;\n",
       "                    top: 0.0%;\n",
       "                }\n",
       "            &lt;/style&gt;\n",
       "        \n",
       "&lt;/head&gt;\n",
       "&lt;body&gt;    \n",
       "    \n",
       "            &lt;div class=&quot;folium-map&quot; id=&quot;map_6a1abc88a17145dfb0ececd6fde3e297&quot; &gt;&lt;/div&gt;\n",
       "        \n",
       "&lt;/body&gt;\n",
       "&lt;script&gt;    \n",
       "    \n",
       "            var map_6a1abc88a17145dfb0ececd6fde3e297 = L.map(\n",
       "                &quot;map_6a1abc88a17145dfb0ececd6fde3e297&quot;,\n",
       "                {\n",
       "                    center: [-75.0, 5.0],\n",
       "                    crs: L.CRS.EPSG3857,\n",
       "                    zoom: 4,\n",
       "                    zoomControl: true,\n",
       "                    preferCanvas: false,\n",
       "                }\n",
       "            );\n",
       "\n",
       "            \n",
       "\n",
       "        \n",
       "    \n",
       "            var tile_layer_c203cac8d33a4016c1058cdbcc5a3f21 = L.tileLayer(\n",
       "                &quot;https://{s}.tile.openstreetmap.org/{z}/{x}/{y}.png&quot;,\n",
       "                {&quot;attribution&quot;: &quot;Data by \\u0026copy; \\u003ca href=\\&quot;http://openstreetmap.org\\&quot;\\u003eOpenStreetMap\\u003c/a\\u003e, under \\u003ca href=\\&quot;http://www.openstreetmap.org/copyright\\&quot;\\u003eODbL\\u003c/a\\u003e.&quot;, &quot;detectRetina&quot;: false, &quot;maxNativeZoom&quot;: 18, &quot;maxZoom&quot;: 18, &quot;minZoom&quot;: 0, &quot;noWrap&quot;: false, &quot;opacity&quot;: 1, &quot;subdomains&quot;: &quot;abc&quot;, &quot;tms&quot;: false}\n",
       "            ).addTo(map_6a1abc88a17145dfb0ececd6fde3e297);\n",
       "        \n",
       "    \n",
       "            var tile_layer_2cfcd996a43921ba1f9be03106b7130f = L.tileLayer(\n",
       "                &quot;https://earthengine.googleapis.com/v1alpha/projects/earthengine-legacy/maps/75f40d0a0a829860b91c7b313ff553bf-ef7ea18bc3d487b15cf125c7960da3de/tiles/{z}/{x}/{y}&quot;,\n",
       "                {&quot;attribution&quot;: &quot;Map Data \\u0026copy; \\u003ca href=\\&quot;https://earthengine.google.com/\\&quot;\\u003eGoogle Earth Engine\\u003c/a\\u003e&quot;, &quot;detectRetina&quot;: false, &quot;maxNativeZoom&quot;: 18, &quot;maxZoom&quot;: 18, &quot;minZoom&quot;: 0, &quot;noWrap&quot;: false, &quot;opacity&quot;: 1, &quot;subdomains&quot;: &quot;abc&quot;, &quot;tms&quot;: false}\n",
       "            ).addTo(map_6a1abc88a17145dfb0ececd6fde3e297);\n",
       "        \n",
       "    \n",
       "            var tile_layer_ad0f1bdae402654bfa8facc8990b54be = L.tileLayer(\n",
       "                &quot;https://earthengine.googleapis.com/v1alpha/projects/earthengine-legacy/maps/e8532edf4086cf62dacf89a3c6653f7c-178da3d1b7e1c03f42ccc1dde629ac8a/tiles/{z}/{x}/{y}&quot;,\n",
       "                {&quot;attribution&quot;: &quot;Map Data \\u0026copy; \\u003ca href=\\&quot;https://earthengine.google.com/\\&quot;\\u003eGoogle Earth Engine\\u003c/a\\u003e&quot;, &quot;detectRetina&quot;: false, &quot;maxNativeZoom&quot;: 18, &quot;maxZoom&quot;: 18, &quot;minZoom&quot;: 0, &quot;noWrap&quot;: false, &quot;opacity&quot;: 1, &quot;subdomains&quot;: &quot;abc&quot;, &quot;tms&quot;: false}\n",
       "            ).addTo(map_6a1abc88a17145dfb0ececd6fde3e297);\n",
       "        \n",
       "    \n",
       "            var tile_layer_b9481cb7a5a665933d2ae6ec96a155dd = L.tileLayer(\n",
       "                &quot;https://earthengine.googleapis.com/v1alpha/projects/earthengine-legacy/maps/6f6918eb76cda62263de096505b4e3f2-e576ea56db72bc71d3705c4633ee5a23/tiles/{z}/{x}/{y}&quot;,\n",
       "                {&quot;attribution&quot;: &quot;Map Data \\u0026copy; \\u003ca href=\\&quot;https://earthengine.google.com/\\&quot;\\u003eGoogle Earth Engine\\u003c/a\\u003e&quot;, &quot;detectRetina&quot;: false, &quot;maxNativeZoom&quot;: 18, &quot;maxZoom&quot;: 18, &quot;minZoom&quot;: 0, &quot;noWrap&quot;: false, &quot;opacity&quot;: 1, &quot;subdomains&quot;: &quot;abc&quot;, &quot;tms&quot;: false}\n",
       "            ).addTo(map_6a1abc88a17145dfb0ececd6fde3e297);\n",
       "        \n",
       "    \n",
       "            var layer_control_9a41adb9f857127ea7c3a97db6789169 = {\n",
       "                base_layers : {\n",
       "                    &quot;openstreetmap&quot; : tile_layer_c203cac8d33a4016c1058cdbcc5a3f21,\n",
       "                },\n",
       "                overlays :  {\n",
       "                    &quot;composite&quot; : tile_layer_2cfcd996a43921ba1f9be03106b7130f,\n",
       "                    &quot;predicted label&quot; : tile_layer_ad0f1bdae402654bfa8facc8990b54be,\n",
       "                    &quot;probability&quot; : tile_layer_b9481cb7a5a665933d2ae6ec96a155dd,\n",
       "                },\n",
       "            };\n",
       "            L.control.layers(\n",
       "                layer_control_9a41adb9f857127ea7c3a97db6789169.base_layers,\n",
       "                layer_control_9a41adb9f857127ea7c3a97db6789169.overlays,\n",
       "                {&quot;autoZIndex&quot;: true, &quot;collapsed&quot;: true, &quot;position&quot;: &quot;topright&quot;}\n",
       "            ).addTo(map_6a1abc88a17145dfb0ececd6fde3e297);\n",
       "        \n",
       "&lt;/script&gt;\" style=\"position:absolute;width:100%;height:100%;left:0;top:0;border:none !important;\" allowfullscreen webkitallowfullscreen mozallowfullscreen></iframe></div></div>"
      ],
      "text/plain": [
       "<folium.folium.Map at 0x13e58fcd0>"
      ]
     },
     "execution_count": 85,
     "metadata": {},
     "output_type": "execute_result"
    }
   ],
   "source": [
    "\n",
    "# Get map IDs for display in folium.\n",
    "probability_vis = {\n",
    "    'bands': ['bare', 'veg', 'water'], 'max': 0.5, 'format': 'png'\n",
    "}\n",
    "label_vis = {\n",
    "    'palette': ['red', 'green', 'blue'], 'min': 0, 'max': 2, 'format': 'png'\n",
    "}\n",
    "probability_mapid = probabilities.getMapId(probability_vis)\n",
    "label_mapid = label.getMapId(label_vis)\n",
    "\n",
    "# Visualize the input imagery and the predictions.\n",
    "# map = folium.Map(location=[37.6413, -122.2582], zoom_start=11)\n",
    "map = folium.Map(location=[-75, 5], zoom_start=4)\n",
    "\n",
    "folium.TileLayer(\n",
    "    tiles=mapid['tile_fetcher'].url_format,\n",
    "    attr='Map Data &copy; <a href=\"https://earthengine.google.com/\">Google Earth Engine</a>',\n",
    "    overlay=True,\n",
    "    name='composite',\n",
    "  ).add_to(map)\n",
    "folium.TileLayer(\n",
    "  tiles=label_mapid['tile_fetcher'].url_format,\n",
    "  attr='Map Data &copy; <a href=\"https://earthengine.google.com/\">Google Earth Engine</a>',\n",
    "  overlay=True,\n",
    "  name='predicted label',\n",
    ").add_to(map)\n",
    "folium.TileLayer(\n",
    "  tiles=probability_mapid['tile_fetcher'].url_format,\n",
    "  attr='Map Data &copy; <a href=\"https://earthengine.google.com/\">Google Earth Engine</a>',\n",
    "  overlay=True,\n",
    "  name='probability',\n",
    ").add_to(map)\n",
    "map.add_child(folium.LayerControl())\n",
    "map"
   ]
  },
  {
   "cell_type": "code",
   "execution_count": null,
   "metadata": {},
   "outputs": [],
   "source": []
  }
 ],
 "metadata": {
  "kernelspec": {
   "display_name": "Python 3.10.4 ('VAEenv')",
   "language": "python",
   "name": "python3"
  },
  "language_info": {
   "codemirror_mode": {
    "name": "ipython",
    "version": 3
   },
   "file_extension": ".py",
   "mimetype": "text/x-python",
   "name": "python",
   "nbconvert_exporter": "python",
   "pygments_lexer": "ipython3",
   "version": "3.10.4"
  },
  "orig_nbformat": 4,
  "vscode": {
   "interpreter": {
    "hash": "49c09480b0a56e56eaa03a0fc423497b2e18d961896d9b2e8f1ce68153effb79"
   }
  }
 },
 "nbformat": 4,
 "nbformat_minor": 2
}
