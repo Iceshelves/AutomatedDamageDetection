{
 "cells": [
  {
   "cell_type": "markdown",
   "id": "460ce0dc-b6ca-407f-afdf-a48400b770df",
   "metadata": {},
   "source": [
    "## plot loss function"
   ]
  },
  {
   "cell_type": "code",
   "execution_count": 2,
   "id": "32fd7e3b-b195-4c14-9987-fd79f46bba8b",
   "metadata": {},
   "outputs": [],
   "source": [
    "import os\n",
    "import json\n",
    "import numpy as np\n",
    "os.getcwd()\n",
    "# homedir='/Users/tud500158/Library/Mobile Documents/com~apple~CloudDocs/Documents/Documents - TUD500158/'\n",
    "homedir='/gpfs/home3/mizeboud/'"
   ]
  },
  {
   "cell_type": "code",
   "execution_count": 3,
   "id": "df32f76c-8aa3-4e24-92c8-b669afb56a99",
   "metadata": {},
   "outputs": [
    {
     "name": "stdout",
     "output_type": "stream",
     "text": [
      "/gpfs/home3/mizeboud/train/2022-05/2022-05-19/model_1652994000\n"
     ]
    }
   ],
   "source": [
    "# cwd = os.getcwd();\n",
    "# path_to_vaes = '../../training/'\n",
    "# sub_dirs = [dirname for dirname in os.listdir(path_to_vaes) if not dirname.startswith('.') ] \n",
    "# print(sub_dirs)\n",
    "# last_dir = sub_dirs[-1]\n",
    "# model_dirs = [dirname for dirname in os.listdir(os.path.join(path_to_vaes,last_dir)) if not dirname.startswith('.')]\n",
    "# print(model_dirs)\n",
    "\n",
    "# path_to_model = os.path.join(path_to_vaes,last_dir,model_dirs[1])\n",
    "# path_to_model\n",
    "# print(os.path.join(path_to_vaes,last_dir,model_dirs[1]))\n",
    "\n",
    "# path2vaes = '/Users/tud500158/Library/Mobile Documents/com~apple~CloudDocs/Documents/Documents - TUD500158/github/AutomatedDamageDetection/training/'\n",
    "# modeldir = '2022-07/07-11/model_1657553278/'\n",
    "# modeldir = '2022-07/model_1658152885/'\n",
    "\n",
    "# modeldir = '2022-10'\n",
    "# modelnum = 'model_1664883952'\n",
    "# path_to_model = os.path.join(homedir,'github/AutomatedDamageDetection/training/',modeldir,modelnum)\n",
    "\n",
    "# on vrlab:\n",
    "modeldir = '2022-05/2022-05-19'\n",
    "modelnum = 'model_1652994000'\n",
    "path_to_model = os.path.join(homedir,'train/',modeldir,modelnum)\n",
    "\n",
    "print(path_to_model)"
   ]
  },
  {
   "cell_type": "markdown",
   "id": "c8dbf15d-21d3-49f0-aa84-ca3eac0e7cf3",
   "metadata": {},
   "source": [
    "#### loaad history"
   ]
  },
  {
   "cell_type": "code",
   "execution_count": 14,
   "id": "c3a9a0a4-72f1-41d3-8469-9ee173f28608",
   "metadata": {},
   "outputs": [
    {
     "name": "stdout",
     "output_type": "stream",
     "text": [
      "['history_epoch_12', 'history_epoch_1', 'history_epoch_4', 'history_epoch_3', 'history_epoch_15', 'history_epoch_16', 'history_epoch_7', 'history_epoch_14', 'history_epoch_17', 'history_epoch_13', 'history_epoch_2', 'history_epoch_6', 'history_epoch_10', 'history_epoch_9', 'history_epoch_18', 'history_epoch_11', 'history_epoch_8', 'history_epoch_0', 'history_epoch_5']\n"
     ]
    },
    {
     "data": {
      "text/plain": [
       "range(0, 19)"
      ]
     },
     "execution_count": 14,
     "metadata": {},
     "output_type": "execute_result"
    }
   ],
   "source": [
    "history_files = [file for file in os.listdir(path_to_model) if 'history' in file]\n",
    "print(history_files)\n",
    "history_files.sort()\n",
    "len(history_files)\n",
    "epoch_nums = range(0,len(history_files))"
   ]
  },
  {
   "cell_type": "code",
   "execution_count": 16,
   "id": "8935e22b-e03b-4f70-8731-6e55b9f3cc54",
   "metadata": {},
   "outputs": [
    {
     "name": "stdout",
     "output_type": "stream",
     "text": [
      "[79.9604110718, 79.3273391724, 79.2901229858, 79.2746200562, 79.2614593506, 79.2526321411, 79.2548828125, 79.232749939, 79.2336196899, 79.2146224976, 79.2340927124, 79.2391357422, 79.2328414917, 79.2230377197, 79.2273025513, 79.2402038574, 79.2330093384, 79.2246856689, 79.2210159302]\n",
      "[79.9604110718, 79.3273391724, 79.2901229858, 79.2746200562, 79.2614593506, 79.2526321411, 79.2548828125, 79.232749939, 79.2336196899, 79.2146224976, 79.2340927124, 79.2391357422, 79.2328414917, 79.2230377197, 79.2273025513, 79.2402038574, 79.2330093384, 79.2246856689, 79.2210159302]\n"
     ]
    }
   ],
   "source": [
    "\n",
    "\n",
    "if len(history_files) > 1:\n",
    "    loss = []\n",
    "    val_loss = []\n",
    "    for epoch_num in range(0,len(history_files)):\n",
    "        hfile = 'history_epoch_' + str(epoch_num)\n",
    "    # for hfile in history_files:\n",
    "        with open(os.path.join(path_to_model,hfile)) as hf:\n",
    "            data = hf.read()\n",
    "            data = json.loads(data)\n",
    "            loss.append(data['loss']['0'])\n",
    "            val_loss.append(data['val_loss']['0'])\n",
    "            del data \n",
    "    # print(loss)\n",
    "else:\n",
    "    hfile=history_files[0]\n",
    "    with open(os.path.join(path_to_model,hfile)) as hf:\n",
    "        data = hf.read()\n",
    "        data = json.loads(data)\n",
    "        loss = np.array(list(data['loss'].values()))\n",
    "        val_loss = np.array(list(data['val_loss'].values()))\n",
    "\n",
    "# print(data)\n",
    "print(loss)\n"
   ]
  },
  {
   "cell_type": "code",
   "execution_count": 5,
   "id": "67efeebe-0161-4f12-8eea-6ef08ff57119",
   "metadata": {},
   "outputs": [
    {
     "name": "stdout",
     "output_type": "stream",
     "text": [
      "[79.2526321411]\n"
     ]
    },
    {
     "data": {
      "text/plain": [
       "array([79.25263214])"
      ]
     },
     "execution_count": 5,
     "metadata": {},
     "output_type": "execute_result"
    }
   ],
   "source": [
    "print(list(data['loss'].values()))\n",
    "\n",
    "train_loss = np.array( list(data['loss'].values()) )\n",
    "train_loss.shape\n",
    "train_loss\n"
   ]
  },
  {
   "cell_type": "code",
   "execution_count": 17,
   "id": "1a81270d-783c-4db4-a142-55e0ca7f4da3",
   "metadata": {},
   "outputs": [
    {
     "data": {
      "text/plain": [
       "<matplotlib.legend.Legend at 0x14741ec5f640>"
      ]
     },
     "execution_count": 17,
     "metadata": {},
     "output_type": "execute_result"
    },
    {
     "data": {
      "image/png": "[encoded data removed]",
      "text/plain": [
       "<Figure size 640x480 with 1 Axes>"
      ]
     },
     "metadata": {},
     "output_type": "display_data"
    }
   ],
   "source": [
    "import matplotlib.pyplot as plt\n",
    "''' ----------\n",
    "Save model loss figure\n",
    "------------'''\n",
    "\n",
    "\n",
    "# summarize history for loss\n",
    "fig, ax = plt.subplots()\n",
    "ax.plot(loss)\n",
    "ax.plot(val_loss)\n",
    "ax.set_title('model loss')\n",
    "ax.set_ylabel('loss')\n",
    "ax.set_xlabel('epoch')\n",
    "ax.legend(['train', 'val'], loc='upper right')\n",
    "\n",
    "# fig.savefig(os.path.join(path_to_model  , 'model_loss' ) )"
   ]
  },
  {
   "cell_type": "code",
   "execution_count": 51,
   "id": "3f5a4eab-4b16-49e0-b11f-6c6c17548758",
   "metadata": {},
   "outputs": [],
   "source": [
    "# # get traininig tileNums\n",
    "# with open(os.path.join(path_to_model,'datasets_1657553278.json')) as hf:\n",
    "#     data = hf.read()\n",
    "#     data = json.loads(data)\n",
    "    \n",
    "# tile_nums = [int(file.split('/')[-1].split('.')[0].split('_')[-1]) for file in data['training']]\n",
    "# print(tile_nums)\n",
    "# int(data['training'][0].split('/')[-1].split('.')[0].split('_')[-1])\n"
   ]
  },
  {
   "cell_type": "markdown",
   "id": "a7dbb5b6-cff6-46b3-b8c8-b61523cbb33c",
   "metadata": {},
   "source": [
    "## load model and get loss components"
   ]
  },
  {
   "cell_type": "code",
   "execution_count": 54,
   "id": "48e290e7-6311-4832-b763-821480bf4f2f",
   "metadata": {},
   "outputs": [
    {
     "name": "stdout",
     "output_type": "stream",
     "text": [
      "WARNING:tensorflow:SavedModel saved prior to TF 2.5 detected when loading Keras model. Please ensure that you are saving the model with model.save() or tf.keras.models.save_model(), *NOT* tf.saved_model.save(). To confirm, there should be a file named \"keras_metadata.pb\" in the SavedModel directory.\n"
     ]
    },
    {
     "name": "stderr",
     "output_type": "stream",
     "text": [
      "2022-07-18 13:50:49.152322: I tensorflow/core/platform/cpu_feature_guard.cc:151] This TensorFlow binary is optimized with oneAPI Deep Neural Network Library (oneDNN) to use the following CPU instructions in performance-critical operations:  SSE4.1 SSE4.2 AVX AVX2 FMA\n",
      "To enable them in other operations, rebuild TensorFlow with the appropriate compiler flags.\n"
     ]
    }
   ],
   "source": [
    "\n",
    "import tensorflow as tf\n",
    "\n",
    "model = tf.keras.models.load_model(os.path.join(path_to_model, 'model_epoch_1') )"
   ]
  },
  {
   "cell_type": "code",
   "execution_count": 56,
   "id": "dd9a5cfe-0f50-4121-a4b6-9fe1ae3d6ddf",
   "metadata": {},
   "outputs": [
    {
     "name": "stdout",
     "output_type": "stream",
     "text": [
      "[<tf.Tensor 'Placeholder:0' shape=() dtype=float32>]\n"
     ]
    }
   ],
   "source": [
    "print(model.losses) "
   ]
  },
  {
   "cell_type": "code",
   "execution_count": null,
   "id": "99c7682d-b992-46e5-91ae-cb7170e268cc",
   "metadata": {},
   "outputs": [],
   "source": []
  }
 ],
 "metadata": {
  "kernelspec": {
   "display_name": "Python 3 (ipykernel)",
   "language": "python",
   "name": "python3"
  },
  "language_info": {
   "codemirror_mode": {
    "name": "ipython",
    "version": 3
   },
   "file_extension": ".py",
   "mimetype": "text/x-python",
   "name": "python",
   "nbconvert_exporter": "python",
   "pygments_lexer": "ipython3",
   "version": "3.9.13"
  }
 },
 "nbformat": 4,
 "nbformat_minor": 5
}
