{
 "cells": [
  {
   "cell_type": "markdown",
   "id": "e709fcfd-4024-4c16-ae5b-a5b01260ad8f",
   "metadata": {},
   "source": [
    "### Check encoded data"
   ]
  },
  {
   "cell_type": "code",
   "execution_count": 7,
   "id": "a1386d27-0303-4ed6-9398-308a48e28602",
   "metadata": {},
   "outputs": [],
   "source": [
    "import numpy as np\n",
    "import os\n",
    "homedir = '/gpfs/home3/mizeboud/'"
   ]
  },
  {
   "cell_type": "code",
   "execution_count": 8,
   "id": "287180e9-5d28-4d04-9f11-e17cfefac5cc",
   "metadata": {},
   "outputs": [
    {
     "name": "stdout",
     "output_type": "stream",
     "text": [
      "---- loaded encoded data; size:  (15625, 4)\n"
     ]
    }
   ],
   "source": [
    "encoded_data_file = os.path.join(homedir,'train/2022-11/model_1668077484/S2_composite_2019-11-1_2020-3-1_tile_124_encoded_epoch1.npy')\n",
    "\n",
    "if os.path.exists(encoded_data_file):\n",
    "    # read file\n",
    "    encoded_data = np.load(encoded_data_file)\n",
    "    print('---- loaded encoded data; size: ', encoded_data.shape)\n",
    "    "
   ]
  },
  {
   "cell_type": "code",
   "execution_count": 12,
   "id": "e1846880-9069-41b2-bcb1-8b0837e69d9d",
   "metadata": {},
   "outputs": [
    {
     "data": {
      "text/plain": [
       "0"
      ]
     },
     "execution_count": 12,
     "metadata": {},
     "output_type": "execute_result"
    }
   ],
   "source": [
    "encoded_data\n",
    "np.isnan(encoded_data).sum()\n"
   ]
  },
  {
   "cell_type": "code",
   "execution_count": 16,
   "id": "90788ed1-d3e5-4573-af25-f475b0da3cac",
   "metadata": {},
   "outputs": [
    {
     "data": {
      "text/plain": [
       "(15625, 4)"
      ]
     },
     "execution_count": 16,
     "metadata": {},
     "output_type": "execute_result"
    }
   ],
   "source": [
    "encoded_data.shape"
   ]
  },
  {
   "cell_type": "code",
   "execution_count": 13,
   "id": "62cf4932-8b2f-4899-b651-006a565cdfe6",
   "metadata": {},
   "outputs": [],
   "source": [
    "import matplotlib.pyplot as plt\n"
   ]
  },
  {
   "cell_type": "code",
   "execution_count": 15,
   "id": "a30ae3af-2f56-4309-a120-417319e55ee1",
   "metadata": {},
   "outputs": [
    {
     "data": {
      "text/plain": [
       "(array([[    0., 15625.,     0.,     0.,     0.,     0.,     0.,     0.,\n",
       "             0.,     0.],\n",
       "        [    0.,     0.,     0.,     0.,     0.,     0.,     0.,     0.,\n",
       "             0., 15625.],\n",
       "        [15625.,     0.,     0.,     0.,     0.,     0.,     0.,     0.,\n",
       "             0.,     0.],\n",
       "        [    0.,     0.,     0.,     0.,     0.,     0.,     0.,     0.,\n",
       "             0., 15625.]]),\n",
       " array([-0.02805721, -0.0221025 , -0.0161478 , -0.0101931 , -0.00423839,\n",
       "         0.00171631,  0.00767101,  0.01362571,  0.01958042,  0.02553512,\n",
       "         0.03148982], dtype=float32),\n",
       " <a list of 4 BarContainer objects>)"
      ]
     },
     "execution_count": 15,
     "metadata": {},
     "output_type": "execute_result"
    },
    {
     "data": {
      "image/png": "[encoded data removed]",
      "text/plain": [
       "<Figure size 640x480 with 1 Axes>"
      ]
     },
     "metadata": {},
     "output_type": "display_data"
    }
   ],
   "source": [
    "plt.hist(encoded_data)"
   ]
  },
  {
   "cell_type": "code",
   "execution_count": null,
   "id": "f1c4e810-6212-49bb-bf07-e8327e642e3b",
   "metadata": {},
   "outputs": [],
   "source": []
  }
 ],
 "metadata": {
  "kernelspec": {
   "display_name": "Python 3 (ipykernel)",
   "language": "python",
   "name": "python3"
  },
  "language_info": {
   "codemirror_mode": {
    "name": "ipython",
    "version": 3
   },
   "file_extension": ".py",
   "mimetype": "text/x-python",
   "name": "python",
   "nbconvert_exporter": "python",
   "pygments_lexer": "ipython3",
   "version": "3.9.13"
  }
 },
 "nbformat": 4,
 "nbformat_minor": 5
}
