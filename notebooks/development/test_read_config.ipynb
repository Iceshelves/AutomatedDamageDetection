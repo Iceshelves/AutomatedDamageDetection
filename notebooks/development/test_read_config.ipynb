{
 "cells": [
  {
   "cell_type": "markdown",
   "id": "87cc0b41-4116-4321-8c2f-b5b1cf91f0f4",
   "metadata": {},
   "source": [
    "# Test reading the configuration file"
   ]
  },
  {
   "cell_type": "code",
   "execution_count": 3,
   "id": "b2ef65be-2cf2-4cee-8f5a-84caee9be80d",
   "metadata": {},
   "outputs": [],
   "source": [
    "\n",
    "import configparser\n",
    "import json\n",
    "import os\n",
    "import sys\n",
    "\n",
    "import pandas as pd"
   ]
  },
  {
   "cell_type": "code",
   "execution_count": 2,
   "id": "e9380b87-16f0-4723-82c8-3722ad75c7a6",
   "metadata": {},
   "outputs": [],
   "source": [
    "\n",
    "\n",
    "def parse_config(config):\n",
    "    \"\"\" Parse input arguments from dictionary or config file \"\"\"\n",
    "    if not isinstance(config, dict):\n",
    "        parser = configparser.ConfigParser(allow_no_value=True)\n",
    "        parser.read(config)\n",
    "        config = parser[\"train-VAE\"]\n",
    "\n",
    "    catPath = config['catalogPath']\n",
    "    labPath = config['labelsPath']\n",
    "    outputDir = config['outputDirectory']\n",
    "    sizeTestSet = int(config['sizeTestSet'])\n",
    "    sizeValSet = int(config['sizeValidationSet'])\n",
    "    roiFile = config['ROIFile']\n",
    "    #\n",
    "    bands = [int(i) for i in config['bands'].split(\" \")]\n",
    "    sizeCutOut = int(config['sizeCutOut'])\n",
    "    sizeStep = int(config['sizeStep'])\n",
    "    stride = int(config['stride'])\n",
    "    #DATA\n",
    "    # balanceRatio = float(config['balanceRatio'])\n",
    "    file_DMGinfo = config['tiledDamagePixelsCountFile']\n",
    "    # normThreshold = [float(i) for i in config['normalizationThreshold'].split(\" \")]\n",
    "    normThreshold = config['normalizationThreshold']\n",
    "    if normThreshold is not None:\n",
    "        normThreshold = [float(i) for i in normThreshold.split(\" \")]\n",
    "    adaptHist = True if config['adaptHistogramEqual'] == 'True' else False\n",
    "    # MODEL\n",
    "    filter1 = int(config['filter1'])\n",
    "    filter2 = int(config['filter2'])\n",
    "    kernelSize1 = int(config['kernelSize1'])\n",
    "    kernelSize2 = int(config['kernelSize2'])\n",
    "    denseSize = int(config['denseSize'])\n",
    "    latentDim = int(config['latentDim'])\n",
    "    #vae:\n",
    "    alpha = float(config['alpha'])\n",
    "    batchSize = int(config['batchSize'])\n",
    "    nEpochMax = int(config['nEpochData'])\n",
    "    nEpochTrain = int(config['nEpochTrain'])\n",
    "    learnRate = float(config['learningRate'])\n",
    "#     validationSplit = float(config['validationSplit'])\n",
    "\n",
    "    return (catPath, labPath, outputDir, sizeTestSet, sizeValSet, roiFile,\n",
    "            bands, sizeCutOut, nEpochMax, nEpochTrain, sizeStep, stride, file_DMGinfo, normThreshold, adaptHist,\n",
    "            filter1, filter2, kernelSize1,kernelSize2, denseSize, latentDim,\n",
    "            alpha, batchSize,learnRate)\n",
    "\n"
   ]
  },
  {
   "cell_type": "code",
   "execution_count": 11,
   "id": "365a9fff-8ee1-4ccb-b40f-e62c8fb0d1aa",
   "metadata": {},
   "outputs": [],
   "source": [
    "# define config file\n",
    "\n",
    "path2config = os.path.join(os.path.expanduser('~'),'preprocessing/configs/')\n",
    "\n",
    "config = os.path.join(path2config,'train-vae.ini')\n",
    "                           \n",
    "                        "
   ]
  },
  {
   "cell_type": "code",
   "execution_count": 16,
   "id": "b2acc690-e01f-432f-81c0-41828e259664",
   "metadata": {},
   "outputs": [
    {
     "data": {
      "text/plain": [
       "'/home/mizeboud'"
      ]
     },
     "execution_count": 16,
     "metadata": {},
     "output_type": "execute_result"
    }
   ],
   "source": [
    "os.path.expanduser('~')\n"
   ]
  },
  {
   "cell_type": "code",
   "execution_count": 14,
   "id": "49609ca3-c5b8-4eca-abc9-cce1c05bd74b",
   "metadata": {},
   "outputs": [],
   "source": [
    "# parse input arguments\n",
    "config = config if config is not None else \"train-vae.ini\"\n",
    "catPath, labPath, outputDir, sizeTestSet, sizeValSet, roiFile, \\\n",
    "    bands, sizeCutOut, nEpochmax, nEpochTrain, sizeStep, stride, file_DMGinfo, normThreshold, adaptHist, \\\n",
    "    filter1, filter2, kernelSize1, kernelSize2, denseSize, latentDim, \\\n",
    "    alpha, batchSize,learnRate = parse_config(config)"
   ]
  },
  {
   "cell_type": "code",
   "execution_count": 15,
   "id": "075fdc81-b6df-427e-9f84-0b49bb4c4b79",
   "metadata": {},
   "outputs": [
    {
     "data": {
      "text/plain": [
       "522.0"
      ]
     },
     "execution_count": 15,
     "metadata": {},
     "output_type": "execute_result"
    }
   ],
   "source": [
    "alpha"
   ]
  },
  {
   "cell_type": "code",
   "execution_count": null,
   "id": "8c2edbe1-b986-4d06-a11d-d4b803ac434a",
   "metadata": {},
   "outputs": [],
   "source": []
  }
 ],
 "metadata": {
  "kernelspec": {
   "display_name": "Python 3 (ipykernel)",
   "language": "python",
   "name": "python3"
  },
  "language_info": {
   "codemirror_mode": {
    "name": "ipython",
    "version": 3
   },
   "file_extension": ".py",
   "mimetype": "text/x-python",
   "name": "python",
   "nbconvert_exporter": "python",
   "pygments_lexer": "ipython3",
   "version": "3.9.13"
  }
 },
 "nbformat": 4,
 "nbformat_minor": 5
}
