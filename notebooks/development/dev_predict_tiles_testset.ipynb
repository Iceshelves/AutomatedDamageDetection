{
 "cells": [
  {
   "cell_type": "code",
   "execution_count": 1,
   "id": "23b11881-cb28-41e3-92f0-9ba0d260cd5e",
   "metadata": {},
   "outputs": [
    {
     "name": "stdout",
     "output_type": "stream",
     "text": [
      "---- modules imported\n"
     ]
    }
   ],
   "source": [
    "import os\n",
    "# os.chdir('/Users/tud500158/Documents/github/AutomatedDamageDetection/scripts/train-vae/')\n",
    "# print(os.getcwd())\n",
    "homedir = '/Users/tud500158/Library/Mobile Documents/com~apple~CloudDocs/Documents/Documents - TUD500158/'\n",
    "workdir = os.path.join(homedir,'github/AutomatedDamageDetection/')\n",
    "os.chdir(os.path.join(workdir,'scripts/train-vae/'))\n",
    "import numpy as np\n",
    "import tensorflow as tf\n",
    "import glob\n",
    "import geopandas as gpd\n",
    "import json\n",
    "import configparser \n",
    "from sklearn.manifold import TSNE\n",
    "import rioxarray as rioxr\n",
    "import xarray as xr\n",
    "import os\n",
    "import matplotlib.pyplot as plt\n",
    "import dataset\n",
    "import tiles as ts\n",
    "\n",
    "# from shapely import geometry\n",
    "from rasterio.features import shapes, geometry_mask\n",
    "import pathlib\n",
    "import pandas as pd\n",
    "import xarray as xr\n",
    "\n",
    "print('---- modules imported')\n",
    "os.chdir(workdir)\n"
   ]
  },
  {
   "cell_type": "code",
   "execution_count": 2,
   "id": "584524ab-9731-46a3-9046-3a3cf902ff23",
   "metadata": {},
   "outputs": [],
   "source": [
    "\n",
    "# def parse_config(config):\n",
    "#     \"\"\" Parse input arguments from dictionary or config file \"\"\"\n",
    "#     if not isinstance(config, dict):\n",
    "#         parser = configparser.ConfigParser()\n",
    "#         parser.read(config)\n",
    "#         config = parser[\"train-VAE\"]\n",
    "\n",
    "#     catPath = config['catalogPath']\n",
    "#     labPath = config['labelsPath']\n",
    "#     outputDir = config['outputDirectory']\n",
    "#     sizeTestSet = int(config['sizeTestSet'])\n",
    "#     sizeValSet = int(config['sizeValidationSet'])\n",
    "#     roiFile = config['ROIFile']\n",
    "#     bands = [int(i) for i in config['bands'].split(\" \")]\n",
    "#     sizeCutOut = int(config['sizeCutOut'])\n",
    "#     nEpochMax = int(config['nEpochMax'])\n",
    "#     sizeStep = int(config['sizeStep'])\n",
    "#     normThreshold = float(config['normalizationThreshold'])\n",
    "        \n",
    "#     return (catPath, labPath, outputDir, sizeTestSet, sizeValSet, roiFile,\n",
    "#             bands, sizeCutOut, nEpochMax, sizeStep, normThreshold)\n",
    "\n",
    "\n",
    "def parse_config(config):\n",
    "    \"\"\" Parse input arguments from dictionary or config file \"\"\"\n",
    "    if not isinstance(config, dict):\n",
    "        parser = configparser.ConfigParser(allow_no_value=True)\n",
    "        parser.read(config)\n",
    "        config = parser[\"train-VAE\"]\n",
    "\n",
    "    catPath = config['catalogPath']\n",
    "    labPath = config['labelsPath']\n",
    "    outputDir = config['outputDirectory']\n",
    "    sizeTestSet = int(config['sizeTestSet'])\n",
    "    sizeValSet = int(config['sizeValidationSet'])\n",
    "    roiFile = config['ROIFile']\n",
    "    #\n",
    "    bands = [int(i) for i in config['bands'].split(\" \")]\n",
    "    sizeCutOut = int(config['sizeCutOut'])\n",
    "    sizeStep = int(config['sizeStep'])\n",
    "    stride = int(config['stride'])\n",
    "    #DATA\n",
    "    # balanceRatio = float(config['balanceRatio'])\n",
    "    file_DMGinfo = config['tiledDamagePixelsCountFile']\n",
    "    # normThreshold = [float(i) for i in config['normalizationThreshold'].split(\" \")]\n",
    "    normThreshold = config['normalizationThreshold']\n",
    "    if normThreshold is not None:\n",
    "        normThreshold = [float(i) for i in normThreshold.split(\" \")]\n",
    "    # MODEL\n",
    "    filter1 = int(config['filter1'])\n",
    "    filter2 = int(config['filter2'])\n",
    "    kernelSize1 = int(config['kernelSize1'])\n",
    "    kernelSize2 = int(config['kernelSize2'])\n",
    "    denseSize = int(config['denseSize'])\n",
    "    latentDim = int(config['latentDim'])\n",
    "    #vae:\n",
    "    alpha = float(config['alpha'])\n",
    "    batchSize = int(config['batchSize'])\n",
    "    nEpochMax = int(config['nEpochData'])\n",
    "    nEpochTrain = int(config['nEpochTrain'])\n",
    "    learnRate = float(config['learningRate'])\n",
    "#     validationSplit = float(config['validationSplit'])\n",
    "\n",
    "    return (catPath, labPath, outputDir, sizeTestSet, sizeValSet, roiFile,\n",
    "            bands, sizeCutOut, nEpochMax, nEpochTrain, sizeStep, stride, file_DMGinfo, normThreshold,\n",
    "            filter1, filter2, kernelSize1,kernelSize2, denseSize, latentDim,\n",
    "            alpha, batchSize,learnRate)\n",
    "\n"
   ]
  },
  {
   "cell_type": "code",
   "execution_count": 3,
   "id": "c33ee673-c7ab-4514-9164-a732ddb4d1aa",
   "metadata": {},
   "outputs": [],
   "source": [
    "\n",
    "# # path_to_traindir = './model_v0/train_epoch_2/' # path on local computer\n",
    "# path_to_traindir = os.path.join(os.getcwd(), 'training','2022-05-12') # path on local computer\n",
    "# # path_to_traindir = './train/model_v0/train_epoch_2/' # path on cartesius\n",
    "ini_file = 'train-vae.ini'\n",
    "\n",
    "# path_to_traindir = os.path.join(os.getcwd(), 'training','2022-05-12') # path on local computer\n",
    "# model_dir = 'model_1652389459' # VAE-b-L2-n2\n",
    "# path_to_traindir = os.path.join(os.getcwd(), 'training','2022-05-19') # path on local computer\n",
    "# model_dir = 'model_1652994000' # VAE-b-L2-n20\n",
    "# path_to_traindir = os.path.join(os.getcwd(), 'training','2022-05-19') # path on local computer\n",
    "# model_dir = 'model_1652995389' # VAE-b-L4-n2\n",
    "\n",
    "# -- OKTOBER\n",
    "# path_to_traindir = os.path.join(workdir, 'training','2022-10') # path on local computer\n",
    "# # model_dir = 'model_1664876184' # VVAE with hist-equal input; applied to windows\n",
    "# model_dir = 'model_1665487140' # VAE with hist-equal input; applied to img, alpha=2000\n",
    "\n",
    "# path_to_traindir = os.path.join(workdir, 'training','2022-10/2022-10-04') # path on local computer\n",
    "# model_dir = 'model_1664891181' # VAE with hist-equal input: applied to windows --> higher alpha\n",
    "\n",
    "\n",
    "# -- NOV\n",
    "path_to_traindir = os.path.join(workdir,'training','2022-11','2022-11-03')\n",
    "model_dir = 'model_1667483750' # 3 nov\n",
    "# model_dir = 'model_1667487343' # 3 nov\n",
    "\n",
    "# ---------\n",
    "config = os.path.join(path_to_traindir,model_dir,'train-vae.ini')\n",
    "\n",
    "catPath, labPath, outputDir, sizeTestSet, sizeValSet, roiFile, \\\n",
    "        bands, cutout_size, nEpochmax, nEpochTrain, sizeStep, stride, file_DMGinfo, normThreshold, \\\n",
    "        filter1, filter2, kernelSize1, kernelSize2, denseSize, latentDim, \\\n",
    "        alpha, batchSize,learnRate = parse_config(config)\n",
    "            \n",
    "\n",
    "# local maachine: overwrite caatalogpath and labelspath\n",
    "# catalog_path = '/Users/tud500158/Documents/Data/tiles'\n",
    "# labels_path ='/Users/tud500158/Documents/PhD/crevasseDetection/GoogleEarth/labels/geojson/EPSG4326/'\n",
    "catalog_path = os.path.join(homedir,'Data/tiles')\n",
    "labels_path =os.path.join(homedir,'PhD/crevasseDetection/GoogleEarth/labels/geojson/EPSG4326/')\n"
   ]
  },
  {
   "cell_type": "code",
   "execution_count": 4,
   "id": "7ae2f905-023b-414c-ac45-a3e0dfea6c3c",
   "metadata": {},
   "outputs": [
    {
     "data": {
      "text/plain": [
       "['/Users/tud500158/Library/Mobile Documents/com~apple~CloudDocs/Documents/Documents - TUD500158/github/AutomatedDamageDetection/training/2022-11/2022-11-03/model_1667483750']"
      ]
     },
     "execution_count": 4,
     "metadata": {},
     "output_type": "execute_result"
    }
   ],
   "source": [
    "os.path.join(path_to_traindir , 'model*')\n",
    "glob.glob(os.path.join(path_to_traindir , model_dir))\n",
    "# path_to_traindir"
   ]
  },
  {
   "cell_type": "code",
   "execution_count": 8,
   "id": "d09fbaab-99cd-4e13-8713-0240e905a1b3",
   "metadata": {},
   "outputs": [
    {
     "name": "stdout",
     "output_type": "stream",
     "text": [
      "['/Users/tud500158/Library/Mobile Documents/com~apple~CloudDocs/Documents/Documents - TUD500158/github/AutomatedDamageDetection/training/2022-11/2022-11-03/model_1667483750']\n",
      "/Users/tud500158/Library/Mobile Documents/com~apple~CloudDocs/Documents/Documents - TUD500158/github/AutomatedDamageDetection/training/2022-11/2022-11-03/model_1667483750/model_epoch_1\n",
      "/Users/tud500158/Library/Mobile Documents/com~apple~CloudDocs/Documents/Documents - TUD500158/github/AutomatedDamageDetection/training/2022-11/2022-11-03/model_1667483750/encoder_epoch_1\n",
      "WARNING:tensorflow:No training configuration found in save file, so the model was *not* compiled. Compile it manually.\n",
      "---- loaded model, encoder and .ini\n"
     ]
    }
   ],
   "source": [
    "\n",
    "''' ----------\n",
    "Load model\n",
    "------------'''\n",
    "\n",
    "\n",
    "path_to_model = glob.glob(os.path.join(path_to_traindir , model_dir))\n",
    "print(path_to_model)\n",
    "path_to_model = path_to_model[0]\n",
    "# epoch_dirs = glob.glob(path_to_model +'/epoch*' )\n",
    "epoch_dirs = glob.glob(path_to_model +'/model_epoch*' )\n",
    "encoder_dirs = glob.glob(path_to_model+'/encoder*')\n",
    "epoch_dirs.sort()\n",
    "encoder_dirs.sort()\n",
    "path_to_model_epoch = epoch_dirs[-1]\n",
    "path_to_encoder_epoch = encoder_dirs[-1]\n",
    "\n",
    "print(path_to_model_epoch)\n",
    "print(path_to_encoder_epoch)\n",
    "\n",
    "model = tf.keras.models.load_model(path_to_model_epoch ,compile=False)\n",
    "encoder = tf.keras.models.load_model(path_to_encoder_epoch)#,compile=False)\n",
    "\n",
    "# Get latent_dim (of sampling layer)\n",
    "latent_dim = encoder.layers[-1].output_shape[-1] # is 4\n",
    "\n",
    "\n",
    "print('---- loaded model, encoder and .ini')\n"
   ]
  },
  {
   "cell_type": "code",
   "execution_count": 6,
   "id": "0350f4fd",
   "metadata": {},
   "outputs": [],
   "source": [
    "# encoder2 =tf.keras.models.load_model(path_to_encoder_epoch,compile=True)\n",
    "# encoder2.compile()\n",
    "# encoder"
   ]
  },
  {
   "cell_type": "code",
   "execution_count": 7,
   "id": "050ee1a8",
   "metadata": {},
   "outputs": [],
   "source": [
    "# help(tf.keras.models.load_model)\n",
    "# model2 = tf.keras.models.load_model(path_to_model_epoch ,compile=True)\n",
    "# # model2.summary()\n",
    "# model2.layers"
   ]
  },
  {
   "cell_type": "code",
   "execution_count": 24,
   "id": "77c67729",
   "metadata": {},
   "outputs": [
    {
     "data": {
      "text/plain": [
       "'AutomatedDamageDetection'"
      ]
     },
     "execution_count": 24,
     "metadata": {},
     "output_type": "execute_result"
    }
   ],
   "source": [
    "testPath = os.getcwd()\n",
    "thePath, fname = os.path.split(testPath)\n",
    "os.path.split(testPath)[-1]"
   ]
  },
  {
   "cell_type": "code",
   "execution_count": 8,
   "id": "4f0b9629",
   "metadata": {},
   "outputs": [],
   "source": [
    "# # Check encoder info\n",
    "# path_to_encoder_epoch\n",
    "# help(encoder.save)"
   ]
  },
  {
   "cell_type": "markdown",
   "id": "7b20216d",
   "metadata": {},
   "source": [
    "# Data"
   ]
  },
  {
   "cell_type": "code",
   "execution_count": 9,
   "id": "12609f27-af64-4087-84ea-f288045d2a3d",
   "metadata": {},
   "outputs": [
    {
     "data": {
      "text/plain": [
       "['/Users/tud500158/Library/Mobile Documents/com~apple~CloudDocs/Documents/Documents - TUD500158/Data/tiles/training_tiles/S2_composite_2019-11-1_2020-3-1_tile_250.tif',\n",
       " '/Users/tud500158/Library/Mobile Documents/com~apple~CloudDocs/Documents/Documents - TUD500158/Data/tiles/training_tiles/S2_composite_2019-11-1_2020-3-1_tile_124.tif',\n",
       " '/Users/tud500158/Library/Mobile Documents/com~apple~CloudDocs/Documents/Documents - TUD500158/Data/tiles/training_tiles/S2_composite_2019-11-1_2020-3-1_tile_285.tif',\n",
       " '/Users/tud500158/Library/Mobile Documents/com~apple~CloudDocs/Documents/Documents - TUD500158/Data/tiles/training_tiles/S2_composite_2019-11-1_2020-3-1_tile_291.tif',\n",
       " '/Users/tud500158/Library/Mobile Documents/com~apple~CloudDocs/Documents/Documents - TUD500158/Data/tiles/training_tiles/S2_composite_2019-11-1_2020-3-1_tile_268.tif',\n",
       " '/Users/tud500158/Library/Mobile Documents/com~apple~CloudDocs/Documents/Documents - TUD500158/Data/tiles/training_tiles/S2_composite_2019-11-1_2020-3-1_tile_282.tif',\n",
       " '/Users/tud500158/Library/Mobile Documents/com~apple~CloudDocs/Documents/Documents - TUD500158/Data/tiles/training_tiles/S2_composite_2019-11-1_2020-3-1_tile_123.tif',\n",
       " '/Users/tud500158/Library/Mobile Documents/com~apple~CloudDocs/Documents/Documents - TUD500158/Data/tiles/training_tiles/S2_composite_2019-11-1_2020-3-1_tile_93.tif',\n",
       " '/Users/tud500158/Library/Mobile Documents/com~apple~CloudDocs/Documents/Documents - TUD500158/Data/tiles/training_tiles/S2_composite_2019-11-1_2020-3-1_tile_238.tif',\n",
       " '/Users/tud500158/Library/Mobile Documents/com~apple~CloudDocs/Documents/Documents - TUD500158/Data/tiles/training_tiles/S2_composite_2019-11-1_2020-3-1_tile_214.tif',\n",
       " '/Users/tud500158/Library/Mobile Documents/com~apple~CloudDocs/Documents/Documents - TUD500158/Data/tiles/training_tiles/S2_composite_2019-11-1_2020-3-1_tile_228.tif',\n",
       " '/Users/tud500158/Library/Mobile Documents/com~apple~CloudDocs/Documents/Documents - TUD500158/Data/tiles/training_tiles/S2_composite_2019-11-1_2020-3-1_tile_28.tif',\n",
       " '/Users/tud500158/Library/Mobile Documents/com~apple~CloudDocs/Documents/Documents - TUD500158/Data/tiles/training_tiles/S2_composite_2019-11-1_2020-3-1_tile_110.tif',\n",
       " '/Users/tud500158/Library/Mobile Documents/com~apple~CloudDocs/Documents/Documents - TUD500158/Data/tiles/training_tiles/S2_composite_2019-11-1_2020-3-1_tile_114.tif',\n",
       " '/Users/tud500158/Library/Mobile Documents/com~apple~CloudDocs/Documents/Documents - TUD500158/Data/tiles/training_tiles/S2_composite_2019-11-1_2020-3-1_tile_102.tif']"
      ]
     },
     "execution_count": 9,
     "metadata": {},
     "output_type": "execute_result"
    }
   ],
   "source": [
    "\n",
    "\n",
    "''' ----------\n",
    "Get testdata: one tile\n",
    "\n",
    "Instead of loading tiles directly as tf Dataset with dataset.Dataset(), load the tile as xarray to be able to link it to labels\n",
    "------------'''\n",
    "\n",
    "# get info on which tiles are assigned as test tiles\n",
    "datasets_json = glob.glob(os.path.join(path_to_traindir, model_dir , 'datasets*.json'))\n",
    "\n",
    "with open(datasets_json[0]) as file:        # Opening JSON file\n",
    "    datasets_dict = json.loads(file.read()) # load data\n",
    "\n",
    "test_set_paths = datasets_dict['test']   \n",
    "# print(test_set_paths)\n",
    "\n",
    "'''\n",
    "TMP: test with training tiles to see how well damage is represented in latent space\n",
    "\n",
    "'''\n",
    "\n",
    "train_set_paths = datasets_dict['training']   \n",
    "\n",
    "# test: 1 tile\n",
    "# num_tiles = 1 # number of tiles to load\n",
    "# tile_list = test_set_paths[:num_tiles];\n",
    "# print('tilelist: ' , tile_list)\n",
    "\n",
    "tile_list = train_set_paths\n",
    "\n",
    "# update tile_list to be for local machine\n",
    "tile_names = [tile_n.split('/')[-1] for tile_n in tile_list]\n",
    "# tile_path_local = pathlib.Path('/Users/tud500158/Documents/Data/tiles/')\n",
    "tile_path_local = os.path.join(homedir,'Data/tiles/training_tiles/')\n",
    "\n",
    "tile_list_local = [os.path.join(tile_path_local,tile_name) for tile_name in tile_names]\n",
    "\n",
    "# tiles that are actually on my local machine\n",
    "tiles_on_machine = glob.glob(os.path.join(tile_path_local , '*.tif'))\n",
    "\n",
    "# remake tile_list \n",
    "tile_list = []\n",
    "for tile in tiles_on_machine:\n",
    "    if tile in tile_list_local:\n",
    "        tile_list.append(tile)\n",
    "tile_list        "
   ]
  },
  {
   "cell_type": "code",
   "execution_count": 10,
   "id": "69189b30-2794-4818-8f68-10b8cda3aa48",
   "metadata": {},
   "outputs": [],
   "source": [
    "# os.listdir(tile_path_local)"
   ]
  },
  {
   "cell_type": "code",
   "execution_count": 10,
   "id": "c3aa7099-384d-420a-bbde-68f8860ed696",
   "metadata": {},
   "outputs": [],
   "source": [
    "\n",
    "''' ----------\n",
    "tmp: select 1 tile as tilelist\n",
    "------------'''\n",
    "# tile_list = [tile_list[1]]\n",
    "# tile_list = [tile_list[-1]]\n",
    "# tile_list\n",
    "\n",
    "tile_file = '/Users/tud500158/Library/Mobile Documents/com~apple~CloudDocs/Documents/Documents - TUD500158/Data/tiles/training_tiles/S2_composite_2019-11-1_2020-3-1_tile_124.tif',\n",
    "\n"
   ]
  },
  {
   "cell_type": "code",
   "execution_count": 11,
   "id": "092acbb9-627a-49ea-b68e-bf4bd436ee5c",
   "metadata": {},
   "outputs": [
    {
     "name": "stdout",
     "output_type": "stream",
     "text": [
      "Labels successfully read from 16 files\n",
      "Selecting 627 out of 905 labels\n"
     ]
    }
   ],
   "source": [
    "\n",
    "\n",
    "''' ----------\n",
    "Get Labels\n",
    "------------'''\n",
    "\n",
    "\n",
    "# # read tile catalog to be able to get CRS and filter labels to same date\n",
    "catalog = ts._read_tile_catalog(catalog_path)\n",
    "tiles = ts._catalog_to_geodataframe(catalog)\n",
    "\n",
    "labels = ts._read_labels(labels_path, verbose=True)\n",
    "labels = labels.to_crs(tiles.crs)  # make sure same CRS is used\n",
    "# select the only labels matching the tiles timespan\n",
    "labels = ts._filter_labels(labels,\n",
    "                        tiles.start_datetime.min(),\n",
    "                        tiles.end_datetime.max())\n",
    "\n",
    "\n",
    "## Create GeoSeries from labels.geometry\n",
    "label_polys = gpd.GeoSeries(labels.geometry,crs=labels.crs) # Combine all geometries to one GeoSeries, with the \n"
   ]
  },
  {
   "cell_type": "code",
   "execution_count": 13,
   "id": "bc542fda-5bd2-479b-b316-afe72731007c",
   "metadata": {},
   "outputs": [],
   "source": [
    "# # path to files\n",
    "# data_dir = os.path.join(homedir, 'Data')\n",
    "# # path_to_dmg = os.path.join(data_dir, 'RAMP/RAMP_tiled/damage_detection/geotiffs')\n",
    "# path_to_dmg = os.path.join(data_dir, 'tiles/damage_detection/geotiffs')\n",
    "# dmg_files = glob.glob(path_to_dmg + '/*damage*.tif')\n",
    "# # dmg_files = [file.split('/')[-1] for file in dmg_files]\n",
    "# dmg_files\n",
    "# # path_to_dmg"
   ]
  },
  {
   "cell_type": "code",
   "execution_count": 14,
   "id": "8772c6d9-5dfc-4db2-90c6-6f19e715c837",
   "metadata": {},
   "outputs": [],
   "source": [
    "\n",
    "# # tile_list[0]\n",
    "# # print(tile_list[0])\n",
    "# # tileName = tile_list[0].split(\"/\")[-1][:-4] # vb: 'S2_composite_2019-11-1_2020-3-1_tile_124'\n",
    "# # tileNum = 'tile_' + tileName.split('_')[-1]\n",
    "# # print(tileNum)\n",
    "# # file_dmg = [fname for fname in dmg_files if tileNum in fname] # filenae of tile withuot path\n",
    "# # file_dmg\n",
    "\n",
    "# tileNum='tile_140'\n",
    "# file_dmg = glob.glob(path_to_dmg  + '/*'+ tileNum + '*damage*' )\n",
    "# file_dmg"
   ]
  },
  {
   "cell_type": "code",
   "execution_count": 12,
   "id": "c69f569d-fc50-43b8-8f30-6610e560bbf5",
   "metadata": {},
   "outputs": [
    {
     "name": "stdout",
     "output_type": "stream",
     "text": [
      "['S2_composite_2019-11-1_2020-3-1_tile_124_300m_damageContin.tif', 'S2_composite_2019-11-1_2020-3-1_tile_140_300m_damageContin.tif']\n"
     ]
    }
   ],
   "source": [
    "'''  ----------------\n",
    "get tile nd corresponding NERD dmg (ipv labels)\n",
    "----------------- '''\n",
    "\n",
    "# path to files\n",
    "# data_dir = os.path.join(os.path.expanduser('~'), 'Documents/Data')\n",
    "data_dir = os.path.join(homedir, 'Data')\n",
    "# path_to_dmg = os.path.join(data_dir, 'RAMP/RAMP_tiled/damage_detection/geotiffs')\n",
    "path_to_dmg = os.path.join(data_dir, 'tiles/damage_detection/geotiffs')\n",
    "dmg_files = glob.glob(path_to_dmg + '/*damage*.tif')\n",
    "dmg_files = [file.split('/')[-1] for file in dmg_files]\n",
    "\n",
    "print(dmg_files)"
   ]
  },
  {
   "cell_type": "code",
   "execution_count": 13,
   "id": "45402fe4-77d5-432d-b9aa-80c5fd0367aa",
   "metadata": {},
   "outputs": [],
   "source": [
    "\n",
    "from skimage import exposure as skimage_exposure\n",
    "\n",
    "\n",
    "\n",
    "def get_tile_with_dmg(tile):\n",
    "    tileName = tile.split(\"/\")[-1][:-4] # vb: 'S2_composite_2019-11-1_2020-3-1_tile_124'\n",
    "    tileNum = 'tile_' + tileName.split('_')[-1]\n",
    "    # print(tileNum)\n",
    "    \n",
    "    # read tile - floats are required to mask with NaN's\n",
    "    tile_da = rioxr.open_rasterio(tile).astype(\"float32\")\n",
    "\n",
    "    file_dmg = [fname for fname in dmg_files if tileNum in fname] # filenae of tile withuot path\n",
    "    # print(type(file_dmg))\n",
    "    \n",
    "    tile_dmg = rioxr.open_rasterio(os.path.join(path_to_dmg, file_dmg[0])).astype(\"float32\")\n",
    "  \n",
    "    # interpolate dmg to same resolution as tile (to link as labels)\n",
    "    tile_dmg_int = tile_dmg.isel(band=0).interp_like(tile_da.isel(band=0))\n",
    "    tile_dmg_int= tile_dmg_int.fillna(0).expand_dims(dim='band') # fill nan with zeros and add band-dim\n",
    "\n",
    "    return tileNum, tile_da, tile_dmg, tile_dmg_int\n",
    "\n",
    "\n",
    "def plot_tile_and_dmg(tile_da, tile_dmg):\n",
    "    tile_img = tile_da.transpose('x','y','band')\n",
    "    \n",
    "    fig, (ax1,ax2) = plt.subplots(1,2)\n",
    "    # plt.imshow(tile_img[:,:,0:3].astype('uint8'),vmin=1000,vmax=15000)\n",
    "    ax1.imshow(tile_img[:,:,2])\n",
    "    \n",
    "def create_cutouts(da,cutout_size, normThreshold=None, equalise=False):\n",
    "    # generate windows\n",
    "    da = da.rolling(x=cutout_size, y=cutout_size)\n",
    "    da = da.construct({'x': 'x_win', 'y': 'y_win'}, stride=cutout_size)\n",
    "\n",
    "    # drop NaN-containing windows\n",
    "    da = da.stack(sample=('x', 'y'))\n",
    "    da = da.dropna(dim='sample', how='any')\n",
    "\n",
    "    # normalize\n",
    "    if normThreshold is not None:\n",
    "        da = (da + 0.1) / (normThreshold + 1)\n",
    "        da = da.clip(max=1)\n",
    "    \n",
    "    if equalise:\n",
    "        # hist equalist\n",
    "        n_bands = da['band'].shape[0]\n",
    "        all_band_eq=np.empty(da.shape)\n",
    "\n",
    "        for band_i in range(n_bands): # perform adaptive normalisation per band\n",
    "            band_data = da.isel(band=band_i)\n",
    "            band_data_eq = skimage_exposure.equalize_adapthist(band_data, clip_limit=0.03)\n",
    "            all_band_eq[band_i] = np.expand_dims(band_data_eq,axis=0)\n",
    "\n",
    "        da = da.copy(data=all_band_eq) # overwrite data in dataArray\n",
    "\n",
    "    tile_cutouts = da.data.transpose(3, 1, 2, 0) # samples, x_win, y_win, bands: (250000, 20, 20, 3)\n",
    "    tile_cutouts_da = da.transpose('sample','x_win','y_win','band')\n",
    "\n",
    "    return tile_cutouts, tile_cutouts_da\n",
    "\n",
    "def normalise_and_equalise(da,normThreshold=None,equalise=False):\n",
    "    \n",
    "    # normalize\n",
    "    if normThreshold is not None:\n",
    "        da = (da + 0.1) / (normThreshold + 1)\n",
    "        da = da.clip(max=1)\n",
    "    \n",
    "    if equalise:\n",
    "        # hist equalist\n",
    "        n_bands = da['band'].shape[0]\n",
    "        all_band_eq=np.empty(da.shape)\n",
    "\n",
    "        for band_i in range(n_bands): # perform adaptive normalisation per band\n",
    "            band_data = da.isel(band=band_i)\n",
    "            band_data_eq = skimage_exposure.equalize_adapthist(band_data, clip_limit=0.03)\n",
    "            all_band_eq[band_i] = np.expand_dims(band_data_eq,axis=0)\n",
    "\n",
    "        da = da.copy(data=all_band_eq) # overwrite data in dataArray\n",
    "    \n",
    "    return da\n",
    "    \n",
    "def create_cutouts2(da,cutout_size):\n",
    "\n",
    "    # generate windows\n",
    "    da = da.rolling(x=cutout_size, y=cutout_size)\n",
    "    da = da.construct({'x': 'x_win', 'y': 'y_win'}, stride=cutout_size)\n",
    "\n",
    "    # drop NaN-containing windows\n",
    "    da = da.stack(sample=('x', 'y'))\n",
    "    da = da.dropna(dim='sample', how='any')\n",
    "\n",
    "    tile_cutouts = da.data.transpose(3, 1, 2, 0) # samples, x_win, y_win, bands: (250000, 20, 20, 3)\n",
    "    tile_cutouts_da = da.transpose('sample','x_win','y_win','band')\n",
    "\n",
    "    return tile_cutouts, tile_cutouts_da\n",
    "\n",
    "# # for tile in tile_list:    \n",
    "# # tile_file = tile_list[0]\n",
    "# tile_file = '/Users/tud500158/Library/Mobile Documents/com~apple~CloudDocs/Documents/Documents - TUD500158/Data/tiles/training_tiles/S2_composite_2019-11-1_2020-3-1_tile_124.tif'\n",
    "# # tile_file = '/Users/tud500158/Library/Mobile Documents/com~apple~CloudDocs/Documents/Documents - TUD500158/Data/tiles/training_tiles/S2_composite_2019-11-1_2020-3-1_tile_140.tif'\n",
    "# tileNum, tile_da, tile_dmg, tile_dmg_int = get_tile_with_dmg( tile_file )\n",
    "# # tileNum, tile_da, tile_dmg, tile_dmg_int = get_tile_with_dmg( tile_list )\n",
    "# # tile_img = tile_da.transpose('x','y','band')\n",
    "\n",
    "# print(tile_dmg.shape,\n",
    "#      tile_da.shape,\n",
    "#      tile_dmg_int.shape)"
   ]
  },
  {
   "cell_type": "code",
   "execution_count": 12,
   "id": "f0e5f2f1-4db7-4d01-b052-f155d817d37c",
   "metadata": {},
   "outputs": [
    {
     "data": {
      "text/plain": [
       "['S2_composite_2019-11-1_2020-3-1_tile_124_300m_damageContin.tif',\n",
       " 'S2_composite_2019-11-1_2020-3-1_tile_140_300m_damageContin.tif']"
      ]
     },
     "execution_count": 12,
     "metadata": {},
     "output_type": "execute_result"
    }
   ],
   "source": [
    "dmg_files "
   ]
  },
  {
   "cell_type": "markdown",
   "id": "0592e4bc-b50c-43aa-9e6a-bed317e74c56",
   "metadata": {},
   "source": [
    "# Read data, Create cutouts"
   ]
  },
  {
   "cell_type": "code",
   "execution_count": 14,
   "id": "297f4171-ef77-4aba-9e90-50147b081aae",
   "metadata": {},
   "outputs": [],
   "source": [
    "# mask ROI (ocean)\n",
    "import geopandas as gpd\n",
    "\n",
    "# if self.mask is not None:\n",
    "#     mask = self.mask.to_crs(da.spatial_ref.crs_wkt)\n",
    "#     geometry = mask.unary_union.buffer(self.buffer)\n",
    "#     # da = da.rio.clip([geometry], drop=True, invert=self.invert,\n",
    "#     #                  all_touched=self.all_touched)\n",
    "#     da = da.rio.clip([geometry], drop=False, invert=self.invert, # if mask defined, do not drop\n",
    "#                      all_touched=self.all_touched)\n",
    "def mask_data(data, mask_file):\n",
    "    mask_poly = gpd.read_file(mask_file).to_crs(epsg=3031)\n",
    "    # gdf = mask_poly.unary_union \n",
    "    # mask = data #.copy(data=np.ones_like(data.values)) # set up img with only 1 vluess\n",
    "    masked_data = data.rio.clip(mask_poly.unary_union, mask_poly.crs, drop=False, invert=False) # mask (raster)\n",
    "    return masked_data\n"
   ]
  },
  {
   "cell_type": "code",
   "execution_count": 16,
   "id": "ce69b13e-547d-4fc0-9046-45f1f9d4ba11",
   "metadata": {},
   "outputs": [
    {
     "name": "stdout",
     "output_type": "stream",
     "text": [
      "\n",
      "----\n",
      " Processing S2_composite_2019-11-1_2020-3-1_tile_124\n",
      "\n",
      "(15625, 100, 100, 3)\n",
      "(15625, 100, 100, 1)\n"
     ]
    }
   ],
   "source": [
    "\n",
    "''' ----------\n",
    "Create cut-outs\n",
    "    Actually read the tile, make cutouts, linked with labeldata\n",
    "    \n",
    "Update: do not link laabldata; now read same-tile NERD output\n",
    "------------'''\n",
    "\n",
    "\n",
    "''' ----------\n",
    "Get tile\n",
    "------------'''\n",
    "\n",
    "# tile 124 is a training tile\n",
    "tile_file = os.path.join(homedir,'Data/tiles/training_tiles/S2_composite_2019-11-1_2020-3-1_tile_124.tif')\n",
    "dmg_file = os.path.join(path_to_dmg, 'S2_composite_2019-11-1_2020-3-1_tile_124_300m_damageContin.tif')\n",
    "# tile 285 is also a training t ile\n",
    "# tile_file = os.path.join(homedir,'Data/tiles/training_tiles/S2_composite_2019-11-1_2020-3-1_tile_285.tif')\n",
    "# tile_file = os.path.join(homedir,'Data/tiles/training_tiles/S2_composite_2019-11-1_2020-3-1_tile_110.tif')\n",
    "# tile_file = os.path.join(homedir,'Data/tiles/training_tiles/S2_composite_2019-11-1_2020-3-1_tile_50.tif')\n",
    "\n",
    "mask_file = os.path.join(homedir,'Data/ne_10m_antarctic_ice_shelves_polys/ne_10m_antarctic_ice_shelves_polys.shp')    \n",
    "\n",
    "\n",
    "tileName = tile_file.split(\"/\")[-1][:-4] # vb: 'S2_composite_2019-11-1_2020-3-1_tile_124'\n",
    "print('\\n----\\n Processing ' + tileName +'\\n')\n",
    "\n",
    "# read tile - floats are required to mask with NaN's\n",
    "da = rioxr.open_rasterio(tile_file).astype(\"float32\")\n",
    "\n",
    "# select bands\n",
    "if bands is not None:\n",
    "    if type(bands) is not list:\n",
    "        da = da.sel(band=[bands])\n",
    "    else:\n",
    "        da = da.sel(band=bands)\n",
    "\n",
    "\n",
    "''' ----------\n",
    "Get DMG\n",
    "------------'''\n",
    "tile_dmg = rioxr.open_rasterio(os.path.join(path_to_dmg, dmg_file)).astype(\"float32\")\n",
    "\n",
    "# interpolate dmg to same resolution as tile (to link as labels)\n",
    "tile_dmg_int = tile_dmg.isel(band=0).interp_like(da.isel(band=0))\n",
    "tile_dmg_int= tile_dmg_int.fillna(0).expand_dims(dim='band') # fill nan with zeros and add band-dim\n",
    "    \n",
    "''' ----------\n",
    "Mask ocean\n",
    "------------'''\n",
    "# mask/clip: if self.mask is not None: [removed; see _generate_cutouts]\n",
    "da_origin = da.copy()\n",
    "# da = mask_data(da,mask_file)\n",
    "# da_mask = da.copy()\n",
    "\n",
    "''' ----------\n",
    "Normalise and Equalise\n",
    "------------'''\n",
    "\n",
    "# da = normalise_and_equalise(da,normThreshold=normThreshold[0],equalise=False)\n",
    "# da_norm_equal = da.copy()\n",
    "\n",
    "''' ----------\n",
    "Create cut-outs\n",
    "------------'''\n",
    "\n",
    "# generate windows -- cut \n",
    "\n",
    "tile_cutouts, tile_cutouts_da = create_cutouts2(da,cutout_size) # samples, x_win, y_win, bands: (250000, 20, 20, 1)\n",
    "label_cutouts, __ = create_cutouts2(tile_dmg_int, cutout_size)\n",
    "\n",
    "print(tile_cutouts.shape)\n",
    "print(label_cutouts.shape)\n",
    "\n"
   ]
  },
  {
   "cell_type": "code",
   "execution_count": 38,
   "id": "570c22fa-3498-4d33-b1b7-f9d9cebfb048",
   "metadata": {},
   "outputs": [],
   "source": [
    "# create_cutouts2(tile_dmg_int, cutout_size)"
   ]
  },
  {
   "cell_type": "code",
   "execution_count": 18,
   "id": "610c70b5-3f3c-40a7-8302-21c15aa89f32",
   "metadata": {},
   "outputs": [
    {
     "name": "stdout",
     "output_type": "stream",
     "text": [
      "(15625, 100, 100, 1)\n"
     ]
    },
    {
     "data": {
      "text/html": [
       "<div><svg style=\"position: absolute; width: 0; height: 0; overflow: hidden\">\n",
       "<defs>\n",
       "<symbol id=\"icon-database\" viewBox=\"0 0 32 32\">\n",
       "<path d=\"M16 0c-8.837 0-16 2.239-16 5v4c0 2.761 7.163 5 16 5s16-2.239 16-5v-4c0-2.761-7.163-5-16-5z\"></path>\n",
       "<path d=\"M16 17c-8.837 0-16-2.239-16-5v6c0 2.761 7.163 5 16 5s16-2.239 16-5v-6c0 2.761-7.163 5-16 5z\"></path>\n",
       "<path d=\"M16 26c-8.837 0-16-2.239-16-5v6c0 2.761 7.163 5 16 5s16-2.239 16-5v-6c0 2.761-7.163 5-16 5z\"></path>\n",
       "</symbol>\n",
       "<symbol id=\"icon-file-text2\" viewBox=\"0 0 32 32\">\n",
       "<path d=\"M28.681 7.159c-0.694-0.947-1.662-2.053-2.724-3.116s-2.169-2.030-3.116-2.724c-1.612-1.182-2.393-1.319-2.841-1.319h-15.5c-1.378 0-2.5 1.121-2.5 2.5v27c0 1.378 1.122 2.5 2.5 2.5h23c1.378 0 2.5-1.122 2.5-2.5v-19.5c0-0.448-0.137-1.23-1.319-2.841zM24.543 5.457c0.959 0.959 1.712 1.825 2.268 2.543h-4.811v-4.811c0.718 0.556 1.584 1.309 2.543 2.268zM28 29.5c0 0.271-0.229 0.5-0.5 0.5h-23c-0.271 0-0.5-0.229-0.5-0.5v-27c0-0.271 0.229-0.5 0.5-0.5 0 0 15.499-0 15.5 0v7c0 0.552 0.448 1 1 1h7v19.5z\"></path>\n",
       "<path d=\"M23 26h-14c-0.552 0-1-0.448-1-1s0.448-1 1-1h14c0.552 0 1 0.448 1 1s-0.448 1-1 1z\"></path>\n",
       "<path d=\"M23 22h-14c-0.552 0-1-0.448-1-1s0.448-1 1-1h14c0.552 0 1 0.448 1 1s-0.448 1-1 1z\"></path>\n",
       "<path d=\"M23 18h-14c-0.552 0-1-0.448-1-1s0.448-1 1-1h14c0.552 0 1 0.448 1 1s-0.448 1-1 1z\"></path>\n",
       "</symbol>\n",
       "</defs>\n",
       "</svg>\n",
       "<style>/* CSS stylesheet for displaying xarray objects in jupyterlab.\n",
       " *\n",
       " */\n",
       "\n",
       ":root {\n",
       "  --xr-font-color0: var(--jp-content-font-color0, rgba(0, 0, 0, 1));\n",
       "  --xr-font-color2: var(--jp-content-font-color2, rgba(0, 0, 0, 0.54));\n",
       "  --xr-font-color3: var(--jp-content-font-color3, rgba(0, 0, 0, 0.38));\n",
       "  --xr-border-color: var(--jp-border-color2, #e0e0e0);\n",
       "  --xr-disabled-color: var(--jp-layout-color3, #bdbdbd);\n",
       "  --xr-background-color: var(--jp-layout-color0, white);\n",
       "  --xr-background-color-row-even: var(--jp-layout-color1, white);\n",
       "  --xr-background-color-row-odd: var(--jp-layout-color2, #eeeeee);\n",
       "}\n",
       "\n",
       "html[theme=dark],\n",
       "body.vscode-dark {\n",
       "  --xr-font-color0: rgba(255, 255, 255, 1);\n",
       "  --xr-font-color2: rgba(255, 255, 255, 0.54);\n",
       "  --xr-font-color3: rgba(255, 255, 255, 0.38);\n",
       "  --xr-border-color: #1F1F1F;\n",
       "  --xr-disabled-color: #515151;\n",
       "  --xr-background-color: #111111;\n",
       "  --xr-background-color-row-even: #111111;\n",
       "  --xr-background-color-row-odd: #313131;\n",
       "}\n",
       "\n",
       ".xr-wrap {\n",
       "  display: block !important;\n",
       "  min-width: 300px;\n",
       "  max-width: 700px;\n",
       "}\n",
       "\n",
       ".xr-text-repr-fallback {\n",
       "  /* fallback to plain text repr when CSS is not injected (untrusted notebook) */\n",
       "  display: none;\n",
       "}\n",
       "\n",
       ".xr-header {\n",
       "  padding-top: 6px;\n",
       "  padding-bottom: 6px;\n",
       "  margin-bottom: 4px;\n",
       "  border-bottom: solid 1px var(--xr-border-color);\n",
       "}\n",
       "\n",
       ".xr-header > div,\n",
       ".xr-header > ul {\n",
       "  display: inline;\n",
       "  margin-top: 0;\n",
       "  margin-bottom: 0;\n",
       "}\n",
       "\n",
       ".xr-obj-type,\n",
       ".xr-array-name {\n",
       "  margin-left: 2px;\n",
       "  margin-right: 10px;\n",
       "}\n",
       "\n",
       ".xr-obj-type {\n",
       "  color: var(--xr-font-color2);\n",
       "}\n",
       "\n",
       ".xr-sections {\n",
       "  padding-left: 0 !important;\n",
       "  display: grid;\n",
       "  grid-template-columns: 150px auto auto 1fr 20px 20px;\n",
       "}\n",
       "\n",
       ".xr-section-item {\n",
       "  display: contents;\n",
       "}\n",
       "\n",
       ".xr-section-item input {\n",
       "  display: none;\n",
       "}\n",
       "\n",
       ".xr-section-item input + label {\n",
       "  color: var(--xr-disabled-color);\n",
       "}\n",
       "\n",
       ".xr-section-item input:enabled + label {\n",
       "  cursor: pointer;\n",
       "  color: var(--xr-font-color2);\n",
       "}\n",
       "\n",
       ".xr-section-item input:enabled + label:hover {\n",
       "  color: var(--xr-font-color0);\n",
       "}\n",
       "\n",
       ".xr-section-summary {\n",
       "  grid-column: 1;\n",
       "  color: var(--xr-font-color2);\n",
       "  font-weight: 500;\n",
       "}\n",
       "\n",
       ".xr-section-summary > span {\n",
       "  display: inline-block;\n",
       "  padding-left: 0.5em;\n",
       "}\n",
       "\n",
       ".xr-section-summary-in:disabled + label {\n",
       "  color: var(--xr-font-color2);\n",
       "}\n",
       "\n",
       ".xr-section-summary-in + label:before {\n",
       "  display: inline-block;\n",
       "  content: '►';\n",
       "  font-size: 11px;\n",
       "  width: 15px;\n",
       "  text-align: center;\n",
       "}\n",
       "\n",
       ".xr-section-summary-in:disabled + label:before {\n",
       "  color: var(--xr-disabled-color);\n",
       "}\n",
       "\n",
       ".xr-section-summary-in:checked + label:before {\n",
       "  content: '▼';\n",
       "}\n",
       "\n",
       ".xr-section-summary-in:checked + label > span {\n",
       "  display: none;\n",
       "}\n",
       "\n",
       ".xr-section-summary,\n",
       ".xr-section-inline-details {\n",
       "  padding-top: 4px;\n",
       "  padding-bottom: 4px;\n",
       "}\n",
       "\n",
       ".xr-section-inline-details {\n",
       "  grid-column: 2 / -1;\n",
       "}\n",
       "\n",
       ".xr-section-details {\n",
       "  display: none;\n",
       "  grid-column: 1 / -1;\n",
       "  margin-bottom: 5px;\n",
       "}\n",
       "\n",
       ".xr-section-summary-in:checked ~ .xr-section-details {\n",
       "  display: contents;\n",
       "}\n",
       "\n",
       ".xr-array-wrap {\n",
       "  grid-column: 1 / -1;\n",
       "  display: grid;\n",
       "  grid-template-columns: 20px auto;\n",
       "}\n",
       "\n",
       ".xr-array-wrap > label {\n",
       "  grid-column: 1;\n",
       "  vertical-align: top;\n",
       "}\n",
       "\n",
       ".xr-preview {\n",
       "  color: var(--xr-font-color3);\n",
       "}\n",
       "\n",
       ".xr-array-preview,\n",
       ".xr-array-data {\n",
       "  padding: 0 5px !important;\n",
       "  grid-column: 2;\n",
       "}\n",
       "\n",
       ".xr-array-data,\n",
       ".xr-array-in:checked ~ .xr-array-preview {\n",
       "  display: none;\n",
       "}\n",
       "\n",
       ".xr-array-in:checked ~ .xr-array-data,\n",
       ".xr-array-preview {\n",
       "  display: inline-block;\n",
       "}\n",
       "\n",
       ".xr-dim-list {\n",
       "  display: inline-block !important;\n",
       "  list-style: none;\n",
       "  padding: 0 !important;\n",
       "  margin: 0;\n",
       "}\n",
       "\n",
       ".xr-dim-list li {\n",
       "  display: inline-block;\n",
       "  padding: 0;\n",
       "  margin: 0;\n",
       "}\n",
       "\n",
       ".xr-dim-list:before {\n",
       "  content: '(';\n",
       "}\n",
       "\n",
       ".xr-dim-list:after {\n",
       "  content: ')';\n",
       "}\n",
       "\n",
       ".xr-dim-list li:not(:last-child):after {\n",
       "  content: ',';\n",
       "  padding-right: 5px;\n",
       "}\n",
       "\n",
       ".xr-has-index {\n",
       "  font-weight: bold;\n",
       "}\n",
       "\n",
       ".xr-var-list,\n",
       ".xr-var-item {\n",
       "  display: contents;\n",
       "}\n",
       "\n",
       ".xr-var-item > div,\n",
       ".xr-var-item label,\n",
       ".xr-var-item > .xr-var-name span {\n",
       "  background-color: var(--xr-background-color-row-even);\n",
       "  margin-bottom: 0;\n",
       "}\n",
       "\n",
       ".xr-var-item > .xr-var-name:hover span {\n",
       "  padding-right: 5px;\n",
       "}\n",
       "\n",
       ".xr-var-list > li:nth-child(odd) > div,\n",
       ".xr-var-list > li:nth-child(odd) > label,\n",
       ".xr-var-list > li:nth-child(odd) > .xr-var-name span {\n",
       "  background-color: var(--xr-background-color-row-odd);\n",
       "}\n",
       "\n",
       ".xr-var-name {\n",
       "  grid-column: 1;\n",
       "}\n",
       "\n",
       ".xr-var-dims {\n",
       "  grid-column: 2;\n",
       "}\n",
       "\n",
       ".xr-var-dtype {\n",
       "  grid-column: 3;\n",
       "  text-align: right;\n",
       "  color: var(--xr-font-color2);\n",
       "}\n",
       "\n",
       ".xr-var-preview {\n",
       "  grid-column: 4;\n",
       "}\n",
       "\n",
       ".xr-var-name,\n",
       ".xr-var-dims,\n",
       ".xr-var-dtype,\n",
       ".xr-preview,\n",
       ".xr-attrs dt {\n",
       "  white-space: nowrap;\n",
       "  overflow: hidden;\n",
       "  text-overflow: ellipsis;\n",
       "  padding-right: 10px;\n",
       "}\n",
       "\n",
       ".xr-var-name:hover,\n",
       ".xr-var-dims:hover,\n",
       ".xr-var-dtype:hover,\n",
       ".xr-attrs dt:hover {\n",
       "  overflow: visible;\n",
       "  width: auto;\n",
       "  z-index: 1;\n",
       "}\n",
       "\n",
       ".xr-var-attrs,\n",
       ".xr-var-data {\n",
       "  display: none;\n",
       "  background-color: var(--xr-background-color) !important;\n",
       "  padding-bottom: 5px !important;\n",
       "}\n",
       "\n",
       ".xr-var-attrs-in:checked ~ .xr-var-attrs,\n",
       ".xr-var-data-in:checked ~ .xr-var-data {\n",
       "  display: block;\n",
       "}\n",
       "\n",
       ".xr-var-data > table {\n",
       "  float: right;\n",
       "}\n",
       "\n",
       ".xr-var-name span,\n",
       ".xr-var-data,\n",
       ".xr-attrs {\n",
       "  padding-left: 25px !important;\n",
       "}\n",
       "\n",
       ".xr-attrs,\n",
       ".xr-var-attrs,\n",
       ".xr-var-data {\n",
       "  grid-column: 1 / -1;\n",
       "}\n",
       "\n",
       "dl.xr-attrs {\n",
       "  padding: 0;\n",
       "  margin: 0;\n",
       "  display: grid;\n",
       "  grid-template-columns: 125px auto;\n",
       "}\n",
       "\n",
       ".xr-attrs dt,\n",
       ".xr-attrs dd {\n",
       "  padding: 0;\n",
       "  margin: 0;\n",
       "  float: left;\n",
       "  padding-right: 10px;\n",
       "  width: auto;\n",
       "}\n",
       "\n",
       ".xr-attrs dt {\n",
       "  font-weight: normal;\n",
       "  grid-column: 1;\n",
       "}\n",
       "\n",
       ".xr-attrs dt:hover span {\n",
       "  display: inline-block;\n",
       "  background: var(--xr-background-color);\n",
       "  padding-right: 10px;\n",
       "}\n",
       "\n",
       ".xr-attrs dd {\n",
       "  grid-column: 2;\n",
       "  white-space: pre-wrap;\n",
       "  word-break: break-all;\n",
       "}\n",
       "\n",
       ".xr-icon-database,\n",
       ".xr-icon-file-text2 {\n",
       "  display: inline-block;\n",
       "  vertical-align: middle;\n",
       "  width: 1em;\n",
       "  height: 1.5em !important;\n",
       "  stroke-width: 0;\n",
       "  stroke: currentColor;\n",
       "  fill: currentColor;\n",
       "}\n",
       "</style><pre class='xr-text-repr-fallback'>&lt;xarray.DataArray (newDim: 2, band: 3, y: 12505, x: 12502)&gt;\n",
       "array([[[[ 7913.,  7913.,  9288., ...,  8992.,  9080.,  9080.],\n",
       "         [ 7381.,  8200.,  9087., ...,  8992.,  8992.,  8976.],\n",
       "         [ 7968.,  7968.,  8641., ...,  9104.,  9040.,  8952.],\n",
       "         ...,\n",
       "         [   15.,    40.,    54., ...,  9096.,  9016.,  8968.],\n",
       "         [  131.,   206.,   248., ...,  8920.,  9016.,  8976.],\n",
       "         [  158.,   173.,   391., ...,  8952.,  8968.,  9056.]],\n",
       "\n",
       "        [[ 8832.,  8832.,  9728., ...,  9304.,  9320.,  9360.],\n",
       "         [ 7752.,  8568.,  9552., ...,  9216.,  9216.,  9224.],\n",
       "         [ 8817.,  8817.,  8834., ...,  9344.,  9184.,  9280.],\n",
       "         ...,\n",
       "         [   96.,   170.,   171., ...,  9304.,  9264.,  9216.],\n",
       "         [  159.,   304.,   260., ...,  9296.,  9304.,  9264.],\n",
       "         [  263.,   460.,   191., ...,  9216.,  9272.,  9304.]],\n",
       "\n",
       "        [[ 8887.,  8887., 10143., ...,  9328.,  9376.,  9400.],\n",
       "         [ 7535.,  9126.,  9815., ...,  9248.,  9248.,  9360.],\n",
       "         [ 8623.,  8623.,  9415., ...,  9360.,  9304.,  9360.],\n",
       "         ...,\n",
       "...\n",
       "         ...,\n",
       "         [    0.,     0.,     0., ...,     0.,     0.,     0.],\n",
       "         [    0.,     0.,     0., ...,     0.,     0.,     0.],\n",
       "         [    0.,     0.,     0., ...,     0.,     0.,     0.]],\n",
       "\n",
       "        [[   nan,    nan,    nan, ...,    nan,    nan,    nan],\n",
       "         [   nan,    nan,    nan, ...,    nan,    nan,    nan],\n",
       "         [   nan,    nan,    nan, ...,    nan,    nan,    nan],\n",
       "         ...,\n",
       "         [   nan,    nan,    nan, ...,    nan,    nan,    nan],\n",
       "         [   nan,    nan,    nan, ...,    nan,    nan,    nan],\n",
       "         [   nan,    nan,    nan, ...,    nan,    nan,    nan]],\n",
       "\n",
       "        [[   nan,    nan,    nan, ...,    nan,    nan,    nan],\n",
       "         [   nan,    nan,    nan, ...,    nan,    nan,    nan],\n",
       "         [   nan,    nan,    nan, ...,    nan,    nan,    nan],\n",
       "         ...,\n",
       "         [   nan,    nan,    nan, ...,    nan,    nan,    nan],\n",
       "         [   nan,    nan,    nan, ...,    nan,    nan,    nan],\n",
       "         [   nan,    nan,    nan, ...,    nan,    nan,    nan]]]])\n",
       "Coordinates:\n",
       "  * band         (band) int64 1 2 3\n",
       "  * x            (x) float64 -7.5e+05 -7.5e+05 -7.5e+05 ... -6.25e+05 -6.25e+05\n",
       "  * y            (y) float64 1.625e+06 1.625e+06 1.625e+06 ... 1.5e+06 1.5e+06\n",
       "    spatial_ref  int64 0\n",
       "Dimensions without coordinates: newDim\n",
       "Attributes:\n",
       "    scale_factor:  1.0\n",
       "    add_offset:    0.0\n",
       "    long_name:     (&#x27;B4_first&#x27;, &#x27;B3_first&#x27;, &#x27;B2_first&#x27;, &#x27;B11_first&#x27;)</pre><div class='xr-wrap' style='display:none'><div class='xr-header'><div class='xr-obj-type'>xarray.DataArray</div><div class='xr-array-name'></div><ul class='xr-dim-list'><li><span>newDim</span>: 2</li><li><span class='xr-has-index'>band</span>: 3</li><li><span class='xr-has-index'>y</span>: 12505</li><li><span class='xr-has-index'>x</span>: 12502</li></ul></div><ul class='xr-sections'><li class='xr-section-item'><div class='xr-array-wrap'><input id='section-561d9d28-78ca-4192-861a-917cd6180e46' class='xr-array-in' type='checkbox' checked><label for='section-561d9d28-78ca-4192-861a-917cd6180e46' title='Show/hide data repr'><svg class='icon xr-icon-database'><use xlink:href='#icon-database'></use></svg></label><div class='xr-array-preview xr-preview'><span>7.913e+03 7.913e+03 9.288e+03 9.056e+03 8.84e+03 ... nan nan nan nan</span></div><div class='xr-array-data'><pre>array([[[[ 7913.,  7913.,  9288., ...,  8992.,  9080.,  9080.],\n",
       "         [ 7381.,  8200.,  9087., ...,  8992.,  8992.,  8976.],\n",
       "         [ 7968.,  7968.,  8641., ...,  9104.,  9040.,  8952.],\n",
       "         ...,\n",
       "         [   15.,    40.,    54., ...,  9096.,  9016.,  8968.],\n",
       "         [  131.,   206.,   248., ...,  8920.,  9016.,  8976.],\n",
       "         [  158.,   173.,   391., ...,  8952.,  8968.,  9056.]],\n",
       "\n",
       "        [[ 8832.,  8832.,  9728., ...,  9304.,  9320.,  9360.],\n",
       "         [ 7752.,  8568.,  9552., ...,  9216.,  9216.,  9224.],\n",
       "         [ 8817.,  8817.,  8834., ...,  9344.,  9184.,  9280.],\n",
       "         ...,\n",
       "         [   96.,   170.,   171., ...,  9304.,  9264.,  9216.],\n",
       "         [  159.,   304.,   260., ...,  9296.,  9304.,  9264.],\n",
       "         [  263.,   460.,   191., ...,  9216.,  9272.,  9304.]],\n",
       "\n",
       "        [[ 8887.,  8887., 10143., ...,  9328.,  9376.,  9400.],\n",
       "         [ 7535.,  9126.,  9815., ...,  9248.,  9248.,  9360.],\n",
       "         [ 8623.,  8623.,  9415., ...,  9360.,  9304.,  9360.],\n",
       "         ...,\n",
       "...\n",
       "         ...,\n",
       "         [    0.,     0.,     0., ...,     0.,     0.,     0.],\n",
       "         [    0.,     0.,     0., ...,     0.,     0.,     0.],\n",
       "         [    0.,     0.,     0., ...,     0.,     0.,     0.]],\n",
       "\n",
       "        [[   nan,    nan,    nan, ...,    nan,    nan,    nan],\n",
       "         [   nan,    nan,    nan, ...,    nan,    nan,    nan],\n",
       "         [   nan,    nan,    nan, ...,    nan,    nan,    nan],\n",
       "         ...,\n",
       "         [   nan,    nan,    nan, ...,    nan,    nan,    nan],\n",
       "         [   nan,    nan,    nan, ...,    nan,    nan,    nan],\n",
       "         [   nan,    nan,    nan, ...,    nan,    nan,    nan]],\n",
       "\n",
       "        [[   nan,    nan,    nan, ...,    nan,    nan,    nan],\n",
       "         [   nan,    nan,    nan, ...,    nan,    nan,    nan],\n",
       "         [   nan,    nan,    nan, ...,    nan,    nan,    nan],\n",
       "         ...,\n",
       "         [   nan,    nan,    nan, ...,    nan,    nan,    nan],\n",
       "         [   nan,    nan,    nan, ...,    nan,    nan,    nan],\n",
       "         [   nan,    nan,    nan, ...,    nan,    nan,    nan]]]])</pre></div></div></li><li class='xr-section-item'><input id='section-61f45468-210c-4b42-be22-4d42489038a6' class='xr-section-summary-in' type='checkbox'  checked><label for='section-61f45468-210c-4b42-be22-4d42489038a6' class='xr-section-summary' >Coordinates: <span>(4)</span></label><div class='xr-section-inline-details'></div><div class='xr-section-details'><ul class='xr-var-list'><li class='xr-var-item'><div class='xr-var-name'><span class='xr-has-index'>band</span></div><div class='xr-var-dims'>(band)</div><div class='xr-var-dtype'>int64</div><div class='xr-var-preview xr-preview'>1 2 3</div><input id='attrs-46c419f8-17d7-46ad-930e-e091bfbccf60' class='xr-var-attrs-in' type='checkbox' disabled><label for='attrs-46c419f8-17d7-46ad-930e-e091bfbccf60' title='Show/Hide attributes'><svg class='icon xr-icon-file-text2'><use xlink:href='#icon-file-text2'></use></svg></label><input id='data-25a1b632-313f-49b3-a604-0c014acbbbe4' class='xr-var-data-in' type='checkbox'><label for='data-25a1b632-313f-49b3-a604-0c014acbbbe4' title='Show/Hide data repr'><svg class='icon xr-icon-database'><use xlink:href='#icon-database'></use></svg></label><div class='xr-var-attrs'><dl class='xr-attrs'></dl></div><div class='xr-var-data'><pre>array([1, 2, 3])</pre></div></li><li class='xr-var-item'><div class='xr-var-name'><span class='xr-has-index'>x</span></div><div class='xr-var-dims'>(x)</div><div class='xr-var-dtype'>float64</div><div class='xr-var-preview xr-preview'>-7.5e+05 -7.5e+05 ... -6.25e+05</div><input id='attrs-5e4402d5-b9f4-4734-9d03-ee07c6755002' class='xr-var-attrs-in' type='checkbox' disabled><label for='attrs-5e4402d5-b9f4-4734-9d03-ee07c6755002' title='Show/Hide attributes'><svg class='icon xr-icon-file-text2'><use xlink:href='#icon-file-text2'></use></svg></label><input id='data-da255965-83ce-49b1-b631-cd645e148e0d' class='xr-var-data-in' type='checkbox'><label for='data-da255965-83ce-49b1-b631-cd645e148e0d' title='Show/Hide data repr'><svg class='icon xr-icon-database'><use xlink:href='#icon-database'></use></svg></label><div class='xr-var-attrs'><dl class='xr-attrs'></dl></div><div class='xr-var-data'><pre>array([-750015., -750005., -749995., ..., -625025., -625015., -625005.])</pre></div></li><li class='xr-var-item'><div class='xr-var-name'><span class='xr-has-index'>y</span></div><div class='xr-var-dims'>(y)</div><div class='xr-var-dtype'>float64</div><div class='xr-var-preview xr-preview'>1.625e+06 1.625e+06 ... 1.5e+06</div><input id='attrs-5cd8750a-d216-4eab-a318-ae6c3744d1d4' class='xr-var-attrs-in' type='checkbox' disabled><label for='attrs-5cd8750a-d216-4eab-a318-ae6c3744d1d4' title='Show/Hide attributes'><svg class='icon xr-icon-file-text2'><use xlink:href='#icon-file-text2'></use></svg></label><input id='data-0d156795-8e22-4e64-ac16-863b97452f07' class='xr-var-data-in' type='checkbox'><label for='data-0d156795-8e22-4e64-ac16-863b97452f07' title='Show/Hide data repr'><svg class='icon xr-icon-database'><use xlink:href='#icon-database'></use></svg></label><div class='xr-var-attrs'><dl class='xr-attrs'></dl></div><div class='xr-var-data'><pre>array([1625045., 1625035., 1625025., ..., 1500025., 1500015., 1500005.])</pre></div></li><li class='xr-var-item'><div class='xr-var-name'><span>spatial_ref</span></div><div class='xr-var-dims'>()</div><div class='xr-var-dtype'>int64</div><div class='xr-var-preview xr-preview'>0</div><input id='attrs-33e15148-9ad7-4efd-8a90-bd2df4e61c4d' class='xr-var-attrs-in' type='checkbox' ><label for='attrs-33e15148-9ad7-4efd-8a90-bd2df4e61c4d' title='Show/Hide attributes'><svg class='icon xr-icon-file-text2'><use xlink:href='#icon-file-text2'></use></svg></label><input id='data-d17328a6-d8de-4937-9550-572f482b596e' class='xr-var-data-in' type='checkbox'><label for='data-d17328a6-d8de-4937-9550-572f482b596e' title='Show/Hide data repr'><svg class='icon xr-icon-database'><use xlink:href='#icon-database'></use></svg></label><div class='xr-var-attrs'><dl class='xr-attrs'><dt><span>crs_wkt :</span></dt><dd>PROJCS[&quot;WGS 84 / Antarctic Polar Stereographic&quot;,GEOGCS[&quot;WGS 84&quot;,DATUM[&quot;WGS_1984&quot;,SPHEROID[&quot;WGS 84&quot;,6378137,298.257223563,AUTHORITY[&quot;EPSG&quot;,&quot;7030&quot;]],AUTHORITY[&quot;EPSG&quot;,&quot;6326&quot;]],PRIMEM[&quot;Greenwich&quot;,0,AUTHORITY[&quot;EPSG&quot;,&quot;8901&quot;]],UNIT[&quot;degree&quot;,0.0174532925199433,AUTHORITY[&quot;EPSG&quot;,&quot;9122&quot;]],AUTHORITY[&quot;EPSG&quot;,&quot;4326&quot;]],PROJECTION[&quot;Polar_Stereographic&quot;],PARAMETER[&quot;latitude_of_origin&quot;,-71],PARAMETER[&quot;central_meridian&quot;,0],PARAMETER[&quot;false_easting&quot;,0],PARAMETER[&quot;false_northing&quot;,0],UNIT[&quot;metre&quot;,1,AUTHORITY[&quot;EPSG&quot;,&quot;9001&quot;]],AXIS[&quot;Easting&quot;,NORTH],AXIS[&quot;Northing&quot;,NORTH],AUTHORITY[&quot;EPSG&quot;,&quot;3031&quot;]]</dd><dt><span>semi_major_axis :</span></dt><dd>6378137.0</dd><dt><span>semi_minor_axis :</span></dt><dd>6356752.314245179</dd><dt><span>inverse_flattening :</span></dt><dd>298.257223563</dd><dt><span>reference_ellipsoid_name :</span></dt><dd>WGS 84</dd><dt><span>longitude_of_prime_meridian :</span></dt><dd>0.0</dd><dt><span>prime_meridian_name :</span></dt><dd>Greenwich</dd><dt><span>geographic_crs_name :</span></dt><dd>WGS 84</dd><dt><span>horizontal_datum_name :</span></dt><dd>World Geodetic System 1984</dd><dt><span>projected_crs_name :</span></dt><dd>WGS 84 / Antarctic Polar Stereographic</dd><dt><span>grid_mapping_name :</span></dt><dd>polar_stereographic</dd><dt><span>standard_parallel :</span></dt><dd>-71.0</dd><dt><span>straight_vertical_longitude_from_pole :</span></dt><dd>0.0</dd><dt><span>false_easting :</span></dt><dd>0.0</dd><dt><span>false_northing :</span></dt><dd>0.0</dd><dt><span>spatial_ref :</span></dt><dd>PROJCS[&quot;WGS 84 / Antarctic Polar Stereographic&quot;,GEOGCS[&quot;WGS 84&quot;,DATUM[&quot;WGS_1984&quot;,SPHEROID[&quot;WGS 84&quot;,6378137,298.257223563,AUTHORITY[&quot;EPSG&quot;,&quot;7030&quot;]],AUTHORITY[&quot;EPSG&quot;,&quot;6326&quot;]],PRIMEM[&quot;Greenwich&quot;,0,AUTHORITY[&quot;EPSG&quot;,&quot;8901&quot;]],UNIT[&quot;degree&quot;,0.0174532925199433,AUTHORITY[&quot;EPSG&quot;,&quot;9122&quot;]],AUTHORITY[&quot;EPSG&quot;,&quot;4326&quot;]],PROJECTION[&quot;Polar_Stereographic&quot;],PARAMETER[&quot;latitude_of_origin&quot;,-71],PARAMETER[&quot;central_meridian&quot;,0],PARAMETER[&quot;false_easting&quot;,0],PARAMETER[&quot;false_northing&quot;,0],UNIT[&quot;metre&quot;,1,AUTHORITY[&quot;EPSG&quot;,&quot;9001&quot;]],AXIS[&quot;Easting&quot;,NORTH],AXIS[&quot;Northing&quot;,NORTH],AUTHORITY[&quot;EPSG&quot;,&quot;3031&quot;]]</dd><dt><span>GeoTransform :</span></dt><dd>-750020.0 10.0 0.0 1625050.0 0.0 -10.0</dd></dl></div><div class='xr-var-data'><pre>array(0)</pre></div></li></ul></div></li><li class='xr-section-item'><input id='section-c34a7925-9872-42cd-b119-c1b9785a25d7' class='xr-section-summary-in' type='checkbox'  checked><label for='section-c34a7925-9872-42cd-b119-c1b9785a25d7' class='xr-section-summary' >Attributes: <span>(3)</span></label><div class='xr-section-inline-details'></div><div class='xr-section-details'><dl class='xr-attrs'><dt><span>scale_factor :</span></dt><dd>1.0</dd><dt><span>add_offset :</span></dt><dd>0.0</dd><dt><span>long_name :</span></dt><dd>(&#x27;B4_first&#x27;, &#x27;B3_first&#x27;, &#x27;B2_first&#x27;, &#x27;B11_first&#x27;)</dd></dl></div></li></ul></div></div>"
      ],
      "text/plain": [
       "<xarray.DataArray (newDim: 2, band: 3, y: 12505, x: 12502)>\n",
       "array([[[[ 7913.,  7913.,  9288., ...,  8992.,  9080.,  9080.],\n",
       "         [ 7381.,  8200.,  9087., ...,  8992.,  8992.,  8976.],\n",
       "         [ 7968.,  7968.,  8641., ...,  9104.,  9040.,  8952.],\n",
       "         ...,\n",
       "         [   15.,    40.,    54., ...,  9096.,  9016.,  8968.],\n",
       "         [  131.,   206.,   248., ...,  8920.,  9016.,  8976.],\n",
       "         [  158.,   173.,   391., ...,  8952.,  8968.,  9056.]],\n",
       "\n",
       "        [[ 8832.,  8832.,  9728., ...,  9304.,  9320.,  9360.],\n",
       "         [ 7752.,  8568.,  9552., ...,  9216.,  9216.,  9224.],\n",
       "         [ 8817.,  8817.,  8834., ...,  9344.,  9184.,  9280.],\n",
       "         ...,\n",
       "         [   96.,   170.,   171., ...,  9304.,  9264.,  9216.],\n",
       "         [  159.,   304.,   260., ...,  9296.,  9304.,  9264.],\n",
       "         [  263.,   460.,   191., ...,  9216.,  9272.,  9304.]],\n",
       "\n",
       "        [[ 8887.,  8887., 10143., ...,  9328.,  9376.,  9400.],\n",
       "         [ 7535.,  9126.,  9815., ...,  9248.,  9248.,  9360.],\n",
       "         [ 8623.,  8623.,  9415., ...,  9360.,  9304.,  9360.],\n",
       "         ...,\n",
       "...\n",
       "         ...,\n",
       "         [    0.,     0.,     0., ...,     0.,     0.,     0.],\n",
       "         [    0.,     0.,     0., ...,     0.,     0.,     0.],\n",
       "         [    0.,     0.,     0., ...,     0.,     0.,     0.]],\n",
       "\n",
       "        [[   nan,    nan,    nan, ...,    nan,    nan,    nan],\n",
       "         [   nan,    nan,    nan, ...,    nan,    nan,    nan],\n",
       "         [   nan,    nan,    nan, ...,    nan,    nan,    nan],\n",
       "         ...,\n",
       "         [   nan,    nan,    nan, ...,    nan,    nan,    nan],\n",
       "         [   nan,    nan,    nan, ...,    nan,    nan,    nan],\n",
       "         [   nan,    nan,    nan, ...,    nan,    nan,    nan]],\n",
       "\n",
       "        [[   nan,    nan,    nan, ...,    nan,    nan,    nan],\n",
       "         [   nan,    nan,    nan, ...,    nan,    nan,    nan],\n",
       "         [   nan,    nan,    nan, ...,    nan,    nan,    nan],\n",
       "         ...,\n",
       "         [   nan,    nan,    nan, ...,    nan,    nan,    nan],\n",
       "         [   nan,    nan,    nan, ...,    nan,    nan,    nan],\n",
       "         [   nan,    nan,    nan, ...,    nan,    nan,    nan]]]])\n",
       "Coordinates:\n",
       "  * band         (band) int64 1 2 3\n",
       "  * x            (x) float64 -7.5e+05 -7.5e+05 -7.5e+05 ... -6.25e+05 -6.25e+05\n",
       "  * y            (y) float64 1.625e+06 1.625e+06 1.625e+06 ... 1.5e+06 1.5e+06\n",
       "    spatial_ref  int64 0\n",
       "Dimensions without coordinates: newDim\n",
       "Attributes:\n",
       "    scale_factor:  1.0\n",
       "    add_offset:    0.0\n",
       "    long_name:     ('B4_first', 'B3_first', 'B2_first', 'B11_first')"
      ]
     },
     "execution_count": 18,
     "metadata": {},
     "output_type": "execute_result"
    }
   ],
   "source": [
    "print(label_cutouts.shape)\n",
    "\n",
    "xr.concat([da, tile_dmg_int],'newDim')"
   ]
  },
  {
   "cell_type": "code",
   "execution_count": null,
   "id": "c1085aef",
   "metadata": {},
   "outputs": [],
   "source": [
    "print('nandata in:')\n",
    "print('da original: {} \\n da masked: {} \\n da norm/equal: {} '.format(np.isnan(da_origin).any().values, np.isnan(da_mask).any().values, np.isnan(da_norm_equal).any().values ))"
   ]
  },
  {
   "cell_type": "code",
   "execution_count": null,
   "id": "3d1e254f",
   "metadata": {},
   "outputs": [],
   "source": [
    "nanmask = np.isnan(da)"
   ]
  },
  {
   "cell_type": "code",
   "execution_count": null,
   "id": "9d2a9c8b-4829-4eca-97d0-fd6517e517f9",
   "metadata": {},
   "outputs": [],
   "source": [
    "fig,ax= plt.subplots(1,2,figsize=(10,8))\n",
    "da_origin.attrs['long_name']='imgbands';\n",
    "da_origin.isel(band=0).plot.imshow(ax=ax[0])\n",
    "ax[0].set_title('img, not normalised')\n",
    "da_norm_equal.isel(band=0).plot.imshow(ax=ax[1],vmin=0,vmax=1,cbar_kwargs={\"fraction\": 0.046})\n",
    "ax[1].set_title('img, normalised and equalised')\n",
    "ax[0].set_aspect('equal')\n",
    "ax[1].set_aspect('equal')"
   ]
  },
  {
   "cell_type": "code",
   "execution_count": 19,
   "id": "6586f2cd-9268-47c0-ad37-789d0fe6859c",
   "metadata": {},
   "outputs": [
    {
     "name": "stdout",
     "output_type": "stream",
     "text": [
      "---- succesfully encoded data; size:  (15625, 4)\n"
     ]
    }
   ],
   "source": [
    "\n",
    "''' ----------\n",
    "Encode input \n",
    "------------'''\n",
    "encoded_data_file = os.path.join(path_to_model, tileName + \"_encoded.npy\")\n",
    "if os.path.exists(encoded_data_file):\n",
    "    # read file\n",
    "    encoded_data = np.load(encoded_data_file)\n",
    "    print('---- loaded encoded data; size: ', encoded_data.shape)\n",
    "else: \n",
    "    # encode data and save file\n",
    "    encoded_data,_,_ = encoder.predict(tile_cutouts);\n",
    "    np.save(encoded_data_file, encoded_data) # save encoded data for later use.\n",
    "    # np.save(tileName + \"_labels.npy\", label_cutouts) # save encoded data for later use.\n",
    "    print('---- succesfully encoded data; size: ', encoded_data.shape)\n",
    "\n"
   ]
  },
  {
   "cell_type": "code",
   "execution_count": 23,
   "id": "6810a5d0",
   "metadata": {},
   "outputs": [
    {
     "name": "stdout",
     "output_type": "stream",
     "text": [
      "min/max \n",
      " tile_cutouts: 0.0,1.0 \n",
      " encoded_data: -0.0,0.0\n"
     ]
    }
   ],
   "source": [
    "print(\"min/max \\n tile_cutouts: {:.1f},{:.1f} \\n encoded_data: {:.1f},{:.1f}\".format(tile_cutouts.min(), tile_cutouts.max(), encoded_data.min(), encoded_data.max()))"
   ]
  },
  {
   "cell_type": "code",
   "execution_count": 24,
   "id": "a68ba3e6-92a8-4284-915f-58ec57287ade",
   "metadata": {},
   "outputs": [
    {
     "data": {
      "text/plain": [
       "Text(0.5, 1.0, 'histogram of latent space parameters')"
      ]
     },
     "execution_count": 24,
     "metadata": {},
     "output_type": "execute_result"
    },
    {
     "data": {
      "image/png": "[encoded data removed]",
      "text/plain": [
       "<Figure size 432x288 with 1 Axes>"
      ]
     },
     "metadata": {
      "needs_background": "light"
     },
     "output_type": "display_data"
    }
   ],
   "source": [
    "# encoded_data.min()\n",
    "# encoded_data.max()\n",
    "plt.figure()\n",
    "for ldim in range(0, encoded_data.shape[1]):\n",
    "    plt.hist(encoded_data[:,ldim],label=ldim)\n",
    "plt.legend()    \n",
    "plt.title('histogram of latent space parameters')"
   ]
  },
  {
   "cell_type": "code",
   "execution_count": 25,
   "id": "4fe735f8-f3d8-4c86-a24b-5bb038b9f622",
   "metadata": {},
   "outputs": [
    {
     "data": {
      "text/plain": [
       "' ----------\\npredict output  \\n------------'"
      ]
     },
     "execution_count": 25,
     "metadata": {},
     "output_type": "execute_result"
    }
   ],
   "source": [
    "\n",
    "''' ----------\n",
    "predict output  \n",
    "------------'''\n",
    "\n",
    "# predicted_data = model.predict(tile_cutouts); # reconstruct images (windows):\n",
    "# np.save(os.path.join(path_to_model, tileName + \"_predicted.npy\"),predicted_data)\n",
    "# print('---- succesfully predicted data')\n"
   ]
  },
  {
   "cell_type": "code",
   "execution_count": 25,
   "id": "b37f5cd4-fd8e-4f5a-8426-ccdc078cb544",
   "metadata": {},
   "outputs": [
    {
     "data": {
      "text/plain": [
       "{'scale_factor': 1.0, 'add_offset': 0.0, 'long_name': 'bands'}"
      ]
     },
     "execution_count": 25,
     "metadata": {},
     "output_type": "execute_result"
    }
   ],
   "source": [
    "tile_cutouts_da.attrs['long_name'] = 'bands'\n",
    "tile_cutouts_da.attrs"
   ]
  },
  {
   "cell_type": "code",
   "execution_count": 26,
   "id": "b9df2a81-d030-4920-8721-6d9b8d544e0a",
   "metadata": {},
   "outputs": [
    {
     "data": {
      "text/plain": [
       "'tile_50'"
      ]
     },
     "execution_count": 26,
     "metadata": {},
     "output_type": "execute_result"
    }
   ],
   "source": [
    "tileName\n",
    "\n",
    "tileNum='tile_'+tileName.split('tile_')[-1]\n",
    "tileNum"
   ]
  },
  {
   "cell_type": "code",
   "execution_count": 26,
   "id": "37fc0fa9-8e5f-45b0-98df-36f9fd74cc01",
   "metadata": {},
   "outputs": [
    {
     "data": {
      "image/png": "[encoded data removed]",
      "text/plain": [
       "<Figure size 1440x720 with 8 Axes>"
      ]
     },
     "metadata": {
      "needs_background": "light"
     },
     "output_type": "display_data"
    }
   ],
   "source": [
    "\n",
    "''' ----------\n",
    "Plot latent space spatially Ldim=4\n",
    "------------'''\n",
    "\n",
    "if latent_dim == 4:\n",
    "    z0 = encoded_data[:,0]\n",
    "    z1 = encoded_data[:,1]\n",
    "    z2 = encoded_data[:,2]\n",
    "    z3 = encoded_data[:,3]\n",
    "\n",
    "\n",
    "\n",
    "    # add z0 only to (sample,x,y. )\n",
    "    L_space_xy_z0 =  tile_cutouts_da.isel(band=[0],x_win=0,y_win=0).copy(deep=True, data=np.expand_dims(z0,axis=1) ) #.unstack()\n",
    "    L_space_xy_z1 =  tile_cutouts_da.isel(band=[0],x_win=0,y_win=0).copy(deep=True, data=np.expand_dims(z1,axis=1) ) #.unstack()\n",
    "    L_space_xy_z2 =  tile_cutouts_da.isel(band=[0],x_win=0,y_win=0).copy(deep=True, data=np.expand_dims(z2,axis=1) ) #.unstack()\n",
    "    L_space_xy_z3 =  tile_cutouts_da.isel(band=[0],x_win=0,y_win=0).copy(deep=True, data=np.expand_dims(z3,axis=1) ) #.unstack()\n",
    "\n",
    "\n",
    "    fig,axes = plt.subplots(2,2,figsize=(20,10))\n",
    "\n",
    "    # axes[0,0].imshow(tile_da[0])\n",
    "    # axes[0,0].set_aspect('equal')\n",
    "    # tile_data.isel(band=0).plot.imshow()#ax=axes[0],x='x',add_label=False)\n",
    "\n",
    "    L_space_xy_z0.unstack().isel(band=0).plot.imshow(ax=axes[0,0],x='x',cmap='RdBu') #,vmin=-0.1,vmax=0.1, # vmin=-2 vmax=2\n",
    "    axes[0,0].set_title('z0')\n",
    "    axes[0,0].set_aspect('equal')\n",
    "\n",
    "\n",
    "    L_space_xy_z1.unstack().isel(band=0).plot.imshow(ax=axes[0,1],x='x',cmap='RdBu') # vmin=-0.1,vmax=0.1,\n",
    "    axes[0,1].set_title('z1')\n",
    "    axes[0,1].set_aspect('equal')\n",
    "\n",
    "\n",
    "    L_space_xy_z2.unstack().isel(band=0).plot.imshow(ax=axes[1,0],x='x',cmap='RdBu') # vmin=-2 vmax=2\n",
    "    axes[1,0].set_title('z2')\n",
    "    axes[1,0].set_aspect('equal')\n",
    "\n",
    "\n",
    "    L_space_xy_z3.unstack().isel(band=0).plot.imshow(ax=axes[1,1],x='x',cmap='RdBu') # vmin=-2 vmax=2\n",
    "    axes[1,1].set_title('z3')\n",
    "    axes[1,1].set_aspect('equal')\n",
    "\n",
    "    # fig.savefig(os.path.join(path_to_traindir , model_dir, 'spatial_lspace_' + tileNum))"
   ]
  },
  {
   "cell_type": "markdown",
   "id": "0a96b646",
   "metadata": {},
   "source": [
    "# Plot encoded representation\n",
    "\n",
    "We can also have a look at the 128-dimensional encoded representations. \n",
    "These representations are 8x4x4, so we reshape them to 4x32 in order to be able to display them as grayscale images."
   ]
  },
  {
   "cell_type": "code",
   "execution_count": 29,
   "id": "08d5edd9",
   "metadata": {},
   "outputs": [
    {
     "data": {
      "text/plain": [
       "(15625, 4)"
      ]
     },
     "execution_count": 29,
     "metadata": {},
     "output_type": "execute_result"
    }
   ],
   "source": [
    "encoded_data.shape\n"
   ]
  },
  {
   "cell_type": "code",
   "execution_count": 30,
   "id": "04b0e96e",
   "metadata": {},
   "outputs": [
    {
     "data": {
      "image/png": "[encoded data removed]",
      "text/plain": [
       "<Figure size 1440x576 with 20 Axes>"
      ]
     },
     "metadata": {
      "needs_background": "light"
     },
     "output_type": "display_data"
    }
   ],
   "source": [
    "# encoder = keras.Model(input_img, encoded)\n",
    "# encoded_imgs = encoder.predict(x_test)\n",
    "\n",
    "n = 20\n",
    "plt.figure(figsize=(20, 8))\n",
    "for i in range(1, n + 1):\n",
    "    ax = plt.subplot(1, n, i)\n",
    "    plt.imshow(encoded_data[i+1000].reshape((1, 4)).T)\n",
    "    plt.gray()\n",
    "    ax.get_xaxis().set_visible(False)\n",
    "    ax.get_yaxis().set_visible(False)\n",
    "plt.show()"
   ]
  },
  {
   "cell_type": "markdown",
   "id": "9b2d5af7",
   "metadata": {},
   "source": [
    "# Embed latent space"
   ]
  },
  {
   "cell_type": "code",
   "execution_count": 64,
   "id": "b7751758-3b76-408f-92a3-3b7782a40123",
   "metadata": {},
   "outputs": [
    {
     "name": "stderr",
     "output_type": "stream",
     "text": [
      "/Users/tud500158/opt/anaconda3/envs/VAEenv/lib/python3.10/site-packages/sklearn/manifold/_t_sne.py:982: FutureWarning: The PCA initialization in TSNE will change to have the standard deviation of PC1 equal to 1e-4 in 1.2. This will ensure better convergence.\n",
      "  warnings.warn(\n"
     ]
    },
    {
     "name": "stdout",
     "output_type": "stream",
     "text": [
      "---- succesfully embedded data of 4 dim to 2D\n",
      "\n",
      "\n"
     ]
    }
   ],
   "source": [
    "'''  ----------------\n",
    "embed latentspace to 2D for cluster plot \n",
    "----------------- '''\n",
    "\n",
    "def embed_latentspace_2D(encoded_data,\n",
    "                         latent_dim,perplexity=10, \n",
    "                         n_iter=1000,\n",
    "                         n_iter_without_progress=300):\n",
    "    ''' Consider using perplexity between 5 and 50 (default 30); larger datasets usually require a larger perplexity.\n",
    "        n_iter default 1000, should be at least 250\n",
    "        learning_rate: the learning rate for t-SNE is usually in the range [10.0, 1000.0], default=200; The ‘auto’ option sets the learning_rate to max(N / early_exaggeration / 4, 50)\n",
    "    '''\n",
    "    \n",
    "    z_mean_2D = TSNE(n_components=2,\n",
    "                     perplexity=perplexity,\n",
    "                     n_iter=n_iter,\n",
    "                     learning_rate='auto',\n",
    "                     init='pca',\n",
    "                     n_iter_without_progress=n_iter_without_progress).fit_transform(encoded_data);\n",
    "\n",
    "    return z_mean_2D\n",
    "\n",
    "Nsamples = encoded_data.shape[0] #100000 \n",
    "\n",
    "\n",
    "if latent_dim > 2: \n",
    "    encoded_2D_testdata = embed_latentspace_2D(encoded_data, # sample selection\n",
    "                                           latent_dim,perplexity=40,\n",
    "                                           n_iter=250,\n",
    "                                           n_iter_without_progress=100)\n",
    "\n",
    "# np.save(\"embedded_data_N{:d}_tileX.npy\".format(Nsamples),reconstructed_window)\n",
    "# z_mean_2D = TSNE(n_components=2,\n",
    "#                  perplexity=30,\n",
    "#                  n_iter=250,\n",
    "#                  init='pca',\n",
    "#                  n_iter_without_progress=100,\n",
    "#                  n_jobs=4).fit_transform(encoded_data);\n",
    "# np.save(\"embedded_data_N_tileX.npy\",encoded_2D_testdata)\n",
    "print('---- succesfully embedded data of {} dim to 2D'.format(latent_dim))\n",
    " \n",
    "\n",
    "    \n",
    "print('\\n')"
   ]
  },
  {
   "cell_type": "code",
   "execution_count": 32,
   "id": "560ec3d2-e341-43dd-8771-70bdd741bbf2",
   "metadata": {},
   "outputs": [
    {
     "name": "stdout",
     "output_type": "stream",
     "text": [
      "---- succesfully embedded data of 4 dim to 2D\n"
     ]
    }
   ],
   "source": [
    "\n",
    "print('---- succesfully embedded data of {} dim to 2D'.format(latent_dim))"
   ]
  },
  {
   "cell_type": "code",
   "execution_count": 30,
   "id": "532db414-a205-4106-963d-bddb1b13f464",
   "metadata": {},
   "outputs": [
    {
     "data": {
      "image/png": "[encoded data removed]",
      "text/plain": [
       "<Figure size 576x576 with 2 Axes>"
      ]
     },
     "metadata": {
      "needs_background": "light"
     },
     "output_type": "display_data"
    },
    {
     "data": {
      "image/png": "[encoded data removed]",
      "text/plain": [
       "<Figure size 576x576 with 2 Axes>"
      ]
     },
     "execution_count": 30,
     "metadata": {},
     "output_type": "execute_result"
    }
   ],
   "source": [
    "\n",
    "import matplotlib.colors as colors\n",
    "\n",
    "''' ----------\n",
    "Plot clustering\n",
    "------------'''\n",
    "  \n",
    "    \n",
    "\n",
    "def plot_latentspace_clusters_no_labels( embedded_data ):#,labels):\n",
    "    ''' Embedded data should have (N,2)'''\n",
    "    fig = plt.figure(figsize=(8, 8))\n",
    "    plt.scatter(embedded_data[:, 0], embedded_data[:, 1])#, c=labels,s=2,cmap='winter') # also add size for scatter point\n",
    "    plt.colorbar()\n",
    "    plt.xlabel(\"z[0]\")\n",
    "    plt.ylabel(\"z[1]\")\n",
    "    plt.show()\n",
    "    return fig\n",
    "    \n",
    "\n",
    "\n",
    "# fig = plot_latentspace_clusters_no_labels( embedded_data[:,0:2] )\n",
    "# fig.savefig(os.path.join(path_to_traindir , model_dir, 'embedded_testdata_nolabels_' + tileNum))\n"
   ]
  },
  {
   "cell_type": "code",
   "execution_count": 31,
   "id": "fe0f022f-e94e-4e55-a385-91b37cb6c6fe",
   "metadata": {},
   "outputs": [
    {
     "data": {
      "text/plain": [
       "Text(0, 0.5, 'z1')"
      ]
     },
     "execution_count": 31,
     "metadata": {},
     "output_type": "execute_result"
    },
    {
     "data": {
      "image/png": "[encoded data removed]",
      "text/plain": [
       "<Figure size 576x432 with 2 Axes>"
      ]
     },
     "metadata": {
      "needs_background": "light"
     },
     "output_type": "display_data"
    }
   ],
   "source": [
    "# PLOT HEATMAP\n",
    "''' -- get latent spaace features  '''\n",
    "# tile_cutouts_balanced.shape # ('sample', 'x_win', 'y_win', 'band')\n",
    "# tile_cutout_da = tile_da.transpose('sample','x_win','y_win','band')\n",
    "train_samples_unstacked = tile_cutouts_da.unstack()\n",
    "\n",
    "# To interpret clusters: extract z0 and z1 values to plot spatially. \n",
    "embedded_data = encoded_data # 2D\n",
    "\n",
    "z0 = embedded_data[:,0]\n",
    "z1 = embedded_data[:,1]\n",
    " \n",
    "\n",
    "''' -- plot  '''\n",
    "heatmap, xedges, yedges = np.histogram2d(z0, z1, bins=50)\n",
    "extent = [xedges[0], xedges[-1], yedges[0], yedges[-1]]\n",
    "\n",
    "fig,ax=plt.subplots(1,figsize=(8,6))\n",
    "# ax = fig.add_subplot(132)\n",
    "hmap = ax.imshow(heatmap.T, extent=extent, origin='lower',norm=colors.LogNorm(vmin=1, vmax=heatmap.max()),cmap='viridis')\n",
    "ax.set_aspect('auto')\n",
    "ax.grid('on')\n",
    "fig.colorbar(hmap)\n",
    "ax.set_xlabel('z0')\n",
    "ax.set_ylabel('z1')\n",
    "\n",
    "\n",
    "# fig.savefig(os.path.join(path_to_traindir , model_dir, 'embedded_testdata_heatmap_' + tileNum))"
   ]
  },
  {
   "cell_type": "code",
   "execution_count": 45,
   "id": "368a888c-1ec5-4e43-bb1c-57256ee452c5",
   "metadata": {},
   "outputs": [
    {
     "data": {
      "text/plain": [
       "[<matplotlib.lines.Line2D at 0x13d647130>]"
      ]
     },
     "execution_count": 45,
     "metadata": {},
     "output_type": "execute_result"
    },
    {
     "data": {
      "image/png": "[encoded data removed]",
      "text/plain": [
       "<Figure size 432x288 with 1 Axes>"
      ]
     },
     "metadata": {
      "needs_background": "light"
     },
     "output_type": "display_data"
    }
   ],
   "source": [
    "# plt.figure()\n",
    "# plt.hist(labels_encoded)\n",
    "\n",
    "labels_encoded = label_cutouts.sum(axis=1).sum(axis=1) # (Nsamples, 20, 20, 1) to (Nsamples,1)\n",
    "# plt.plot(labels_encoded)\n",
    "\n",
    "val = labels_encoded[labels_encoded > 0]\n",
    "plt.plot(val)"
   ]
  },
  {
   "cell_type": "code",
   "execution_count": 52,
   "id": "33ba8160-3028-4aa7-8344-81428eab9296",
   "metadata": {},
   "outputs": [
    {
     "data": {
      "text/plain": [
       "(15625, 1)"
      ]
     },
     "execution_count": 52,
     "metadata": {},
     "output_type": "execute_result"
    }
   ],
   "source": [
    "labels_encoded.shape"
   ]
  },
  {
   "cell_type": "code",
   "execution_count": 62,
   "id": "01dd756e-0297-4e7f-9ccb-762a03a6e399",
   "metadata": {},
   "outputs": [
    {
     "name": "stdout",
     "output_type": "stream",
     "text": [
      "[   0.            0.            0.         ... 2066.38490516 2071.34734574\n",
      " 2071.82363613]\n",
      "(15625,)\n"
     ]
    },
    {
     "data": {
      "text/plain": [
       "[<matplotlib.lines.Line2D at 0x15e9255d0>]"
      ]
     },
     "execution_count": 62,
     "metadata": {},
     "output_type": "execute_result"
    },
    {
     "data": {
      "image/png": "[encoded data removed]",
      "text/plain": [
       "<Figure size 432x288 with 1 Axes>"
      ]
     },
     "metadata": {
      "needs_background": "light"
     },
     "output_type": "display_data"
    }
   ],
   "source": [
    "lsort = np.sort(labels_encoded.squeeze(),axis=0 )\n",
    "print(lsort)\n",
    "isort = np.argsort(labels_encoded.squeeze(),axis=0)\n",
    "print(isort.shape)\n",
    "plt.plot(lsort)\n",
    "plt.plot(labels_encoded[isort])"
   ]
  },
  {
   "cell_type": "code",
   "execution_count": 63,
   "id": "ed741361-3ec7-4562-ae71-0ac7decae780",
   "metadata": {},
   "outputs": [
    {
     "data": {
      "image/png": "[encoded data removed]",
      "text/plain": [
       "<Figure size 576x576 with 2 Axes>"
      ]
     },
     "metadata": {
      "needs_background": "light"
     },
     "output_type": "display_data"
    }
   ],
   "source": [
    "\n",
    "    \n",
    "def plot_latentspace_clusters( embedded_data,labels, clabel ):    \n",
    "    marksize = 2\n",
    "    # print(embedded_data.shape)\n",
    "    if len(labels.shape)>1:\n",
    "        labels = np.squeeze(labels)\n",
    "    \n",
    "    \n",
    "    # sort data with label value\n",
    "    embedded_data = embedded_data[ np.argsort(labels),:] #,np.argsort(labels)]\n",
    "    labels = np.sort(labels,axis=0)\n",
    "    \n",
    "    # embedded_data = embedded_data[ np.argsort(labels),:] #,np.argsort(labels)]\n",
    "    z0 = embedded_data[:, 0]\n",
    "    z1 = embedded_data[:, 1]\n",
    "    # z0_label1 = z0[ labels > 0]\n",
    "    # z0_label0 = z0[ labels ==0]\n",
    "    # z1_label1 = z1[ labels > 0]\n",
    "    # z1_label0 = z1[ labels ==0]\n",
    "    \n",
    "    \n",
    "    fig, ax1 = plt.subplots(figsize=(8,8) )\n",
    "    s1 = ax1.scatter(z0, z1, c=labels, s=marksize, cmap='cividis_r',vmin=0, vmax=0.2) # also add size for scatter point\n",
    "    # s0 = ax1.scatter(z0_label0, z1_label0, color='red', s=marksize, ) # also add size for scatter point\n",
    "    # s1 = ax1.scatter(z0_label1, z1_label1, c=labels[labels>0], s=marksize, cmap='cividis_r',vmin=0, vmax=0.2) # also add size for scatter point\n",
    "    ax1.set_xlabel(\"z[0]\"); \n",
    "    ax1.set_ylabel(\"z[1]\");\n",
    "    fig.colorbar(s1,ax=ax1,label=clabel);\n",
    "    return fig\n",
    "\n",
    "labels_encoded = label_cutouts.sum(axis=1).sum(axis=1) # (Nsamples, 20, 20, 1) to (Nsamples,1)\n",
    "# encoded_2D_testdata.shape\n",
    "fig = plot_latentspace_clusters( embedded_data[:,0:2] , labels_encoded ,clabel='dmg indication')\n",
    "\n",
    "# fig.savefig(os.path.join(path_to_traindir , model_dir, 'embedded_testdata_label_' + tileNum))\n"
   ]
  },
  {
   "cell_type": "code",
   "execution_count": null,
   "id": "8f1fa580-2bb1-4e57-81f2-6f2c151d0080",
   "metadata": {},
   "outputs": [],
   "source": [
    "\n",
    "# ''' ----------\n",
    "# Plot latent space spatially\n",
    "# ------------'''\n",
    "\n",
    "# if latent_dim <=2:\n",
    "\n",
    "#     # must expand 1D array (Nsamples,) to (Nsamples,20,20) to spatially represent each window.\n",
    "#     # use np.repeaat or np.tile\n",
    "#     x = np.array([1,2,3,4]).T\n",
    "#     z0_win = np.expand_dims(z0,axis=1) \n",
    "#     z0_win = np.expand_dims(z0_win,axis=2) # (Nsamples,20,20) filled with the same sample-value on every pixel in the (20,20) window\n",
    "#     z0_win = np.repeat(z0_win, 20, axis=1)\n",
    "#     z0_win = np.repeat(z0_win ,20, axis=2) \n",
    "#     # z0_win\n",
    "\n",
    "\n",
    "\n",
    "#     # L_space_unstacked = tile_cutout_da.isel(band=[0]).copy(deep=True, data=np.expand_dims(z0_win,axis=3) ).unstack()\n",
    "#     # L_space_unstacked\n",
    "#     # fig = L_space_unstacked.isel(x=1,y=1,band=0).plot.imshow()\n",
    "\n",
    "\n",
    "#     # add z0 only to (sample,x,y. )\n",
    "#     L_space_xy_z0 =  tile_cutouts_da.isel(band=[0],x_win=0,y_win=0).copy(deep=True, data=np.expand_dims(z0,axis=1) ) #.unstack()\n",
    "#     L_space_xy_z0\n",
    "\n",
    "#     # add z1 only to (sample,x,y. )\n",
    "#     L_space_xy_z1 =  tile_cutouts_da.isel(band=[0],x_win=0,y_win=0).copy(deep=True, data=np.expand_dims(z1,axis=1) ) #.unstack()\n",
    "\n",
    "#     # L_space_xy_labels = tile_cutout_da.isel(band=[0],x_win=0,y_win=0).copy(deep=True, data=np.expand_dims(labels,axis=1) ) #.unstack()\n",
    "\n",
    "\n",
    "\n",
    "#     # plt.imshow(labels_raster[0])\n",
    "\n",
    "\n",
    "#     fig,axes = plt.subplots(1,3,figsize=(20,5))\n",
    "\n",
    "#     axes[0].imshow(tile_da[0])\n",
    "#     axes[0].set_aspect('equal')\n",
    "#     # tile_data.isel(band=0).plot.imshow()#ax=axes[0],x='x',add_label=False)\n",
    "\n",
    "#     L_space_xy_z0.unstack().isel(band=0).plot.imshow(ax=axes[1],x='x',vmin=-3,vmax=3,cmap='RdBu') # vmin=-2 vmax=2\n",
    "#     axes[1].set_title('z0')\n",
    "#     axes[1].set_aspect('equal')\n",
    "\n",
    "\n",
    "#     L_space_xy_z1.unstack().isel(band=0).plot.imshow(ax=axes[2],x='x',vmin=-0.01,vmax=0.01,cmap='RdBu')\n",
    "#     axes[2].set_title('z1')\n",
    "#     axes[2].set_aspect('equal')\n",
    "\n",
    "\n",
    "\n",
    "#     fig.savefig(os.path.join(path_to_traindir , model_dir, 'spatial_lspace_' + tileNum))"
   ]
  },
  {
   "cell_type": "code",
   "execution_count": null,
   "id": "40e293ff-8556-46eb-86ba-8b06a79b6797",
   "metadata": {},
   "outputs": [],
   "source": [
    "\n"
   ]
  },
  {
   "cell_type": "code",
   "execution_count": null,
   "id": "228f3f8a-49fe-4707-b758-7450f4483485",
   "metadata": {},
   "outputs": [],
   "source": [
    "\n"
   ]
  },
  {
   "cell_type": "code",
   "execution_count": null,
   "id": "74754e13-88a1-47c7-9ab8-73885359dad5",
   "metadata": {},
   "outputs": [],
   "source": []
  },
  {
   "cell_type": "code",
   "execution_count": null,
   "id": "9f303db2-acc8-4954-8b14-5f855c1d29f8",
   "metadata": {},
   "outputs": [],
   "source": []
  },
  {
   "cell_type": "code",
   "execution_count": null,
   "id": "c439ddb5-6868-4479-8c68-36d2d554ad3f",
   "metadata": {},
   "outputs": [],
   "source": []
  }
 ],
 "metadata": {
  "kernelspec": {
   "display_name": "Python 3 (ipykernel)",
   "language": "python",
   "name": "python3"
  },
  "language_info": {
   "codemirror_mode": {
    "name": "ipython",
    "version": 3
   },
   "file_extension": ".py",
   "mimetype": "text/x-python",
   "name": "python",
   "nbconvert_exporter": "python",
   "pygments_lexer": "ipython3",
   "version": "3.10.4"
  },
  "vscode": {
   "interpreter": {
    "hash": "49c09480b0a56e56eaa03a0fc423497b2e18d961896d9b2e8f1ce68153effb79"
   }
  }
 },
 "nbformat": 4,
 "nbformat_minor": 5
}
