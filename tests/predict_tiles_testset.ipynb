{
 "cells": [
  {
   "cell_type": "code",
   "execution_count": 22,
   "id": "23b11881-cb28-41e3-92f0-9ba0d260cd5e",
   "metadata": {},
   "outputs": [
    {
     "name": "stdout",
     "output_type": "stream",
     "text": [
      "---- modules imported\n"
     ]
    }
   ],
   "source": [
    "import os\n",
    "os.chdir('/Users/tud500158/Documents/github/AutomatedDamageDetection/scripts/train-vae/')\n",
    "\n",
    "import numpy as np\n",
    "import tensorflow as tf\n",
    "import glob\n",
    "import geopandas as gpd\n",
    "import json\n",
    "import configparser \n",
    "from sklearn.manifold import TSNE\n",
    "import rioxarray as rioxr\n",
    "import xarray as xr\n",
    "import os\n",
    "\n",
    "import dataset\n",
    "import tiles as ts\n",
    "\n",
    "# from shapely import geometry\n",
    "from rasterio.features import shapes, geometry_mask\n",
    "import pathlib\n",
    "import pandas as pd\n",
    "import xarray as xr\n",
    "\n",
    "print('---- modules imported')\n",
    "os.chdir('/Users/tud500158/Documents/github/AutomatedDamageDetection/')\n"
   ]
  },
  {
   "cell_type": "code",
   "execution_count": 19,
   "id": "7710c0bd-e78a-4147-9ba4-0a11eab559d0",
   "metadata": {},
   "outputs": [],
   "source": []
  },
  {
   "cell_type": "code",
   "execution_count": 76,
   "id": "584524ab-9731-46a3-9046-3a3cf902ff23",
   "metadata": {},
   "outputs": [],
   "source": [
    "\n",
    "def parse_config(config):\n",
    "    \"\"\" Parse input arguments from dictionary or config file \"\"\"\n",
    "    if not isinstance(config, dict):\n",
    "        parser = configparser.ConfigParser()\n",
    "        parser.read(config)\n",
    "        config = parser[\"train-VAE\"]\n",
    "\n",
    "    catPath = config['catalogPath']\n",
    "    labPath = config['labelsPath']\n",
    "    outputDir = config['outputDirectory']\n",
    "    sizeTestSet = int(config['sizeTestSet'])\n",
    "    sizeValSet = int(config['sizeValidationSet'])\n",
    "    roiFile = config['ROIFile']\n",
    "    bands = [int(i) for i in config['bands'].split(\" \")]\n",
    "    sizeCutOut = int(config['sizeCutOut'])\n",
    "    nEpochMax = int(config['nEpochMax'])\n",
    "    sizeStep = int(config['sizeStep'])\n",
    "    normThreshold = float(config['normalizationThreshold'])\n",
    "        \n",
    "    return (catPath, labPath, outputDir, sizeTestSet, sizeValSet, roiFile,\n",
    "            bands, sizeCutOut, nEpochMax, sizeStep, normThreshold)\n",
    "\n",
    "\n"
   ]
  },
  {
   "cell_type": "code",
   "execution_count": 104,
   "id": "c33ee673-c7ab-4514-9164-a732ddb4d1aa",
   "metadata": {},
   "outputs": [],
   "source": [
    "\n",
    "# path_to_traindir = './model_v0/train_epoch_2/' # path on local computer\n",
    "path_to_traindir = os.path.join(os.getcwd(), 'training','2022-05') # path on local computer\n",
    "# path_to_traindir = './train/model_v0/train_epoch_2/' # path on cartesius\n",
    "ini_file = 'train-vae_balance_000.ini'\n",
    "model_dir = 'model_1651676774'\n",
    "\n",
    "\n",
    "# parse input arguments\n",
    "config = glob.glob(os.path.join(path_to_traindir,model_dir, ini_file))\n",
    "catalog_path, labels_path, outputDir, sizeTestSet, sizeValSet, roiFile, bands, \\\n",
    "    cutout_size, nEpochmax, sizeStep, normThreshold = parse_config(config)\n",
    "\n",
    "# local maachine: overwrite caatalogpath and labelspath\n",
    "catalog_path = '/Users/tud500158/Documents/Data/tiles'\n",
    "labels_path ='/Users/tud500158/Documents/PhD/crevasseDetection/GoogleEarth/labels/geojson/EPSG4326/'"
   ]
  },
  {
   "cell_type": "code",
   "execution_count": 79,
   "id": "7ae2f905-023b-414c-ac45-a3e0dfea6c3c",
   "metadata": {},
   "outputs": [
    {
     "data": {
      "text/plain": [
       "['/Users/tud500158/Documents/github/AutomatedDamageDetection/training/2022-05/model_1651676774']"
      ]
     },
     "execution_count": 79,
     "metadata": {},
     "output_type": "execute_result"
    }
   ],
   "source": [
    "os.path.join(path_to_traindir , 'model*')\n",
    "glob.glob(os.path.join(path_to_traindir , model_dir))\n",
    "# path_to_traindir"
   ]
  },
  {
   "cell_type": "code",
   "execution_count": 80,
   "id": "d09fbaab-99cd-4e13-8713-0240e905a1b3",
   "metadata": {},
   "outputs": [
    {
     "name": "stdout",
     "output_type": "stream",
     "text": [
      "['/Users/tud500158/Documents/github/AutomatedDamageDetection/training/2022-05/model_1651676774']\n",
      "WARNING:tensorflow:SavedModel saved prior to TF 2.5 detected when loading Keras model. Please ensure that you are saving the model with model.save() or tf.keras.models.save_model(), *NOT* tf.saved_model.save(). To confirm, there should be a file named \"keras_metadata.pb\" in the SavedModel directory.\n",
      "WARNING:tensorflow:SavedModel saved prior to TF 2.5 detected when loading Keras model. Please ensure that you are saving the model with model.save() or tf.keras.models.save_model(), *NOT* tf.saved_model.save(). To confirm, there should be a file named \"keras_metadata.pb\" in the SavedModel directory.\n",
      "---- loaded model, encoder and .ini\n"
     ]
    }
   ],
   "source": [
    "\n",
    "''' ----------\n",
    "Load model\n",
    "------------'''\n",
    "\n",
    "\n",
    "path_to_model = glob.glob(os.path.join(path_to_traindir , model_dir))\n",
    "print(path_to_model)\n",
    "path_to_model = path_to_model[0]\n",
    "epoch_dirs = glob.glob(path_to_model +'/epoch*' )\n",
    "encoder_dirs = glob.glob(path_to_model+'/encoder*')\n",
    "path_to_model_epoch = epoch_dirs[-1]\n",
    "path_to_encoder_epoch = encoder_dirs[-1]\n",
    "\n",
    "\n",
    "model = tf.keras.models.load_model(path_to_model_epoch ,compile=False)\n",
    "encoder = tf.keras.models.load_model(path_to_encoder_epoch,compile=False)\n",
    "\n",
    "# Get latent_dim (of sampling layer)\n",
    "latent_dim = encoder.layers[-1].output_shape[-1] # is 4\n",
    "\n",
    "\n",
    "print('---- loaded model, encoder and .ini')\n"
   ]
  },
  {
   "cell_type": "code",
   "execution_count": 81,
   "id": "3c1f5e0b-b3eb-47c0-aad1-04ec932233d8",
   "metadata": {},
   "outputs": [],
   "source": [
    "# os.path.join(path_to_traindir , model_dir, 'datasets*.json')"
   ]
  },
  {
   "cell_type": "code",
   "execution_count": 148,
   "id": "12609f27-af64-4087-84ea-f288045d2a3d",
   "metadata": {},
   "outputs": [],
   "source": [
    "\n",
    "\n",
    "''' ----------\n",
    "Get testdata: one tile\n",
    "\n",
    "Instead of loading tiles directly as tf Dataset with dataset.Dataset(), load the tile as xarray to be able to link it to labels\n",
    "------------'''\n",
    "\n",
    "# get info on which tiles are assigned as test tiles\n",
    "datasets_json = glob.glob(os.path.join(path_to_traindir, model_dir , 'datasets*.json'))\n",
    "\n",
    "with open(datasets_json[0]) as file:        # Opening JSON file\n",
    "    datasets_dict = json.loads(file.read()) # load data\n",
    "\n",
    "test_set_paths = datasets_dict['test']   \n",
    "test_set_paths\n",
    "\n",
    "# test: 1 tile\n",
    "# num_tiles = 1 # number of tiles to load\n",
    "# tile_list = test_set_paths[:num_tiles];\n",
    "# print('tilelist: ' , tile_list)\n",
    "\n",
    "tile_list = test_set_paths\n",
    "\n",
    "# update tile_list to be for local machine\n",
    "tile_names = [tile_n.split('/')[-1] for tile_n in tile_list]\n",
    "tile_path_local = pathlib.Path('/Users/tud500158/Documents/Data/tiles/')\n",
    "tile_list_local = [os.path.join(tile_path_local,tile_name) for tile_name in tile_names]\n",
    "\n",
    "# tiles that are actually on my local machine\n",
    "tiles_on_machine = glob.glob(os.path.join(tile_path_local , '*.tif'))\n",
    "\n",
    "# remake tile_list \n",
    "tile_list = []\n",
    "for tile in tiles_on_machine:\n",
    "    if tile in tile_list_local:\n",
    "        tile_list.append(actual_file)"
   ]
  },
  {
   "cell_type": "code",
   "execution_count": 150,
   "id": "e70d7eb5-63eb-4594-a15e-b0d24aeaa193",
   "metadata": {},
   "outputs": [
    {
     "data": {
      "text/plain": [
       "['/Users/tud500158/Documents/Data/tiles/S2_composite_2019-11-1_2020-3-1_tile_124.tif']"
      ]
     },
     "execution_count": 150,
     "metadata": {},
     "output_type": "execute_result"
    }
   ],
   "source": [
    "tile_list"
   ]
  },
  {
   "cell_type": "code",
   "execution_count": 151,
   "id": "ac53b80d-f7ab-4652-a7f4-65b9cfd1273c",
   "metadata": {},
   "outputs": [],
   "source": [
    "# # tile_list = []\n",
    "# for tile in tile_list_local:\n",
    "#     if tile not in tiles_on_machine:\n",
    "#         tile_list.remove(tile)\n",
    "# tile_list        "
   ]
  },
  {
   "cell_type": "code",
   "execution_count": 140,
   "id": "d1730519-1bd5-4f2e-a0c1-7a34d6ced364",
   "metadata": {},
   "outputs": [
    {
     "name": "stdout",
     "output_type": "stream",
     "text": [
      "['/Users/tud500158/Documents/Data/tiles/S2_composite_2019-11-1_2020-3-1_tile_124.tif']\n"
     ]
    },
    {
     "data": {
      "text/plain": [
       "['/Users/tud500158/Documents/Data/tiles/S2_composite_2019-11-1_2020-3-1_tile_124.tif']"
      ]
     },
     "execution_count": 140,
     "metadata": {},
     "output_type": "execute_result"
    }
   ],
   "source": []
  },
  {
   "cell_type": "code",
   "execution_count": null,
   "id": "8d90ad05-3a0e-4e90-b69d-6e631d2be8d1",
   "metadata": {},
   "outputs": [],
   "source": []
  },
  {
   "cell_type": "code",
   "execution_count": 109,
   "id": "c1ff1de0-24e6-4421-9db3-4b5b5b0edca0",
   "metadata": {},
   "outputs": [],
   "source": [
    "# labels_path = pathlib.Path(labels_path)\n",
    "# os.listdir(labels_path)"
   ]
  },
  {
   "cell_type": "code",
   "execution_count": 108,
   "id": "092acbb9-627a-49ea-b68e-bf4bd436ee5c",
   "metadata": {},
   "outputs": [
    {
     "name": "stdout",
     "output_type": "stream",
     "text": [
      "Labels successfully read from 16 files\n",
      "Selecting 627 out of 905 labels\n"
     ]
    }
   ],
   "source": [
    "\n",
    "\n",
    "''' ----------\n",
    "Get Labels\n",
    "------------'''\n",
    "\n",
    "\n",
    "# # read tile catalog to be able to get CRS and filter labels to same date\n",
    "catalog = ts._read_tile_catalog(catalog_path)\n",
    "tiles = ts._catalog_to_geodataframe(catalog)\n",
    "\n",
    "labels = ts._read_labels(labels_path, verbose=True)\n",
    "labels = labels.to_crs(tiles.crs)  # make sure same CRS is used\n",
    "# select the only labels matching the tiles timespan\n",
    "labels = ts._filter_labels(labels,\n",
    "                        tiles.start_datetime.min(),\n",
    "                        tiles.end_datetime.max())\n",
    "\n",
    "\n",
    "## Create GeoSeries from labels.geometry\n",
    "label_polys = gpd.GeoSeries(labels.geometry,crs=labels.crs) # Combine all geometries to one GeoSeries, with the \n"
   ]
  },
  {
   "cell_type": "code",
   "execution_count": 180,
   "id": "ce69b13e-547d-4fc0-9046-45f1f9d4ba11",
   "metadata": {},
   "outputs": [
    {
     "name": "stdout",
     "output_type": "stream",
     "text": [
      "\n",
      "----\n",
      " Processing S2_composite_2019-11-1_2020-3-1_tile_124\n",
      "\n",
      "(390625, 20, 20, 3) (390625, 20, 20, 1)\n",
      "---- succesfully encoded data; size:  (390625, 2)\n",
      "---- succesfully predicted data\n"
     ]
    }
   ],
   "source": [
    "\n",
    "''' ----------\n",
    "Create cut-outs\n",
    "    Actually read the tile, make cutouts, linked with labeldata\n",
    "------------'''\n",
    "\n",
    "\n",
    "for tile in tile_list: # from dataset.py _generate_cutouts\n",
    "    # get tile name\n",
    "    tileName = tile.split(\"/\")[-1][:-4] # vb: 'S2_composite_2019-11-1_2020-3-1_tile_124'\n",
    "    print('\\n----\\n Processing ' + tileName +'\\n')\n",
    "    \n",
    "    # read tile - floats are required to mask with NaN's\n",
    "    da = rioxr.open_rasterio(tile).astype(\"float32\")\n",
    "\n",
    "    # select bands\n",
    "    if bands is not None:\n",
    "        if type(bands) is not list:\n",
    "            da = da.sel(band=[bands])\n",
    "        else:\n",
    "            da = da.sel(band=bands)\n",
    "\n",
    "    # mask/clip: if self.mask is not None: [removed; see _generate_cutouts]\n",
    "\n",
    "    # apply offset [removed: only relevant for training, not for testing]\n",
    "    \n",
    "    # rasterize labels: create mask on tile raster\n",
    "    labels_tileraster = geometry_mask(label_polys,\n",
    "                                      out_shape=(len(da.y),len(da.x)),\n",
    "                                      transform=da.rio.transform(),invert=True)\n",
    "    labels_tileraster = labels_tileraster.astype(np.dtype('uint16')) # np ndarray (x , y)\n",
    "    labels_tileraster = np.expand_dims(labels_tileraster,axis=0) # ndarray (1 , x , y) because tiledata shape (3,x,y)\n",
    "    # create dataArray from np ndarray\n",
    "    da_label = xr.DataArray(\n",
    "                data=labels_tileraster,\n",
    "                dims=[\"band\",\"x\", \"y\"])\n",
    "    \n",
    "\n",
    "    # generate windows\n",
    "    da = da.rolling(x=cutout_size, y=cutout_size)\n",
    "    da = da.construct({'x': 'x_win', 'y': 'y_win'}, stride=cutout_size)\n",
    "\n",
    "    # drop NaN-containing windows\n",
    "    da = da.stack(sample=('x', 'y'))\n",
    "    da = da.dropna(dim='sample', how='any')\n",
    "\n",
    "    # normalize\n",
    "    if normThreshold is not None:\n",
    "        da = (da + 0.1) / (normThreshold + 1)\n",
    "        da = da.clip(max=1)\n",
    "\n",
    "    tile_cutouts = da.data.transpose(3, 1, 2, 0) # samples, x_win, y_win, bands: (250000, 20, 20, 3)\n",
    "    \n",
    "    # same for labels:\n",
    "    da_label = da_label.rolling(x=cutout_size, y=cutout_size)\n",
    "    da_label = da_label.construct({'x': 'x_win', 'y': 'y_win'}, stride=cutout_size)\n",
    "    da_label = da_label.stack(sample=('x', 'y'))\n",
    "    da_label = da_label.dropna(dim='sample', how='any')\n",
    "    # no need to normalize\n",
    "    label_cutouts = da_label.data.transpose(3, 1, 2, 0)  # samples, x_win, y_win, bands: (250000, 20, 20, 1)\n",
    "\n",
    "\n",
    "    print(tile_cutouts.shape , label_cutouts.shape)\n",
    "\n",
    "\n",
    "\n",
    "    ''' ----------\n",
    "    Encode input \n",
    "    ------------'''\n",
    "\n",
    "\n",
    "    # encoded_data,_,_ = encoder.predict(test_set_tf);\n",
    "    encoded_data,_,_ = encoder.predict(tile_cutouts);\n",
    "    np.save(tileName + \"_encoded.npy\", encoded_data) # save encoded data for later use.\n",
    "    np.save(tileName + \"_labels.npy\", label_cutouts) # save encoded data for later use.\n",
    "    print('---- succesfully encoded data; size: ', encoded_data.shape)\n",
    "\n",
    "\n",
    "    # predicted_data = model.predict(test_set_tf); # reconstruct images (windows):\n",
    "    predicted_data = model.predict(tile_cutouts); # reconstruct images (windows):\n",
    "    np.save(tileName + \"_predicted.npy\",predicted_data)\n",
    "    print('---- succesfully predicted data')\n",
    "\n"
   ]
  },
  {
   "cell_type": "code",
   "execution_count": 181,
   "id": "b7751758-3b76-408f-92a3-3b7782a40123",
   "metadata": {},
   "outputs": [
    {
     "name": "stdout",
     "output_type": "stream",
     "text": [
      "---- succesfully embedded data to 2D\n",
      "\n",
      "\n"
     ]
    }
   ],
   "source": [
    "\n",
    "def embed_latentspace_2D(encoded_data,\n",
    "                         latent_dim,perplexity=10, \n",
    "                         n_iter=1000,\n",
    "                         n_iter_without_progress=300):\n",
    "    ''' Consider using perplexity between 5 and 50 (default 30); larger datasets usually require a larger perplexity.\n",
    "        n_iter default 1000, should be at least 250\n",
    "        learning_rate: the learning rate for t-SNE is usually in the range [10.0, 1000.0], default=200; The ‘auto’ option sets the learning_rate to max(N / early_exaggeration / 4, 50)\n",
    "    '''\n",
    "    \n",
    "    if latent_dim > 2: # only embed if latent_dim is higher than 2D (otherwise plot 2D)\n",
    "        z_mean_2D = TSNE(n_components=2,\n",
    "                         perplexity=perplexity,\n",
    "                         n_iter=n_iter,\n",
    "                         learning_rate='auto',\n",
    "                         init='pca',\n",
    "                         n_iter_without_progress=n_iter_without_progress).fit_transform(encoded_data);\n",
    "    else: # no embedding needed\n",
    "        z_mean_2D = encoded_data  # TO DO: check if this outputs the same shape as the embedded z_mean_2D\n",
    "        \n",
    "    return z_mean_2D\n",
    "\n",
    "Nsamples = encoded_data.shape[0] #100000 \n",
    "# encoded_2D_testdata = embed_latentspace_2D(encoded_data, # sample selection\n",
    "#                                            latent_dim,perplexity=40,\n",
    "#                                            n_iter=250,\n",
    "#                                            n_iter_without_progress=100)\n",
    "\n",
    "encoded_2D_testdata = encoded_data\n",
    "# np.save(\"embedded_data_N{:d}_tileX.npy\".format(Nsamples),reconstructed_window)\n",
    "# z_mean_2D = TSNE(n_components=2,\n",
    "#                  perplexity=30,\n",
    "#                  n_iter=250,\n",
    "#                  init='pca',\n",
    "#                  n_iter_without_progress=100,\n",
    "#                  n_jobs=4).fit_transform(encoded_data);\n",
    "# np.save(\"embedded_data_N_tileX.npy\",encoded_2D_testdata)\n",
    "print('---- succesfully embedded data to 2D')\n",
    " \n",
    "\n",
    "    \n",
    "print('\\n')"
   ]
  },
  {
   "cell_type": "code",
   "execution_count": 165,
   "id": "532db414-a205-4106-963d-bddb1b13f464",
   "metadata": {},
   "outputs": [
    {
     "data": {
      "image/png": "[encoded data removed]",
      "text/plain": [
       "<Figure size 576x576 with 2 Axes>"
      ]
     },
     "metadata": {
      "needs_background": "light"
     },
     "output_type": "display_data"
    }
   ],
   "source": [
    "import matplotlib.pyplot as plt\n",
    "\n",
    "''' ----------\n",
    "Plot clustering\n",
    "------------'''\n",
    "  \n",
    "    \n",
    "\n",
    "def plot_latentspace_clusters_no_labels( embedded_data ):#,labels):\n",
    "    ''' Embedded data should have (N,2)'''\n",
    "    fig = plt.figure(figsize=(8, 8))\n",
    "    plt.scatter(embedded_data[:, 0], embedded_data[:, 1])#, c=labels,s=2,cmap='winter') # also add size for scatter point\n",
    "    plt.colorbar()\n",
    "    plt.xlabel(\"z[0]\")\n",
    "    plt.ylabel(\"z[1]\")\n",
    "    plt.show()\n",
    "    return fig\n",
    "    \n",
    "\n",
    "\n",
    "fig = plot_latentspace_clusters_no_labels( encoded_2D_testdata )\n",
    "fig.savefig('embedded_testdata_nolabels_tileX')\n",
    "\n"
   ]
  },
  {
   "cell_type": "code",
   "execution_count": 189,
   "id": "ed741361-3ec7-4562-ae71-0ac7decae780",
   "metadata": {},
   "outputs": [
    {
     "name": "stdout",
     "output_type": "stream",
     "text": [
      "781250\n"
     ]
    },
    {
     "ename": "IndexError",
     "evalue": "index 1 is out of bounds for axis 1 with size 1",
     "output_type": "error",
     "traceback": [
      "\u001b[0;31m---------------------------------------------------------------------------\u001b[0m",
      "\u001b[0;31mIndexError\u001b[0m                                Traceback (most recent call last)",
      "Input \u001b[0;32mIn [189]\u001b[0m, in \u001b[0;36m<cell line: 13>\u001b[0;34m()\u001b[0m\n\u001b[1;32m     10\u001b[0m     \u001b[38;5;28;01mreturn\u001b[39;00m fig\n\u001b[1;32m     12\u001b[0m test_data_labels \u001b[38;5;241m=\u001b[39m label_cutouts\u001b[38;5;241m.\u001b[39msum(axis\u001b[38;5;241m=\u001b[39m\u001b[38;5;241m1\u001b[39m)\u001b[38;5;241m.\u001b[39msum(axis\u001b[38;5;241m=\u001b[39m\u001b[38;5;241m1\u001b[39m) \u001b[38;5;66;03m# (Nsamples, 20, 20, 1) to (Nsamples,1)\u001b[39;00m\n\u001b[0;32m---> 13\u001b[0m fig \u001b[38;5;241m=\u001b[39m \u001b[43mplot_latentspace_clusters\u001b[49m\u001b[43m(\u001b[49m\u001b[43m \u001b[49m\u001b[43mencoded_2D_testdata\u001b[49m\u001b[43m \u001b[49m\u001b[43m,\u001b[49m\u001b[43m \u001b[49m\u001b[43mtest_data_labels\u001b[49m\u001b[43m \u001b[49m\u001b[43m)\u001b[49m\n",
      "Input \u001b[0;32mIn [189]\u001b[0m, in \u001b[0;36mplot_latentspace_clusters\u001b[0;34m(embedded_data, labels)\u001b[0m\n\u001b[1;32m      4\u001b[0m embedded_data \u001b[38;5;241m=\u001b[39m embedded_data[np\u001b[38;5;241m.\u001b[39margsort(labels)]\u001b[38;5;66;03m#,np.argsort(labels)]\u001b[39;00m\n\u001b[1;32m      5\u001b[0m fig, ax1 \u001b[38;5;241m=\u001b[39m plt\u001b[38;5;241m.\u001b[39msubplots(figsize\u001b[38;5;241m=\u001b[39m(\u001b[38;5;241m8\u001b[39m,\u001b[38;5;241m8\u001b[39m) )\n\u001b[0;32m----> 6\u001b[0m s1 \u001b[38;5;241m=\u001b[39m ax1\u001b[38;5;241m.\u001b[39mscatter(embedded_data[:, \u001b[38;5;241m0\u001b[39m], \u001b[43membedded_data\u001b[49m\u001b[43m[\u001b[49m\u001b[43m:\u001b[49m\u001b[43m,\u001b[49m\u001b[43m \u001b[49m\u001b[38;5;241;43m1\u001b[39;49m\u001b[43m]\u001b[49m, c\u001b[38;5;241m=\u001b[39mlabels, s\u001b[38;5;241m=\u001b[39mmarksize, cmap\u001b[38;5;241m=\u001b[39m\u001b[38;5;124m'\u001b[39m\u001b[38;5;124mwinter\u001b[39m\u001b[38;5;124m'\u001b[39m,vmin\u001b[38;5;241m=\u001b[39m\u001b[38;5;241m0\u001b[39m, vmax\u001b[38;5;241m=\u001b[39m\u001b[38;5;241m1\u001b[39m) \u001b[38;5;66;03m# also add size for scatter point\u001b[39;00m\n\u001b[1;32m      7\u001b[0m ax1\u001b[38;5;241m.\u001b[39mset_xlabel(\u001b[38;5;124m\"\u001b[39m\u001b[38;5;124mz[0]\u001b[39m\u001b[38;5;124m\"\u001b[39m); \n\u001b[1;32m      8\u001b[0m ax1\u001b[38;5;241m.\u001b[39mset_ylabel(\u001b[38;5;124m\"\u001b[39m\u001b[38;5;124mz[1]\u001b[39m\u001b[38;5;124m\"\u001b[39m);\n",
      "\u001b[0;31mIndexError\u001b[0m: index 1 is out of bounds for axis 1 with size 1"
     ]
    },
    {
     "data": {
      "image/png": "[encoded data removed]",
      "text/plain": [
       "<Figure size 576x576 with 1 Axes>"
      ]
     },
     "metadata": {
      "needs_background": "light"
     },
     "output_type": "display_data"
    }
   ],
   "source": [
    "\n",
    "    \n",
    "def plot_latentspace_clusters( embedded_data,labels ):    \n",
    "    marksize = 1\n",
    "    print(embedded_data.size)\n",
    "    embedded_data = embedded_data[np.argsort(labels)]#,np.argsort(labels)]\n",
    "    fig, ax1 = plt.subplots(figsize=(8,8) )\n",
    "    s1 = ax1.scatter(embedded_data[:, 0], embedded_data[:, 1], c=labels, s=marksize, cmap='winter',vmin=0, vmax=1) # also add size for scatter point\n",
    "    ax1.set_xlabel(\"z[0]\"); \n",
    "    ax1.set_ylabel(\"z[1]\");\n",
    "    fig.colorbar(s1,ax=ax1); \n",
    "    return fig\n",
    "\n",
    "test_data_labels = label_cutouts.sum(axis=1).sum(axis=1) # (Nsamples, 20, 20, 1) to (Nsamples,1)\n",
    "fig = plot_latentspace_clusters( encoded_2D_testdata , test_data_labels )\n",
    "    "
   ]
  },
  {
   "cell_type": "code",
   "execution_count": 187,
   "id": "9765b397-5bd2-4868-b7bc-9791a3b4d06b",
   "metadata": {},
   "outputs": [
    {
     "data": {
      "text/plain": [
       "(390625, 1)"
      ]
     },
     "execution_count": 187,
     "metadata": {},
     "output_type": "execute_result"
    }
   ],
   "source": [
    "label_cutouts.sum(axis=1).sum(axis=1)\n",
    "encoded_2D_testdata.shape\n",
    "test_data_labels.shape\n"
   ]
  },
  {
   "cell_type": "code",
   "execution_count": 171,
   "id": "13e94db5-54df-43f1-9bc3-17371f6f25fc",
   "metadata": {},
   "outputs": [
    {
     "data": {
      "text/plain": [
       "(390625, 2)"
      ]
     },
     "execution_count": 171,
     "metadata": {},
     "output_type": "execute_result"
    }
   ],
   "source": [
    "encoded_2D_testdata.shape"
   ]
  },
  {
   "cell_type": "code",
   "execution_count": 188,
   "id": "8f1fa580-2bb1-4e57-81f2-6f2c151d0080",
   "metadata": {},
   "outputs": [
    {
     "data": {
      "text/plain": [
       "(390625, 1)"
      ]
     },
     "execution_count": 188,
     "metadata": {},
     "output_type": "execute_result"
    }
   ],
   "source": [
    "\n",
    "encoded_2D_testdata[np.argsort(test_data_labels),np.argsort(test_data_labels)].shape"
   ]
  },
  {
   "cell_type": "code",
   "execution_count": null,
   "id": "eb42e927-3106-4455-a83a-07830da56ede",
   "metadata": {},
   "outputs": [],
   "source": [
    "\n",
    "        "
   ]
  }
 ],
 "metadata": {
  "kernelspec": {
   "display_name": "Python 3 (ipykernel)",
   "language": "python",
   "name": "python3"
  },
  "language_info": {
   "codemirror_mode": {
    "name": "ipython",
    "version": 3
   },
   "file_extension": ".py",
   "mimetype": "text/x-python",
   "name": "python",
   "nbconvert_exporter": "python",
   "pygments_lexer": "ipython3",
   "version": "3.10.4"
  }
 },
 "nbformat": 4,
 "nbformat_minor": 5
}
